{
 "nbformat": 4,
 "nbformat_minor": 0,
 "metadata": {
  "colab": {
   "provenance": [],
   "authorship_tag": "ABX9TyNnF92x2yptBfQivng3aQGu"
  },
  "kernelspec": {
   "name": "python3",
   "display_name": "Python 3 (ipykernel)",
   "language": "python"
  },
  "language_info": {
   "name": "python"
  }
 },
 "cells": [
  {
   "metadata": {
    "ExecuteTime": {
     "end_time": "2024-09-03T09:41:28.529880Z",
     "start_time": "2024-09-03T09:41:28.504839Z"
    }
   },
   "cell_type": "code",
   "source": [
    "import os\n",
    "\n",
    "# Get the directory of the current script\n",
    "base_dir = os.getcwd()\n",
    "try:\n",
    "    if folder:\n",
    "        base_dir = os.path.join(base_dir, folder)\n",
    "except:\n",
    "    pass"
   ],
   "outputs": [],
   "execution_count": 1
  },
  {
   "cell_type": "code",
   "source": "from rdflib import *",
   "metadata": {
    "id": "JVqPKPKqgBsX",
    "executionInfo": {
     "status": "ok",
     "timestamp": 1713548547861,
     "user_tz": -120,
     "elapsed": 423,
     "user": {
      "displayName": "Achraf Hmimou",
      "userId": "15223621851022794490"
     }
    },
    "ExecuteTime": {
     "end_time": "2024-09-03T09:41:28.747944Z",
     "start_time": "2024-09-03T09:41:28.539811Z"
    }
   },
   "outputs": [],
   "execution_count": 2
  },
  {
   "metadata": {
    "ExecuteTime": {
     "end_time": "2024-09-03T09:41:29.270126Z",
     "start_time": "2024-09-03T09:41:29.259486Z"
    }
   },
   "cell_type": "code",
   "source": [
    "tbox = Namespace('http://www.semanticweb.org/acraf/ontologies/2024/healthmesh/tbox#')\n",
    "abox = Namespace('http://www.semanticweb.org/acraf/ontologies/2024/healthmesh/abox#')\n",
    "dcat = Namespace('https://www.w3.org/ns/dcat#')\n",
    "dcterms = Namespace('http://purl.org/dc/terms/')\n",
    "dqv = Namespace('http://www.w3.org/ns/dqv#')"
   ],
   "outputs": [],
   "execution_count": 3
  },
  {
   "cell_type": "markdown",
   "source": [
    "# Load Schema + Metadata"
   ],
   "metadata": {
    "id": "-guqsUZpPtD1"
   }
  },
  {
   "cell_type": "code",
   "source": [
    "# Load your RDF ontology file\n",
    "schema_metadata = Graph()\n",
    "schema_metadata.parse(os.path.join(base_dir, '../Registration/Source_Graph_DP1.ttl'))\n"
   ],
   "metadata": {
    "colab": {
     "base_uri": "https://localhost:8080/"
    },
    "id": "-9jnGCPfyCVA",
    "executionInfo": {
     "status": "ok",
     "timestamp": 1713548549804,
     "user_tz": -120,
     "elapsed": 625,
     "user": {
      "displayName": "Achraf Hmimou",
      "userId": "15223621851022794490"
     }
    },
    "outputId": "3915adaf-a38c-4e4a-d0c5-87e4befc0c34",
    "ExecuteTime": {
     "end_time": "2024-09-03T09:41:29.347994Z",
     "start_time": "2024-09-03T09:41:29.306110Z"
    }
   },
   "outputs": [
    {
     "data": {
      "text/plain": [
       "<Graph identifier=Nd9848835e9694e6a83175fd07996ada1 (<class 'rdflib.graph.Graph'>)>"
      ]
     },
     "execution_count": 4,
     "metadata": {},
     "output_type": "execute_result"
    }
   ],
   "execution_count": 4
  },
  {
   "cell_type": "code",
   "source": [
    "print(schema_metadata.serialize(format='turtle'))"
   ],
   "metadata": {
    "colab": {
     "base_uri": "https://localhost:8080/"
    },
    "id": "GfV22oslyibK",
    "executionInfo": {
     "status": "ok",
     "timestamp": 1713548549804,
     "user_tz": -120,
     "elapsed": 18,
     "user": {
      "displayName": "Achraf Hmimou",
      "userId": "15223621851022794490"
     }
    },
    "outputId": "a67cafbc-8062-45f0-97bf-c5e02a5a9b05",
    "ExecuteTime": {
     "end_time": "2024-09-03T09:41:29.536553Z",
     "start_time": "2024-09-03T09:41:29.480958Z"
    }
   },
   "outputs": [
    {
     "name": "stdout",
     "output_type": "stream",
     "text": [
      "@prefix ab: <http://www.semanticweb.org/acraf/ontologies/2024/healthmesh/abox#> .\n",
      "@prefix dcterms: <http://purl.org/dc/terms/> .\n",
      "@prefix rdfs: <http://www.w3.org/2000/01/rdf-schema#> .\n",
      "@prefix tb: <http://www.semanticweb.org/acraf/ontologies/2024/healthmesh/tbox#> .\n",
      "\n",
      "ab:UPENN-GBM_clinical_info_v2 a <https://www.w3.org/ns/dcat#Dataset> ;\n",
      "    dcterms:identifier \"b4f5450e04e5c1669e36df0e37e5e172872e9cce5924c24955222d7f58004afc\" ;\n",
      "    tb:hasAttribute ab:Age_at_scan_years,\n",
      "        ab:GTR_over90percent,\n",
      "        ab:Gender,\n",
      "        ab:ID,\n",
      "        ab:IDH1,\n",
      "        ab:KPS,\n",
      "        ab:MGMT,\n",
      "        ab:PsP_TP_score,\n",
      "        ab:Survival_Censor,\n",
      "        ab:Survival_Status,\n",
      "        ab:Survival_from_surgery_days_UPDATED,\n",
      "        ab:Time_since_baseline_preop ;\n",
      "    tb:hasDTT ab:Tabular ;\n",
      "    tb:hasTA ab:TA1 ;\n",
      "    tb:owner \"UPENN\" .\n",
      "\n",
      "ab:43c5161a-71dc-4250-8e97-509108c6614c a tb:Acces ;\n",
      "    rdfs:label ab:Static ;\n",
      "    tb:path \"C:\\\\Users\\\\Usuario\\\\PycharmProjects\\\\Fdatavalidation\\\\DataPlatformLayer\\\\Registration\\\\../../DataProductLayer/DataProduct/Data/Explotation/UPENN-GBM_clinical_info_v2.1.csv\" .\n",
      "\n",
      "ab:Age_at_scan_years a tb:Attribute ;\n",
      "    tb:attribute \"Age_at_scan_years\" .\n",
      "\n",
      "ab:GTR_over90percent a tb:Attribute ;\n",
      "    tb:attribute \"GTR_over90percent\" .\n",
      "\n",
      "ab:Gender a tb:Attribute ;\n",
      "    tb:attribute \"Gender\" .\n",
      "\n",
      "ab:ID a tb:Attribute ;\n",
      "    tb:attribute \"ID\" .\n",
      "\n",
      "ab:IDH1 a tb:Attribute ;\n",
      "    tb:attribute \"IDH1\" .\n",
      "\n",
      "ab:KPS a tb:Attribute ;\n",
      "    tb:attribute \"KPS\" .\n",
      "\n",
      "ab:MGMT a tb:Attribute ;\n",
      "    tb:attribute \"MGMT\" .\n",
      "\n",
      "ab:PsP_TP_score a tb:Attribute ;\n",
      "    tb:attribute \"PsP_TP_score\" .\n",
      "\n",
      "ab:Survival_Censor a tb:Attribute ;\n",
      "    tb:attribute \"Survival_Censor\" .\n",
      "\n",
      "ab:Survival_Status a tb:Attribute ;\n",
      "    tb:attribute \"Survival_Status\" .\n",
      "\n",
      "ab:Survival_from_surgery_days_UPDATED a tb:Attribute ;\n",
      "    tb:attribute \"Survival_from_surgery_days_UPDATED\" .\n",
      "\n",
      "ab:TA1 a tb:TechnologyAspects ;\n",
      "    tb:typeAcces ab:43c5161a-71dc-4250-8e97-509108c6614c .\n",
      "\n",
      "ab:Tabular a tb:DatasetTypeTemplate ;\n",
      "    dcterms:format \"application/csv\" .\n",
      "\n",
      "ab:Time_since_baseline_preop a tb:Attribute ;\n",
      "    tb:attribute \"Time_since_baseline_preop\" .\n",
      "\n",
      "\n"
     ]
    }
   ],
   "execution_count": 5
  },
  {
   "cell_type": "markdown",
   "source": [
    "## Data Contract"
   ],
   "metadata": {
    "id": "Netxl9kumhgA"
   }
  },
  {
   "cell_type": "code",
   "source": [
    "contract = schema_metadata\n",
    "contract.bind('dqv', \"http://www.w3.org/ns/dqv#\")"
   ],
   "metadata": {
    "id": "HVItxxRv4RiT",
    "executionInfo": {
     "status": "ok",
     "timestamp": 1713548549805,
     "user_tz": -120,
     "elapsed": 10,
     "user": {
      "displayName": "Achraf Hmimou",
      "userId": "15223621851022794490"
     }
    },
    "ExecuteTime": {
     "end_time": "2024-09-03T09:41:29.738010Z",
     "start_time": "2024-09-03T09:41:29.730126Z"
    }
   },
   "outputs": [],
   "execution_count": 6
  },
  {
   "cell_type": "markdown",
   "source": [
    "Begin manual contract by adding the schema_metadata to the sdm"
   ],
   "metadata": {
    "id": "ct7ZR_3sy9G9"
   }
  },
  {
   "cell_type": "code",
   "source": [
    "from rdflib import *\n",
    "from hashlib import sha256\n",
    "dataset_name = 'UPENN-GBM_clinical_info_v2'"
   ],
   "metadata": {
    "id": "7W1F9r3c4YZF",
    "executionInfo": {
     "status": "ok",
     "timestamp": 1713548550196,
     "user_tz": -120,
     "elapsed": 400,
     "user": {
      "displayName": "Achraf Hmimou",
      "userId": "15223621851022794490"
     }
    },
    "ExecuteTime": {
     "end_time": "2024-09-03T09:41:29.863677Z",
     "start_time": "2024-09-03T09:41:29.850707Z"
    }
   },
   "outputs": [],
   "execution_count": 7
  },
  {
   "metadata": {},
   "cell_type": "markdown",
   "source": "### Create Contract"
  },
  {
   "cell_type": "code",
   "source": [
    "\n",
    "contract.add((abox[f'dc_{dataset_name}'],RDF.type, tbox.DataContract))\n",
    "contract.add((abox[dataset_name],tbox.hasDC, abox[f'dc_{dataset_name}']))\n",
    "\n"
   ],
   "metadata": {
    "id": "gWt6B5PSysph",
    "ExecuteTime": {
     "end_time": "2024-09-03T09:41:29.957423Z",
     "start_time": "2024-09-03T09:41:29.941466Z"
    }
   },
   "outputs": [
    {
     "data": {
      "text/plain": [
       "<Graph identifier=Nd9848835e9694e6a83175fd07996ada1 (<class 'rdflib.graph.Graph'>)>"
      ]
     },
     "execution_count": 8,
     "metadata": {},
     "output_type": "execute_result"
    }
   ],
   "execution_count": 8
  },
  {
   "cell_type": "markdown",
   "source": [
    "### Add Mappings"
   ],
   "metadata": {
    "id": "vbsM82sryG8b"
   }
  },
  {
   "metadata": {
    "ExecuteTime": {
     "end_time": "2024-09-03T09:41:30.019255Z",
     "start_time": "2024-09-03T09:41:29.998350Z"
    }
   },
   "cell_type": "code",
   "source": [
    "contract.add((abox.map1, RDF.type, tbox.SchemaMapping))\n",
    "contract.add((abox[f'dc_{dataset_name}'],tbox.hasMapping, abox.map1))\n",
    "\n",
    "contract.add((abox.map1, tbox.mfrom, abox.ID))\n",
    "contract.add((abox.map1, tbox.mto, abox.Subject))\n"
   ],
   "outputs": [
    {
     "data": {
      "text/plain": [
       "<Graph identifier=Nd9848835e9694e6a83175fd07996ada1 (<class 'rdflib.graph.Graph'>)>"
      ]
     },
     "execution_count": 9,
     "metadata": {},
     "output_type": "execute_result"
    }
   ],
   "execution_count": 9
  },
  {
   "cell_type": "code",
   "source": [
    "contract.add((abox.map3, RDF.type, tbox.SchemaMapping))\n",
    "contract.add((abox[f'dc_{dataset_name}'],tbox.hasMapping, abox.map3))\n",
    "\n",
    "contract.add((abox.map3, tbox.mfrom, abox.Age_at_scan_years))\n",
    "contract.add((abox.map3, tbox.mto, abox.Age))\n"
   ],
   "metadata": {
    "colab": {
     "base_uri": "https://localhost:8080/"
    },
    "id": "6lsuA0BOynpC",
    "executionInfo": {
     "status": "ok",
     "timestamp": 1713533264385,
     "user_tz": -120,
     "elapsed": 30,
     "user": {
      "displayName": "Achraf Hmimou",
      "userId": "15223621851022794490"
     }
    },
    "outputId": "c3d898dd-99d3-4c5a-9ee1-4f7cd855c78c",
    "ExecuteTime": {
     "end_time": "2024-09-03T09:41:30.098079Z",
     "start_time": "2024-09-03T09:41:30.082088Z"
    }
   },
   "outputs": [
    {
     "data": {
      "text/plain": [
       "<Graph identifier=Nd9848835e9694e6a83175fd07996ada1 (<class 'rdflib.graph.Graph'>)>"
      ]
     },
     "execution_count": 10,
     "metadata": {},
     "output_type": "execute_result"
    }
   ],
   "execution_count": 10
  },
  {
   "cell_type": "code",
   "source": [
    "rdf_format = \"turtle\"  # Choose your desired RDF serialization format\n",
    "contract.serialize(destination=os.path.join(base_dir, './SDP1_C.ttl'), format=rdf_format)"
   ],
   "metadata": {
    "id": "qI8bk_hn1QGq",
    "executionInfo": {
     "status": "ok",
     "timestamp": 1713533264385,
     "user_tz": -120,
     "elapsed": 25,
     "user": {
      "displayName": "Achraf Hmimou",
      "userId": "15223621851022794490"
     }
    },
    "outputId": "c478607c-9fb2-4bb7-f904-fdc2358b7c9f",
    "colab": {
     "base_uri": "https://localhost:8080/"
    },
    "ExecuteTime": {
     "end_time": "2024-09-03T09:41:30.160998Z",
     "start_time": "2024-09-03T09:41:30.143268Z"
    }
   },
   "outputs": [
    {
     "data": {
      "text/plain": [
       "<Graph identifier=Nd9848835e9694e6a83175fd07996ada1 (<class 'rdflib.graph.Graph'>)>"
      ]
     },
     "execution_count": 11,
     "metadata": {},
     "output_type": "execute_result"
    }
   ],
   "execution_count": 11
  },
  {
   "metadata": {},
   "cell_type": "markdown",
   "source": "### Add Policy"
  },
  {
   "metadata": {
    "ExecuteTime": {
     "end_time": "2024-09-03T09:41:30.331642Z",
     "start_time": "2024-09-03T09:41:30.293586Z"
    }
   },
   "cell_type": "code",
   "source": [
    "contract.add((abox[f'dc_{dataset_name}'],tbox.hasPolicy, abox.p1))\n",
    "contract.add((abox[f'dc_{dataset_name}'],tbox.hasPolicy, abox.p2))\n",
    "#contract.add((abox[f'dc_{dataset_name}'],tbox.hasPolicy, abox.p3))"
   ],
   "outputs": [
    {
     "data": {
      "text/plain": [
       "<Graph identifier=Nd9848835e9694e6a83175fd07996ada1 (<class 'rdflib.graph.Graph'>)>"
      ]
     },
     "execution_count": 12,
     "metadata": {},
     "output_type": "execute_result"
    }
   ],
   "execution_count": 12
  },
  {
   "metadata": {
    "ExecuteTime": {
     "end_time": "2024-09-03T09:41:34.741459Z",
     "start_time": "2024-09-03T09:41:30.589908Z"
    }
   },
   "cell_type": "code",
   "source": [
    "!pip install rdflib_jsonld\n",
    "import json"
   ],
   "outputs": [
    {
     "name": "stdout",
     "output_type": "stream",
     "text": [
      "Requirement already satisfied: rdflib_jsonld in c:\\users\\usuario\\pycharmprojects\\fdatavalidation\\venv\\lib\\site-packages (0.6.2)\n",
      "Requirement already satisfied: rdflib>=5.0.0 in c:\\users\\usuario\\pycharmprojects\\fdatavalidation\\venv\\lib\\site-packages (from rdflib_jsonld) (7.0.0)\n",
      "Requirement already satisfied: isodate<0.7.0,>=0.6.0 in c:\\users\\usuario\\pycharmprojects\\fdatavalidation\\venv\\lib\\site-packages (from rdflib>=5.0.0->rdflib_jsonld) (0.6.1)\n",
      "Requirement already satisfied: pyparsing<4,>=2.1.0 in c:\\users\\usuario\\pycharmprojects\\fdatavalidation\\venv\\lib\\site-packages (from rdflib>=5.0.0->rdflib_jsonld) (3.1.4)\n",
      "Requirement already satisfied: six in c:\\users\\usuario\\pycharmprojects\\fdatavalidation\\venv\\lib\\site-packages (from isodate<0.7.0,>=0.6.0->rdflib>=5.0.0->rdflib_jsonld) (1.16.0)\n"
     ]
    },
    {
     "name": "stderr",
     "output_type": "stream",
     "text": [
      "\n",
      "[notice] A new release of pip is available: 23.2.1 -> 24.2\n",
      "[notice] To update, run: python.exe -m pip install --upgrade pip\n"
     ]
    }
   ],
   "execution_count": 13
  },
  {
   "metadata": {
    "ExecuteTime": {
     "end_time": "2024-09-03T09:41:35.070892Z",
     "start_time": "2024-09-03T09:41:35.048846Z"
    }
   },
   "cell_type": "code",
   "source": [
    "def add_jsonld_instances(graph, path):\n",
    "    # Adds JSON-LD instances to the graph\n",
    "    with open(path, 'r') as f:\n",
    "        json_ld_data = json.loads(f.read())\n",
    "        instances = Graph().parse(data=json_ld_data, format='json-ld')\n",
    "        graph += instances\n",
    "    \n",
    "    return graph"
   ],
   "outputs": [],
   "execution_count": 14
  },
  {
   "metadata": {},
   "cell_type": "markdown",
   "source": "pc1"
  },
  {
   "metadata": {
    "ExecuteTime": {
     "end_time": "2024-09-03T09:41:35.212336Z",
     "start_time": "2024-09-03T09:41:35.176540Z"
    }
   },
   "cell_type": "code",
   "source": [
    "p1 = os.path.join(base_dir, '../../FederatedComputationalGovernance/ComputationalCatalogues/p1.json')\n",
    "g = add_jsonld_instances(contract, p1)"
   ],
   "outputs": [],
   "execution_count": 15
  },
  {
   "metadata": {},
   "cell_type": "markdown",
   "source": "pc2"
  },
  {
   "metadata": {
    "ExecuteTime": {
     "end_time": "2024-09-03T09:42:02.145028Z",
     "start_time": "2024-09-03T09:42:02.104077Z"
    }
   },
   "cell_type": "code",
   "source": [
    "\n",
    "p2 = os.path.join(base_dir, '../../FederatedComputationalGovernance/ComputationalCatalogues/p2.json')\n",
    "g = add_jsonld_instances(contract, p2)"
   ],
   "outputs": [],
   "execution_count": 17
  },
  {
   "metadata": {},
   "cell_type": "markdown",
   "source": "p3"
  },
  {
   "metadata": {
    "ExecuteTime": {
     "end_time": "2024-09-03T09:41:36.187555900Z",
     "start_time": "2024-05-25T13:51:08.263103Z"
    }
   },
   "cell_type": "code",
   "source": [
    "\n",
    "p3 = '/home/acraf/psr/tfm/Fdatavalidation/FederatedComputationalGovernance/ComputationalCatalogues/p3.json'\n",
    "g = add_jsonld_instances(contract, p3)"
   ],
   "execution_count": 43,
   "outputs": []
  },
  {
   "metadata": {},
   "cell_type": "markdown",
   "source": ""
  },
  {
   "metadata": {
    "ExecuteTime": {
     "end_time": "2024-09-03T09:41:36.287239900Z",
     "start_time": "2024-05-25T13:51:08.279355Z"
    }
   },
   "cell_type": "code",
   "source": [
    "rdf_format = \"turtle\"  # Choose your desired RDF serialization format\n",
    "contract.serialize(destination=os.path.join(base_dir, './SDP1_C.ttl'), format=rdf_format)"
   ],
   "execution_count": 44,
   "outputs": []
  },
  {
   "cell_type": "markdown",
   "source": "## SEND CONTRACT TO SDM",
   "metadata": {
    "id": "h7efFyJzjKwG"
   }
  },
  {
   "metadata": {
    "ExecuteTime": {
     "end_time": "2024-09-03T09:41:36.290172100Z",
     "start_time": "2024-05-25T13:51:08.314783Z"
    }
   },
   "cell_type": "code",
   "source": "sdm = Graph().parse(os.path.join(base_dir, '../../FederatedComputationalGovernance/SemanticDataModel/sdm.ttl'))",
   "execution_count": 45,
   "outputs": []
  },
  {
   "cell_type": "code",
   "source": "sdm += contract",
   "metadata": {
    "id": "Jz6xGGPqjSd-",
    "ExecuteTime": {
     "end_time": "2024-09-03T09:41:36.292408Z",
     "start_time": "2024-05-25T13:51:08.403530Z"
    }
   },
   "execution_count": 46,
   "outputs": []
  },
  {
   "cell_type": "code",
   "source": [
    "rdf_format = \"turtle\"  # Choose your desired RDF serialization format\n",
    "sdm.serialize(destination=os.path.join(base_dir, '../../FederatedComputationalGovernance/SemanticDataModel/sdm.ttl'), format=rdf_format)"
   ],
   "metadata": {
    "colab": {
     "base_uri": "https://localhost:8080/"
    },
    "id": "8sS2yESRjYAJ",
    "executionInfo": {
     "status": "ok",
     "timestamp": 1713533562001,
     "user_tz": -120,
     "elapsed": 11,
     "user": {
      "displayName": "Achraf Hmimou",
      "userId": "15223621851022794490"
     }
    },
    "outputId": "bebb36df-28cb-438e-b555-ae7eb322bd5c",
    "ExecuteTime": {
     "end_time": "2024-09-03T09:41:36.363971200Z",
     "start_time": "2024-05-25T13:51:08.420633Z"
    }
   },
   "execution_count": 47,
   "outputs": []
  }
 ]
}
