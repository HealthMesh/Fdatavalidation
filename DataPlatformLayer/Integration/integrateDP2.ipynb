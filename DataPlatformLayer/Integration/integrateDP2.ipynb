{
 "nbformat": 4,
 "nbformat_minor": 0,
 "metadata": {
  "colab": {
   "provenance": [],
   "authorship_tag": "ABX9TyNnF92x2yptBfQivng3aQGu"
  },
  "kernelspec": {
   "name": "python3",
   "display_name": "Python 3 (ipykernel)",
   "language": "python"
  },
  "language_info": {
   "name": "python"
  }
 },
 "cells": [
  {
   "cell_type": "code",
   "source": "from rdflib import *",
   "metadata": {
    "id": "JVqPKPKqgBsX",
    "executionInfo": {
     "status": "ok",
     "timestamp": 1713548547861,
     "user_tz": -120,
     "elapsed": 423,
     "user": {
      "displayName": "Achraf Hmimou",
      "userId": "15223621851022794490"
     }
    },
    "ExecuteTime": {
     "end_time": "2024-05-24T11:20:07.458146Z",
     "start_time": "2024-05-24T11:20:07.455164Z"
    }
   },
   "outputs": [],
   "execution_count": 123
  },
  {
   "metadata": {
    "ExecuteTime": {
     "end_time": "2024-05-24T11:20:07.545975Z",
     "start_time": "2024-05-24T11:20:07.541752Z"
    }
   },
   "cell_type": "code",
   "source": [
    "tbox = Namespace('http://www.semanticweb.org/acraf/ontologies/2024/healthmesh/tbox#')\n",
    "abox = Namespace('http://www.semanticweb.org/acraf/ontologies/2024/healthmesh/abox#')\n",
    "dcat = Namespace('https://www.w3.org/ns/dcat#')\n",
    "dcterms = Namespace('http://purl.org/dc/terms/')\n",
    "dqv = Namespace('http://www.w3.org/ns/dqv#')"
   ],
   "outputs": [],
   "execution_count": 124
  },
  {
   "cell_type": "markdown",
   "source": [
    "# Load Schema + Metadata"
   ],
   "metadata": {
    "id": "-guqsUZpPtD1"
   }
  },
  {
   "cell_type": "code",
   "source": [
    "# Load your RDF ontology file\n",
    "schema_metadata = Graph()\n",
    "schema_metadata.parse(\"../Registration/Source_Graph_DP2.ttl\")\n"
   ],
   "metadata": {
    "colab": {
     "base_uri": "https://localhost:8080/"
    },
    "id": "-9jnGCPfyCVA",
    "executionInfo": {
     "status": "ok",
     "timestamp": 1713548549804,
     "user_tz": -120,
     "elapsed": 625,
     "user": {
      "displayName": "Achraf Hmimou",
      "userId": "15223621851022794490"
     }
    },
    "outputId": "3915adaf-a38c-4e4a-d0c5-87e4befc0c34",
    "ExecuteTime": {
     "end_time": "2024-05-24T11:20:07.568432Z",
     "start_time": "2024-05-24T11:20:07.550849Z"
    }
   },
   "outputs": [
    {
     "data": {
      "text/plain": [
       "<Graph identifier=N0fd1742eb4f942f4b5f80cec28094278 (<class 'rdflib.graph.Graph'>)>"
      ]
     },
     "execution_count": 125,
     "metadata": {},
     "output_type": "execute_result"
    }
   ],
   "execution_count": 125
  },
  {
   "cell_type": "code",
   "source": [
    "print(schema_metadata.serialize(format='turtle'))"
   ],
   "metadata": {
    "colab": {
     "base_uri": "https://localhost:8080/"
    },
    "id": "GfV22oslyibK",
    "executionInfo": {
     "status": "ok",
     "timestamp": 1713548549804,
     "user_tz": -120,
     "elapsed": 18,
     "user": {
      "displayName": "Achraf Hmimou",
      "userId": "15223621851022794490"
     }
    },
    "outputId": "a67cafbc-8062-45f0-97bf-c5e02a5a9b05",
    "ExecuteTime": {
     "end_time": "2024-05-24T11:20:07.579917Z",
     "start_time": "2024-05-24T11:20:07.570035Z"
    }
   },
   "outputs": [
    {
     "name": "stdout",
     "output_type": "stream",
     "text": [
      "@prefix ab: <http://www.semanticweb.org/acraf/ontologies/2024/healthmesh/abox#> .\n",
      "@prefix dcterms: <http://purl.org/dc/terms/> .\n",
      "@prefix tb: <http://www.semanticweb.org/acraf/ontologies/2024/healthmesh/tbox#> .\n",
      "\n",
      "ab:dicomimage a <https://www.w3.org/ns/dcat#Dataset> ;\n",
      "    dcterms:identifier \"35f214530372f7ab83043b98c268f58a4c042c35ccb8ed7d45e7b1911b21a659\" ;\n",
      "    tb:hasAttribute ab:AccessionNumber,\n",
      "        ab:BitsAllocated,\n",
      "        ab:BitsStored,\n",
      "        ab:Columns,\n",
      "        ab:Exposure,\n",
      "        ab:FrameIncrementPointer,\n",
      "        ab:FrameTime,\n",
      "        ab:HighBit,\n",
      "        ab:ImageType,\n",
      "        ab:InstanceNumber,\n",
      "        ab:InstitutionAddress,\n",
      "        ab:InstitutionName,\n",
      "        ab:KVP,\n",
      "        ab:LossyImageCompressionRetired,\n",
      "        ab:Manufacturer,\n",
      "        ab:MaskSubtractionSequence,\n",
      "        ab:Modality,\n",
      "        ab:NumberOfFrames,\n",
      "        ab:PatientBirthDate,\n",
      "        ab:PatientID,\n",
      "        ab:PatientName,\n",
      "        ab:PatientOrientation,\n",
      "        ab:PatientSex,\n",
      "        ab:PerformingPhysicianName,\n",
      "        ab:PhotometricInterpretation,\n",
      "        ab:PixelData,\n",
      "        ab:PixelIntensityRelationship,\n",
      "        ab:PixelRepresentation,\n",
      "        ab:PositionerMotion,\n",
      "        ab:PositionerPrimaryAngle,\n",
      "        ab:PositionerSecondaryAngle,\n",
      "        ab:RWavePointer,\n",
      "        ab:RadiationSetting,\n",
      "        ab:RecommendedViewingMode,\n",
      "        ab:ReferringPhysicianName,\n",
      "        ab:Rows,\n",
      "        ab:SOPClassUID,\n",
      "        ab:SOPInstanceUID,\n",
      "        ab:SamplesPerPixel ;\n",
      "    tb:hasDTT ab:Image ;\n",
      "    tb:hasTA ab:TA1 ;\n",
      "    tb:owner \"UPENN\" .\n",
      "\n",
      "ab:AccessionNumber a tb:Attribute ;\n",
      "    tb:attribute \"AccessionNumber\" .\n",
      "\n",
      "ab:BitsAllocated a tb:Attribute ;\n",
      "    tb:attribute \"BitsAllocated\" .\n",
      "\n",
      "ab:BitsStored a tb:Attribute ;\n",
      "    tb:attribute \"BitsStored\" .\n",
      "\n",
      "ab:Columns a tb:Attribute ;\n",
      "    tb:attribute \"Columns\" .\n",
      "\n",
      "ab:Exposure a tb:Attribute ;\n",
      "    tb:attribute \"Exposure\" .\n",
      "\n",
      "ab:FrameIncrementPointer a tb:Attribute ;\n",
      "    tb:attribute \"FrameIncrementPointer\" .\n",
      "\n",
      "ab:FrameTime a tb:Attribute ;\n",
      "    tb:attribute \"FrameTime\" .\n",
      "\n",
      "ab:HighBit a tb:Attribute ;\n",
      "    tb:attribute \"HighBit\" .\n",
      "\n",
      "ab:Image a tb:DatasetTypeTemplate ;\n",
      "    dcterms:format \"dicom\" .\n",
      "\n",
      "ab:ImageType a tb:Attribute ;\n",
      "    tb:attribute \"ImageType\" .\n",
      "\n",
      "ab:InstanceNumber a tb:Attribute ;\n",
      "    tb:attribute \"InstanceNumber\" .\n",
      "\n",
      "ab:InstitutionAddress a tb:Attribute ;\n",
      "    tb:attribute \"InstitutionAddress\" .\n",
      "\n",
      "ab:InstitutionName a tb:Attribute ;\n",
      "    tb:attribute \"InstitutionName\" .\n",
      "\n",
      "ab:KVP a tb:Attribute ;\n",
      "    tb:attribute \"KVP\" .\n",
      "\n",
      "ab:LossyImageCompressionRetired a tb:Attribute ;\n",
      "    tb:attribute \"LossyImageCompressionRetired\" .\n",
      "\n",
      "ab:Manufacturer a tb:Attribute ;\n",
      "    tb:attribute \"Manufacturer\" .\n",
      "\n",
      "ab:MaskSubtractionSequence a tb:Attribute ;\n",
      "    tb:attribute \"MaskSubtractionSequence\" .\n",
      "\n",
      "ab:Modality a tb:Attribute ;\n",
      "    tb:attribute \"Modality\" .\n",
      "\n",
      "ab:NumberOfFrames a tb:Attribute ;\n",
      "    tb:attribute \"NumberOfFrames\" .\n",
      "\n",
      "ab:PatientBirthDate a tb:Attribute ;\n",
      "    tb:attribute \"PatientBirthDate\" .\n",
      "\n",
      "ab:PatientID a tb:Attribute ;\n",
      "    tb:attribute \"PatientID\" .\n",
      "\n",
      "ab:PatientName a tb:Attribute ;\n",
      "    tb:attribute \"PatientName\" .\n",
      "\n",
      "ab:PatientOrientation a tb:Attribute ;\n",
      "    tb:attribute \"PatientOrientation\" .\n",
      "\n",
      "ab:PatientSex a tb:Attribute ;\n",
      "    tb:attribute \"PatientSex\" .\n",
      "\n",
      "ab:PerformingPhysicianName a tb:Attribute ;\n",
      "    tb:attribute \"PerformingPhysicianName\" .\n",
      "\n",
      "ab:PhotometricInterpretation a tb:Attribute ;\n",
      "    tb:attribute \"PhotometricInterpretation\" .\n",
      "\n",
      "ab:PixelData a tb:Attribute ;\n",
      "    tb:attribute \"PixelData\" .\n",
      "\n",
      "ab:PixelIntensityRelationship a tb:Attribute ;\n",
      "    tb:attribute \"PixelIntensityRelationship\" .\n",
      "\n",
      "ab:PixelRepresentation a tb:Attribute ;\n",
      "    tb:attribute \"PixelRepresentation\" .\n",
      "\n",
      "ab:PositionerMotion a tb:Attribute ;\n",
      "    tb:attribute \"PositionerMotion\" .\n",
      "\n",
      "ab:PositionerPrimaryAngle a tb:Attribute ;\n",
      "    tb:attribute \"PositionerPrimaryAngle\" .\n",
      "\n",
      "ab:PositionerSecondaryAngle a tb:Attribute ;\n",
      "    tb:attribute \"PositionerSecondaryAngle\" .\n",
      "\n",
      "ab:RWavePointer a tb:Attribute ;\n",
      "    tb:attribute \"RWavePointer\" .\n",
      "\n",
      "ab:RadiationSetting a tb:Attribute ;\n",
      "    tb:attribute \"RadiationSetting\" .\n",
      "\n",
      "ab:RecommendedViewingMode a tb:Attribute ;\n",
      "    tb:attribute \"RecommendedViewingMode\" .\n",
      "\n",
      "ab:ReferringPhysicianName a tb:Attribute ;\n",
      "    tb:attribute \"ReferringPhysicianName\" .\n",
      "\n",
      "ab:Rows a tb:Attribute ;\n",
      "    tb:attribute \"Rows\" .\n",
      "\n",
      "ab:SOPClassUID a tb:Attribute ;\n",
      "    tb:attribute \"SOPClassUID\" .\n",
      "\n",
      "ab:SOPInstanceUID a tb:Attribute ;\n",
      "    tb:attribute \"SOPInstanceUID\" .\n",
      "\n",
      "ab:SamplesPerPixel a tb:Attribute ;\n",
      "    tb:attribute \"SamplesPerPixel\" .\n",
      "\n",
      "ab:Static a tb:Acces ;\n",
      "    tb:path \"/home/acraf/psr/tfm/Fdatavalidation/DataProduct2/Data/0002.DCM\" .\n",
      "\n",
      "ab:TA1 a tb:TechnologyAspects ;\n",
      "    tb:typeAcces ab:Static .\n",
      "\n",
      "\n"
     ]
    }
   ],
   "execution_count": 126
  },
  {
   "cell_type": "markdown",
   "source": [
    "## Data Contract"
   ],
   "metadata": {
    "id": "Netxl9kumhgA"
   }
  },
  {
   "cell_type": "code",
   "source": [
    "contract = schema_metadata\n",
    "contract.bind('dqv', \"http://www.w3.org/ns/dqv#\")"
   ],
   "metadata": {
    "id": "HVItxxRv4RiT",
    "executionInfo": {
     "status": "ok",
     "timestamp": 1713548549805,
     "user_tz": -120,
     "elapsed": 10,
     "user": {
      "displayName": "Achraf Hmimou",
      "userId": "15223621851022794490"
     }
    },
    "ExecuteTime": {
     "end_time": "2024-05-24T11:20:07.603418Z",
     "start_time": "2024-05-24T11:20:07.600150Z"
    }
   },
   "outputs": [],
   "execution_count": 127
  },
  {
   "cell_type": "markdown",
   "source": [
    "Begin manual contract by adding the schema_metadata to the sdm"
   ],
   "metadata": {
    "id": "ct7ZR_3sy9G9"
   }
  },
  {
   "cell_type": "code",
   "source": [
    "from rdflib import *\n",
    "from hashlib import sha256\n",
    "dataset_name = 'dicomimage'"
   ],
   "metadata": {
    "id": "7W1F9r3c4YZF",
    "executionInfo": {
     "status": "ok",
     "timestamp": 1713548550196,
     "user_tz": -120,
     "elapsed": 400,
     "user": {
      "displayName": "Achraf Hmimou",
      "userId": "15223621851022794490"
     }
    },
    "ExecuteTime": {
     "end_time": "2024-05-24T11:20:07.623472Z",
     "start_time": "2024-05-24T11:20:07.619929Z"
    }
   },
   "outputs": [],
   "execution_count": 128
  },
  {
   "metadata": {},
   "cell_type": "markdown",
   "source": "### Create Contract"
  },
  {
   "cell_type": "code",
   "source": [
    "contract.add((abox[f'dc_{dataset_name}'],RDF.type, tbox.DataContract))\n",
    "contract.add((abox[dataset_name],tbox.hasDC, abox[f'dc_{dataset_name}']))"
   ],
   "metadata": {
    "id": "gWt6B5PSysph",
    "ExecuteTime": {
     "end_time": "2024-05-24T11:20:07.658968Z",
     "start_time": "2024-05-24T11:20:07.636698Z"
    }
   },
   "outputs": [
    {
     "data": {
      "text/plain": [
       "<Graph identifier=N0fd1742eb4f942f4b5f80cec28094278 (<class 'rdflib.graph.Graph'>)>"
      ]
     },
     "execution_count": 129,
     "metadata": {},
     "output_type": "execute_result"
    }
   ],
   "execution_count": 129
  },
  {
   "cell_type": "markdown",
   "source": [
    "### Add Mappings"
   ],
   "metadata": {
    "id": "vbsM82sryG8b"
   }
  },
  {
   "metadata": {
    "ExecuteTime": {
     "end_time": "2024-05-24T11:20:07.877424Z",
     "start_time": "2024-05-24T11:20:07.870580Z"
    }
   },
   "cell_type": "code",
   "source": [
    "contract.add((abox.map2, RDF.type, tbox.SchemaMapping))\n",
    "contract.add((abox[f'dc_{dataset_name}'],tbox.hasMapping, abox.map2))\n",
    "\n",
    "contract.add((abox.map2, tbox.mfrom, abox.PatientID))\n",
    "contract.add((abox.map2, tbox.mto, abox.Subject))\n"
   ],
   "outputs": [
    {
     "data": {
      "text/plain": [
       "<Graph identifier=N0fd1742eb4f942f4b5f80cec28094278 (<class 'rdflib.graph.Graph'>)>"
      ]
     },
     "execution_count": 130,
     "metadata": {},
     "output_type": "execute_result"
    }
   ],
   "execution_count": 130
  },
  {
   "cell_type": "code",
   "source": [
    "rdf_format = \"turtle\"  # Choose your desired RDF serialization format\n",
    "contract.serialize(destination=\"./SDP2_C.ttl\", format=rdf_format)"
   ],
   "metadata": {
    "id": "qI8bk_hn1QGq",
    "executionInfo": {
     "status": "ok",
     "timestamp": 1713533264385,
     "user_tz": -120,
     "elapsed": 25,
     "user": {
      "displayName": "Achraf Hmimou",
      "userId": "15223621851022794490"
     }
    },
    "outputId": "c478607c-9fb2-4bb7-f904-fdc2358b7c9f",
    "colab": {
     "base_uri": "https://localhost:8080/"
    },
    "ExecuteTime": {
     "end_time": "2024-05-24T11:20:07.907695Z",
     "start_time": "2024-05-24T11:20:07.897125Z"
    }
   },
   "outputs": [
    {
     "data": {
      "text/plain": [
       "<Graph identifier=N0fd1742eb4f942f4b5f80cec28094278 (<class 'rdflib.graph.Graph'>)>"
      ]
     },
     "execution_count": 131,
     "metadata": {},
     "output_type": "execute_result"
    }
   ],
   "execution_count": 131
  },
  {
   "metadata": {},
   "cell_type": "markdown",
   "source": "### Add Policy"
  },
  {
   "metadata": {
    "ExecuteTime": {
     "end_time": "2024-05-24T11:20:07.947587Z",
     "start_time": "2024-05-24T11:20:07.943089Z"
    }
   },
   "cell_type": "code",
   "source": [
    "contract.add((abox[f'dc_{dataset_name}'],tbox.hasPolicy, abox.p1))\n",
    "#contract.add((abox[f'dc_{dataset_name}'],tbox.hasPolicy, abox.p2))\n",
    "#contract.add((abox[f'dc_{dataset_name}'],tbox.hasPolicy, abox.p3))"
   ],
   "outputs": [
    {
     "data": {
      "text/plain": [
       "<Graph identifier=N0fd1742eb4f942f4b5f80cec28094278 (<class 'rdflib.graph.Graph'>)>"
      ]
     },
     "execution_count": 132,
     "metadata": {},
     "output_type": "execute_result"
    }
   ],
   "execution_count": 132
  },
  {
   "metadata": {
    "ExecuteTime": {
     "end_time": "2024-05-24T11:20:10.203767Z",
     "start_time": "2024-05-24T11:20:07.970537Z"
    }
   },
   "cell_type": "code",
   "source": [
    "!pip install rdflib_jsonld\n",
    "import json"
   ],
   "outputs": [
    {
     "name": "stdout",
     "output_type": "stream",
     "text": [
      "Requirement already satisfied: rdflib_jsonld in /home/acraf/psr/tfm/Fdatavalidation/venv/lib/python3.11/site-packages (0.6.2)\r\n",
      "Requirement already satisfied: rdflib>=5.0.0 in /home/acraf/psr/tfm/Fdatavalidation/venv/lib/python3.11/site-packages (from rdflib_jsonld) (7.0.0)\r\n",
      "Requirement already satisfied: isodate<0.7.0,>=0.6.0 in /home/acraf/psr/tfm/Fdatavalidation/venv/lib/python3.11/site-packages (from rdflib>=5.0.0->rdflib_jsonld) (0.6.1)\r\n",
      "Requirement already satisfied: pyparsing<4,>=2.1.0 in /home/acraf/psr/tfm/Fdatavalidation/venv/lib/python3.11/site-packages (from rdflib>=5.0.0->rdflib_jsonld) (3.1.2)\r\n",
      "Requirement already satisfied: six in /home/acraf/psr/tfm/Fdatavalidation/venv/lib/python3.11/site-packages (from isodate<0.7.0,>=0.6.0->rdflib>=5.0.0->rdflib_jsonld) (1.16.0)\r\n",
      "\r\n",
      "\u001B[1m[\u001B[0m\u001B[34;49mnotice\u001B[0m\u001B[1;39;49m]\u001B[0m\u001B[39;49m A new release of pip is available: \u001B[0m\u001B[31;49m23.2.1\u001B[0m\u001B[39;49m -> \u001B[0m\u001B[32;49m24.0\u001B[0m\r\n",
      "\u001B[1m[\u001B[0m\u001B[34;49mnotice\u001B[0m\u001B[1;39;49m]\u001B[0m\u001B[39;49m To update, run: \u001B[0m\u001B[32;49mpip install --upgrade pip\u001B[0m\r\n"
     ]
    }
   ],
   "execution_count": 133
  },
  {
   "metadata": {
    "ExecuteTime": {
     "end_time": "2024-05-24T11:20:10.213304Z",
     "start_time": "2024-05-24T11:20:10.206950Z"
    }
   },
   "cell_type": "code",
   "source": [
    "def add_jsonld_instances(graph, path):\n",
    "    # Adds JSON-LD instances to the graph\n",
    "    with open(path, 'r') as f:\n",
    "        json_ld_data = json.loads(f.read())\n",
    "        instances = Graph().parse(data=json_ld_data, format='json-ld')\n",
    "        graph += instances\n",
    "    \n",
    "    return graph"
   ],
   "outputs": [],
   "execution_count": 134
  },
  {
   "metadata": {},
   "cell_type": "markdown",
   "source": "pc1"
  },
  {
   "metadata": {
    "ExecuteTime": {
     "end_time": "2024-05-24T11:20:10.229490Z",
     "start_time": "2024-05-24T11:20:10.215601Z"
    }
   },
   "cell_type": "code",
   "source": [
    "p1 = '/home/acraf/psr/tfm/Fdatavalidation/FederatedComputationalGovernance/ComputationalCatalogues/p1.json'\n",
    "g = add_jsonld_instances(contract, p1)"
   ],
   "outputs": [],
   "execution_count": 135
  },
  {
   "metadata": {},
   "cell_type": "markdown",
   "source": "pc2"
  },
  {
   "metadata": {
    "ExecuteTime": {
     "end_time": "2024-05-24T11:20:10.242141Z",
     "start_time": "2024-05-24T11:20:10.233268Z"
    }
   },
   "cell_type": "code",
   "source": [
    "#p2 = '/home/acraf/psr/tfm/Fdatavalidation/FederatedComputationalGovernance/ComputationalCatalogues/p2.json'\n",
    "#g = add_jsonld_instances(contract, p2)"
   ],
   "outputs": [],
   "execution_count": 136
  },
  {
   "metadata": {},
   "cell_type": "markdown",
   "source": "p3"
  },
  {
   "metadata": {
    "ExecuteTime": {
     "end_time": "2024-05-24T11:20:10.255048Z",
     "start_time": "2024-05-24T11:20:10.244217Z"
    }
   },
   "cell_type": "code",
   "source": [
    "#p3 = '/home/acraf/psr/tfm/Fdatavalidation/FederatedComputationalGovernance/ComputationalCatalogues/p3.json'\n",
    "#g = add_jsonld_instances(contract, p3)"
   ],
   "outputs": [],
   "execution_count": 137
  },
  {
   "metadata": {},
   "cell_type": "markdown",
   "source": ""
  },
  {
   "metadata": {
    "ExecuteTime": {
     "end_time": "2024-05-24T11:20:10.276707Z",
     "start_time": "2024-05-24T11:20:10.257260Z"
    }
   },
   "cell_type": "code",
   "source": [
    "rdf_format = \"turtle\"  # Choose your desired RDF serialization format\n",
    "contract.serialize(destination=\"./SDP2_C.ttl\", format=rdf_format)"
   ],
   "outputs": [
    {
     "data": {
      "text/plain": [
       "<Graph identifier=N0fd1742eb4f942f4b5f80cec28094278 (<class 'rdflib.graph.Graph'>)>"
      ]
     },
     "execution_count": 138,
     "metadata": {},
     "output_type": "execute_result"
    }
   ],
   "execution_count": 138
  },
  {
   "cell_type": "markdown",
   "source": "## SEND CONTRACT TO SDM",
   "metadata": {
    "id": "h7efFyJzjKwG"
   }
  },
  {
   "metadata": {
    "ExecuteTime": {
     "end_time": "2024-05-24T11:20:10.307961Z",
     "start_time": "2024-05-24T11:20:10.278232Z"
    }
   },
   "cell_type": "code",
   "source": "sdm = Graph().parse(\"/home/acraf/psr/tfm/Fdatavalidation/FederatedComputationalGovernance/SemanticDataModel/sdm.ttl\")",
   "outputs": [],
   "execution_count": 139
  },
  {
   "cell_type": "code",
   "source": "sdm += contract",
   "metadata": {
    "id": "Jz6xGGPqjSd-",
    "ExecuteTime": {
     "end_time": "2024-05-24T11:20:10.326432Z",
     "start_time": "2024-05-24T11:20:10.309580Z"
    }
   },
   "outputs": [],
   "execution_count": 140
  },
  {
   "cell_type": "code",
   "source": [
    "rdf_format = \"turtle\"  # Choose your desired RDF serialization format\n",
    "sdm.serialize(destination=\"/home/acraf/psr/tfm/Fdatavalidation/FederatedComputationalGovernance/SemanticDataModel/sdm.ttl\", format=rdf_format)"
   ],
   "metadata": {
    "colab": {
     "base_uri": "https://localhost:8080/"
    },
    "id": "8sS2yESRjYAJ",
    "executionInfo": {
     "status": "ok",
     "timestamp": 1713533562001,
     "user_tz": -120,
     "elapsed": 11,
     "user": {
      "displayName": "Achraf Hmimou",
      "userId": "15223621851022794490"
     }
    },
    "outputId": "bebb36df-28cb-438e-b555-ae7eb322bd5c",
    "ExecuteTime": {
     "end_time": "2024-05-24T11:20:10.350925Z",
     "start_time": "2024-05-24T11:20:10.327742Z"
    }
   },
   "outputs": [
    {
     "data": {
      "text/plain": [
       "<Graph identifier=Ne71f33638660472fbaa7a816373bc3a2 (<class 'rdflib.graph.Graph'>)>"
      ]
     },
     "execution_count": 141,
     "metadata": {},
     "output_type": "execute_result"
    }
   ],
   "execution_count": 141
  }
 ]
}
