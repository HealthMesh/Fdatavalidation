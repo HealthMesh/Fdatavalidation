{
 "nbformat": 4,
 "nbformat_minor": 0,
 "metadata": {
  "colab": {
   "provenance": [],
   "authorship_tag": "ABX9TyNnF92x2yptBfQivng3aQGu"
  },
  "kernelspec": {
   "name": "python3",
   "display_name": "Python 3 (ipykernel)",
   "language": "python"
  },
  "language_info": {
   "name": "python"
  }
 },
 "cells": [
  {
   "metadata": {
    "ExecuteTime": {
     "end_time": "2024-05-25T12:05:54.926442Z",
     "start_time": "2024-05-25T12:05:54.922338Z"
    }
   },
   "cell_type": "code",
   "source": [
    "import os\n",
    "\n",
    "# Get the directory of the current script\n",
    "base_dir = os.getcwd()\n",
    "try:\n",
    "    if folder:\n",
    "        base_dir = os.path.join(base_dir, folder)\n",
    "except:\n",
    "    pass"
   ],
   "execution_count": 10,
   "outputs": []
  },
  {
   "cell_type": "code",
   "source": "from rdflib import *",
   "metadata": {
    "id": "JVqPKPKqgBsX",
    "executionInfo": {
     "status": "ok",
     "timestamp": 1713548547861,
     "user_tz": -120,
     "elapsed": 423,
     "user": {
      "displayName": "Achraf Hmimou",
      "userId": "15223621851022794490"
     }
    },
    "ExecuteTime": {
     "end_time": "2024-05-25T12:05:55.086701Z",
     "start_time": "2024-05-25T12:05:55.082010Z"
    }
   },
   "execution_count": 11,
   "outputs": []
  },
  {
   "metadata": {
    "ExecuteTime": {
     "end_time": "2024-05-25T12:05:55.107554Z",
     "start_time": "2024-05-25T12:05:55.102213Z"
    }
   },
   "cell_type": "code",
   "source": [
    "tbox = Namespace('http://www.semanticweb.org/acraf/ontologies/2024/healthmesh/tbox#')\n",
    "abox = Namespace('http://www.semanticweb.org/acraf/ontologies/2024/healthmesh/abox#')\n",
    "dcat = Namespace('https://www.w3.org/ns/dcat#')\n",
    "dcterms = Namespace('http://purl.org/dc/terms/')\n",
    "dqv = Namespace('http://www.w3.org/ns/dqv#')"
   ],
   "execution_count": 12,
   "outputs": []
  },
  {
   "cell_type": "markdown",
   "source": [
    "# Load Schema + Metadata"
   ],
   "metadata": {
    "id": "-guqsUZpPtD1"
   }
  },
  {
   "cell_type": "code",
   "source": [
    "# Load your RDF ontology file\n",
    "schema_metadata = Graph()\n",
    "schema_metadata.parse(os.path.join(base_dir, '../Registration/Source_Graph_DP2.ttl'))\n"
   ],
   "metadata": {
    "colab": {
     "base_uri": "https://localhost:8080/"
    },
    "id": "-9jnGCPfyCVA",
    "executionInfo": {
     "status": "ok",
     "timestamp": 1713548549804,
     "user_tz": -120,
     "elapsed": 625,
     "user": {
      "displayName": "Achraf Hmimou",
      "userId": "15223621851022794490"
     }
    },
    "outputId": "3915adaf-a38c-4e4a-d0c5-87e4befc0c34",
    "ExecuteTime": {
     "end_time": "2024-05-25T12:05:55.194380Z",
     "start_time": "2024-05-25T12:05:55.173123Z"
    }
   },
   "execution_count": 13,
   "outputs": []
  },
  {
   "cell_type": "code",
   "source": [
    "print(schema_metadata.serialize(format='turtle'))"
   ],
   "metadata": {
    "colab": {
     "base_uri": "https://localhost:8080/"
    },
    "id": "GfV22oslyibK",
    "executionInfo": {
     "status": "ok",
     "timestamp": 1713548549804,
     "user_tz": -120,
     "elapsed": 18,
     "user": {
      "displayName": "Achraf Hmimou",
      "userId": "15223621851022794490"
     }
    },
    "outputId": "a67cafbc-8062-45f0-97bf-c5e02a5a9b05",
    "ExecuteTime": {
     "end_time": "2024-05-25T12:05:55.241699Z",
     "start_time": "2024-05-25T12:05:55.229057Z"
    }
   },
   "execution_count": 14,
   "outputs": []
  },
  {
   "cell_type": "markdown",
   "source": [
    "## Data Contract"
   ],
   "metadata": {
    "id": "Netxl9kumhgA"
   }
  },
  {
   "cell_type": "code",
   "source": [
    "contract = schema_metadata\n",
    "contract.bind('dqv', \"http://www.w3.org/ns/dqv#\")"
   ],
   "metadata": {
    "id": "HVItxxRv4RiT",
    "executionInfo": {
     "status": "ok",
     "timestamp": 1713548549805,
     "user_tz": -120,
     "elapsed": 10,
     "user": {
      "displayName": "Achraf Hmimou",
      "userId": "15223621851022794490"
     }
    },
    "ExecuteTime": {
     "end_time": "2024-05-25T12:05:55.321884Z",
     "start_time": "2024-05-25T12:05:55.317522Z"
    }
   },
   "execution_count": 15,
   "outputs": []
  },
  {
   "cell_type": "markdown",
   "source": [
    "Begin manual contract by adding the schema_metadata to the sdm"
   ],
   "metadata": {
    "id": "ct7ZR_3sy9G9"
   }
  },
  {
   "cell_type": "code",
   "source": [
    "from rdflib import *\n",
    "from hashlib import sha256\n",
    "dataset_name = 'dicomimage'"
   ],
   "metadata": {
    "id": "7W1F9r3c4YZF",
    "executionInfo": {
     "status": "ok",
     "timestamp": 1713548550196,
     "user_tz": -120,
     "elapsed": 400,
     "user": {
      "displayName": "Achraf Hmimou",
      "userId": "15223621851022794490"
     }
    },
    "ExecuteTime": {
     "end_time": "2024-05-25T12:05:55.388212Z",
     "start_time": "2024-05-25T12:05:55.385075Z"
    }
   },
   "execution_count": 16,
   "outputs": []
  },
  {
   "metadata": {},
   "cell_type": "markdown",
   "source": "### Create Contract"
  },
  {
   "cell_type": "code",
   "source": [
    "contract.add((abox[f'dc_{dataset_name}'],RDF.type, tbox.DataContract))\n",
    "contract.add((abox[dataset_name],tbox.hasDC, abox[f'dc_{dataset_name}']))"
   ],
   "metadata": {
    "id": "gWt6B5PSysph",
    "ExecuteTime": {
     "end_time": "2024-05-25T12:05:55.414271Z",
     "start_time": "2024-05-25T12:05:55.407780Z"
    }
   },
   "execution_count": 17,
   "outputs": []
  },
  {
   "cell_type": "markdown",
   "source": [
    "### Add Mappings"
   ],
   "metadata": {
    "id": "vbsM82sryG8b"
   }
  },
  {
   "metadata": {
    "ExecuteTime": {
     "end_time": "2024-05-25T12:05:55.450068Z",
     "start_time": "2024-05-25T12:05:55.444200Z"
    }
   },
   "cell_type": "code",
   "source": [
    "contract.add((abox.map2, RDF.type, tbox.SchemaMapping))\n",
    "contract.add((abox[f'dc_{dataset_name}'],tbox.hasMapping, abox.map2))\n",
    "\n",
    "contract.add((abox.map2, tbox.mfrom, abox.PatientID))\n",
    "contract.add((abox.map2, tbox.mto, abox.Subject))\n"
   ],
   "execution_count": 18,
   "outputs": []
  },
  {
   "cell_type": "code",
   "source": [
    "rdf_format = \"turtle\"  # Choose your desired RDF serialization format\n",
    "contract.serialize(destination=os.path.join(base_dir, 'SDP2_C.ttl'), format=rdf_format)"
   ],
   "metadata": {
    "id": "qI8bk_hn1QGq",
    "executionInfo": {
     "status": "ok",
     "timestamp": 1713533264385,
     "user_tz": -120,
     "elapsed": 25,
     "user": {
      "displayName": "Achraf Hmimou",
      "userId": "15223621851022794490"
     }
    },
    "outputId": "c478607c-9fb2-4bb7-f904-fdc2358b7c9f",
    "colab": {
     "base_uri": "https://localhost:8080/"
    },
    "ExecuteTime": {
     "end_time": "2024-05-25T12:05:55.483663Z",
     "start_time": "2024-05-25T12:05:55.471253Z"
    }
   },
   "execution_count": 19,
   "outputs": []
  },
  {
   "metadata": {},
   "cell_type": "markdown",
   "source": "### Add Policy"
  },
  {
   "metadata": {
    "ExecuteTime": {
     "end_time": "2024-05-25T12:05:55.523326Z",
     "start_time": "2024-05-25T12:05:55.517244Z"
    }
   },
   "cell_type": "code",
   "source": [
    "contract.add((abox[f'dc_{dataset_name}'],tbox.hasPolicy, abox.p1))\n",
    "#contract.add((abox[f'dc_{dataset_name}'],tbox.hasPolicy, abox.p2))\n",
    "#contract.add((abox[f'dc_{dataset_name}'],tbox.hasPolicy, abox.p3))"
   ],
   "execution_count": 20,
   "outputs": []
  },
  {
   "metadata": {
    "ExecuteTime": {
     "end_time": "2024-05-25T12:05:58.521782Z",
     "start_time": "2024-05-25T12:05:55.572231Z"
    }
   },
   "cell_type": "code",
   "source": [
    "!pip install rdflib_jsonld\n",
    "import json"
   ],
   "execution_count": 21,
   "outputs": []
  },
  {
   "metadata": {
    "ExecuteTime": {
     "end_time": "2024-05-25T12:05:58.530567Z",
     "start_time": "2024-05-25T12:05:58.524741Z"
    }
   },
   "cell_type": "code",
   "source": [
    "def add_jsonld_instances(graph, path):\n",
    "    # Adds JSON-LD instances to the graph\n",
    "    with open(path, 'r') as f:\n",
    "        json_ld_data = json.loads(f.read())\n",
    "        instances = Graph().parse(data=json_ld_data, format='json-ld')\n",
    "        graph += instances\n",
    "    \n",
    "    return graph"
   ],
   "execution_count": 22,
   "outputs": []
  },
  {
   "metadata": {},
   "cell_type": "markdown",
   "source": "pc1"
  },
  {
   "metadata": {
    "ExecuteTime": {
     "end_time": "2024-05-25T12:05:58.565254Z",
     "start_time": "2024-05-25T12:05:58.532987Z"
    }
   },
   "cell_type": "code",
   "source": [
    "p1 = os.path.join(base_dir, '../../FederatedComputationalGovernance/ComputationalCatalogues/p1.json')\n",
    "g = add_jsonld_instances(contract, p1)"
   ],
   "execution_count": 23,
   "outputs": []
  },
  {
   "metadata": {},
   "cell_type": "markdown",
   "source": "pc2"
  },
  {
   "metadata": {
    "ExecuteTime": {
     "end_time": "2024-05-25T12:05:58.571641Z",
     "start_time": "2024-05-25T12:05:58.568281Z"
    }
   },
   "cell_type": "code",
   "source": [
    "#p2 = '/home/acraf/psr/tfm/Fdatavalidation/FederatedComputationalGovernance/ComputationalCatalogues/p2.json'\n",
    "#g = add_jsonld_instances(contract, p2)"
   ],
   "execution_count": 24,
   "outputs": []
  },
  {
   "metadata": {},
   "cell_type": "markdown",
   "source": "p3"
  },
  {
   "metadata": {
    "ExecuteTime": {
     "end_time": "2024-05-25T12:05:58.586850Z",
     "start_time": "2024-05-25T12:05:58.573469Z"
    }
   },
   "cell_type": "code",
   "source": [
    "#p3 = '/home/acraf/psr/tfm/Fdatavalidation/FederatedComputationalGovernance/ComputationalCatalogues/p3.json'\n",
    "#g = add_jsonld_instances(contract, p3)"
   ],
   "execution_count": 25,
   "outputs": []
  },
  {
   "metadata": {},
   "cell_type": "markdown",
   "source": ""
  },
  {
   "metadata": {
    "ExecuteTime": {
     "end_time": "2024-05-25T12:05:58.616023Z",
     "start_time": "2024-05-25T12:05:58.588724Z"
    }
   },
   "cell_type": "code",
   "source": [
    "rdf_format = \"turtle\"  # Choose your desired RDF serialization format\n",
    "contract.serialize(destination=os.path.join(base_dir, 'SDP2_C.ttl'), format=rdf_format)"
   ],
   "execution_count": 26,
   "outputs": []
  },
  {
   "cell_type": "markdown",
   "source": "## SEND CONTRACT TO SDM",
   "metadata": {
    "id": "h7efFyJzjKwG"
   }
  },
  {
   "metadata": {
    "ExecuteTime": {
     "end_time": "2024-05-25T12:05:58.653374Z",
     "start_time": "2024-05-25T12:05:58.617588Z"
    }
   },
   "cell_type": "code",
   "source": "sdm = Graph().parse(os.path.join(base_dir, '../../FederatedComputationalGovernance/SemanticDataModel/sdm.ttl'))",
   "execution_count": 27,
   "outputs": []
  },
  {
   "cell_type": "code",
   "source": "sdm += contract",
   "metadata": {
    "id": "Jz6xGGPqjSd-",
    "ExecuteTime": {
     "end_time": "2024-05-25T12:05:58.662501Z",
     "start_time": "2024-05-25T12:05:58.655680Z"
    }
   },
   "execution_count": 28,
   "outputs": []
  },
  {
   "cell_type": "code",
   "source": [
    "rdf_format = \"turtle\"  # Choose your desired RDF serialization format\n",
    "sdm.serialize(destination=os.path.join(base_dir, '../../FederatedComputationalGovernance/SemanticDataModel/sdm.ttl'), format=rdf_format)"
   ],
   "metadata": {
    "colab": {
     "base_uri": "https://localhost:8080/"
    },
    "id": "8sS2yESRjYAJ",
    "executionInfo": {
     "status": "ok",
     "timestamp": 1713533562001,
     "user_tz": -120,
     "elapsed": 11,
     "user": {
      "displayName": "Achraf Hmimou",
      "userId": "15223621851022794490"
     }
    },
    "outputId": "bebb36df-28cb-438e-b555-ae7eb322bd5c",
    "ExecuteTime": {
     "end_time": "2024-05-25T12:05:58.702350Z",
     "start_time": "2024-05-25T12:05:58.665215Z"
    }
   },
   "execution_count": 29,
   "outputs": []
  }
 ]
}
