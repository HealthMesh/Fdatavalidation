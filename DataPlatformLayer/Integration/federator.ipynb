{
 "cells": [
  {
   "cell_type": "code",
   "id": "initial_id",
   "metadata": {
    "collapsed": true,
    "ExecuteTime": {
     "end_time": "2024-09-09T09:40:40.306323Z",
     "start_time": "2024-09-09T09:40:40.223999Z"
    }
   },
   "source": [
    "!pip install rdflib >> /dev/null\n",
    "!pip install pandas >> /dev/null\n",
    "!pip install pydicom >> /dev/null\n",
    "!pip install rdflib_jsonld >> /dev/null"
   ],
   "outputs": [
    {
     "name": "stderr",
     "output_type": "stream",
     "text": [
      "El sistema no puede encontrar la ruta especificada.\n",
      "El sistema no puede encontrar la ruta especificada.\n",
      "El sistema no puede encontrar la ruta especificada.\n",
      "El sistema no puede encontrar la ruta especificada.\n"
     ]
    }
   ],
   "execution_count": 180
  },
  {
   "metadata": {
    "ExecuteTime": {
     "end_time": "2024-09-09T09:40:40.338226Z",
     "start_time": "2024-09-09T09:40:40.328252Z"
    }
   },
   "cell_type": "code",
   "source": [
    "import os\n",
    "\n",
    "# Get the directory of the current script\n",
    "base_dir = os.getcwd()\n",
    "try:\n",
    "    if folder:\n",
    "        base_dir = os.path.join(base_dir, folder)\n",
    "except:\n",
    "    pass"
   ],
   "id": "8bfa22744d99d563",
   "outputs": [],
   "execution_count": 181
  },
  {
   "metadata": {
    "ExecuteTime": {
     "end_time": "2024-09-09T09:40:40.383279Z",
     "start_time": "2024-09-09T09:40:40.365153Z"
    }
   },
   "cell_type": "code",
   "source": [
    "from rdflib import * \n",
    "import uuid\n",
    "from hashlib import sha256\n",
    "import json"
   ],
   "id": "e6137dfebf5fa7a8",
   "outputs": [],
   "execution_count": 182
  },
  {
   "metadata": {
    "ExecuteTime": {
     "end_time": "2024-09-09T09:40:40.429654Z",
     "start_time": "2024-09-09T09:40:40.421677Z"
    }
   },
   "cell_type": "code",
   "source": [
    "tbox = Namespace('http://www.semanticweb.org/acraf/ontologies/2024/healthmesh/tbox#')\n",
    "abox = Namespace('http://www.semanticweb.org/acraf/ontologies/2024/healthmesh/abox#')\n",
    "dcat = Namespace('https://www.w3.org/ns/dcat#')\n",
    "dcterms = Namespace('http://purl.org/dc/terms/')\n",
    "dqv = Namespace('http://www.w3.org/ns/dqv#')"
   ],
   "id": "c55a560bcfa1619",
   "outputs": [],
   "execution_count": 183
  },
  {
   "metadata": {
    "ExecuteTime": {
     "end_time": "2024-09-09T09:40:40.461596Z",
     "start_time": "2024-09-09T09:40:40.447608Z"
    }
   },
   "cell_type": "code",
   "source": [
    "class Federator:\n",
    "    \"\"\"\n",
    "        Federator class is responsible for federating the data from different sources.\n",
    "    \"\"\"\n",
    "\n",
    "    def __init__(self, ds, SDM):\n",
    "        self.ds = ds\n",
    "        self.sdm = SDM \n",
    "\n",
    "    def check_dp_existance(self):\n",
    "        if self.sdm.value(predicate=RDF.type, subject=abox[self.ds]):\n",
    "            return True \n",
    "        else:\n",
    "            return False\n",
    "        \n",
    "    def generate_uri_id(self):\n",
    "        return str(uuid.uuid4())\n",
    "        \n",
    "    def add_mappings(self, mappings):\n",
    "        \n",
    "        # create contract\n",
    "        self.sdm.add((abox[f'dc_{self.ds}'],RDF.type, tbox.DataContract))\n",
    "        self.sdm.add((abox[self.ds],tbox.hasDC, abox[f'dc_{self.ds}']))\n",
    "        \n",
    "        # add mappings\n",
    "        for key, value in mappings.items(): # as key value pair dictionary\n",
    "            \n",
    "            # Generate mapping UUID\n",
    "            mapping_uuid = self.generate_uri_id()\n",
    "            self.sdm.add((abox[mapping_uuid], RDF.type, tbox.SchemaMapping))\n",
    "            self.sdm.add((abox[f'dc_{self.ds}'],tbox.hasMapping, abox[mapping_uuid]))\n",
    "            \n",
    "            # Add Mapping\n",
    "            self.sdm.add((abox[mapping_uuid], tbox.mfrom, abox[key]))\n",
    "            self.sdm.add((abox[mapping_uuid], tbox.mto, abox[value]))\n",
    "        \n",
    "        return self.sdm\n",
    "            \n",
    "            \n",
    "    def add_policies(self, policies):\n",
    "        # Add agreed policies\n",
    "        for policy in policies:\n",
    "            self.sdm.add((abox[f'dc_{self.ds}'],tbox.hasPolicy, abox[policy]))\n",
    "            \n",
    "        return self.sdm\n",
    "            \n",
    "        \n",
    "        "
   ],
   "id": "56029d96e9eca6ef",
   "outputs": [],
   "execution_count": 184
  },
  {
   "metadata": {
    "ExecuteTime": {
     "end_time": "2024-09-09T09:40:40.507516Z",
     "start_time": "2024-09-09T09:40:40.478525Z"
    }
   },
   "cell_type": "code",
   "source": "sdm = Graph().parse(os.path.join(base_dir, '../../FederatedComputationalGovernance/SemanticDataModel/sdm.ttl'), format='turtle')",
   "id": "7660a5e6cb8ca6fb",
   "outputs": [],
   "execution_count": 185
  },
  {
   "metadata": {
    "ExecuteTime": {
     "end_time": "2024-09-09T09:40:43.774375Z",
     "start_time": "2024-09-09T09:40:40.526604Z"
    }
   },
   "cell_type": "code",
   "source": "dataset = input(\"Enter the dataset name: \")",
   "id": "3c689e2a9e464f30",
   "outputs": [],
   "execution_count": 186
  },
  {
   "metadata": {
    "ExecuteTime": {
     "end_time": "2024-09-09T09:40:43.805295Z",
     "start_time": "2024-09-09T09:40:43.797310Z"
    }
   },
   "cell_type": "code",
   "source": "federator = Federator(dataset, sdm)",
   "id": "3e44e3401a6e10d9",
   "outputs": [],
   "execution_count": 187
  },
  {
   "metadata": {
    "ExecuteTime": {
     "end_time": "2024-09-09T09:40:43.851548Z",
     "start_time": "2024-09-09T09:40:43.836548Z"
    }
   },
   "cell_type": "code",
   "source": "print(federator.check_dp_existance())",
   "id": "50452615c4e52a84",
   "outputs": [
    {
     "name": "stdout",
     "output_type": "stream",
     "text": [
      "True\n"
     ]
    }
   ],
   "execution_count": 188
  },
  {
   "metadata": {},
   "cell_type": "markdown",
   "source": "Mappings and Policies are specified by the User",
   "id": "68075675184bbd85"
  },
  {
   "metadata": {
    "ExecuteTime": {
     "end_time": "2024-09-09T09:40:44.020555Z",
     "start_time": "2024-09-09T09:40:44.002576Z"
    }
   },
   "cell_type": "code",
   "source": [
    "mappings = {\n",
    "    'ID': 'Subject',\n",
    "    'Age_at_scan_years': 'Age'\n",
    "}"
   ],
   "id": "806acb7072ff4cf4",
   "outputs": [],
   "execution_count": 189
  },
  {
   "metadata": {
    "ExecuteTime": {
     "end_time": "2024-09-09T09:40:44.068497Z",
     "start_time": "2024-09-09T09:40:44.049451Z"
    }
   },
   "cell_type": "code",
   "source": "policies = ['p1', 'p2']",
   "id": "dbb8aa189e96bc08",
   "outputs": [],
   "execution_count": 190
  },
  {
   "metadata": {
    "ExecuteTime": {
     "end_time": "2024-09-09T09:40:44.131301Z",
     "start_time": "2024-09-09T09:40:44.113289Z"
    }
   },
   "cell_type": "code",
   "source": "contract = federator.add_mappings(mappings)",
   "id": "8e89e751ac4203a8",
   "outputs": [],
   "execution_count": 191
  },
  {
   "metadata": {
    "ExecuteTime": {
     "end_time": "2024-09-09T09:40:44.209100Z",
     "start_time": "2024-09-09T09:40:44.187084Z"
    }
   },
   "cell_type": "code",
   "source": "contract = federator.add_policies(policies)",
   "id": "7234b70d592f1253",
   "outputs": [],
   "execution_count": 192
  },
  {
   "metadata": {},
   "cell_type": "markdown",
   "source": "Save Contract that includes the specified Integration",
   "id": "8584f22cc073451b"
  },
  {
   "metadata": {
    "ExecuteTime": {
     "end_time": "2024-09-09T09:40:44.300854Z",
     "start_time": "2024-09-09T09:40:44.243008Z"
    }
   },
   "cell_type": "code",
   "source": [
    "sdm = Graph().parse(os.path.join(base_dir, '../../FederatedComputationalGovernance/SemanticDataModel/sdm.ttl'), format='turtle')\n",
    "sdm += contract\n",
    "sdm.serialize(destination=os.path.join(base_dir, '../../FederatedComputationalGovernance/SemanticDataModel/sdm.ttl'), format='turtle')"
   ],
   "id": "5e5b768e362cde6f",
   "outputs": [
    {
     "data": {
      "text/plain": [
       "<Graph identifier=N4547f6209f8f458096169e6f90d0326d (<class 'rdflib.graph.Graph'>)>"
      ]
     },
     "execution_count": 193,
     "metadata": {},
     "output_type": "execute_result"
    }
   ],
   "execution_count": 193
  }
 ],
 "metadata": {
  "kernelspec": {
   "display_name": "Python 3",
   "language": "python",
   "name": "python3"
  },
  "language_info": {
   "codemirror_mode": {
    "name": "ipython",
    "version": 2
   },
   "file_extension": ".py",
   "mimetype": "text/x-python",
   "name": "python",
   "nbconvert_exporter": "python",
   "pygments_lexer": "ipython2",
   "version": "2.7.6"
  }
 },
 "nbformat": 4,
 "nbformat_minor": 5
}
