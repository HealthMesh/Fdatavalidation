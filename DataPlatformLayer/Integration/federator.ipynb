{
 "cells": [
  {
   "cell_type": "code",
   "id": "initial_id",
   "metadata": {
    "collapsed": true,
    "ExecuteTime": {
     "end_time": "2024-09-12T11:01:22.459884Z",
     "start_time": "2024-09-12T11:01:22.346667Z"
    }
   },
   "source": [
    "!pip install rdflib >> /dev/null\n",
    "!pip install pandas >> /dev/null\n",
    "!pip install pydicom >> /dev/null\n",
    "!pip install rdflib_jsonld >> /dev/null"
   ],
   "outputs": [
    {
     "name": "stderr",
     "output_type": "stream",
     "text": [
      "El sistema no puede encontrar la ruta especificada.\n",
      "El sistema no puede encontrar la ruta especificada.\n",
      "El sistema no puede encontrar la ruta especificada.\n",
      "El sistema no puede encontrar la ruta especificada.\n"
     ]
    }
   ],
   "execution_count": 236
  },
  {
   "metadata": {
    "ExecuteTime": {
     "end_time": "2024-09-12T11:01:22.505762Z",
     "start_time": "2024-09-12T11:01:22.492797Z"
    }
   },
   "cell_type": "code",
   "source": [
    "import os\n",
    "\n",
    "# Get the directory of the current script\n",
    "base_dir = os.getcwd()\n",
    "try:\n",
    "    if folder:\n",
    "        base_dir = os.path.join(base_dir, folder)\n",
    "except:\n",
    "    pass"
   ],
   "id": "8bfa22744d99d563",
   "outputs": [],
   "execution_count": 237
  },
  {
   "metadata": {
    "ExecuteTime": {
     "end_time": "2024-09-12T11:01:22.536691Z",
     "start_time": "2024-09-12T11:01:22.518729Z"
    }
   },
   "cell_type": "code",
   "source": [
    "from rdflib import * \n",
    "import uuid\n",
    "from hashlib import sha256\n",
    "import json"
   ],
   "id": "e6137dfebf5fa7a8",
   "outputs": [],
   "execution_count": 238
  },
  {
   "metadata": {
    "ExecuteTime": {
     "end_time": "2024-09-12T11:01:22.568606Z",
     "start_time": "2024-09-12T11:01:22.562623Z"
    }
   },
   "cell_type": "code",
   "source": [
    "tbox = Namespace('http://www.semanticweb.org/acraf/ontologies/2024/healthmesh/tbox#')\n",
    "abox = Namespace('http://www.semanticweb.org/acraf/ontologies/2024/healthmesh/abox#')\n",
    "dcat = Namespace('https://www.w3.org/ns/dcat#')\n",
    "dcterms = Namespace('http://purl.org/dc/terms/')\n",
    "dqv = Namespace('http://www.w3.org/ns/dqv#')"
   ],
   "id": "c55a560bcfa1619",
   "outputs": [],
   "execution_count": 239
  },
  {
   "metadata": {
    "ExecuteTime": {
     "end_time": "2024-09-12T11:01:22.599525Z",
     "start_time": "2024-09-12T11:01:22.589552Z"
    }
   },
   "cell_type": "code",
   "source": [
    "class Federator:\n",
    "    \"\"\"\n",
    "        Federator class is responsible for federating the data from different sources.\n",
    "    \"\"\"\n",
    "\n",
    "    def __init__(self, ds, SDM):\n",
    "        self.ds = ds\n",
    "        self.sdm = SDM \n",
    "\n",
    "    def check_dp_existance(self):\n",
    "        if self.sdm.value(predicate=RDF.type, subject=abox[self.ds]):\n",
    "            return True \n",
    "        else:\n",
    "            return False\n",
    "        \n",
    "    def generate_uri_id(self):\n",
    "        return str(uuid.uuid4())\n",
    "        \n",
    "    def add_mappings(self, mappings):\n",
    "        \n",
    "        # create contract\n",
    "        self.sdm.add((abox[f'dc_{self.ds}'],RDF.type, tbox.DataContract))\n",
    "        self.sdm.add((abox[self.ds],tbox.hasDC, abox[f'dc_{self.ds}']))\n",
    "        \n",
    "        # add mappings\n",
    "        for key, value in mappings.items(): # as key value pair dictionary\n",
    "            \n",
    "            # Generate mapping UUID\n",
    "            mapping_uuid = self.generate_uri_id()\n",
    "            self.sdm.add((abox[mapping_uuid], RDF.type, tbox.SchemaMapping))\n",
    "            self.sdm.add((abox[f'dc_{self.ds}'],tbox.hasMapping, abox[mapping_uuid]))\n",
    "            \n",
    "            # Add Mapping\n",
    "            self.sdm.add((abox[mapping_uuid], tbox.mfrom, abox[key]))\n",
    "            self.sdm.add((abox[mapping_uuid], tbox.mto, abox[value]))\n",
    "        \n",
    "        return self.sdm\n",
    "            \n",
    "            \n",
    "    def add_policies(self, policies):\n",
    "        # Add agreed policies\n",
    "        for policy in policies:\n",
    "            self.sdm.add((abox[f'dc_{self.ds}'],tbox.hasPolicy, abox[policy]))\n",
    "            \n",
    "        return self.sdm\n",
    "            \n",
    "        \n",
    "        "
   ],
   "id": "56029d96e9eca6ef",
   "outputs": [],
   "execution_count": 240
  },
  {
   "metadata": {},
   "cell_type": "markdown",
   "source": "Run the Federator",
   "id": "f51c72bc145a251d"
  },
  {
   "metadata": {},
   "cell_type": "markdown",
   "source": "Load SDM",
   "id": "9e57d3fde81259df"
  },
  {
   "metadata": {
    "ExecuteTime": {
     "end_time": "2024-09-12T11:01:22.646397Z",
     "start_time": "2024-09-12T11:01:22.616478Z"
    }
   },
   "cell_type": "code",
   "source": "sdm = Graph().parse(os.path.join(base_dir, '../../FederatedComputationalGovernance/SemanticDataModel/sdm.ttl'), format='turtle')",
   "id": "7660a5e6cb8ca6fb",
   "outputs": [],
   "execution_count": 241
  },
  {
   "metadata": {},
   "cell_type": "markdown",
   "source": "Data Product Metadata",
   "id": "f7f2ec147e852bf7"
  },
  {
   "metadata": {
    "ExecuteTime": {
     "end_time": "2024-09-12T11:01:22.692278Z",
     "start_time": "2024-09-12T11:01:22.677316Z"
    }
   },
   "cell_type": "code",
   "source": [
    "import json \n",
    "try:\n",
    "    if dp_meta_path:\n",
    "        dp_meta = json.load(open(dp_meta_path))\n",
    "        dataset = dp_meta['name']\n",
    "        mappings = dp_meta['mappings']\n",
    "        policies = dp_meta['policies']\n",
    "except:\n",
    "    pass"
   ],
   "id": "3a5a7bceb38b368f",
   "outputs": [],
   "execution_count": 242
  },
  {
   "metadata": {
    "ExecuteTime": {
     "end_time": "2024-09-12T11:01:22.754111Z",
     "start_time": "2024-09-12T11:01:22.742145Z"
    }
   },
   "cell_type": "code",
   "source": "federator = Federator(dataset, sdm)",
   "id": "3e44e3401a6e10d9",
   "outputs": [],
   "execution_count": 243
  },
  {
   "metadata": {
    "ExecuteTime": {
     "end_time": "2024-09-12T11:01:22.816945Z",
     "start_time": "2024-09-12T11:01:22.795008Z"
    }
   },
   "cell_type": "code",
   "source": "print(federator.check_dp_existance())   ",
   "id": "50452615c4e52a84",
   "outputs": [
    {
     "name": "stdout",
     "output_type": "stream",
     "text": [
      "True\n"
     ]
    }
   ],
   "execution_count": 244
  },
  {
   "metadata": {
    "ExecuteTime": {
     "end_time": "2024-09-12T11:01:23.004772Z",
     "start_time": "2024-09-12T11:01:22.989809Z"
    }
   },
   "cell_type": "code",
   "source": "contract = federator.add_mappings(mappings)",
   "id": "8e89e751ac4203a8",
   "outputs": [],
   "execution_count": 245
  },
  {
   "metadata": {
    "ExecuteTime": {
     "end_time": "2024-09-12T11:01:23.051641Z",
     "start_time": "2024-09-12T11:01:23.037679Z"
    }
   },
   "cell_type": "code",
   "source": "contract = federator.add_policies(policies)",
   "id": "7234b70d592f1253",
   "outputs": [],
   "execution_count": 246
  },
  {
   "metadata": {},
   "cell_type": "markdown",
   "source": "Save Contract that includes the specified Integration",
   "id": "8584f22cc073451b"
  },
  {
   "metadata": {
    "ExecuteTime": {
     "end_time": "2024-09-12T11:01:23.177344Z",
     "start_time": "2024-09-12T11:01:23.100513Z"
    }
   },
   "cell_type": "code",
   "source": [
    "sdm = Graph().parse(os.path.join(base_dir, '../../FederatedComputationalGovernance/SemanticDataModel/sdm.ttl'), format='turtle')\n",
    "sdm += contract\n",
    "sdm.serialize(destination=os.path.join(base_dir, '../../FederatedComputationalGovernance/SemanticDataModel/sdm.ttl'), format='turtle')"
   ],
   "id": "5e5b768e362cde6f",
   "outputs": [
    {
     "data": {
      "text/plain": [
       "<Graph identifier=N73cf817ca67c4569917b6e89d6fa7955 (<class 'rdflib.graph.Graph'>)>"
      ]
     },
     "execution_count": 247,
     "metadata": {},
     "output_type": "execute_result"
    }
   ],
   "execution_count": 247
  }
 ],
 "metadata": {
  "kernelspec": {
   "display_name": "Python 3",
   "language": "python",
   "name": "python3"
  },
  "language_info": {
   "codemirror_mode": {
    "name": "ipython",
    "version": 2
   },
   "file_extension": ".py",
   "mimetype": "text/x-python",
   "name": "python",
   "nbconvert_exporter": "python",
   "pygments_lexer": "ipython2",
   "version": "2.7.6"
  }
 },
 "nbformat": 4,
 "nbformat_minor": 5
}
