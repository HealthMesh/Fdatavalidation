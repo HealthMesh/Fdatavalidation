{
 "cells": [
  {
   "cell_type": "code",
   "id": "initial_id",
   "metadata": {
    "collapsed": true,
    "ExecuteTime": {
     "end_time": "2024-09-10T09:27:22.109698Z",
     "start_time": "2024-09-10T09:27:14.824065Z"
    }
   },
   "source": [
    "!pip install rdflib\n",
    "!pip install pandas\n",
    "!pip install pydicom"
   ],
   "outputs": [
    {
     "name": "stdout",
     "output_type": "stream",
     "text": [
      "Requirement already satisfied: rdflib in c:\\users\\usuario\\pycharmprojects\\fdatavalidation\\venv\\lib\\site-packages (7.0.0)\n",
      "Requirement already satisfied: isodate<0.7.0,>=0.6.0 in c:\\users\\usuario\\pycharmprojects\\fdatavalidation\\venv\\lib\\site-packages (from rdflib) (0.6.1)\n",
      "Requirement already satisfied: pyparsing<4,>=2.1.0 in c:\\users\\usuario\\pycharmprojects\\fdatavalidation\\venv\\lib\\site-packages (from rdflib) (3.1.4)\n",
      "Requirement already satisfied: six in c:\\users\\usuario\\pycharmprojects\\fdatavalidation\\venv\\lib\\site-packages (from isodate<0.7.0,>=0.6.0->rdflib) (1.16.0)\n"
     ]
    },
    {
     "name": "stderr",
     "output_type": "stream",
     "text": [
      "\n",
      "[notice] A new release of pip is available: 23.2.1 -> 24.2\n",
      "[notice] To update, run: python.exe -m pip install --upgrade pip\n"
     ]
    },
    {
     "name": "stdout",
     "output_type": "stream",
     "text": [
      "Requirement already satisfied: pandas in c:\\users\\usuario\\pycharmprojects\\fdatavalidation\\venv\\lib\\site-packages (2.2.2)\n",
      "Requirement already satisfied: numpy>=1.22.4 in c:\\users\\usuario\\pycharmprojects\\fdatavalidation\\venv\\lib\\site-packages (from pandas) (2.1.0)\n",
      "Requirement already satisfied: python-dateutil>=2.8.2 in c:\\users\\usuario\\pycharmprojects\\fdatavalidation\\venv\\lib\\site-packages (from pandas) (2.9.0.post0)\n",
      "Requirement already satisfied: pytz>=2020.1 in c:\\users\\usuario\\pycharmprojects\\fdatavalidation\\venv\\lib\\site-packages (from pandas) (2024.1)\n",
      "Requirement already satisfied: tzdata>=2022.7 in c:\\users\\usuario\\pycharmprojects\\fdatavalidation\\venv\\lib\\site-packages (from pandas) (2024.1)\n",
      "Requirement already satisfied: six>=1.5 in c:\\users\\usuario\\pycharmprojects\\fdatavalidation\\venv\\lib\\site-packages (from python-dateutil>=2.8.2->pandas) (1.16.0)\n"
     ]
    },
    {
     "name": "stderr",
     "output_type": "stream",
     "text": [
      "\n",
      "[notice] A new release of pip is available: 23.2.1 -> 24.2\n",
      "[notice] To update, run: python.exe -m pip install --upgrade pip\n"
     ]
    },
    {
     "name": "stdout",
     "output_type": "stream",
     "text": [
      "Requirement already satisfied: pydicom in c:\\users\\usuario\\pycharmprojects\\fdatavalidation\\venv\\lib\\site-packages (2.4.4)\n"
     ]
    },
    {
     "name": "stderr",
     "output_type": "stream",
     "text": [
      "\n",
      "[notice] A new release of pip is available: 23.2.1 -> 24.2\n",
      "[notice] To update, run: python.exe -m pip install --upgrade pip\n"
     ]
    }
   ],
   "execution_count": 104
  },
  {
   "metadata": {
    "ExecuteTime": {
     "end_time": "2024-09-10T09:27:22.154749Z",
     "start_time": "2024-09-10T09:27:22.138621Z"
    }
   },
   "cell_type": "code",
   "source": [
    "import os\n",
    "\n",
    "# Get the directory of the current script\n",
    "base_dir = os.getcwd()\n",
    "try:\n",
    "    if folder:\n",
    "        base_dir = os.path.join(base_dir, folder)\n",
    "except:\n",
    "    pass"
   ],
   "id": "4bcc94b4b5f1eb3e",
   "outputs": [],
   "execution_count": 105
  },
  {
   "metadata": {
    "ExecuteTime": {
     "end_time": "2024-09-10T09:27:22.201137Z",
     "start_time": "2024-09-10T09:27:22.190169Z"
    }
   },
   "cell_type": "code",
   "source": [
    "from rdflib import *\n",
    "from hashlib import sha256\n",
    "tbox = Namespace('http://www.semanticweb.org/acraf/ontologies/2024/healthmesh/tbox#')\n",
    "abox = Namespace('http://www.semanticweb.org/acraf/ontologies/2024/healthmesh/abox#')\n",
    "dcat = Namespace('https://www.w3.org/ns/dcat#')\n",
    "dcterms = Namespace('http://purl.org/dc/terms/')\n",
    "dqv = Namespace('http://www.w3.org/ns/dqv#')"
   ],
   "id": "4a670ddc66769fa1",
   "outputs": [],
   "execution_count": 106
  },
  {
   "metadata": {},
   "cell_type": "markdown",
   "source": "Profiler Class",
   "id": "fea2f70eac74b64e"
  },
  {
   "metadata": {
    "ExecuteTime": {
     "end_time": "2024-09-10T09:27:22.262977Z",
     "start_time": "2024-09-10T09:27:22.234349Z"
    }
   },
   "cell_type": "code",
   "source": [
    "import os\n",
    "import pandas as pd\n",
    "import pydicom\n",
    "class Profiler:\n",
    "    \n",
    "    def __init__(self, file_path, owner=\"Unknown\"):\n",
    "        self.file_path = file_path\n",
    "        self.source_graph = self.create_graph()\n",
    "        self.datasetname = self.self_get_dataset_name()\n",
    "        self.set_owner = self.set_owner(owner)\n",
    "        self.file_extension = self.get_file_extension()\n",
    "        self.technology = self.add_technology()\n",
    "        self.source_graph = self.extract_metadata()\n",
    "        \n",
    "    def create_graph(self):\n",
    "        \"\"\"\n",
    "        This function returns a graph object with the necessary prefixes\n",
    "        :return: RDF Graph\n",
    "        \"\"\"\n",
    "        g = Graph()\n",
    "        g.bind('tb', 'http://www.semanticweb.org/acraf/ontologies/2024/healthmesh/tbox#')\n",
    "        g.bind('ab', 'http://www.semanticweb.org/acraf/ontologies/2024/healthmesh/abox#')\n",
    "        return g\n",
    "    \n",
    "    def set_owner(self, owner):\n",
    "        # Owner Metadata\n",
    "        self.source_graph.add((abox[self.datasetname],  tbox.owner, Literal(owner)))\n",
    "        return owner\n",
    "    \n",
    "    def self_get_dataset_name(self):\n",
    "        \n",
    "        name = os.path.basename(self.file_path).replace('.', '')\n",
    "        # Name Metadata\n",
    "        self.source_graph.add((abox[name], RDF.type, dcat.Dataset))\n",
    "        identifier = sha256(name.encode('utf-8')).hexdigest()\n",
    "        self.source_graph.add((abox[name],dcterms.identifier, Literal(identifier)))\n",
    "        return name\n",
    "        \n",
    "\n",
    "    def get_file_extension(self):\n",
    "        file_name, file_extension = os.path.splitext(self.file_path)\n",
    "        format = abox.Tabular\n",
    "        if file_extension.lower() == '.csv':\n",
    "            format = abox.Tabular\n",
    "        elif file_extension.lower() == '.dcm':\n",
    "            format = abox.Image\n",
    "        \n",
    "        # DataSetTypeTemplate Metadata\n",
    "        self.source_graph.add((format, RDF.type, tbox.DatasetTypeTemplate))\n",
    "        self.source_graph.add((format, dcterms['format'], Literal(file_extension)))  # Correct usage of the namespace\n",
    "        self.source_graph.add((abox[self.datasetname], tbox.hasDTT, format))\n",
    "\n",
    "        return file_extension.lower()\n",
    "    \n",
    "    def generate_unique_uri(self, base_uri):\n",
    "        import uuid\n",
    "        unique_identifier = str(uuid.uuid4())\n",
    "        return URIRef(f\"{base_uri}{unique_identifier}\")\n",
    "    \n",
    "    def add_technology(self):\n",
    "        #triple\n",
    "        self.source_graph.add((abox[self.datasetname+\"_TA\"], RDF.type, tbox.TechnologyAspects))\n",
    "        self.source_graph.add((abox[self.datasetname], tbox.hasTA, abox[self.datasetname+\"_TA\"]))\n",
    "\n",
    "        acces_uri = self.generate_unique_uri(abox)\n",
    "        self.source_graph.add((abox[self.datasetname+\"_TA\"], tbox.typeAcces, acces_uri))\n",
    "        self.source_graph.add((acces_uri, RDF.type, tbox.Acces))\n",
    "        self.source_graph.add((acces_uri, RDFS.label, abox.Static))\n",
    "        # PATH\n",
    "        self.source_graph.add((acces_uri, tbox.path, Literal(self.file_path)))\n",
    "\n",
    "    def extract_metadata(self):\n",
    "        if self.file_extension.lower() == '.csv':\n",
    "            return self.extract_csv_metadata()\n",
    "        elif self.file_extension.lower() == '.dcm':\n",
    "            return self.extract_dicom_metadata()\n",
    "        else:\n",
    "            raise ValueError(f\"Unsupported file extension: {self.file_extension}\")\n",
    "\n",
    "    def extract_csv_metadata(self):\n",
    "        df = pd.read_csv(self.file_path)\n",
    "        for column in df.columns:\n",
    "            self.source_graph.add((abox[column], RDF.type, tbox.Attribute))\n",
    "            self.source_graph.add((abox[self.datasetname], tbox.hasAttribute, abox[column]))\n",
    "            self.source_graph.add((abox[column], tbox.attribute, Literal(column)))\n",
    "        return self.source_graph\n",
    "\n",
    "    def extract_dicom_metadata(self, n_attributes=50):\n",
    "        ds = pydicom.dcmread(self.file_path)\n",
    "        # Iterate over all attributes\n",
    "        for attribute in dir(ds)[:n_attributes]:\n",
    "            if attribute[0].isalpha():\n",
    "                if hasattr(ds, attribute):\n",
    "                    self.source_graph.add((abox[attribute], RDF.type, tbox.Attribute))\n",
    "                    self.source_graph.add((abox[self.datasetname], tbox.hasAttribute, abox[attribute]))\n",
    "                    self.source_graph.add((abox[attribute], tbox.attribute, Literal(attribute)))\n",
    "        return self.source_graph\n",
    "\n",
    "    def get_source_graph(self):\n",
    "        return self.source_graph\n"
   ],
   "id": "8288accb67ee6c29",
   "outputs": [],
   "execution_count": 107
  },
  {
   "metadata": {
    "ExecuteTime": {
     "end_time": "2024-09-10T09:31:22.369177Z",
     "start_time": "2024-09-10T09:31:22.351234Z"
    }
   },
   "cell_type": "code",
   "source": [
    "try:\n",
    "    if file_path:\n",
    "        file_path = os.path.join(base_dir, file_path)\n",
    "except:\n",
    "    file_path = input(\"Enter file path: \")\n"
   ],
   "id": "2119ea7442e15d70",
   "outputs": [],
   "execution_count": 113
  },
  {
   "metadata": {
    "ExecuteTime": {
     "end_time": "2024-09-10T09:27:25.053495Z",
     "start_time": "2024-09-10T09:27:25.032551Z"
    }
   },
   "cell_type": "code",
   "source": "profiler = Profiler(file_path)",
   "id": "4a1279da5765e287",
   "outputs": [],
   "execution_count": 109
  },
  {
   "metadata": {
    "ExecuteTime": {
     "end_time": "2024-09-10T09:27:25.084443Z",
     "start_time": "2024-09-10T09:27:25.075438Z"
    }
   },
   "cell_type": "code",
   "source": "graph = profiler.get_source_graph()",
   "id": "47148389f4da0fe5",
   "outputs": [],
   "execution_count": 110
  },
  {
   "metadata": {},
   "cell_type": "markdown",
   "source": "Save Graph to File",
   "id": "76bdfc3fd87537c8"
  },
  {
   "metadata": {
    "ExecuteTime": {
     "end_time": "2024-09-10T09:27:25.147275Z",
     "start_time": "2024-09-10T09:27:25.117322Z"
    }
   },
   "cell_type": "code",
   "source": "sdm = Graph().parse(os.path.join(base_dir, '../../FederatedComputationalGovernance/SemanticDataModel/sdm.ttl'), format='turtle')",
   "id": "ad0deee8b965c21d",
   "outputs": [],
   "execution_count": 111
  },
  {
   "metadata": {
    "ExecuteTime": {
     "end_time": "2024-09-10T09:27:25.208087Z",
     "start_time": "2024-09-10T09:27:25.164197Z"
    }
   },
   "cell_type": "code",
   "source": [
    "sdm = Graph().parse(os.path.join(base_dir, '../../FederatedComputationalGovernance/SemanticDataModel/sdm.ttl'), format='turtle')\n",
    "sdm += graph\n",
    "sdm.serialize(destination=os.path.join(base_dir, '../../FederatedComputationalGovernance/SemanticDataModel/sdm.ttl'), format='turtle')"
   ],
   "id": "e92ec7fe443edd3",
   "outputs": [
    {
     "data": {
      "text/plain": [
       "<Graph identifier=N00b0bfb896fb44f7a7d6fe9061c62679 (<class 'rdflib.graph.Graph'>)>"
      ]
     },
     "execution_count": 112,
     "metadata": {},
     "output_type": "execute_result"
    }
   ],
   "execution_count": 112
  }
 ],
 "metadata": {
  "kernelspec": {
   "display_name": "Python 3",
   "language": "python",
   "name": "python3"
  },
  "language_info": {
   "codemirror_mode": {
    "name": "ipython",
    "version": 2
   },
   "file_extension": ".py",
   "mimetype": "text/x-python",
   "name": "python",
   "nbconvert_exporter": "python",
   "pygments_lexer": "ipython2",
   "version": "2.7.6"
  }
 },
 "nbformat": 4,
 "nbformat_minor": 5
}
