{
 "nbformat": 4,
 "nbformat_minor": 0,
 "metadata": {
  "colab": {
   "provenance": [],
   "authorship_tag": "ABX9TyOKBj7CgNIl65qYTal2GaVV"
  },
  "kernelspec": {
   "name": "python3",
   "display_name": "Python 3 (ipykernel)",
   "language": "python"
  },
  "language_info": {
   "name": "python"
  }
 },
 "cells": [
  {
   "cell_type": "code",
   "source": [
    "!pip install rdflib\n",
    "!pip install pandas\n",
    "from rdflib import *\n",
    "from hashlib import sha256"
   ],
   "metadata": {
    "colab": {
     "base_uri": "https://localhost:8080/"
    },
    "id": "KsSMsFdRgCPO",
    "executionInfo": {
     "status": "ok",
     "timestamp": 1713548471588,
     "user_tz": -120,
     "elapsed": 8294,
     "user": {
      "displayName": "Achraf Hmimou",
      "userId": "15223621851022794490"
     }
    },
    "outputId": "7d5690b9-197e-4fd7-cd78-127805c7aa1f",
    "ExecuteTime": {
     "end_time": "2024-05-24T10:51:07.071833Z",
     "start_time": "2024-05-24T10:51:01.765404Z"
    }
   },
   "outputs": [
    {
     "name": "stdout",
     "output_type": "stream",
     "text": [
      "Requirement already satisfied: rdflib in /home/acraf/psr/tfm/Fdatavalidation/venv/lib/python3.11/site-packages (7.0.0)\r\n",
      "Requirement already satisfied: isodate<0.7.0,>=0.6.0 in /home/acraf/psr/tfm/Fdatavalidation/venv/lib/python3.11/site-packages (from rdflib) (0.6.1)\r\n",
      "Requirement already satisfied: pyparsing<4,>=2.1.0 in /home/acraf/psr/tfm/Fdatavalidation/venv/lib/python3.11/site-packages (from rdflib) (3.1.2)\r\n",
      "Requirement already satisfied: six in /home/acraf/psr/tfm/Fdatavalidation/venv/lib/python3.11/site-packages (from isodate<0.7.0,>=0.6.0->rdflib) (1.16.0)\r\n",
      "\r\n",
      "\u001B[1m[\u001B[0m\u001B[34;49mnotice\u001B[0m\u001B[1;39;49m]\u001B[0m\u001B[39;49m A new release of pip is available: \u001B[0m\u001B[31;49m23.2.1\u001B[0m\u001B[39;49m -> \u001B[0m\u001B[32;49m24.0\u001B[0m\r\n",
      "\u001B[1m[\u001B[0m\u001B[34;49mnotice\u001B[0m\u001B[1;39;49m]\u001B[0m\u001B[39;49m To update, run: \u001B[0m\u001B[32;49mpip install --upgrade pip\u001B[0m\r\n",
      "Requirement already satisfied: pandas in /home/acraf/psr/tfm/Fdatavalidation/venv/lib/python3.11/site-packages (2.2.2)\r\n",
      "Requirement already satisfied: numpy>=1.23.2 in /home/acraf/psr/tfm/Fdatavalidation/venv/lib/python3.11/site-packages (from pandas) (1.26.4)\r\n",
      "Requirement already satisfied: python-dateutil>=2.8.2 in /home/acraf/psr/tfm/Fdatavalidation/venv/lib/python3.11/site-packages (from pandas) (2.9.0.post0)\r\n",
      "Requirement already satisfied: pytz>=2020.1 in /home/acraf/psr/tfm/Fdatavalidation/venv/lib/python3.11/site-packages (from pandas) (2024.1)\r\n",
      "Requirement already satisfied: tzdata>=2022.7 in /home/acraf/psr/tfm/Fdatavalidation/venv/lib/python3.11/site-packages (from pandas) (2024.1)\r\n",
      "Requirement already satisfied: six>=1.5 in /home/acraf/psr/tfm/Fdatavalidation/venv/lib/python3.11/site-packages (from python-dateutil>=2.8.2->pandas) (1.16.0)\r\n",
      "\r\n",
      "\u001B[1m[\u001B[0m\u001B[34;49mnotice\u001B[0m\u001B[1;39;49m]\u001B[0m\u001B[39;49m A new release of pip is available: \u001B[0m\u001B[31;49m23.2.1\u001B[0m\u001B[39;49m -> \u001B[0m\u001B[32;49m24.0\u001B[0m\r\n",
      "\u001B[1m[\u001B[0m\u001B[34;49mnotice\u001B[0m\u001B[1;39;49m]\u001B[0m\u001B[39;49m To update, run: \u001B[0m\u001B[32;49mpip install --upgrade pip\u001B[0m\r\n"
     ]
    }
   ],
   "execution_count": 27
  },
  {
   "cell_type": "markdown",
   "source": "# Create Source Graph",
   "metadata": {
    "id": "-guqsUZpPtD1"
   }
  },
  {
   "metadata": {
    "ExecuteTime": {
     "end_time": "2024-05-24T10:51:07.093905Z",
     "start_time": "2024-05-24T10:51:07.078658Z"
    }
   },
   "cell_type": "code",
   "source": [
    "schema = Graph()\n",
    "schema.bind('tb', 'http://www.semanticweb.org/acraf/ontologies/2024/healthmesh/tbox#')\n",
    "schema.bind('ab', 'http://www.semanticweb.org/acraf/ontologies/2024/healthmesh/abox#')\n",
    "tbox = Namespace('http://www.semanticweb.org/acraf/ontologies/2024/healthmesh/tbox#')\n",
    "abox = Namespace('http://www.semanticweb.org/acraf/ontologies/2024/healthmesh/abox#')\n",
    "dcat = Namespace('https://www.w3.org/ns/dcat#')\n",
    "dcterms = Namespace('http://purl.org/dc/terms/')\n",
    "dqv = Namespace('http://www.w3.org/ns/dqv#')"
   ],
   "outputs": [],
   "execution_count": 28
  },
  {
   "metadata": {},
   "cell_type": "markdown",
   "source": "## Load Data"
  },
  {
   "cell_type": "code",
   "source": [
    "import pandas as pd"
   ],
   "metadata": {
    "id": "4CmhFn87Pvf0",
    "executionInfo": {
     "status": "ok",
     "timestamp": 1713548473752,
     "user_tz": -120,
     "elapsed": 431,
     "user": {
      "displayName": "Achraf Hmimou",
      "userId": "15223621851022794490"
     }
    },
    "ExecuteTime": {
     "end_time": "2024-05-24T10:51:07.122216Z",
     "start_time": "2024-05-24T10:51:07.099091Z"
    }
   },
   "outputs": [],
   "execution_count": 29
  },
  {
   "cell_type": "code",
   "source": [
    "data_path = '/DataProductLayer/DataProduct/Data/Explotation/UPENN-GBM_clinical_info_v2.1.csv'\n",
    "df = pd.read_csv(data_path)\n",
    "df.info()"
   ],
   "metadata": {
    "id": "VVzefu5rPTky",
    "executionInfo": {
     "status": "ok",
     "timestamp": 1713548474258,
     "user_tz": -120,
     "elapsed": 512,
     "user": {
      "displayName": "Achraf Hmimou",
      "userId": "15223621851022794490"
     }
    },
    "ExecuteTime": {
     "end_time": "2024-05-24T10:51:07.174255Z",
     "start_time": "2024-05-24T10:51:07.130943Z"
    }
   },
   "outputs": [
    {
     "name": "stdout",
     "output_type": "stream",
     "text": [
      "<class 'pandas.core.frame.DataFrame'>\n",
      "RangeIndex: 671 entries, 0 to 670\n",
      "Data columns (total 12 columns):\n",
      " #   Column                              Non-Null Count  Dtype  \n",
      "---  ------                              --------------  -----  \n",
      " 0   ID                                  671 non-null    object \n",
      " 1   Gender                              671 non-null    object \n",
      " 2   Age_at_scan_years                   671 non-null    float64\n",
      " 3   Survival_from_surgery_days_UPDATED  671 non-null    object \n",
      " 4   Survival_Status                     671 non-null    object \n",
      " 5   Survival_Censor                     671 non-null    object \n",
      " 6   IDH1                                671 non-null    object \n",
      " 7   MGMT                                671 non-null    object \n",
      " 8   KPS                                 671 non-null    object \n",
      " 9   GTR_over90percent                   671 non-null    object \n",
      " 10  Time_since_baseline_preop           671 non-null    object \n",
      " 11  PsP_TP_score                        60 non-null     float64\n",
      "dtypes: float64(2), object(10)\n",
      "memory usage: 63.0+ KB\n"
     ]
    }
   ],
   "execution_count": 30
  },
  {
   "cell_type": "markdown",
   "source": "## Data Product Profile",
   "metadata": {
    "id": "p1pqIgj1EiRv"
   }
  },
  {
   "metadata": {},
   "cell_type": "markdown",
   "source": "### OWNER"
  },
  {
   "metadata": {
    "ExecuteTime": {
     "end_time": "2024-05-24T10:51:07.186855Z",
     "start_time": "2024-05-24T10:51:07.178660Z"
    }
   },
   "cell_type": "code",
   "source": "metadata_path = \"/DataProductLayer/DataProduct/Metadata/explotaiton.csv\"",
   "outputs": [],
   "execution_count": 31
  },
  {
   "cell_type": "code",
   "source": [
    "meta_df = pd.read_csv(metadata_path)\n",
    "meta_dp = meta_df.loc[meta_df['name'] == \"UPENN-GBM_clinical_info_v2\"]\n",
    "owner = meta_dp.owner.values[0]\n"
   ],
   "metadata": {
    "colab": {
     "base_uri": "https://localhost:8080/",
     "height": 81
    },
    "id": "YHMYL5UvGYeu",
    "executionInfo": {
     "status": "ok",
     "timestamp": 1713548475987,
     "user_tz": -120,
     "elapsed": 1033,
     "user": {
      "displayName": "Achraf Hmimou",
      "userId": "15223621851022794490"
     }
    },
    "outputId": "a79b883f-d8f3-458a-be16-43dbd82ea0a5",
    "ExecuteTime": {
     "end_time": "2024-05-24T10:51:07.209531Z",
     "start_time": "2024-05-24T10:51:07.191948Z"
    }
   },
   "outputs": [],
   "execution_count": 32
  },
  {
   "cell_type": "markdown",
   "source": "### NAME",
   "metadata": {
    "id": "cOCQNMyWjWai"
   }
  },
  {
   "cell_type": "code",
   "source": [
    "dataset_name = meta_dp.name.values[0]\n",
    "dataset_name"
   ],
   "metadata": {
    "id": "SqR_1q33gvQd",
    "executionInfo": {
     "status": "ok",
     "timestamp": 1713548476427,
     "user_tz": -120,
     "elapsed": 56,
     "user": {
      "displayName": "Achraf Hmimou",
      "userId": "15223621851022794490"
     }
    },
    "colab": {
     "base_uri": "https://localhost:8080/",
     "height": 35
    },
    "outputId": "9c5093a3-f31a-49d3-8077-d02c6c4972f2",
    "ExecuteTime": {
     "end_time": "2024-05-24T10:51:07.227260Z",
     "start_time": "2024-05-24T10:51:07.214841Z"
    }
   },
   "outputs": [
    {
     "data": {
      "text/plain": [
       "'UPENN-GBM_clinical_info_v2'"
      ]
     },
     "execution_count": 33,
     "metadata": {},
     "output_type": "execute_result"
    }
   ],
   "execution_count": 33
  },
  {
   "metadata": {},
   "cell_type": "markdown",
   "source": "add triples"
  },
  {
   "cell_type": "code",
   "source": [
    "# Name\n",
    "schema.add((abox[dataset_name], RDF.type, dcat.Dataset))\n",
    "#identifier\n",
    "identifier = sha256(dataset_name.encode('utf-8')).hexdigest()\n",
    "schema.add((abox[dataset_name],dcterms.identifier, Literal(identifier)))\n",
    "#owner\n",
    "schema.add((abox[dataset_name], tbox.owner, Literal(owner)))\n"
   ],
   "metadata": {
    "id": "eBWa940rbvZ-",
    "executionInfo": {
     "status": "ok",
     "timestamp": 1713548476428,
     "user_tz": -120,
     "elapsed": 54,
     "user": {
      "displayName": "Achraf Hmimou",
      "userId": "15223621851022794490"
     }
    },
    "ExecuteTime": {
     "end_time": "2024-05-24T10:51:07.247984Z",
     "start_time": "2024-05-24T10:51:07.231637Z"
    }
   },
   "outputs": [
    {
     "data": {
      "text/plain": [
       "<Graph identifier=N4a264342081f470096bc8d8bfccea21f (<class 'rdflib.graph.Graph'>)>"
      ]
     },
     "execution_count": 34,
     "metadata": {},
     "output_type": "execute_result"
    }
   ],
   "execution_count": 34
  },
  {
   "metadata": {},
   "cell_type": "markdown",
   "source": "### ATTRIBUTES\n"
  },
  {
   "metadata": {
    "ExecuteTime": {
     "end_time": "2024-05-24T10:51:07.263214Z",
     "start_time": "2024-05-24T10:51:07.251202Z"
    }
   },
   "cell_type": "code",
   "source": [
    "for column in df.columns:\n",
    "    # Create RDF triple for Attribute\n",
    "    schema.add((abox[column], RDF.type, tbox.Attribute))\n",
    "    # Create RDF triple for Attribute\n",
    "    schema.add((abox[dataset_name], tbox.hasAttribute, abox[column]))\n",
    "    # rdf for the dataproperty\n",
    "    schema.add((abox[column], tbox.attribute, Literal(column)))\n",
    "\n",
    "\n"
   ],
   "outputs": [],
   "execution_count": 35
  },
  {
   "cell_type": "markdown",
   "source": [
    "## DatasetTypeTemplate"
   ],
   "metadata": {
    "id": "adtA5TxYjTR1"
   }
  },
  {
   "metadata": {},
   "cell_type": "markdown",
   "source": "### Format"
  },
  {
   "cell_type": "code",
   "source": [
    "format = meta_dp.format.values[0]\n",
    "format"
   ],
   "metadata": {
    "id": "fAMZ3dDQk8nv",
    "executionInfo": {
     "status": "ok",
     "timestamp": 1713548476428,
     "user_tz": -120,
     "elapsed": 45,
     "user": {
      "displayName": "Achraf Hmimou",
      "userId": "15223621851022794490"
     }
    },
    "colab": {
     "base_uri": "https://localhost:8080/",
     "height": 35
    },
    "outputId": "abc99a38-a334-4d5f-a214-67d122c480b8",
    "ExecuteTime": {
     "end_time": "2024-05-24T10:51:07.279245Z",
     "start_time": "2024-05-24T10:51:07.267540Z"
    }
   },
   "outputs": [
    {
     "data": {
      "text/plain": [
       "'application/csv'"
      ]
     },
     "execution_count": 36,
     "metadata": {},
     "output_type": "execute_result"
    }
   ],
   "execution_count": 36
  },
  {
   "cell_type": "code",
   "source": [
    "# triple\n",
    "schema.add((abox.Tabular, RDF.type, tbox.DatasetTypeTemplate))\n",
    "\n",
    "# format\n",
    "schema.add((abox.Tabular, dcterms['format'], Literal(format)))  # Correct usage of the namespace\n",
    "\n",
    "# addDTT\n",
    "schema.add((abox[dataset_name], tbox.hasDTT, abox.Tabular))\n"
   ],
   "metadata": {
    "id": "s-TgsXehjVWY",
    "executionInfo": {
     "status": "ok",
     "timestamp": 1713548476429,
     "user_tz": -120,
     "elapsed": 43,
     "user": {
      "displayName": "Achraf Hmimou",
      "userId": "15223621851022794490"
     }
    },
    "ExecuteTime": {
     "end_time": "2024-05-24T10:51:07.293948Z",
     "start_time": "2024-05-24T10:51:07.281733Z"
    }
   },
   "outputs": [
    {
     "data": {
      "text/plain": [
       "<Graph identifier=N4a264342081f470096bc8d8bfccea21f (<class 'rdflib.graph.Graph'>)>"
      ]
     },
     "execution_count": 37,
     "metadata": {},
     "output_type": "execute_result"
    }
   ],
   "execution_count": 37
  },
  {
   "cell_type": "markdown",
   "source": [
    "### TechnologyAspects"
   ],
   "metadata": {
    "id": "i5_QGqixtaQ2"
   }
  },
  {
   "metadata": {
    "ExecuteTime": {
     "end_time": "2024-05-24T10:51:07.310049Z",
     "start_time": "2024-05-24T10:51:07.296501Z"
    }
   },
   "cell_type": "code",
   "source": [
    "#triple\n",
    "schema.add((abox.TA1, RDF.type, tbox.TechnologyAspects))\n",
    "\n",
    "#  addTA\n",
    "schema.add((abox[dataset_name], tbox.hasTA, abox.TA1))\n",
    "\n",
    "#TYPE\n",
    "schema.add((abox.TA1, tbox.typeAcces, abox.Static))\n",
    "schema.add((abox.Static, RDF.type, tbox.Acces))\n",
    "\n",
    "# PATH\n",
    "schema.add((abox.Static, tbox.path, Literal(data_path)))\n"
   ],
   "outputs": [
    {
     "data": {
      "text/plain": [
       "<Graph identifier=N4a264342081f470096bc8d8bfccea21f (<class 'rdflib.graph.Graph'>)>"
      ]
     },
     "execution_count": 38,
     "metadata": {},
     "output_type": "execute_result"
    }
   ],
   "execution_count": 38
  },
  {
   "metadata": {},
   "cell_type": "markdown",
   "source": "# SAVE SOURCE_GRAPH"
  },
  {
   "cell_type": "code",
   "source": [
    "rdf_format = \"turtle\"\n",
    "schema.serialize(destination=\"./Source_Graph_DP1.ttl\", format=rdf_format)"
   ],
   "metadata": {
    "colab": {
     "base_uri": "https://localhost:8080/"
    },
    "id": "_5GS_wogzBRV",
    "executionInfo": {
     "status": "ok",
     "timestamp": 1713548492387,
     "user_tz": -120,
     "elapsed": 841,
     "user": {
      "displayName": "Achraf Hmimou",
      "userId": "15223621851022794490"
     }
    },
    "outputId": "d69f4992-d842-4240-f331-1ce4bf730343",
    "ExecuteTime": {
     "end_time": "2024-05-24T10:51:07.331436Z",
     "start_time": "2024-05-24T10:51:07.312372Z"
    }
   },
   "outputs": [
    {
     "data": {
      "text/plain": [
       "<Graph identifier=N4a264342081f470096bc8d8bfccea21f (<class 'rdflib.graph.Graph'>)>"
      ]
     },
     "execution_count": 39,
     "metadata": {},
     "output_type": "execute_result"
    }
   ],
   "execution_count": 39
  }
 ]
}
