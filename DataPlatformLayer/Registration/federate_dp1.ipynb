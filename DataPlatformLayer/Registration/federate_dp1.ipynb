{
 "nbformat": 4,
 "nbformat_minor": 0,
 "metadata": {
  "colab": {
   "provenance": [],
   "authorship_tag": "ABX9TyOKBj7CgNIl65qYTal2GaVV"
  },
  "kernelspec": {
   "name": "python3",
   "display_name": "Python 3 (ipykernel)",
   "language": "python"
  },
  "language_info": {
   "name": "python"
  }
 },
 "cells": [
  {
   "metadata": {},
   "cell_type": "code",
   "outputs": [],
   "execution_count": null,
   "source": [
    "!pip install rdflib\n",
    "!pip install pandas"
   ]
  },
  {
   "metadata": {},
   "cell_type": "markdown",
   "source": "Get Relative Path"
  },
  {
   "metadata": {
    "ExecuteTime": {
     "end_time": "2024-09-03T10:16:25.608768Z",
     "start_time": "2024-09-03T10:16:25.594806Z"
    }
   },
   "cell_type": "code",
   "source": [
    "import os\n",
    "\n",
    "# Get the directory of the current script\n",
    "base_dir = os.getcwd()\n",
    "try:\n",
    "    if folder:\n",
    "        base_dir = os.path.join(base_dir, folder)\n",
    "except:\n",
    "    pass"
   ],
   "outputs": [],
   "execution_count": 1
  },
  {
   "metadata": {},
   "cell_type": "markdown",
   "source": "Utililtiy Functiions"
  },
  {
   "metadata": {
    "ExecuteTime": {
     "end_time": "2024-09-03T10:16:25.640723Z",
     "start_time": "2024-09-03T10:16:25.618741Z"
    }
   },
   "cell_type": "code",
   "source": [
    "import uuid\n",
    "\n",
    "def generate_unique_uri(base_uri):\n",
    "    unique_identifier = str(uuid.uuid4())\n",
    "    return URIRef(f\"{base_uri}{unique_identifier}\")"
   ],
   "outputs": [],
   "execution_count": 2
  },
  {
   "cell_type": "code",
   "source": [
    "from rdflib import *\n",
    "from hashlib import sha256"
   ],
   "metadata": {
    "colab": {
     "base_uri": "https://localhost:8080/"
    },
    "id": "KsSMsFdRgCPO",
    "executionInfo": {
     "status": "ok",
     "timestamp": 1713548471588,
     "user_tz": -120,
     "elapsed": 8294,
     "user": {
      "displayName": "Achraf Hmimou",
      "userId": "15223621851022794490"
     }
    },
    "outputId": "7d5690b9-197e-4fd7-cd78-127805c7aa1f",
    "ExecuteTime": {
     "end_time": "2024-09-03T10:16:34.318612Z",
     "start_time": "2024-09-03T10:16:26.115427Z"
    }
   },
   "outputs": [
    {
     "name": "stdout",
     "output_type": "stream",
     "text": [
      "Requirement already satisfied: rdflib in c:\\users\\usuario\\pycharmprojects\\fdatavalidation\\venv\\lib\\site-packages (7.0.0)\n",
      "Requirement already satisfied: isodate<0.7.0,>=0.6.0 in c:\\users\\usuario\\pycharmprojects\\fdatavalidation\\venv\\lib\\site-packages (from rdflib) (0.6.1)\n",
      "Requirement already satisfied: pyparsing<4,>=2.1.0 in c:\\users\\usuario\\pycharmprojects\\fdatavalidation\\venv\\lib\\site-packages (from rdflib) (3.1.4)\n",
      "Requirement already satisfied: six in c:\\users\\usuario\\pycharmprojects\\fdatavalidation\\venv\\lib\\site-packages (from isodate<0.7.0,>=0.6.0->rdflib) (1.16.0)\n"
     ]
    },
    {
     "name": "stderr",
     "output_type": "stream",
     "text": [
      "\n",
      "[notice] A new release of pip is available: 23.2.1 -> 24.2\n",
      "[notice] To update, run: python.exe -m pip install --upgrade pip\n"
     ]
    },
    {
     "name": "stdout",
     "output_type": "stream",
     "text": [
      "Requirement already satisfied: pandas in c:\\users\\usuario\\pycharmprojects\\fdatavalidation\\venv\\lib\\site-packages (2.2.2)\n",
      "Requirement already satisfied: numpy>=1.22.4 in c:\\users\\usuario\\pycharmprojects\\fdatavalidation\\venv\\lib\\site-packages (from pandas) (2.1.0)\n",
      "Requirement already satisfied: python-dateutil>=2.8.2 in c:\\users\\usuario\\pycharmprojects\\fdatavalidation\\venv\\lib\\site-packages (from pandas) (2.9.0.post0)\n",
      "Requirement already satisfied: pytz>=2020.1 in c:\\users\\usuario\\pycharmprojects\\fdatavalidation\\venv\\lib\\site-packages (from pandas) (2024.1)\n",
      "Requirement already satisfied: tzdata>=2022.7 in c:\\users\\usuario\\pycharmprojects\\fdatavalidation\\venv\\lib\\site-packages (from pandas) (2024.1)\n",
      "Requirement already satisfied: six>=1.5 in c:\\users\\usuario\\pycharmprojects\\fdatavalidation\\venv\\lib\\site-packages (from python-dateutil>=2.8.2->pandas) (1.16.0)\n"
     ]
    },
    {
     "name": "stderr",
     "output_type": "stream",
     "text": [
      "\n",
      "[notice] A new release of pip is available: 23.2.1 -> 24.2\n",
      "[notice] To update, run: python.exe -m pip install --upgrade pip\n"
     ]
    }
   ],
   "execution_count": 3
  },
  {
   "cell_type": "markdown",
   "source": "# Create Source Graph",
   "metadata": {
    "id": "-guqsUZpPtD1"
   }
  },
  {
   "metadata": {},
   "cell_type": "markdown",
   "source": "Namespaces"
  },
  {
   "metadata": {
    "ExecuteTime": {
     "end_time": "2024-09-03T10:16:34.473727Z",
     "start_time": "2024-09-03T10:16:34.453254Z"
    }
   },
   "cell_type": "code",
   "source": [
    "schema = Graph()\n",
    "schema.bind('tb', 'http://www.semanticweb.org/acraf/ontologies/2024/healthmesh/tbox#')\n",
    "schema.bind('ab', 'http://www.semanticweb.org/acraf/ontologies/2024/healthmesh/abox#')\n",
    "tbox = Namespace('http://www.semanticweb.org/acraf/ontologies/2024/healthmesh/tbox#')\n",
    "abox = Namespace('http://www.semanticweb.org/acraf/ontologies/2024/healthmesh/abox#')\n",
    "dcat = Namespace('https://www.w3.org/ns/dcat#')\n",
    "dcterms = Namespace('http://purl.org/dc/terms/')\n",
    "dqv = Namespace('http://www.w3.org/ns/dqv#')"
   ],
   "outputs": [],
   "execution_count": 4
  },
  {
   "metadata": {},
   "cell_type": "markdown",
   "source": "## Load Data"
  },
  {
   "cell_type": "code",
   "source": [
    "import pandas as pd\n",
    "data_path = os.path.join(base_dir, '../../DataProductLayer/DataProduct/Data/Explotation/UPENN-GBM_clinical_info_v2.1.csv')\n",
    "df = pd.read_csv(data_path)\n",
    "df.info()"
   ],
   "metadata": {
    "id": "4CmhFn87Pvf0",
    "executionInfo": {
     "status": "ok",
     "timestamp": 1713548473752,
     "user_tz": -120,
     "elapsed": 431,
     "user": {
      "displayName": "Achraf Hmimou",
      "userId": "15223621851022794490"
     }
    },
    "ExecuteTime": {
     "end_time": "2024-09-03T10:16:35.691653Z",
     "start_time": "2024-09-03T10:16:34.572323Z"
    }
   },
   "outputs": [],
   "execution_count": 5
  },
  {
   "metadata": {},
   "cell_type": "markdown",
   "source": "### OWNER"
  },
  {
   "metadata": {
    "ExecuteTime": {
     "end_time": "2024-09-03T10:16:35.847586Z",
     "start_time": "2024-09-03T10:16:35.837690Z"
    }
   },
   "cell_type": "code",
   "source": "metadata_path = os.path.join(base_dir, '../../DataProductLayer/DataProduct/Metadata/explotaiton.csv')",
   "outputs": [],
   "execution_count": 7
  },
  {
   "cell_type": "code",
   "source": [
    "meta_df = pd.read_csv(metadata_path)\n",
    "meta_dp = meta_df.loc[meta_df['name'] == \"UPENN-GBM_clinical_info_v2\"]\n",
    "owner = meta_dp.owner.values[0]\n"
   ],
   "metadata": {
    "colab": {
     "base_uri": "https://localhost:8080/",
     "height": 81
    },
    "id": "YHMYL5UvGYeu",
    "executionInfo": {
     "status": "ok",
     "timestamp": 1713548475987,
     "user_tz": -120,
     "elapsed": 1033,
     "user": {
      "displayName": "Achraf Hmimou",
      "userId": "15223621851022794490"
     }
    },
    "outputId": "a79b883f-d8f3-458a-be16-43dbd82ea0a5",
    "ExecuteTime": {
     "end_time": "2024-09-03T10:16:35.923416Z",
     "start_time": "2024-09-03T10:16:35.896489Z"
    }
   },
   "outputs": [],
   "execution_count": 8
  },
  {
   "cell_type": "markdown",
   "source": "### NAME",
   "metadata": {
    "id": "cOCQNMyWjWai"
   }
  },
  {
   "cell_type": "code",
   "source": [
    "dataset_name = meta_dp.name.values[0]\n",
    "dataset_name"
   ],
   "metadata": {
    "id": "SqR_1q33gvQd",
    "executionInfo": {
     "status": "ok",
     "timestamp": 1713548476427,
     "user_tz": -120,
     "elapsed": 56,
     "user": {
      "displayName": "Achraf Hmimou",
      "userId": "15223621851022794490"
     }
    },
    "colab": {
     "base_uri": "https://localhost:8080/",
     "height": 35
    },
    "outputId": "9c5093a3-f31a-49d3-8077-d02c6c4972f2",
    "ExecuteTime": {
     "end_time": "2024-09-03T10:16:35.986287Z",
     "start_time": "2024-09-03T10:16:35.958289Z"
    }
   },
   "outputs": [
    {
     "data": {
      "text/plain": [
       "'UPENN-GBM_clinical_info_v2'"
      ]
     },
     "execution_count": 9,
     "metadata": {},
     "output_type": "execute_result"
    }
   ],
   "execution_count": 9
  },
  {
   "metadata": {},
   "cell_type": "markdown",
   "source": "add triples"
  },
  {
   "cell_type": "code",
   "source": [
    "# Name\n",
    "schema.add((abox[dataset_name], RDF.type, dcat.Dataset))\n",
    "#identifier\n",
    "identifier = sha256(dataset_name.encode('utf-8')).hexdigest()\n",
    "schema.add((abox[dataset_name],dcterms.identifier, Literal(identifier)))\n",
    "#owner\n",
    "schema.add((abox[dataset_name], tbox.owner, Literal(owner)))\n"
   ],
   "metadata": {
    "id": "eBWa940rbvZ-",
    "executionInfo": {
     "status": "ok",
     "timestamp": 1713548476428,
     "user_tz": -120,
     "elapsed": 54,
     "user": {
      "displayName": "Achraf Hmimou",
      "userId": "15223621851022794490"
     }
    },
    "ExecuteTime": {
     "end_time": "2024-09-03T10:16:36.096920Z",
     "start_time": "2024-09-03T10:16:36.074976Z"
    }
   },
   "outputs": [
    {
     "data": {
      "text/plain": [
       "<Graph identifier=N65b0dd6ecf454d11b619802f73858263 (<class 'rdflib.graph.Graph'>)>"
      ]
     },
     "execution_count": 10,
     "metadata": {},
     "output_type": "execute_result"
    }
   ],
   "execution_count": 10
  },
  {
   "metadata": {},
   "cell_type": "markdown",
   "source": "### ATTRIBUTES\n"
  },
  {
   "metadata": {
    "ExecuteTime": {
     "end_time": "2024-09-03T10:16:36.237346Z",
     "start_time": "2024-09-03T10:16:36.212610Z"
    }
   },
   "cell_type": "code",
   "source": [
    "for column in df.columns:\n",
    "    # Create RDF triple for Attribute\n",
    "    schema.add((abox[column], RDF.type, tbox.Attribute))\n",
    "    # Create RDF triple for Attribute\n",
    "    schema.add((abox[dataset_name], tbox.hasAttribute, abox[column]))\n",
    "    # rdf for the dataproperty\n",
    "    schema.add((abox[column], tbox.attribute, Literal(column)))\n",
    "\n",
    "\n"
   ],
   "outputs": [],
   "execution_count": 11
  },
  {
   "cell_type": "markdown",
   "source": [
    "## DatasetTypeTemplate"
   ],
   "metadata": {
    "id": "adtA5TxYjTR1"
   }
  },
  {
   "metadata": {},
   "cell_type": "markdown",
   "source": "### Format"
  },
  {
   "cell_type": "code",
   "source": [
    "format = meta_dp.format.values[0]\n",
    "format"
   ],
   "metadata": {
    "id": "fAMZ3dDQk8nv",
    "executionInfo": {
     "status": "ok",
     "timestamp": 1713548476428,
     "user_tz": -120,
     "elapsed": 45,
     "user": {
      "displayName": "Achraf Hmimou",
      "userId": "15223621851022794490"
     }
    },
    "colab": {
     "base_uri": "https://localhost:8080/",
     "height": 35
    },
    "outputId": "abc99a38-a334-4d5f-a214-67d122c480b8",
    "ExecuteTime": {
     "end_time": "2024-09-03T10:16:36.347048Z",
     "start_time": "2024-09-03T10:16:36.323404Z"
    }
   },
   "outputs": [
    {
     "data": {
      "text/plain": [
       "'application/csv'"
      ]
     },
     "execution_count": 12,
     "metadata": {},
     "output_type": "execute_result"
    }
   ],
   "execution_count": 12
  },
  {
   "cell_type": "code",
   "source": [
    "# triple\n",
    "schema.add((abox.Tabular, RDF.type, tbox.DatasetTypeTemplate))\n",
    "\n",
    "# format\n",
    "schema.add((abox.Tabular, dcterms['format'], Literal(format)))  # Correct usage of the namespace\n",
    "\n",
    "# addDTT\n",
    "schema.add((abox[dataset_name], tbox.hasDTT, abox.Tabular))\n"
   ],
   "metadata": {
    "id": "s-TgsXehjVWY",
    "executionInfo": {
     "status": "ok",
     "timestamp": 1713548476429,
     "user_tz": -120,
     "elapsed": 43,
     "user": {
      "displayName": "Achraf Hmimou",
      "userId": "15223621851022794490"
     }
    },
    "ExecuteTime": {
     "end_time": "2024-09-03T10:16:36.440084Z",
     "start_time": "2024-09-03T10:16:36.423112Z"
    }
   },
   "outputs": [
    {
     "data": {
      "text/plain": [
       "<Graph identifier=N65b0dd6ecf454d11b619802f73858263 (<class 'rdflib.graph.Graph'>)>"
      ]
     },
     "execution_count": 13,
     "metadata": {},
     "output_type": "execute_result"
    }
   ],
   "execution_count": 13
  },
  {
   "cell_type": "markdown",
   "source": [
    "### TechnologyAspects"
   ],
   "metadata": {
    "id": "i5_QGqixtaQ2"
   }
  },
  {
   "metadata": {
    "ExecuteTime": {
     "end_time": "2024-09-03T10:16:36.534596Z",
     "start_time": "2024-09-03T10:16:36.509615Z"
    }
   },
   "cell_type": "code",
   "source": [
    "#triple\n",
    "schema.add((abox.TA1, RDF.type, tbox.TechnologyAspects))\n",
    "\n",
    "#  addTA\n",
    "schema.add((abox[dataset_name], tbox.hasTA, abox.TA1))\n",
    "\n",
    "\n",
    "#TYPE\n",
    "\n",
    "acces_uri = generate_unique_uri(abox)\n",
    "\n",
    "schema.add((abox.TA1, tbox.typeAcces, acces_uri))\n",
    "\n",
    "\n",
    "schema.add((acces_uri, RDF.type, tbox.Acces))\n",
    "schema.add((acces_uri, RDFS.label, abox.Static))\n",
    "\n",
    "# PATH\n",
    "schema.add((acces_uri, tbox.path, Literal(data_path)))\n"
   ],
   "outputs": [
    {
     "data": {
      "text/plain": [
       "<Graph identifier=N65b0dd6ecf454d11b619802f73858263 (<class 'rdflib.graph.Graph'>)>"
      ]
     },
     "execution_count": 14,
     "metadata": {},
     "output_type": "execute_result"
    }
   ],
   "execution_count": 14
  },
  {
   "metadata": {},
   "cell_type": "markdown",
   "source": "# SAVE SOURCE_GRAPH"
  },
  {
   "cell_type": "code",
   "source": [
    "rdf_format = \"turtle\"\n",
    "schema.serialize(destination=os.path.join(base_dir, 'Source_Graph_DP1.ttl'), format=rdf_format)"
   ],
   "metadata": {
    "colab": {
     "base_uri": "https://localhost:8080/"
    },
    "id": "_5GS_wogzBRV",
    "executionInfo": {
     "status": "ok",
     "timestamp": 1713548492387,
     "user_tz": -120,
     "elapsed": 841,
     "user": {
      "displayName": "Achraf Hmimou",
      "userId": "15223621851022794490"
     }
    },
    "outputId": "d69f4992-d842-4240-f331-1ce4bf730343",
    "ExecuteTime": {
     "end_time": "2024-09-03T10:16:36.611799Z",
     "start_time": "2024-09-03T10:16:36.586412Z"
    }
   },
   "outputs": [
    {
     "data": {
      "text/plain": [
       "<Graph identifier=N65b0dd6ecf454d11b619802f73858263 (<class 'rdflib.graph.Graph'>)>"
      ]
     },
     "execution_count": 15,
     "metadata": {},
     "output_type": "execute_result"
    }
   ],
   "execution_count": 15
  }
 ]
}
