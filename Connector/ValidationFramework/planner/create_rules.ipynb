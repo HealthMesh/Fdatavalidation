{
 "cells": [
  {
   "metadata": {
    "ExecuteTime": {
     "end_time": "2024-10-17T11:08:29.520351Z",
     "start_time": "2024-10-17T11:08:29.499334Z"
    }
   },
   "cell_type": "code",
   "source": [
    "import os\n",
    "\n",
    "# Get the directory of the current script\n",
    "base_dir = os.getcwd()\n",
    "try:\n",
    "    if folder:\n",
    "        base_dir = os.path.join(base_dir, folder)\n",
    "except:\n",
    "    pass"
   ],
   "id": "5401c9213410fcd9",
   "outputs": [],
   "execution_count": 61
  },
  {
   "metadata": {
    "ExecuteTime": {
     "end_time": "2024-10-17T11:08:29.564049Z",
     "start_time": "2024-10-17T11:08:29.546474Z"
    }
   },
   "cell_type": "code",
   "source": [
    "from rdflib import *\n",
    "import os"
   ],
   "id": "90f2a0f417ddb356",
   "outputs": [],
   "execution_count": 62
  },
  {
   "metadata": {
    "ExecuteTime": {
     "end_time": "2024-10-17T11:08:29.612744Z",
     "start_time": "2024-10-17T11:08:29.604645Z"
    }
   },
   "cell_type": "code",
   "source": [
    "def get_graph():\n",
    "    \n",
    "    g = Graph()\n",
    "    g.bind('tb', 'http://www.semanticweb.org/acraf/ontologies/2024/healthmesh/tbox#')\n",
    "    g.bind('ab', 'http://www.semanticweb.org/acraf/ontologies/2024/healthmesh/abox#')\n",
    "    g.bind('odrl', 'http://www.w3.org/ns/odrl/2/')\n",
    "    \n",
    "    return g"
   ],
   "id": "c0e5827e1dad8f26",
   "outputs": [],
   "execution_count": 63
  },
  {
   "metadata": {
    "ExecuteTime": {
     "end_time": "2024-10-17T11:08:29.721388Z",
     "start_time": "2024-10-17T11:08:29.661914Z"
    }
   },
   "cell_type": "code",
   "source": [
    "contract = Graph()\n",
    "contract.parse(os.path.join(base_dir, '../../../FederatedComputationalGovernance/SemanticDataModel/sdm.ttl'), format=\"ttl\")"
   ],
   "id": "c3bf20206332dfbd",
   "outputs": [
    {
     "data": {
      "text/plain": [
       "<Graph identifier=Nde3566f1203148f8a8b5b5c4274763e3 (<class 'rdflib.graph.Graph'>)>"
      ]
     },
     "execution_count": 64,
     "metadata": {},
     "output_type": "execute_result"
    }
   ],
   "execution_count": 64
  },
  {
   "cell_type": "code",
   "id": "initial_id",
   "metadata": {
    "collapsed": true,
    "ExecuteTime": {
     "end_time": "2024-10-17T11:08:29.867971Z",
     "start_time": "2024-10-17T11:08:29.750121Z"
    }
   },
   "source": [
    "# Define the URI for the specific data product\n",
    "dp = URIRef(\"http://www.semanticweb.org/acraf/ontologies/2024/healthmesh/abox#UPENN-GBM_clinical_info_v2\")\n",
    "pc = URIRef(\"http://www.semanticweb.org/acraf/ontologies/2024/healthmesh/abox#pc4\")\n",
    "\n",
    "\n",
    "select_query = f\"\"\"\n",
    "PREFIX odrl: <http://www.w3.org/ns/odrl/2/>\n",
    "PREFIX tb: <http://www.semanticweb.org/acraf/ontologies/2024/healthmesh/tbox#>\n",
    "PREFIX ab: <http://www.semanticweb.org/acraf/ontologies/2024/healthmesh/abox#>\n",
    "PREFIX rdfs: <http://www.w3.org/2000/01/rdf-schema#>\n",
    "\n",
    "CONSTRUCT {{\n",
    "     ab:OP a tb:Operation ;\n",
    "               tb:hasInput ab:data ;\n",
    "               tb:hasInput ?attribute ;\n",
    "               tb:hasAbstract odrl:Constraint ;\n",
    "               tb:hasOutput ab:boolean .\n",
    "     ab:test tb:nextStep ab:OP.\n",
    "     \n",
    "     ab:OP2 a tb:Operation ;\n",
    "               tb:hasInput ab:data ;\n",
    "               tb:hasInput ?attribute ;\n",
    "               tb:hasAbstract odrl:Constraint ;\n",
    "               tb:hasOutput ab:boolean .\n",
    "     ab:test tb:nextStep ab:OP.\n",
    "     \n",
    "}}\n",
    "WHERE {{\n",
    "    ab:UPENN-GBM_clinical_info_v21csv tb:hasDC ?dc .\n",
    "    ?dc tb:hasPolicy ?policy .\n",
    "    FILTER (?policy = ab:p4)\n",
    "    ?policy a odrl:Policy ;\n",
    "            odrl:prohibition ?prohibition .\n",
    "    ?prohibition odrl:target ?target .\n",
    "    \n",
    "    ?prohibition odrl:constraint ?logicalConstraint .\n",
    "    ?logicalConstraint a odrl:LogicalConstraint ;\n",
    "                       odrl:operator odrl:and ;\n",
    "                       odrl:andConstraints ?constraint1, ?constraint2 .\n",
    "                    \n",
    "    ?constraint2 odrl:leftOperand ?leftOperand2 ;\n",
    "                    odrl:operator ?operator2 .\n",
    "\n",
    "\n",
    "    BIND(?target AS ?attribute)\n",
    "    BIND(IRI(CONCAT(STR(ab:), STRUUID())) AS ?op_uri_1)\n",
    "    BIND(IRI(CONCAT(STR(ab:), STRUUID())) AS ?op_uri_2)\n",
    "}}\n",
    "\n",
    "\"\"\"\n",
    "\n",
    "# Execute the SPARQL SELECT query\n",
    "results = contract.query(select_query)\n",
    "\n",
    "\n",
    "# Create a new graph for the results\n",
    "result_graph = get_graph()\n",
    "\n",
    "# Add the constructed triples to the result graph\n",
    "for triple in results:\n",
    "    result_graph.add(triple)\n",
    "\n",
    "# Print the new triples\n",
    "for triple in result_graph:\n",
    "    print(triple)\n",
    "    \n",
    "    \n",
    "    \n",
    "# Optionally, serialize the modified graph to a file\n",
    "result_graph.serialize(\"test.ttl\", format=\"turtle\")"
   ],
   "outputs": [
    {
     "data": {
      "text/plain": [
       "<Graph identifier=Nbc2afed5c1604d3f826217b6925a72c3 (<class 'rdflib.graph.Graph'>)>"
      ]
     },
     "execution_count": 65,
     "metadata": {},
     "output_type": "execute_result"
    }
   ],
   "execution_count": 65
  }
 ],
 "metadata": {
  "kernelspec": {
   "display_name": "Python 3",
   "language": "python",
   "name": "python3"
  },
  "language_info": {
   "codemirror_mode": {
    "name": "ipython",
    "version": 2
   },
   "file_extension": ".py",
   "mimetype": "text/x-python",
   "name": "python",
   "nbconvert_exporter": "python",
   "pygments_lexer": "ipython2",
   "version": "2.7.6"
  }
 },
 "nbformat": 4,
 "nbformat_minor": 5
}
