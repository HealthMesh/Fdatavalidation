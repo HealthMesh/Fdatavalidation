{
 "cells": [
  {
   "cell_type": "code",
   "id": "initial_id",
   "metadata": {
    "collapsed": true,
    "ExecuteTime": {
     "end_time": "2024-12-13T15:42:44.639167Z",
     "start_time": "2024-12-13T15:42:44.633440Z"
    }
   },
   "source": [
    "\n",
    "import pandas as pd\n",
    "import os\n",
    "import numpy as np\n",
    "import pycaret.classification\n",
    "from pycaret.classification import *\n",
    "#from fairlearn.metrics import demographic_parity_difference, demographic_parity_ratio"
   ],
   "outputs": [],
   "execution_count": 7
  },
  {
   "metadata": {
    "ExecuteTime": {
     "end_time": "2024-12-13T15:42:39.009316Z",
     "start_time": "2024-12-13T15:42:38.898899Z"
    }
   },
   "cell_type": "code",
   "source": "loaded_model = pycaret.classification.load_model(os.path.join('../Data/Explotation', 'model'))",
   "id": "7174b4757fc51604",
   "outputs": [
    {
     "name": "stdout",
     "output_type": "stream",
     "text": [
      "Transformation Pipeline and Model Successfully Loaded\n"
     ]
    }
   ],
   "execution_count": 5
  },
  {
   "metadata": {
    "ExecuteTime": {
     "end_time": "2024-12-13T15:42:40.223355Z",
     "start_time": "2024-12-13T15:42:40.217958Z"
    }
   },
   "cell_type": "code",
   "source": "import fairlearn.metrics",
   "id": "dd5ea8cef4460f64",
   "outputs": [],
   "execution_count": 6
  },
  {
   "metadata": {
    "ExecuteTime": {
     "end_time": "2024-12-13T15:42:53.480985Z",
     "start_time": "2024-12-13T15:42:53.218805Z"
    }
   },
   "cell_type": "code",
   "source": [
    "loaded_model = load_model(os.path.join('../Data/Explotation', 'model'))\n",
    "test_data = pd.read_csv(os.path.join('../Data/Explotation', 'test.csv'))\n",
    "\n",
    "predictions = predict_model(loaded_model, data=test_data)\n",
    "\n",
    "fairness_metrics = {\n",
    "    'demographic_parity_diff':  fairlearn.metrics.demographic_parity_difference(\n",
    "        predictions['target'], \n",
    "        predictions['prediction_label'],  \n",
    "        sensitive_features=predictions['Gender']\n",
    "    ),\n",
    "    'demographic_parity_ratio': fairlearn.metrics.demographic_parity_ratio(\n",
    "        predictions['target'], \n",
    "        predictions['prediction_label'],  \n",
    "        sensitive_features=predictions['Gender']\n",
    "    )\n",
    "}\n",
    "\n",
    "\n",
    "print(\"test: \", demographic_parity_difference(\n",
    "        predictions['target'], \n",
    "        predictions['prediction_label'],  \n",
    "        sensitive_features=predictions['Gender']\n",
    "    ))\n",
    "print(\"\\nFairness Metrics:\")\n",
    "for metric, value in fairness_metrics.items():\n",
    "    print(f\"{metric}: {value:.3f}\")\n",
    "\n",
    "\n",
    "for gender in predictions['Gender'].unique():\n",
    "    gender_data = predictions[predictions['Gender'] == gender]\n",
    "    print(f\"\\nConfusion Matrix for Gender {gender}:\")\n",
    "    from sklearn.metrics import confusion_matrix\n",
    "    print(confusion_matrix(gender_data['target'], gender_data['prediction_label']))"
   ],
   "id": "92cc76d7df149a16",
   "outputs": [
    {
     "name": "stdout",
     "output_type": "stream",
     "text": [
      "Transformation Pipeline and Model Successfully Loaded\n",
      "test:  0.027412280701754388\n",
      "\n",
      "Fairness Metrics:\n",
      "demographic_parity_diff: 0.027\n",
      "demographic_parity_ratio: 0.941\n",
      "\n",
      "Confusion Matrix for Gender M:\n",
      "[[39 16]\n",
      " [22 37]]\n",
      "\n",
      "Confusion Matrix for Gender F:\n",
      "[[30 13]\n",
      " [15 22]]\n"
     ]
    }
   ],
   "execution_count": 9
  },
  {
   "metadata": {
    "ExecuteTime": {
     "end_time": "2024-12-13T15:45:23.930159Z",
     "start_time": "2024-12-13T15:45:23.903082Z"
    }
   },
   "cell_type": "code",
   "source": [
    "float(fairlearn.metrics.demographic_parity_difference(\n",
    "        predictions['target'], \n",
    "        predictions['prediction_label'],  \n",
    "        sensitive_features=predictions['Gender']\n",
    "))\n"
   ],
   "id": "9c52b839f9ac09bd",
   "outputs": [
    {
     "data": {
      "text/plain": [
       "0.027412280701754388"
      ]
     },
     "execution_count": 17,
     "metadata": {},
     "output_type": "execute_result"
    }
   ],
   "execution_count": 17
  }
 ],
 "metadata": {
  "kernelspec": {
   "display_name": "Python 3",
   "language": "python",
   "name": "python3"
  },
  "language_info": {
   "codemirror_mode": {
    "name": "ipython",
    "version": 2
   },
   "file_extension": ".py",
   "mimetype": "text/x-python",
   "name": "python",
   "nbconvert_exporter": "python",
   "pygments_lexer": "ipython2",
   "version": "2.7.6"
  }
 },
 "nbformat": 4,
 "nbformat_minor": 5
}
