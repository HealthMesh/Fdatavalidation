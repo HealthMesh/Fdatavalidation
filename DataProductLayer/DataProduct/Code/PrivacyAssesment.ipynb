{
 "cells": [
  {
   "cell_type": "code",
   "id": "initial_id",
   "metadata": {
    "collapsed": true,
    "ExecuteTime": {
     "end_time": "2024-12-15T07:20:31.117914Z",
     "start_time": "2024-12-15T07:20:31.103538Z"
    }
   },
   "source": [
    "import os\n",
    "import pandas as pd\n",
    "import numpy as np\n",
    "import pandas as pd\n",
    "import numpy as np\n",
    "from sklearn.model_selection import train_test_split\n",
    "from sklearn.ensemble import RandomForestRegressor\n",
    "from sklearn.preprocessing import LabelEncoder\n",
    "from sklearn.metrics import r2_score"
   ],
   "outputs": [],
   "execution_count": 76
  },
  {
   "metadata": {
    "ExecuteTime": {
     "end_time": "2024-12-15T07:20:31.317039Z",
     "start_time": "2024-12-15T07:20:31.165740Z"
    }
   },
   "cell_type": "code",
   "source": [
    "from sklearn.model_selection import train_test_split\n",
    "from sklearn.ensemble import RandomForestClassifier\n",
    "import pandas as pd\n",
    "\n",
    "def quick_privacy_check(df, sensitive_column='Age_at_scan_years'):\n",
    "    privacy_score = (lambda splits: 1 - RandomForestClassifier(n_estimators=10).fit(splits[0], splits[2]).score(splits[1], splits[3]))(train_test_split(pd.get_dummies(df.drop(columns=['Age_at_scan_years']).fillna(0)), df['Age_at_scan_years'] > df['Age_at_scan_years'].median())) * 100\n",
    "    \n",
    "    return privacy_score\n",
    "\n",
    "# Use it\n",
    "df = pd.read_csv('/home/acraf/psr/Fdatavalidation/DataProductLayer/DataProduct/Data/Explotation/UPENN-GBM_clinical_info_v2.1.csv')\n",
    "score = quick_privacy_check(df)\n",
    "print(\"SCOREEEEE\", score)"
   ],
   "id": "1916e9d1888cfb8c",
   "outputs": [
    {
     "name": "stdout",
     "output_type": "stream",
     "text": [
      "SCOREEEEE 50.595238095238095\n"
     ]
    }
   ],
   "execution_count": 77
  }
 ],
 "metadata": {
  "kernelspec": {
   "display_name": "Python 3",
   "language": "python",
   "name": "python3"
  },
  "language_info": {
   "codemirror_mode": {
    "name": "ipython",
    "version": 2
   },
   "file_extension": ".py",
   "mimetype": "text/x-python",
   "name": "python",
   "nbconvert_exporter": "python",
   "pygments_lexer": "ipython2",
   "version": "2.7.6"
  }
 },
 "nbformat": 4,
 "nbformat_minor": 5
}
