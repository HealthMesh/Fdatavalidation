{
 "cells": [
  {
   "cell_type": "code",
   "id": "initial_id",
   "metadata": {
    "collapsed": true,
    "ExecuteTime": {
     "end_time": "2024-05-13T15:45:29.451452Z",
     "start_time": "2024-05-13T15:45:29.446173Z"
    }
   },
   "source": "import ast",
   "execution_count": 1,
   "outputs": []
  },
  {
   "metadata": {
    "ExecuteTime": {
     "end_time": "2024-05-13T15:45:52.850600Z",
     "start_time": "2024-05-13T15:45:52.289406Z"
    }
   },
   "cell_type": "code",
   "source": "import pandas",
   "id": "2d779a14d1719547",
   "execution_count": 2,
   "outputs": []
  },
  {
   "metadata": {},
   "cell_type": "code",
   "execution_count": null,
   "source": "pandas.read_csv(\"data.csv\")",
   "id": "940a232bc2ffe393",
   "outputs": []
  },
  {
   "metadata": {
    "ExecuteTime": {
     "end_time": "2024-05-13T15:46:54.676511Z",
     "start_time": "2024-05-13T15:46:54.672654Z"
    }
   },
   "cell_type": "code",
   "source": "tree = ast.parse('pandas.read_csv(\"data.csv\")')",
   "id": "1e3d419ad9dcaf6",
   "execution_count": 3,
   "outputs": []
  },
  {
   "metadata": {
    "ExecuteTime": {
     "end_time": "2024-05-13T15:46:56.995938Z",
     "start_time": "2024-05-13T15:46:56.990549Z"
    }
   },
   "cell_type": "code",
   "source": "tree",
   "id": "e0301d9cef736e4a",
   "execution_count": 4,
   "outputs": []
  },
  {
   "metadata": {
    "ExecuteTime": {
     "end_time": "2024-05-13T15:48:48.587989Z",
     "start_time": "2024-05-13T15:48:46.128003Z"
    }
   },
   "cell_type": "code",
   "source": "!pip install astor ",
   "id": "fd0bcfd1808472fc",
   "execution_count": 9,
   "outputs": []
  },
  {
   "metadata": {
    "ExecuteTime": {
     "end_time": "2024-05-13T16:21:18.299208Z",
     "start_time": "2024-05-13T16:21:18.289767Z"
    }
   },
   "cell_type": "code",
   "source": [
    "import ast\n",
    "from rdflib import Graph, BNode, Literal, RDF, URIRef\n",
    "\n",
    "def ast_to_rdf(code):\n",
    "    # Parse the code into an AST\n",
    "    tree = ast.parse(code)\n",
    "\n",
    "    # Create a new RDF graph\n",
    "    g = Graph()\n",
    "\n",
    "    # Define a recursive function to traverse the AST and add nodes to the graph\n",
    "    def add_node(node, parent=None):\n",
    "        # Create a new blank node for this AST node\n",
    "        bnode = BNode()\n",
    "\n",
    "        # Add a triple to the graph for this node's type\n",
    "        g.add((bnode, RDF.type, Literal(type(node).__name__)))\n",
    "\n",
    "        # If this node has a parent, add a triple for the parent-child relationship\n",
    "        if parent is not None:\n",
    "            g.add((parent, URIRef('hasChild'), bnode))\n",
    "\n",
    "        # If this node has source code, add a triple for the source code\n",
    "        if hasattr(node, 's'):\n",
    "            g.add((bnode, URIRef('hasSourceCode'), Literal(node.s)))\n",
    "\n",
    "        # Recursively add this node's children to the graph\n",
    "        for child in ast.iter_child_nodes(node):\n",
    "            add_node(child, parent=bnode)\n",
    "\n",
    "    # Add the root of the AST to the graph\n",
    "    add_node(tree)\n",
    "\n",
    "    # Return the RDF graph\n",
    "    return g\n",
    "\n",
    "\n",
    "# Example usage:\n",
    "code = 'pandas.read_csv(p)'\n",
    "g = ast_to_rdf(code)\n",
    "\n",
    "# Print out the triples in the graph\n",
    "for s, p, o in g:\n",
    "    print(s, p, o)"
   ],
   "id": "71f9c94c63980864",
   "execution_count": 21,
   "outputs": []
  },
  {
   "metadata": {
    "ExecuteTime": {
     "end_time": "2024-05-13T16:19:36.917553Z",
     "start_time": "2024-05-13T16:19:34.441Z"
    }
   },
   "cell_type": "code",
   "source": "!pip install pyvis",
   "id": "22f2c23b50582fc1",
   "execution_count": 19,
   "outputs": []
  },
  {
   "metadata": {
    "ExecuteTime": {
     "end_time": "2024-05-13T16:21:33.627581Z",
     "start_time": "2024-05-13T16:21:33.589815Z"
    }
   },
   "cell_type": "code",
   "source": [
    "from pyvis.network import Network\n",
    "import networkx as nx\n",
    "\n",
    "# Create a NetworkX graph from the RDF graph\n",
    "G = nx.Graph()\n",
    "\n",
    "# Add nodes and edges to the NetworkX graph\n",
    "for s, p, o in g:\n",
    "    G.add_edge(str(s), str(o), title=str(p))\n",
    "\n",
    "# Create a PyVis network from the NetworkX graph\n",
    "net = Network(notebook=True)\n",
    "net.from_nx(G)\n",
    "\n",
    "# Show the network\n",
    "net.show(\"graph.html\")"
   ],
   "id": "67447ae06ecd44cb",
   "execution_count": 22,
   "outputs": []
  }
 ],
 "metadata": {
  "kernelspec": {
   "display_name": "Python 3",
   "language": "python",
   "name": "python3"
  },
  "language_info": {
   "codemirror_mode": {
    "name": "ipython",
    "version": 2
   },
   "file_extension": ".py",
   "mimetype": "text/x-python",
   "name": "python",
   "nbconvert_exporter": "python",
   "pygments_lexer": "ipython2",
   "version": "2.7.6"
  }
 },
 "nbformat": 4,
 "nbformat_minor": 5
}
