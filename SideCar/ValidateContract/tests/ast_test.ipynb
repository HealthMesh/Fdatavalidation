{
 "cells": [
  {
   "cell_type": "code",
   "id": "initial_id",
   "metadata": {
    "collapsed": true,
    "ExecuteTime": {
     "end_time": "2024-05-13T15:45:29.451452Z",
     "start_time": "2024-05-13T15:45:29.446173Z"
    }
   },
   "source": "import ast",
   "outputs": [],
   "execution_count": 1
  },
  {
   "metadata": {
    "ExecuteTime": {
     "end_time": "2024-05-13T15:45:52.850600Z",
     "start_time": "2024-05-13T15:45:52.289406Z"
    }
   },
   "cell_type": "code",
   "source": "import pandas",
   "id": "2d779a14d1719547",
   "outputs": [],
   "execution_count": 2
  },
  {
   "metadata": {},
   "cell_type": "code",
   "outputs": [],
   "execution_count": null,
   "source": "pandas.read_csv(\"data.csv\")",
   "id": "940a232bc2ffe393"
  },
  {
   "metadata": {
    "ExecuteTime": {
     "end_time": "2024-05-13T15:46:54.676511Z",
     "start_time": "2024-05-13T15:46:54.672654Z"
    }
   },
   "cell_type": "code",
   "source": "tree = ast.parse('pandas.read_csv(\"data.csv\")')",
   "id": "1e3d419ad9dcaf6",
   "outputs": [],
   "execution_count": 3
  },
  {
   "metadata": {
    "ExecuteTime": {
     "end_time": "2024-05-13T15:46:56.995938Z",
     "start_time": "2024-05-13T15:46:56.990549Z"
    }
   },
   "cell_type": "code",
   "source": "tree",
   "id": "e0301d9cef736e4a",
   "outputs": [
    {
     "data": {
      "text/plain": [
       "<ast.Module at 0x7fdaa0cab640>"
      ]
     },
     "execution_count": 4,
     "metadata": {},
     "output_type": "execute_result"
    }
   ],
   "execution_count": 4
  },
  {
   "metadata": {
    "ExecuteTime": {
     "end_time": "2024-05-13T15:48:48.587989Z",
     "start_time": "2024-05-13T15:48:46.128003Z"
    }
   },
   "cell_type": "code",
   "source": "!pip install astor ",
   "id": "fd0bcfd1808472fc",
   "outputs": [
    {
     "name": "stdout",
     "output_type": "stream",
     "text": [
      "Collecting astor\r\n",
      "  Obtaining dependency information for astor from https://files.pythonhosted.org/packages/c3/88/97eef84f48fa04fbd6750e62dcceafba6c63c81b7ac1420856c8dcc0a3f9/astor-0.8.1-py2.py3-none-any.whl.metadata\r\n",
      "  Downloading astor-0.8.1-py2.py3-none-any.whl.metadata (4.2 kB)\r\n",
      "Downloading astor-0.8.1-py2.py3-none-any.whl (27 kB)\r\n",
      "Installing collected packages: astor\r\n",
      "Successfully installed astor-0.8.1\r\n",
      "\r\n",
      "\u001B[1m[\u001B[0m\u001B[34;49mnotice\u001B[0m\u001B[1;39;49m]\u001B[0m\u001B[39;49m A new release of pip is available: \u001B[0m\u001B[31;49m23.2.1\u001B[0m\u001B[39;49m -> \u001B[0m\u001B[32;49m24.0\u001B[0m\r\n",
      "\u001B[1m[\u001B[0m\u001B[34;49mnotice\u001B[0m\u001B[1;39;49m]\u001B[0m\u001B[39;49m To update, run: \u001B[0m\u001B[32;49mpip install --upgrade pip\u001B[0m\r\n"
     ]
    }
   ],
   "execution_count": 9
  },
  {
   "metadata": {
    "ExecuteTime": {
     "end_time": "2024-05-13T16:21:18.299208Z",
     "start_time": "2024-05-13T16:21:18.289767Z"
    }
   },
   "cell_type": "code",
   "source": [
    "import ast\n",
    "from rdflib import Graph, BNode, Literal, RDF, URIRef\n",
    "\n",
    "def ast_to_rdf(code):\n",
    "    # Parse the code into an AST\n",
    "    tree = ast.parse(code)\n",
    "\n",
    "    # Create a new RDF graph\n",
    "    g = Graph()\n",
    "\n",
    "    # Define a recursive function to traverse the AST and add nodes to the graph\n",
    "    def add_node(node, parent=None):\n",
    "        # Create a new blank node for this AST node\n",
    "        bnode = BNode()\n",
    "\n",
    "        # Add a triple to the graph for this node's type\n",
    "        g.add((bnode, RDF.type, Literal(type(node).__name__)))\n",
    "\n",
    "        # If this node has a parent, add a triple for the parent-child relationship\n",
    "        if parent is not None:\n",
    "            g.add((parent, URIRef('hasChild'), bnode))\n",
    "\n",
    "        # If this node has source code, add a triple for the source code\n",
    "        if hasattr(node, 's'):\n",
    "            g.add((bnode, URIRef('hasSourceCode'), Literal(node.s)))\n",
    "\n",
    "        # Recursively add this node's children to the graph\n",
    "        for child in ast.iter_child_nodes(node):\n",
    "            add_node(child, parent=bnode)\n",
    "\n",
    "    # Add the root of the AST to the graph\n",
    "    add_node(tree)\n",
    "\n",
    "    # Return the RDF graph\n",
    "    return g\n",
    "\n",
    "\n",
    "# Example usage:\n",
    "code = 'pandas.read_csv(p)'\n",
    "g = ast_to_rdf(code)\n",
    "\n",
    "# Print out the triples in the graph\n",
    "for s, p, o in g:\n",
    "    print(s, p, o)"
   ],
   "id": "71f9c94c63980864",
   "outputs": [
    {
     "name": "stdout",
     "output_type": "stream",
     "text": [
      "Naebb0992ce044fd0b51a27bb59d4386b hasChild Ndbb5f82cd2394b33a9154bae6d05df41\n",
      "N95a5667e6fe845b4b35e3f0ccca2c674 hasChild N59ea517bc5ed455aa37b659006756ac1\n",
      "N59ea517bc5ed455aa37b659006756ac1 hasChild Na22c62df4637416d89dfb258e16a5ef0\n",
      "Nbd53d7fe6db540b6958047a43c5362b3 hasChild N95a5667e6fe845b4b35e3f0ccca2c674\n",
      "N6002c9fb7f3643dea3b1cc2fbdff8296 hasChild Nbd53d7fe6db540b6958047a43c5362b3\n",
      "N95a5667e6fe845b4b35e3f0ccca2c674 hasChild Naebb0992ce044fd0b51a27bb59d4386b\n",
      "Naebb0992ce044fd0b51a27bb59d4386b http://www.w3.org/1999/02/22-rdf-syntax-ns#type Name\n",
      "N59ea517bc5ed455aa37b659006756ac1 hasChild N6a619ba8f31f44888227e306ca613c94\n",
      "N6002c9fb7f3643dea3b1cc2fbdff8296 http://www.w3.org/1999/02/22-rdf-syntax-ns#type Module\n",
      "Ndbb5f82cd2394b33a9154bae6d05df41 http://www.w3.org/1999/02/22-rdf-syntax-ns#type Load\n",
      "N8c56957576814b9fae63ef631bdd38ed http://www.w3.org/1999/02/22-rdf-syntax-ns#type Load\n",
      "Na22c62df4637416d89dfb258e16a5ef0 http://www.w3.org/1999/02/22-rdf-syntax-ns#type Name\n",
      "Na22c62df4637416d89dfb258e16a5ef0 hasChild N8c56957576814b9fae63ef631bdd38ed\n",
      "N59ea517bc5ed455aa37b659006756ac1 http://www.w3.org/1999/02/22-rdf-syntax-ns#type Attribute\n",
      "N95a5667e6fe845b4b35e3f0ccca2c674 http://www.w3.org/1999/02/22-rdf-syntax-ns#type Call\n",
      "N6a619ba8f31f44888227e306ca613c94 http://www.w3.org/1999/02/22-rdf-syntax-ns#type Load\n",
      "Nbd53d7fe6db540b6958047a43c5362b3 http://www.w3.org/1999/02/22-rdf-syntax-ns#type Expr\n"
     ]
    }
   ],
   "execution_count": 21
  },
  {
   "metadata": {
    "ExecuteTime": {
     "end_time": "2024-05-13T16:19:36.917553Z",
     "start_time": "2024-05-13T16:19:34.441Z"
    }
   },
   "cell_type": "code",
   "source": "!pip install pyvis",
   "id": "22f2c23b50582fc1",
   "outputs": [
    {
     "name": "stdout",
     "output_type": "stream",
     "text": [
      "Requirement already satisfied: pyvis in /home/acraf/psr/tfm/Prototype/venv/lib/python3.11/site-packages (0.3.2)\r\n",
      "Requirement already satisfied: ipython>=5.3.0 in /home/acraf/psr/tfm/Prototype/venv/lib/python3.11/site-packages (from pyvis) (8.23.0)\r\n",
      "Requirement already satisfied: jinja2>=2.9.6 in /home/acraf/psr/tfm/Prototype/venv/lib/python3.11/site-packages (from pyvis) (3.1.3)\r\n",
      "Requirement already satisfied: jsonpickle>=1.4.1 in /home/acraf/psr/tfm/Prototype/venv/lib/python3.11/site-packages (from pyvis) (3.0.4)\r\n",
      "Requirement already satisfied: networkx>=1.11 in /home/acraf/psr/tfm/Prototype/venv/lib/python3.11/site-packages (from pyvis) (3.3)\r\n",
      "Requirement already satisfied: decorator in /home/acraf/psr/tfm/Prototype/venv/lib/python3.11/site-packages (from ipython>=5.3.0->pyvis) (5.1.1)\r\n",
      "Requirement already satisfied: jedi>=0.16 in /home/acraf/psr/tfm/Prototype/venv/lib/python3.11/site-packages (from ipython>=5.3.0->pyvis) (0.19.1)\r\n",
      "Requirement already satisfied: matplotlib-inline in /home/acraf/psr/tfm/Prototype/venv/lib/python3.11/site-packages (from ipython>=5.3.0->pyvis) (0.1.7)\r\n",
      "Requirement already satisfied: prompt-toolkit<3.1.0,>=3.0.41 in /home/acraf/psr/tfm/Prototype/venv/lib/python3.11/site-packages (from ipython>=5.3.0->pyvis) (3.0.43)\r\n",
      "Requirement already satisfied: pygments>=2.4.0 in /home/acraf/psr/tfm/Prototype/venv/lib/python3.11/site-packages (from ipython>=5.3.0->pyvis) (2.17.2)\r\n",
      "Requirement already satisfied: stack-data in /home/acraf/psr/tfm/Prototype/venv/lib/python3.11/site-packages (from ipython>=5.3.0->pyvis) (0.6.3)\r\n",
      "Requirement already satisfied: traitlets>=5.13.0 in /home/acraf/psr/tfm/Prototype/venv/lib/python3.11/site-packages (from ipython>=5.3.0->pyvis) (5.14.3)\r\n",
      "Requirement already satisfied: typing-extensions in /home/acraf/psr/tfm/Prototype/venv/lib/python3.11/site-packages (from ipython>=5.3.0->pyvis) (4.11.0)\r\n",
      "Requirement already satisfied: pexpect>4.3 in /home/acraf/psr/tfm/Prototype/venv/lib/python3.11/site-packages (from ipython>=5.3.0->pyvis) (4.9.0)\r\n",
      "Requirement already satisfied: MarkupSafe>=2.0 in /home/acraf/psr/tfm/Prototype/venv/lib/python3.11/site-packages (from jinja2>=2.9.6->pyvis) (2.1.5)\r\n",
      "Requirement already satisfied: parso<0.9.0,>=0.8.3 in /home/acraf/psr/tfm/Prototype/venv/lib/python3.11/site-packages (from jedi>=0.16->ipython>=5.3.0->pyvis) (0.8.4)\r\n",
      "Requirement already satisfied: ptyprocess>=0.5 in /home/acraf/psr/tfm/Prototype/venv/lib/python3.11/site-packages (from pexpect>4.3->ipython>=5.3.0->pyvis) (0.7.0)\r\n",
      "Requirement already satisfied: wcwidth in /home/acraf/psr/tfm/Prototype/venv/lib/python3.11/site-packages (from prompt-toolkit<3.1.0,>=3.0.41->ipython>=5.3.0->pyvis) (0.2.13)\r\n",
      "Requirement already satisfied: executing>=1.2.0 in /home/acraf/psr/tfm/Prototype/venv/lib/python3.11/site-packages (from stack-data->ipython>=5.3.0->pyvis) (2.0.1)\r\n",
      "Requirement already satisfied: asttokens>=2.1.0 in /home/acraf/psr/tfm/Prototype/venv/lib/python3.11/site-packages (from stack-data->ipython>=5.3.0->pyvis) (2.4.1)\r\n",
      "Requirement already satisfied: pure-eval in /home/acraf/psr/tfm/Prototype/venv/lib/python3.11/site-packages (from stack-data->ipython>=5.3.0->pyvis) (0.2.2)\r\n",
      "Requirement already satisfied: six>=1.12.0 in /home/acraf/psr/tfm/Prototype/venv/lib/python3.11/site-packages (from asttokens>=2.1.0->stack-data->ipython>=5.3.0->pyvis) (1.16.0)\r\n",
      "\r\n",
      "\u001B[1m[\u001B[0m\u001B[34;49mnotice\u001B[0m\u001B[1;39;49m]\u001B[0m\u001B[39;49m A new release of pip is available: \u001B[0m\u001B[31;49m23.2.1\u001B[0m\u001B[39;49m -> \u001B[0m\u001B[32;49m24.0\u001B[0m\r\n",
      "\u001B[1m[\u001B[0m\u001B[34;49mnotice\u001B[0m\u001B[1;39;49m]\u001B[0m\u001B[39;49m To update, run: \u001B[0m\u001B[32;49mpip install --upgrade pip\u001B[0m\r\n"
     ]
    }
   ],
   "execution_count": 19
  },
  {
   "metadata": {
    "ExecuteTime": {
     "end_time": "2024-05-13T16:21:33.627581Z",
     "start_time": "2024-05-13T16:21:33.589815Z"
    }
   },
   "cell_type": "code",
   "source": [
    "from pyvis.network import Network\n",
    "import networkx as nx\n",
    "\n",
    "# Create a NetworkX graph from the RDF graph\n",
    "G = nx.Graph()\n",
    "\n",
    "# Add nodes and edges to the NetworkX graph\n",
    "for s, p, o in g:\n",
    "    G.add_edge(str(s), str(o), title=str(p))\n",
    "\n",
    "# Create a PyVis network from the NetworkX graph\n",
    "net = Network(notebook=True)\n",
    "net.from_nx(G)\n",
    "\n",
    "# Show the network\n",
    "net.show(\"graph.html\")"
   ],
   "id": "67447ae06ecd44cb",
   "outputs": [
    {
     "name": "stdout",
     "output_type": "stream",
     "text": [
      "Warning: When  cdn_resources is 'local' jupyter notebook has issues displaying graphics on chrome/safari. Use cdn_resources='in_line' or cdn_resources='remote' if you have issues viewing graphics in a notebook.\n",
      "graph.html\n"
     ]
    },
    {
     "data": {
      "text/plain": [
       "<IPython.lib.display.IFrame at 0x7fdab36b2b90>"
      ],
      "text/html": [
       "\n",
       "        <iframe\n",
       "            width=\"100%\"\n",
       "            height=\"600px\"\n",
       "            src=\"graph.html\"\n",
       "            frameborder=\"0\"\n",
       "            allowfullscreen\n",
       "            \n",
       "        ></iframe>\n",
       "        "
      ]
     },
     "execution_count": 22,
     "metadata": {},
     "output_type": "execute_result"
    }
   ],
   "execution_count": 22
  }
 ],
 "metadata": {
  "kernelspec": {
   "display_name": "Python 3",
   "language": "python",
   "name": "python3"
  },
  "language_info": {
   "codemirror_mode": {
    "name": "ipython",
    "version": 2
   },
   "file_extension": ".py",
   "mimetype": "text/x-python",
   "name": "python",
   "nbconvert_exporter": "python",
   "pygments_lexer": "ipython2",
   "version": "2.7.6"
  }
 },
 "nbformat": 4,
 "nbformat_minor": 5
}
