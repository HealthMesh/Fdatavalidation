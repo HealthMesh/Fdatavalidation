{
 "cells": [
  {
   "metadata": {
    "ExecuteTime": {
     "end_time": "2024-05-13T15:55:04.066311Z",
     "start_time": "2024-05-13T15:54:57.033467Z"
    }
   },
   "cell_type": "code",
   "source": [
    "!pip install pyvis\n",
    "!pip install rdflib\n",
    "!pip install networkx"
   ],
   "id": "8812744f4b54f545",
   "execution_count": 1,
   "outputs": []
  },
  {
   "metadata": {
    "ExecuteTime": {
     "end_time": "2024-05-13T15:55:47.864357Z",
     "start_time": "2024-05-13T15:55:47.861333Z"
    }
   },
   "cell_type": "code",
   "source": [
    "from rdflib import *\n",
    "import pyvis\n",
    "import networkx"
   ],
   "id": "266faae8e515b425",
   "execution_count": 5,
   "outputs": []
  },
  {
   "metadata": {
    "ExecuteTime": {
     "end_time": "2024-05-13T15:55:49.957699Z",
     "start_time": "2024-05-13T15:55:49.940167Z"
    }
   },
   "cell_type": "code",
   "source": "pc = Graph().parse(\"/home/acraf/psr/tfm/Prototype/SideCar/ValidateContract/parser/pc_p1.ttl\", format=\"ttl\")",
   "id": "53c1163d5c270b7d",
   "execution_count": 6,
   "outputs": []
  },
  {
   "metadata": {
    "ExecuteTime": {
     "end_time": "2024-05-13T16:01:05.291231Z",
     "start_time": "2024-05-13T16:01:05.254966Z"
    }
   },
   "cell_type": "code",
   "source": [
    "def get_color_based_on_namespace(node):\n",
    "    # Define your namespaces and corresponding colors here\n",
    "    namespace_colors = {\n",
    "        \"http://www.w3.org/ns/odrl/2/\": \"green\",\n",
    "    }\n",
    "\n",
    "    # Default color if no namespace match\n",
    "    default_color = \"grey\"\n",
    "\n",
    "    for namespace, color in namespace_colors.items():\n",
    "        if str(node).startswith(namespace):\n",
    "            return color\n",
    "\n",
    "    return default_color"
   ],
   "id": "7bb540f0b0d3d1df",
   "execution_count": 9,
   "outputs": []
  },
  {
   "cell_type": "code",
   "id": "initial_id",
   "metadata": {
    "collapsed": true,
    "ExecuteTime": {
     "end_time": "2024-05-13T16:02:55.421556Z",
     "start_time": "2024-05-13T16:02:55.379894Z"
    }
   },
   "source": [
    "from pyvis.network import Network\n",
    "import networkx as nx\n",
    "\n",
    "# Create a NetworkX graph from the RDF graph\n",
    "G = nx.Graph()\n",
    "\n",
    "# Add nodes and edges to the NetworkX graph\n",
    "for s, p, o in pc:\n",
    "    color_s = get_color_based_on_namespace(s)\n",
    "    color_o = get_color_based_on_namespace(o)\n",
    "    G.add_node(str(s), color=color_s)\n",
    "    G.add_node(str(o), color=color_o)\n",
    "    G.add_edge(str(s), str(o), title=str(p))\n",
    "\n",
    "# Create a PyVis network from the NetworkX graph\n",
    "net = Network(notebook=True)\n",
    "net.from_nx(G)\n",
    "\n",
    "for node in net.nodes:\n",
    "    node[\"color\"] = G.nodes[node[\"id\"]][\"color\"]\n",
    "\n",
    "# Show the network\n",
    "net.show(\"graph.html\")"
   ],
   "execution_count": 12,
   "outputs": []
  },
  {
   "metadata": {
    "ExecuteTime": {
     "end_time": "2024-05-13T16:01:45.294474Z",
     "start_time": "2024-05-13T16:01:45.291190Z"
    }
   },
   "cell_type": "code",
   "source": "",
   "id": "6bb573eafb3a88a4",
   "execution_count": 10,
   "outputs": []
  },
  {
   "metadata": {},
   "cell_type": "code",
   "execution_count": null,
   "source": "",
   "id": "a3549cf2ae7cab9f",
   "outputs": []
  }
 ],
 "metadata": {
  "kernelspec": {
   "display_name": "Python 3",
   "language": "python",
   "name": "python3"
  },
  "language_info": {
   "codemirror_mode": {
    "name": "ipython",
    "version": 2
   },
   "file_extension": ".py",
   "mimetype": "text/x-python",
   "name": "python",
   "nbconvert_exporter": "python",
   "pygments_lexer": "ipython2",
   "version": "2.7.6"
  }
 },
 "nbformat": 4,
 "nbformat_minor": 5
}
