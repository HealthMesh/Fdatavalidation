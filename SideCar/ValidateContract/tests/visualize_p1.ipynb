{
 "cells": [
  {
   "metadata": {
    "ExecuteTime": {
     "end_time": "2024-05-13T15:55:04.066311Z",
     "start_time": "2024-05-13T15:54:57.033467Z"
    }
   },
   "cell_type": "code",
   "source": [
    "!pip install pyvis\n",
    "!pip install rdflib\n",
    "!pip install networkx"
   ],
   "id": "8812744f4b54f545",
   "outputs": [
    {
     "name": "stdout",
     "output_type": "stream",
     "text": [
      "Requirement already satisfied: pyvis in /home/acraf/psr/tfm/Prototype/venv/lib/python3.11/site-packages (0.3.2)\r\n",
      "Requirement already satisfied: ipython>=5.3.0 in /home/acraf/psr/tfm/Prototype/venv/lib/python3.11/site-packages (from pyvis) (8.23.0)\r\n",
      "Requirement already satisfied: jinja2>=2.9.6 in /home/acraf/psr/tfm/Prototype/venv/lib/python3.11/site-packages (from pyvis) (3.1.3)\r\n",
      "Requirement already satisfied: jsonpickle>=1.4.1 in /home/acraf/psr/tfm/Prototype/venv/lib/python3.11/site-packages (from pyvis) (3.0.4)\r\n",
      "Requirement already satisfied: networkx>=1.11 in /home/acraf/psr/tfm/Prototype/venv/lib/python3.11/site-packages (from pyvis) (3.3)\r\n",
      "Requirement already satisfied: decorator in /home/acraf/psr/tfm/Prototype/venv/lib/python3.11/site-packages (from ipython>=5.3.0->pyvis) (5.1.1)\r\n",
      "Requirement already satisfied: jedi>=0.16 in /home/acraf/psr/tfm/Prototype/venv/lib/python3.11/site-packages (from ipython>=5.3.0->pyvis) (0.19.1)\r\n",
      "Requirement already satisfied: matplotlib-inline in /home/acraf/psr/tfm/Prototype/venv/lib/python3.11/site-packages (from ipython>=5.3.0->pyvis) (0.1.7)\r\n",
      "Requirement already satisfied: prompt-toolkit<3.1.0,>=3.0.41 in /home/acraf/psr/tfm/Prototype/venv/lib/python3.11/site-packages (from ipython>=5.3.0->pyvis) (3.0.43)\r\n",
      "Requirement already satisfied: pygments>=2.4.0 in /home/acraf/psr/tfm/Prototype/venv/lib/python3.11/site-packages (from ipython>=5.3.0->pyvis) (2.17.2)\r\n",
      "Requirement already satisfied: stack-data in /home/acraf/psr/tfm/Prototype/venv/lib/python3.11/site-packages (from ipython>=5.3.0->pyvis) (0.6.3)\r\n",
      "Requirement already satisfied: traitlets>=5.13.0 in /home/acraf/psr/tfm/Prototype/venv/lib/python3.11/site-packages (from ipython>=5.3.0->pyvis) (5.14.3)\r\n",
      "Requirement already satisfied: typing-extensions in /home/acraf/psr/tfm/Prototype/venv/lib/python3.11/site-packages (from ipython>=5.3.0->pyvis) (4.11.0)\r\n",
      "Requirement already satisfied: pexpect>4.3 in /home/acraf/psr/tfm/Prototype/venv/lib/python3.11/site-packages (from ipython>=5.3.0->pyvis) (4.9.0)\r\n",
      "Requirement already satisfied: MarkupSafe>=2.0 in /home/acraf/psr/tfm/Prototype/venv/lib/python3.11/site-packages (from jinja2>=2.9.6->pyvis) (2.1.5)\r\n",
      "Requirement already satisfied: parso<0.9.0,>=0.8.3 in /home/acraf/psr/tfm/Prototype/venv/lib/python3.11/site-packages (from jedi>=0.16->ipython>=5.3.0->pyvis) (0.8.4)\r\n",
      "Requirement already satisfied: ptyprocess>=0.5 in /home/acraf/psr/tfm/Prototype/venv/lib/python3.11/site-packages (from pexpect>4.3->ipython>=5.3.0->pyvis) (0.7.0)\r\n",
      "Requirement already satisfied: wcwidth in /home/acraf/psr/tfm/Prototype/venv/lib/python3.11/site-packages (from prompt-toolkit<3.1.0,>=3.0.41->ipython>=5.3.0->pyvis) (0.2.13)\r\n",
      "Requirement already satisfied: executing>=1.2.0 in /home/acraf/psr/tfm/Prototype/venv/lib/python3.11/site-packages (from stack-data->ipython>=5.3.0->pyvis) (2.0.1)\r\n",
      "Requirement already satisfied: asttokens>=2.1.0 in /home/acraf/psr/tfm/Prototype/venv/lib/python3.11/site-packages (from stack-data->ipython>=5.3.0->pyvis) (2.4.1)\r\n",
      "Requirement already satisfied: pure-eval in /home/acraf/psr/tfm/Prototype/venv/lib/python3.11/site-packages (from stack-data->ipython>=5.3.0->pyvis) (0.2.2)\r\n",
      "Requirement already satisfied: six>=1.12.0 in /home/acraf/psr/tfm/Prototype/venv/lib/python3.11/site-packages (from asttokens>=2.1.0->stack-data->ipython>=5.3.0->pyvis) (1.16.0)\r\n",
      "\r\n",
      "\u001B[1m[\u001B[0m\u001B[34;49mnotice\u001B[0m\u001B[1;39;49m]\u001B[0m\u001B[39;49m A new release of pip is available: \u001B[0m\u001B[31;49m23.2.1\u001B[0m\u001B[39;49m -> \u001B[0m\u001B[32;49m24.0\u001B[0m\r\n",
      "\u001B[1m[\u001B[0m\u001B[34;49mnotice\u001B[0m\u001B[1;39;49m]\u001B[0m\u001B[39;49m To update, run: \u001B[0m\u001B[32;49mpip install --upgrade pip\u001B[0m\r\n",
      "Requirement already satisfied: rdflib in /home/acraf/psr/tfm/Prototype/venv/lib/python3.11/site-packages (7.0.0)\r\n",
      "Requirement already satisfied: isodate<0.7.0,>=0.6.0 in /home/acraf/psr/tfm/Prototype/venv/lib/python3.11/site-packages (from rdflib) (0.6.1)\r\n",
      "Requirement already satisfied: pyparsing<4,>=2.1.0 in /home/acraf/psr/tfm/Prototype/venv/lib/python3.11/site-packages (from rdflib) (3.1.2)\r\n",
      "Requirement already satisfied: six in /home/acraf/psr/tfm/Prototype/venv/lib/python3.11/site-packages (from isodate<0.7.0,>=0.6.0->rdflib) (1.16.0)\r\n",
      "\r\n",
      "\u001B[1m[\u001B[0m\u001B[34;49mnotice\u001B[0m\u001B[1;39;49m]\u001B[0m\u001B[39;49m A new release of pip is available: \u001B[0m\u001B[31;49m23.2.1\u001B[0m\u001B[39;49m -> \u001B[0m\u001B[32;49m24.0\u001B[0m\r\n",
      "\u001B[1m[\u001B[0m\u001B[34;49mnotice\u001B[0m\u001B[1;39;49m]\u001B[0m\u001B[39;49m To update, run: \u001B[0m\u001B[32;49mpip install --upgrade pip\u001B[0m\r\n",
      "Requirement already satisfied: networkx in /home/acraf/psr/tfm/Prototype/venv/lib/python3.11/site-packages (3.3)\r\n",
      "\r\n",
      "\u001B[1m[\u001B[0m\u001B[34;49mnotice\u001B[0m\u001B[1;39;49m]\u001B[0m\u001B[39;49m A new release of pip is available: \u001B[0m\u001B[31;49m23.2.1\u001B[0m\u001B[39;49m -> \u001B[0m\u001B[32;49m24.0\u001B[0m\r\n",
      "\u001B[1m[\u001B[0m\u001B[34;49mnotice\u001B[0m\u001B[1;39;49m]\u001B[0m\u001B[39;49m To update, run: \u001B[0m\u001B[32;49mpip install --upgrade pip\u001B[0m\r\n"
     ]
    }
   ],
   "execution_count": 1
  },
  {
   "metadata": {
    "ExecuteTime": {
     "end_time": "2024-05-13T15:55:47.864357Z",
     "start_time": "2024-05-13T15:55:47.861333Z"
    }
   },
   "cell_type": "code",
   "source": [
    "from rdflib import *\n",
    "import pyvis\n",
    "import networkx"
   ],
   "id": "266faae8e515b425",
   "outputs": [],
   "execution_count": 5
  },
  {
   "metadata": {
    "ExecuteTime": {
     "end_time": "2024-05-13T15:55:49.957699Z",
     "start_time": "2024-05-13T15:55:49.940167Z"
    }
   },
   "cell_type": "code",
   "source": "pc = Graph().parse(\"/home/acraf/psr/tfm/Prototype/SideCar/ValidateContract/parser/pc_p1.ttl\", format=\"ttl\")",
   "id": "53c1163d5c270b7d",
   "outputs": [],
   "execution_count": 6
  },
  {
   "metadata": {
    "ExecuteTime": {
     "end_time": "2024-05-13T16:01:05.291231Z",
     "start_time": "2024-05-13T16:01:05.254966Z"
    }
   },
   "cell_type": "code",
   "source": [
    "def get_color_based_on_namespace(node):\n",
    "    # Define your namespaces and corresponding colors here\n",
    "    namespace_colors = {\n",
    "        \"http://www.w3.org/ns/odrl/2/\": \"green\",\n",
    "    }\n",
    "\n",
    "    # Default color if no namespace match\n",
    "    default_color = \"grey\"\n",
    "\n",
    "    for namespace, color in namespace_colors.items():\n",
    "        if str(node).startswith(namespace):\n",
    "            return color\n",
    "\n",
    "    return default_color"
   ],
   "id": "7bb540f0b0d3d1df",
   "outputs": [],
   "execution_count": 9
  },
  {
   "cell_type": "code",
   "id": "initial_id",
   "metadata": {
    "collapsed": true,
    "ExecuteTime": {
     "end_time": "2024-05-13T16:02:55.421556Z",
     "start_time": "2024-05-13T16:02:55.379894Z"
    }
   },
   "source": [
    "from pyvis.network import Network\n",
    "import networkx as nx\n",
    "\n",
    "# Create a NetworkX graph from the RDF graph\n",
    "G = nx.Graph()\n",
    "\n",
    "# Add nodes and edges to the NetworkX graph\n",
    "for s, p, o in pc:\n",
    "    color_s = get_color_based_on_namespace(s)\n",
    "    color_o = get_color_based_on_namespace(o)\n",
    "    G.add_node(str(s), color=color_s)\n",
    "    G.add_node(str(o), color=color_o)\n",
    "    G.add_edge(str(s), str(o), title=str(p))\n",
    "\n",
    "# Create a PyVis network from the NetworkX graph\n",
    "net = Network(notebook=True)\n",
    "net.from_nx(G)\n",
    "\n",
    "for node in net.nodes:\n",
    "    node[\"color\"] = G.nodes[node[\"id\"]][\"color\"]\n",
    "\n",
    "# Show the network\n",
    "net.show(\"graph.html\")"
   ],
   "outputs": [
    {
     "name": "stdout",
     "output_type": "stream",
     "text": [
      "Warning: When  cdn_resources is 'local' jupyter notebook has issues displaying graphics on chrome/safari. Use cdn_resources='in_line' or cdn_resources='remote' if you have issues viewing graphics in a notebook.\n",
      "graph.html\n"
     ]
    },
    {
     "data": {
      "text/plain": [
       "<IPython.lib.display.IFrame at 0x7f89ba73cf50>"
      ],
      "text/html": [
       "\n",
       "        <iframe\n",
       "            width=\"100%\"\n",
       "            height=\"600px\"\n",
       "            src=\"graph.html\"\n",
       "            frameborder=\"0\"\n",
       "            allowfullscreen\n",
       "            \n",
       "        ></iframe>\n",
       "        "
      ]
     },
     "execution_count": 12,
     "metadata": {},
     "output_type": "execute_result"
    }
   ],
   "execution_count": 12
  },
  {
   "metadata": {
    "ExecuteTime": {
     "end_time": "2024-05-13T16:01:45.294474Z",
     "start_time": "2024-05-13T16:01:45.291190Z"
    }
   },
   "cell_type": "code",
   "source": "",
   "id": "6bb573eafb3a88a4",
   "outputs": [],
   "execution_count": 10
  },
  {
   "metadata": {},
   "cell_type": "code",
   "outputs": [],
   "execution_count": null,
   "source": "",
   "id": "a3549cf2ae7cab9f"
  }
 ],
 "metadata": {
  "kernelspec": {
   "display_name": "Python 3",
   "language": "python",
   "name": "python3"
  },
  "language_info": {
   "codemirror_mode": {
    "name": "ipython",
    "version": 2
   },
   "file_extension": ".py",
   "mimetype": "text/x-python",
   "name": "python",
   "nbconvert_exporter": "python",
   "pygments_lexer": "ipython2",
   "version": "2.7.6"
  }
 },
 "nbformat": 4,
 "nbformat_minor": 5
}
