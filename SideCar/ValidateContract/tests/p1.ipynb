{
 "cells": [
  {
   "metadata": {
    "ExecuteTime": {
     "end_time": "2024-05-06T19:33:41.008279Z",
     "start_time": "2024-05-06T19:33:40.997708Z"
    }
   },
   "cell_type": "code",
   "source": "import pandas as pd",
   "id": "995ec373677e117e",
   "outputs": [],
   "execution_count": 75
  },
  {
   "metadata": {
    "ExecuteTime": {
     "end_time": "2024-05-06T19:33:39.199519Z",
     "start_time": "2024-05-06T19:33:39.190787Z"
    }
   },
   "cell_type": "code",
   "source": [
    "def Imp1(p):\n",
    "    return pd.read_csv(p)"
   ],
   "id": "c3199d187b491282",
   "outputs": [],
   "execution_count": 74
  },
  {
   "metadata": {
    "ExecuteTime": {
     "end_time": "2024-05-06T19:33:37.489909Z",
     "start_time": "2024-05-06T19:33:37.475895Z"
    }
   },
   "cell_type": "code",
   "source": [
    "def Imp2(p):\n",
    "    def decorator(func):\n",
    "        def wrapper(*args, **kwargs):\n",
    "            data = func(*args, **kwargs)  \n",
    "            return data[p].isna().any()\n",
    "        return wrapper\n",
    "    return decorator"
   ],
   "id": "a649a65e3e5e50d",
   "outputs": [],
   "execution_count": 73
  },
  {
   "metadata": {
    "ExecuteTime": {
     "end_time": "2024-05-06T19:33:42.754629Z",
     "start_time": "2024-05-06T19:33:42.744324Z"
    }
   },
   "cell_type": "code",
   "source": "p=\"ID\"",
   "id": "50e146dd245a6100",
   "outputs": [],
   "execution_count": 76
  },
  {
   "metadata": {
    "ExecuteTime": {
     "end_time": "2024-05-06T19:33:44.521264Z",
     "start_time": "2024-05-06T19:33:44.509503Z"
    }
   },
   "cell_type": "code",
   "source": [
    "@Imp2(p)\n",
    "def Imp1(p):\n",
    "    return pd.read_csv(p)\n"
   ],
   "id": "2d2e9774649fac4f",
   "outputs": [],
   "execution_count": 77
  },
  {
   "metadata": {
    "ExecuteTime": {
     "end_time": "2024-05-06T19:33:46.131718Z",
     "start_time": "2024-05-06T19:33:46.093396Z"
    }
   },
   "cell_type": "code",
   "source": "Imp1(\"/home/acraf/psr/tfm/Prototype/DataProduct/Data/Explotation/UPENN-GBM_clinical_info_v2.1.csv\")",
   "id": "bafa0df639b177ce",
   "outputs": [
    {
     "data": {
      "text/plain": [
       "False"
      ]
     },
     "execution_count": 78,
     "metadata": {},
     "output_type": "execute_result"
    }
   ],
   "execution_count": 78
  }
 ],
 "metadata": {
  "kernelspec": {
   "display_name": "Python 3",
   "language": "python",
   "name": "python3"
  },
  "language_info": {
   "codemirror_mode": {
    "name": "ipython",
    "version": 2
   },
   "file_extension": ".py",
   "mimetype": "text/x-python",
   "name": "python",
   "nbconvert_exporter": "python",
   "pygments_lexer": "ipython2",
   "version": "2.7.6"
  }
 },
 "nbformat": 4,
 "nbformat_minor": 5
}
