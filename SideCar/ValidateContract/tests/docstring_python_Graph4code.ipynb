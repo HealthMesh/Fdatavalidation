{
 "cells": [
  {
   "cell_type": "code",
   "id": "initial_id",
   "metadata": {
    "collapsed": true,
    "ExecuteTime": {
     "end_time": "2024-05-14T08:44:38.680838Z",
     "start_time": "2024-05-14T08:44:38.670105Z"
    }
   },
   "source": "from rdflib import * ",
   "outputs": [],
   "execution_count": 15
  },
  {
   "metadata": {
    "ExecuteTime": {
     "end_time": "2024-05-14T08:44:40.975863Z",
     "start_time": "2024-05-14T08:44:40.916607Z"
    }
   },
   "cell_type": "code",
   "source": "g = Graph().parse('docstrings_sample.nq', format='nquads')",
   "id": "7b453767f320fdb2",
   "outputs": [],
   "execution_count": 16
  },
  {
   "metadata": {
    "ExecuteTime": {
     "end_time": "2024-05-14T08:44:52.690054Z",
     "start_time": "2024-05-14T08:44:52.682883Z"
    }
   },
   "cell_type": "code",
   "source": "g.serialize(destination='docstrings_sample.ttl', format='turtle')",
   "id": "ee94844dfcee4e72",
   "outputs": [
    {
     "data": {
      "text/plain": [
       "<Graph identifier=N817e68834126451b9dcca214662f18cc (<class 'rdflib.graph.Graph'>)>"
      ]
     },
     "execution_count": 18,
     "metadata": {},
     "output_type": "execute_result"
    }
   ],
   "execution_count": 18
  }
 ],
 "metadata": {
  "kernelspec": {
   "display_name": "Python 3",
   "language": "python",
   "name": "python3"
  },
  "language_info": {
   "codemirror_mode": {
    "name": "ipython",
    "version": 2
   },
   "file_extension": ".py",
   "mimetype": "text/x-python",
   "name": "python",
   "nbconvert_exporter": "python",
   "pygments_lexer": "ipython2",
   "version": "2.7.6"
  }
 },
 "nbformat": 4,
 "nbformat_minor": 5
}
