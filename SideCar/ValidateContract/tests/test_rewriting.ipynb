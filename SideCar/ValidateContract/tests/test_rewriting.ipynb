{
 "cells": [
  {
   "cell_type": "code",
   "id": "initial_id",
   "metadata": {
    "collapsed": true,
    "ExecuteTime": {
     "end_time": "2024-06-06T12:43:38.420480Z",
     "start_time": "2024-06-06T12:43:38.416299Z"
    }
   },
   "source": [
    "import pyshacl\n",
    "from rdflib import *\n",
    "\n",
    "tbox = Namespace('http://www.semanticweb.org/acraf/ontologies/2024/healthmesh/tbox#')"
   ],
   "outputs": [],
   "execution_count": 122
  },
  {
   "metadata": {},
   "cell_type": "markdown",
   "source": "### PATTERN",
   "id": "bdac8075b93b12e1"
  },
  {
   "metadata": {
    "ExecuteTime": {
     "end_time": "2024-06-06T12:43:38.464174Z",
     "start_time": "2024-06-06T12:43:38.448689Z"
    }
   },
   "cell_type": "code",
   "source": [
    "contract = Graph()\n",
    "contract.parse(\"/home/acraf/psr/tfm/Fdatavalidation/DataPlatformLayer/Integration/SDP1_C.ttl\", format=\"ttl\")"
   ],
   "id": "1869b3a163db4626",
   "outputs": [
    {
     "data": {
      "text/plain": [
       "<Graph identifier=Nbcca0998592a4e20a9b0fbf92ef1f7d9 (<class 'rdflib.graph.Graph'>)>"
      ]
     },
     "execution_count": 123,
     "metadata": {},
     "output_type": "execute_result"
    }
   ],
   "execution_count": 123
  },
  {
   "metadata": {
    "ExecuteTime": {
     "end_time": "2024-06-06T12:44:33.974039Z",
     "start_time": "2024-06-06T12:44:33.870378Z"
    }
   },
   "cell_type": "code",
   "source": [
    "construct_query = \"\"\"\n",
    "PREFIX odrl: <http://www.w3.org/ns/odrl/2/>\n",
    "PREFIX tb: <http://www.semanticweb.org/acraf/ontologies/2024/healthmesh/tbox#>\n",
    "PREFIX ab: <http://www.semanticweb.org/acraf/ontologies/2024/healthmesh/abox#>\n",
    "\n",
    "CONSTRUCT {\n",
    "    ?policy tb:hasOP ?operation .\n",
    "    ?operation a tb:Operation ;\n",
    "               tb:hasAttribute ?attribute ;\n",
    "               tb:hasInput ?input ;\n",
    "               tb:hasOutput ?output .\n",
    "    ?attribute a tb:Attribute .\n",
    "    ?input a tb:Dataset .\n",
    "    ?output a tb:Value .\n",
    "}\n",
    "WHERE {\n",
    "    ?policy a odrl:Privacy ;\n",
    "            odrl:duty ?duty .\n",
    "    ?duty odrl:action odrl:anonymize .\n",
    "    \n",
    "    ?duty odrl:target ?target .\n",
    "    ?target tb:attribute ?attribute .\n",
    "\n",
    "    # Bind the new URIs for the constructed subgraph\n",
    "    BIND(IRI(CONCAT(STR(?duty), \"/operation\")) AS ?operation)\n",
    "    BIND(IRI(CONCAT(STR(?duty), \"/input\")) AS ?input)\n",
    "    BIND(IRI(CONCAT(STR(?duty), \"/output\")) AS ?output)\n",
    "}\n",
    "\"\"\"\n",
    "\n",
    "# Execute the SPARQL CONSTRUCT query\n",
    "new_graph = contract.query(construct_query)\n",
    "\n",
    "# Create a new graph for the results\n",
    "result_graph = Graph()\n",
    "\n",
    "# Add the constructed triples to the result graph\n",
    "for triple in new_graph:\n",
    "    result_graph.add(triple)\n",
    "\n",
    "# Optionally, serialize the modified graph to a file\n",
    "print(result_graph.serialize(format=\"turtle\"))"
   ],
   "id": "b074cb45a10d5bab",
   "outputs": [
    {
     "name": "stdout",
     "output_type": "stream",
     "text": [
      "\n",
      "\n"
     ]
    }
   ],
   "execution_count": 125
  },
  {
   "metadata": {
    "ExecuteTime": {
     "end_time": "2024-06-06T13:35:58.077630Z",
     "start_time": "2024-06-06T13:35:58.067209Z"
    }
   },
   "cell_type": "code",
   "source": [
    "def get_graph():\n",
    "    \n",
    "    g = Graph()\n",
    "    g.bind('ab', 'http://www.semanticweb.org/acraf/ontologies/2024/healthmesh/tbox#')\n",
    "    g.bind('tb', 'http://www.semanticweb.org/acraf/ontologies/2024/healthmesh/abox#')\n",
    "    g.bind('odrl', 'http://www.w3.org/ns/odrl/2/')\n",
    "    \n",
    "    return g"
   ],
   "id": "10bf1492c73d0d5f",
   "outputs": [],
   "execution_count": 247
  },
  {
   "metadata": {
    "ExecuteTime": {
     "end_time": "2024-06-06T13:36:00.898684Z",
     "start_time": "2024-06-06T13:36:00.808732Z"
    }
   },
   "cell_type": "code",
   "source": [
    "# Define the URI for the specific data product\n",
    "dp = URIRef(\"http://www.semanticweb.org/acraf/ontologies/2024/healthmesh/abox#UPENN-GBM_clinical_info_v2\")\n",
    "\n",
    "select_query = f\"\"\"\n",
    "PREFIX odrl: <http://www.w3.org/ns/odrl/2/>\n",
    "PREFIX tb: <http://www.semanticweb.org/acraf/ontologies/2024/healthmesh/tbox#>\n",
    "PREFIX ab: <http://www.semanticweb.org/acraf/ontologies/2024/healthmesh/abox#>\n",
    "\n",
    "CONSTRUCT {{\n",
    "    ?policy tb:hasOP ?operation .\n",
    "    ?operation a tb:Operation ;\n",
    "               tb:hasAttribute ?attribute ;\n",
    "               tb:hasInput ab:Dataset ;\n",
    "               tb:hasOutput ab:Dataset .\n",
    "    ?attribute a tb:Attribute .\n",
    "    ?input a tb:Dataset .\n",
    "    ?output a tb:Value .\n",
    "}}\n",
    "WHERE {{\n",
    "    <{dp}> tb:hasDC ?dc .\n",
    "    ?dc tb:hasPolicy ?policy .\n",
    "    ?policy a odrl:Privacy ;\n",
    "            odrl:duty ?duty .\n",
    "    ?duty odrl:action ?action .\n",
    "    ?duty odrl:target ?target .\n",
    "    \n",
    "    FILTER NOT EXISTS {{ ?duty odrl:action ?otherAction . FILTER(?otherAction != ?action) }}\n",
    "    FILTER NOT EXISTS {{ ?duty odrl:target ?otherTarget . FILTER(?otherTarget != ?target) }}\n",
    "    \n",
    "    BIND( ?action AS ?operation)\n",
    "    BIND( ?target AS ?attribute)\n",
    "}}\n",
    "\"\"\"\n",
    "\n",
    "# Execute the SPARQL SELECT query\n",
    "results = contract.query(select_query)\n",
    "\n",
    "# Create a new graph for the results\n",
    "result_graph = get_graph()\n",
    "\n",
    "# Add the constructed triples to the result graph\n",
    "for triple in results:\n",
    "    result_graph.add(triple)\n",
    "\n",
    "# Print the new triples\n",
    "for triple in result_graph:\n",
    "    print(triple)\n",
    "    \n",
    "    \n",
    "    \n",
    "# Optionally, serialize the modified graph to a file\n",
    "result_graph.serialize(\"modified_data.ttl\", format=\"turtle\")"
   ],
   "id": "60c84b26878b8bc4",
   "outputs": [
    {
     "name": "stdout",
     "output_type": "stream",
     "text": [
      "(rdflib.term.URIRef('http://www.w3.org/ns/odrl/2/anonymize'), rdflib.term.URIRef('http://www.w3.org/1999/02/22-rdf-syntax-ns#type'), rdflib.term.URIRef('http://www.semanticweb.org/acraf/ontologies/2024/healthmesh/tbox#Operation'))\n",
      "(rdflib.term.URIRef('http://www.w3.org/ns/odrl/2/anonymize'), rdflib.term.URIRef('http://www.semanticweb.org/acraf/ontologies/2024/healthmesh/tbox#hasInput'), rdflib.term.URIRef('http://www.semanticweb.org/acraf/ontologies/2024/healthmesh/abox#Dataset'))\n",
      "(rdflib.term.URIRef('http://www.w3.org/ns/odrl/2/anonymize'), rdflib.term.URIRef('http://www.semanticweb.org/acraf/ontologies/2024/healthmesh/tbox#hasOutput'), rdflib.term.URIRef('http://www.semanticweb.org/acraf/ontologies/2024/healthmesh/abox#Dataset'))\n",
      "(rdflib.term.URIRef('http://www.semanticweb.org/acraf/ontologies/2024/healthmesh/abox#Subject'), rdflib.term.URIRef('http://www.w3.org/1999/02/22-rdf-syntax-ns#type'), rdflib.term.URIRef('http://www.semanticweb.org/acraf/ontologies/2024/healthmesh/tbox#Attribute'))\n",
      "(rdflib.term.URIRef('http://www.semanticweb.org/acraf/ontologies/2024/healthmesh/abox#p1'), rdflib.term.URIRef('http://www.semanticweb.org/acraf/ontologies/2024/healthmesh/tbox#hasOP'), rdflib.term.URIRef('http://www.w3.org/ns/odrl/2/anonymize'))\n",
      "(rdflib.term.URIRef('http://www.w3.org/ns/odrl/2/anonymize'), rdflib.term.URIRef('http://www.semanticweb.org/acraf/ontologies/2024/healthmesh/tbox#hasAttribute'), rdflib.term.URIRef('http://www.semanticweb.org/acraf/ontologies/2024/healthmesh/abox#Subject'))\n"
     ]
    },
    {
     "data": {
      "text/plain": [
       "<Graph identifier=Nd27b77dae7c9491e92d287e9f864a80b (<class 'rdflib.graph.Graph'>)>"
      ]
     },
     "execution_count": 248,
     "metadata": {},
     "output_type": "execute_result"
    }
   ],
   "execution_count": 248
  }
 ],
 "metadata": {
  "kernelspec": {
   "display_name": "Python 3",
   "language": "python",
   "name": "python3"
  },
  "language_info": {
   "codemirror_mode": {
    "name": "ipython",
    "version": 2
   },
   "file_extension": ".py",
   "mimetype": "text/x-python",
   "name": "python",
   "nbconvert_exporter": "python",
   "pygments_lexer": "ipython2",
   "version": "2.7.6"
  }
 },
 "nbformat": 4,
 "nbformat_minor": 5
}
