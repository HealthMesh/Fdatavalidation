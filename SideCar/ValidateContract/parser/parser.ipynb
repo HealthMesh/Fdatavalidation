{
 "nbformat": 4,
 "nbformat_minor": 0,
 "metadata": {
  "colab": {
   "provenance": [],
   "authorship_tag": "ABX9TyN4yKHO/AzEIKjUVcLREMGS"
  },
  "kernelspec": {
   "name": "python3",
   "display_name": "Python 3 (ipykernel)",
   "language": "python"
  },
  "language_info": {
   "name": "python"
  }
 },
 "cells": [
  {
   "cell_type": "code",
   "source": [
    "!pip install rdflib > /dev/null\n",
    "!pip install owlrl > /dev/null\n",
    "!pip install pyshacl > /dev/null"
   ],
   "metadata": {
    "colab": {
     "base_uri": "https://localhost:8080/"
    },
    "id": "t3is2tXnQ_8l",
    "executionInfo": {
     "status": "ok",
     "timestamp": 1713774875103,
     "user_tz": -120,
     "elapsed": 13414,
     "user": {
      "displayName": "Achraf Hmimou",
      "userId": "15223621851022794490"
     }
    },
    "outputId": "b71b9038-4d7b-43d6-dc0a-fd590daaaa10",
    "ExecuteTime": {
     "end_time": "2024-05-20T20:18:33.216131Z",
     "start_time": "2024-05-20T20:18:27.552800Z"
    }
   },
   "outputs": [
    {
     "name": "stdout",
     "output_type": "stream",
     "text": [
      "\r\n",
      "\u001B[1m[\u001B[0m\u001B[34;49mnotice\u001B[0m\u001B[1;39;49m]\u001B[0m\u001B[39;49m A new release of pip is available: \u001B[0m\u001B[31;49m23.2.1\u001B[0m\u001B[39;49m -> \u001B[0m\u001B[32;49m24.0\u001B[0m\r\n",
      "\u001B[1m[\u001B[0m\u001B[34;49mnotice\u001B[0m\u001B[1;39;49m]\u001B[0m\u001B[39;49m To update, run: \u001B[0m\u001B[32;49mpip install --upgrade pip\u001B[0m\r\n",
      "\r\n",
      "\u001B[1m[\u001B[0m\u001B[34;49mnotice\u001B[0m\u001B[1;39;49m]\u001B[0m\u001B[39;49m A new release of pip is available: \u001B[0m\u001B[31;49m23.2.1\u001B[0m\u001B[39;49m -> \u001B[0m\u001B[32;49m24.0\u001B[0m\r\n",
      "\u001B[1m[\u001B[0m\u001B[34;49mnotice\u001B[0m\u001B[1;39;49m]\u001B[0m\u001B[39;49m To update, run: \u001B[0m\u001B[32;49mpip install --upgrade pip\u001B[0m\r\n",
      "\r\n",
      "\u001B[1m[\u001B[0m\u001B[34;49mnotice\u001B[0m\u001B[1;39;49m]\u001B[0m\u001B[39;49m A new release of pip is available: \u001B[0m\u001B[31;49m23.2.1\u001B[0m\u001B[39;49m -> \u001B[0m\u001B[32;49m24.0\u001B[0m\r\n",
      "\u001B[1m[\u001B[0m\u001B[34;49mnotice\u001B[0m\u001B[1;39;49m]\u001B[0m\u001B[39;49m To update, run: \u001B[0m\u001B[32;49mpip install --upgrade pip\u001B[0m\r\n"
     ]
    }
   ],
   "execution_count": 227
  },
  {
   "cell_type": "code",
   "source": [
    "from rdflib import *\n",
    "from owlrl import *\n",
    "import pyshacl"
   ],
   "metadata": {
    "id": "kHjZOwhr28_o",
    "executionInfo": {
     "status": "ok",
     "timestamp": 1713774875104,
     "user_tz": -120,
     "elapsed": 10,
     "user": {
      "displayName": "Achraf Hmimou",
      "userId": "15223621851022794490"
     }
    },
    "ExecuteTime": {
     "end_time": "2024-05-20T20:18:33.240434Z",
     "start_time": "2024-05-20T20:18:33.226070Z"
    }
   },
   "outputs": [],
   "execution_count": 228
  },
  {
   "metadata": {
    "ExecuteTime": {
     "end_time": "2024-05-20T20:18:33.255492Z",
     "start_time": "2024-05-20T20:18:33.244794Z"
    }
   },
   "cell_type": "code",
   "source": [
    "tbox = Namespace('http://www.semanticweb.org/acraf/ontologies/2024/healthmesh/tbox#')\n",
    "abox = Namespace('http://www.semanticweb.org/acraf/ontologies/2024/healthmesh/abox#')\n",
    "dcat = Namespace('https://www.w3.org/ns/dcat#')\n",
    "dcterms = Namespace('http://purl.org/dc/terms/')\n",
    "tb = Namespace(\"http://www.semanticweb.org/acraf/ontologies/2021/0/SDM#\")\n",
    "odrl = Namespace(\"http://www.w3.org/ns/odrl/2/\")\n",
    "prov = Namespace(\"http://www.w3.org/ns/prov#\")\n",
    "dqv = Namespace(\"http://www.w3.org/ns/dqv#\")"
   ],
   "outputs": [],
   "execution_count": 229
  },
  {
   "metadata": {},
   "cell_type": "markdown",
   "source": "# LOAD CONTRACT"
  },
  {
   "cell_type": "code",
   "source": [
    "contract = Graph()\n",
    "contract.parse(\"/home/acraf/psr/tfm/Fdatavalidation/SideCar/FederateDataSource/contract.ttl\")"
   ],
   "metadata": {
    "colab": {
     "base_uri": "https://localhost:8080/"
    },
    "id": "mH3rc9etnQtO",
    "executionInfo": {
     "status": "ok",
     "timestamp": 1713774875789,
     "user_tz": -120,
     "elapsed": 693,
     "user": {
      "displayName": "Achraf Hmimou",
      "userId": "15223621851022794490"
     }
    },
    "outputId": "c47f473f-7644-4b53-faa6-9c8e2ad726cc",
    "ExecuteTime": {
     "end_time": "2024-05-20T20:18:33.287962Z",
     "start_time": "2024-05-20T20:18:33.258880Z"
    }
   },
   "outputs": [
    {
     "data": {
      "text/plain": [
       "<Graph identifier=N5e4524bbbc574f87929fd0008d383411 (<class 'rdflib.graph.Graph'>)>"
      ]
     },
     "execution_count": 230,
     "metadata": {},
     "output_type": "execute_result"
    }
   ],
   "execution_count": 230
  },
  {
   "cell_type": "markdown",
   "source": "# PARSER CONTRACT",
   "metadata": {
    "id": "IYpNSeTH4EUm"
   }
  },
  {
   "metadata": {},
   "cell_type": "markdown",
   "source": "Given a Data Product, Output a DC IRs"
  },
  {
   "metadata": {
    "ExecuteTime": {
     "end_time": "2024-05-20T20:18:33.294047Z",
     "start_time": "2024-05-20T20:18:33.290376Z"
    }
   },
   "cell_type": "code",
   "source": "dp = \"UPENN-GBM_clinical_info_v2\"",
   "outputs": [],
   "execution_count": 231
  },
  {
   "metadata": {
    "ExecuteTime": {
     "end_time": "2024-05-20T20:18:33.306693Z",
     "start_time": "2024-05-20T20:18:33.295785Z"
    }
   },
   "cell_type": "code",
   "source": "import json",
   "outputs": [],
   "execution_count": 232
  },
  {
   "metadata": {
    "ExecuteTime": {
     "end_time": "2024-05-20T20:18:33.320188Z",
     "start_time": "2024-05-20T20:18:33.308276Z"
    }
   },
   "cell_type": "code",
   "source": [
    "def add_jsonld_instances(graph, path):\n",
    "    # Adds JSON-LD instances to the graph\n",
    "    with open(path, 'r') as f:\n",
    "        json_ld_data = json.loads(f.read())\n",
    "        instances = Graph().parse(data=json_ld_data, format='json-ld')\n",
    "        graph += instances\n",
    "    \n",
    "    return graph"
   ],
   "outputs": [],
   "execution_count": 233
  },
  {
   "metadata": {},
   "cell_type": "markdown",
   "source": ""
  },
  {
   "metadata": {
    "ExecuteTime": {
     "end_time": "2024-05-20T20:18:33.334639Z",
     "start_time": "2024-05-20T20:18:33.321945Z"
    }
   },
   "cell_type": "code",
   "source": [
    "class PolicyChecker(Graph):\n",
    "    \n",
    "    \"\"\" Create Policy Checker \"\"\"\n",
    "    def __init__(self, p, p_type, *args, **kwargs):\n",
    "        super().__init__(*args, **kwargs)\n",
    "        self.p = p\n",
    "        self.bind(\"ab\", \"http://www.semanticweb.org/acraf/ontologies/2024/healthmesh/abox#\")\n",
    "        self.bind(\"tb\", \"http://www.semanticweb.org/acraf/ontologies/2024/healthmesh/tbox#\")\n",
    "        self.URI = abox[f'pc_{p.split(\"#\")[1]}']\n",
    "        self.add((self.URI, RDF.type, tbox.PolicyChecker))\n",
    "        self.add((self.URI, tbox.validates, p))\n",
    "        \n",
    "        self.p_type = p_type.split(\"/\")[-1]\n",
    "                \n",
    "    def get_URI(self):\n",
    "        return self.URI\n",
    "    \n",
    "    def get_policy_type(self):\n",
    "        return self.p_type\n",
    "        "
   ],
   "outputs": [],
   "execution_count": 234
  },
  {
   "metadata": {
    "ExecuteTime": {
     "end_time": "2024-05-20T20:18:33.359177Z",
     "start_time": "2024-05-20T20:18:33.336461Z"
    }
   },
   "cell_type": "code",
   "source": [
    "\n",
    "class DCParser:\n",
    "    \"\"\"\n",
    "    Parse Policies of Data Contracts to Policy Checkers\n",
    "    \"\"\"\n",
    "\n",
    "    def __init__(self, dp, graph):\n",
    "        self.dp = dp\n",
    "        self.g = graph\n",
    "\n",
    "    def _validate_graph(self) -> bool:\n",
    "        \"\"\"\n",
    "        Validate the policies grammar is compliant with the grammar defined\n",
    "        :return: conformance/non-conformance\n",
    "        \"\"\"\n",
    "        from pyshacl import validate\n",
    "        shapes = Graph().parse(\"./policy_grammar.ttl\", format=\"turtle\")\n",
    "        conforms, report_graph, report_text = validate(self.g,shacl_graph=shapes)\n",
    "        #return boolean\n",
    "        return conforms\n",
    "    \n",
    "    def _get_policies(self):\n",
    "        \"\"\"\n",
    "        Get the policies associated with a data product\n",
    "        :return: list of policies\n",
    "        \"\"\"\n",
    "        contracts = self.g.objects(subject=abox[self.dp],predicate=tbox.hasDC)\n",
    "        policies_list = []\n",
    "        for contract in contracts:\n",
    "            policies = self.g.objects(subject=contract,predicate=tbox.hasPolicy)\n",
    "            for policy in policies:\n",
    "                policies_list.append(policy)\n",
    "            \n",
    "        return policies_list\n",
    "    \n",
    "    def _get_op(self, action):\n",
    "        operations_mappings = Graph()\n",
    "        operations_mappings = add_jsonld_instances(operations_mappings, '/home/acraf/psr/tfm/Fdatavalidation/SideCar/ValidateContract/parser/operations_mappings.json')\n",
    "        operation = operations_mappings.value(subject=action,predicate=tbox.hasOP)\n",
    "        return operation\n",
    "    \n",
    "    def _get_op_constraint(self, constraint):\n",
    "        \n",
    "        leftop = self.g.value(subject=constraint, predicate=odrl.leftOperand)\n",
    "        software_agent = self.g.value(subject=leftop, predicate=prov.wasAssociatedWith) \n",
    "        return self._get_op(software_agent)\n",
    "        \n",
    "    \n",
    "    def _get_op_predicate(self, constraint):\n",
    "        rightop = self.g.value(subject=constraint, predicate=odrl.rightOperand)\n",
    "        leftop = self.g.value(subject=constraint, predicate=odrl.leftOperand)\n",
    "        predicate = self.g.value(subject=constraint, predicate=odrl.operator)\n",
    "        return (leftop, predicate, rightop)\n",
    "    \n",
    "    def _initOP(self, policy, pc):\n",
    "        \"\"\"\n",
    "        :param IR: \n",
    "        :param policy: \n",
    "        :return: \n",
    "        \"\"\"\n",
    "        ta = self.g.value(subject=abox[self.dp], predicate=tbox.hasTA)\n",
    "        ta_type = self.g.value(subject=ta, predicate=tbox.typeAcces)\n",
    "        \n",
    "        # Check TA typeAcces\n",
    "        if ta_type.split(\"#\")[1] == \"Static\":\n",
    "            init_operation =  self._get_op(ta_type) # depending on the type the initOperation will be one or other.\n",
    "            ta_path = self.g.value(subject=ta_type, predicate=tbox.path)\n",
    "            pc.add((init_operation, RDF.type, tbox.InitOperation))\n",
    "            pc.add((init_operation, tbox.hasParameter, ta_path))\n",
    "            pc.add((pc.get_URI(), tbox.nextStep, init_operation)) #TODO: ADD TO MAPPINGS\n",
    "        \n",
    "    \n",
    "    \n",
    "        \n",
    "    def _handle_duties(self, policy, pc):\n",
    "        \"\"\"\n",
    "        :param pc: \n",
    "        :param policy: \n",
    "        :return: \n",
    "        \"\"\"\n",
    "        \n",
    "        duties = self.g.objects(subject=policy, predicate=odrl.duty)\n",
    "        operation = \"\"\n",
    "        for duty in duties:\n",
    "            \n",
    "            target = self.g.value(subject=duty, predicate = odrl.target)\n",
    "            constraint = self.g.value(subject=duty, predicate = odrl.constraint)\n",
    "            action = self.g.value(subject=duty, predicate = odrl.action)\n",
    "        \n",
    "            if pc.get_policy_type() == \"dqv#QualityPolicy\": #TODO: FIX THIS\n",
    "                operation = self._get_op_constraint(constraint)\n",
    "                # Operation\n",
    "                pc.add((operation, RDF.type, tbox.Operation))\n",
    "                pc.add((abox.LoadData, tbox.nextStep, operation))\n",
    "                pc.add((operation, tbox.hasParameter, target))\n",
    "                predicate = self._get_op_predicate(constraint)\n",
    "                # Constraint\n",
    "                pc.add((abox.Constraint, RDF.type, tbox.Operation))\n",
    "                pc.add((abox.Constraint, tbox.hasLeftOperand, predicate[0]))\n",
    "                #if predicate[1] == \"odrl:gteq\":\n",
    "                pc.add((abox.Constraint, tbox.Operator, Literal(\">=\")))\n",
    "                pc.add((abox.Constraint, tbox.hasRightOperand, predicate[2]))\n",
    "                pc.add((operation, tbox.nextStep, abox.Constraint))\n",
    "                return abox.Constraint\n",
    "            \n",
    "            elif pc.get_policy_type() == \"Privacy\":\n",
    "                operation = self._get_op(action)\n",
    "                pc.add((operation, RDF.type, tbox.Operation))\n",
    "                pc.add((abox.LoadData, tbox.nextStep, operation))\n",
    "                pc.add((operation, tbox.hasParameter, target))\n",
    "                return operation\n",
    "        \n",
    "    def _parse_policy(self, policy):\n",
    "        \"\"\"\n",
    "        Parse the policy to intermediate representation\n",
    "        :param policy: policy to parse\n",
    "        :return: None\n",
    "        \"\"\"\n",
    "        \n",
    "        # get policy type\n",
    "        p_type = self.g.value(subject=policy, predicate = RDF.type)\n",
    "        \n",
    "        # create policy checker graph\n",
    "        pc = PolicyChecker(policy, p_type)\n",
    "        \n",
    "        # add initOperation\n",
    "        self._initOP(policy, pc)\n",
    "        \n",
    "        # handle Duties\n",
    "        last_op = self._handle_duties(policy, pc)\n",
    "        \n",
    "        # Report\n",
    "        pc.add((last_op, tbox.nextStep, abox.Report))\n",
    "        pc.add((abox.Report, RDF.type, tbox.Report))\n",
    "        \n",
    "        # DUTY\n",
    "        return pc\n",
    "            \n",
    "    def parse_contract(self): \n",
    "        \"\"\"\n",
    "        Get the policies associated with a data product\n",
    "        :return: list of policies\n",
    "        \"\"\"\n",
    "        \n",
    "        # validate policies\n",
    "        #if self._validate_graph() == True:\n",
    "            # get policies\n",
    "        policies = self._get_policies()\n",
    "        \n",
    "        print(policies)\n",
    "        for policy in policies:\n",
    "           \n",
    "            #parse policy to its ir\n",
    "            pc = self._parse_policy(policy)\n",
    "            # pc\n",
    "            e_graph = self.g + pc\n",
    "            e_graph.serialize(destination=f'{pc.get_URI().split(\"#\")[1]}.ttl', format=\"turtle\")\n",
    "            \n",
    "            #print(pc.serialize(format=\"turtle\"))\n",
    "        #else :\n",
    "        #<   print(\"The policies do not comply with the grammar\")\n",
    "        "
   ],
   "outputs": [],
   "execution_count": 235
  },
  {
   "metadata": {
    "ExecuteTime": {
     "end_time": "2024-05-20T20:18:33.401499Z",
     "start_time": "2024-05-20T20:18:33.361277Z"
    }
   },
   "cell_type": "code",
   "source": "DCParser(dp, contract).parse_contract()",
   "outputs": [
    {
     "name": "stdout",
     "output_type": "stream",
     "text": [
      "[rdflib.term.URIRef('http://www.semanticweb.org/acraf/ontologies/2024/healthmesh/abox#p1'), rdflib.term.URIRef('http://www.semanticweb.org/acraf/ontologies/2024/healthmesh/abox#p2')]\n"
     ]
    }
   ],
   "execution_count": 236
  }
 ]
}
