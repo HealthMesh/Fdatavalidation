{
 "cells": [
  {
   "metadata": {
    "ExecuteTime": {
     "end_time": "2024-06-06T14:17:27.388134Z",
     "start_time": "2024-06-06T14:17:27.378874Z"
    }
   },
   "cell_type": "code",
   "source": "from rdflib import *",
   "id": "90f2a0f417ddb356",
   "outputs": [],
   "execution_count": 42
  },
  {
   "metadata": {
    "ExecuteTime": {
     "end_time": "2024-06-06T14:17:27.401185Z",
     "start_time": "2024-06-06T14:17:27.391808Z"
    }
   },
   "cell_type": "code",
   "source": [
    "def get_graph():\n",
    "    \n",
    "    g = Graph()\n",
    "    g.bind('tb', 'http://www.semanticweb.org/acraf/ontologies/2024/healthmesh/tbox#')\n",
    "    g.bind('ab', 'http://www.semanticweb.org/acraf/ontologies/2024/healthmesh/abox#')\n",
    "    g.bind('odrl', 'http://www.w3.org/ns/odrl/2/')\n",
    "    \n",
    "    return g"
   ],
   "id": "c0e5827e1dad8f26",
   "outputs": [],
   "execution_count": 43
  },
  {
   "metadata": {
    "ExecuteTime": {
     "end_time": "2024-06-06T14:17:27.443542Z",
     "start_time": "2024-06-06T14:17:27.403524Z"
    }
   },
   "cell_type": "code",
   "source": [
    "contract = Graph()\n",
    "contract.parse(\"/home/acraf/psr/tfm/Fdatavalidation/FederatedComputationalGovernance/SemanticDataModel/sdm.ttl\", format=\"ttl\")"
   ],
   "id": "c3bf20206332dfbd",
   "outputs": [
    {
     "data": {
      "text/plain": [
       "<Graph identifier=Nd2a8e7c20e52479fa749a47817a21195 (<class 'rdflib.graph.Graph'>)>"
      ]
     },
     "execution_count": 44,
     "metadata": {},
     "output_type": "execute_result"
    }
   ],
   "execution_count": 44
  },
  {
   "cell_type": "code",
   "id": "initial_id",
   "metadata": {
    "collapsed": true,
    "ExecuteTime": {
     "end_time": "2024-06-06T14:17:27.480019Z",
     "start_time": "2024-06-06T14:17:27.445336Z"
    }
   },
   "source": [
    "# Define the URI for the specific data product\n",
    "dp = URIRef(\"http://www.semanticweb.org/acraf/ontologies/2024/healthmesh/abox#UPENN-GBM_clinical_info_v2\")\n",
    "pc = URIRef(\"http://www.semanticweb.org/acraf/ontologies/2024/healthmesh/abox#pc1\")\n",
    "\n",
    "\n",
    "select_query = f\"\"\"\n",
    "PREFIX odrl: <http://www.w3.org/ns/odrl/2/>\n",
    "PREFIX tb: <http://www.semanticweb.org/acraf/ontologies/2024/healthmesh/tbox#>\n",
    "PREFIX ab: <http://www.semanticweb.org/acraf/ontologies/2024/healthmesh/abox#>\n",
    "PREFIX rdfs: <http://www.w3.org/2000/01/rdf-schema#>\n",
    "\n",
    "CONSTRUCT {{\n",
    "    ab:loadData a tb:initOperation;\n",
    "        tb:hasOutput ab:Dataset;\n",
    "        tb:hasParameter ?param.\n",
    "    <{pc}> tb:nextStep ab:loadData.\n",
    "}}\n",
    "WHERE {{\n",
    "    <{dp}> tb:hasTA ?ta .\n",
    "    ?ta tb:typeAcces ?access .\n",
    "    ?access rdfs:label ?label ;\n",
    "    tb:path ?path .\n",
    "    FILTER(?label = ab:Static)\n",
    "    BIND(?path AS ?param)\n",
    "}}\n",
    "\"\"\"\n",
    "\n",
    "# Execute the SPARQL SELECT query\n",
    "results = contract.query(select_query)\n",
    "\n",
    "\n",
    "# Create a new graph for the results\n",
    "result_graph = get_graph()\n",
    "\n",
    "# Add the constructed triples to the result graph\n",
    "for triple in results:\n",
    "    result_graph.add(triple)\n",
    "\n",
    "# Print the new triples\n",
    "for triple in result_graph:\n",
    "    print(triple)\n",
    "    \n",
    "    \n",
    "    \n",
    "# Optionally, serialize the modified graph to a file\n",
    "result_graph.serialize(\"generated.ttl\", format=\"turtle\")"
   ],
   "outputs": [
    {
     "name": "stdout",
     "output_type": "stream",
     "text": [
      "(rdflib.term.URIRef('http://www.semanticweb.org/acraf/ontologies/2024/healthmesh/abox#pc1'), rdflib.term.URIRef('http://www.semanticweb.org/acraf/ontologies/2024/healthmesh/tbox#nextStep'), rdflib.term.URIRef('http://www.semanticweb.org/acraf/ontologies/2024/healthmesh/abox#loadData'))\n",
      "(rdflib.term.URIRef('http://www.semanticweb.org/acraf/ontologies/2024/healthmesh/abox#loadData'), rdflib.term.URIRef('http://www.semanticweb.org/acraf/ontologies/2024/healthmesh/tbox#hasOutput'), rdflib.term.URIRef('http://www.semanticweb.org/acraf/ontologies/2024/healthmesh/abox#Dataset'))\n",
      "(rdflib.term.URIRef('http://www.semanticweb.org/acraf/ontologies/2024/healthmesh/abox#loadData'), rdflib.term.URIRef('http://www.w3.org/1999/02/22-rdf-syntax-ns#type'), rdflib.term.URIRef('http://www.semanticweb.org/acraf/ontologies/2024/healthmesh/tbox#initOperation'))\n",
      "(rdflib.term.URIRef('http://www.semanticweb.org/acraf/ontologies/2024/healthmesh/abox#loadData'), rdflib.term.URIRef('http://www.semanticweb.org/acraf/ontologies/2024/healthmesh/tbox#hasParameter'), rdflib.term.Literal('/home/acraf/psr/tfm/Fdatavalidation/DataPlatformLayer/Registration/../../DataProductLayer/DataProduct/Data/Explotation/UPENN-GBM_clinical_info_v2.1.csv'))\n"
     ]
    },
    {
     "data": {
      "text/plain": [
       "<Graph identifier=Ndd7e2aaa16b445aa8f6de21fc170e8d7 (<class 'rdflib.graph.Graph'>)>"
      ]
     },
     "execution_count": 45,
     "metadata": {},
     "output_type": "execute_result"
    }
   ],
   "execution_count": 45
  }
 ],
 "metadata": {
  "kernelspec": {
   "display_name": "Python 3",
   "language": "python",
   "name": "python3"
  },
  "language_info": {
   "codemirror_mode": {
    "name": "ipython",
    "version": 2
   },
   "file_extension": ".py",
   "mimetype": "text/x-python",
   "name": "python",
   "nbconvert_exporter": "python",
   "pygments_lexer": "ipython2",
   "version": "2.7.6"
  }
 },
 "nbformat": 4,
 "nbformat_minor": 5
}
