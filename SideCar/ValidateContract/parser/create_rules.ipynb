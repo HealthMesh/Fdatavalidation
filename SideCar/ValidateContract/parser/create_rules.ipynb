{
 "cells": [
  {
   "metadata": {
    "ExecuteTime": {
     "end_time": "2024-09-12T10:17:05.421252Z",
     "start_time": "2024-09-12T10:17:05.407285Z"
    }
   },
   "cell_type": "code",
   "source": [
    "import os\n",
    "\n",
    "# Get the directory of the current script\n",
    "base_dir = os.getcwd()\n",
    "try:\n",
    "    if folder:\n",
    "        base_dir = os.path.join(base_dir, folder)\n",
    "except:\n",
    "    pass"
   ],
   "id": "5401c9213410fcd9",
   "outputs": [],
   "execution_count": 71
  },
  {
   "metadata": {
    "ExecuteTime": {
     "end_time": "2024-09-12T10:17:05.451171Z",
     "start_time": "2024-09-12T10:17:05.434216Z"
    }
   },
   "cell_type": "code",
   "source": [
    "from rdflib import *\n",
    "import os"
   ],
   "id": "90f2a0f417ddb356",
   "outputs": [],
   "execution_count": 72
  },
  {
   "metadata": {
    "ExecuteTime": {
     "end_time": "2024-09-12T10:17:05.483118Z",
     "start_time": "2024-09-12T10:17:05.469123Z"
    }
   },
   "cell_type": "code",
   "source": [
    "def get_graph():\n",
    "    \n",
    "    g = Graph()\n",
    "    g.bind('tb', 'http://www.semanticweb.org/acraf/ontologies/2024/healthmesh/tbox#')\n",
    "    g.bind('ab', 'http://www.semanticweb.org/acraf/ontologies/2024/healthmesh/abox#')\n",
    "    g.bind('odrl', 'http://www.w3.org/ns/odrl/2/')\n",
    "    \n",
    "    return g"
   ],
   "id": "c0e5827e1dad8f26",
   "outputs": [],
   "execution_count": 73
  },
  {
   "metadata": {
    "ExecuteTime": {
     "end_time": "2024-09-12T10:17:05.545923Z",
     "start_time": "2024-09-12T10:17:05.514005Z"
    }
   },
   "cell_type": "code",
   "source": [
    "contract = Graph()\n",
    "contract.parse(os.path.join(base_dir, '../../../FederatedComputationalGovernance/SemanticDataModel/sdm.ttl'), format=\"ttl\")"
   ],
   "id": "c3bf20206332dfbd",
   "outputs": [
    {
     "data": {
      "text/plain": [
       "<Graph identifier=N802edecc1ab9499ba7272d924a371e11 (<class 'rdflib.graph.Graph'>)>"
      ]
     },
     "execution_count": 74,
     "metadata": {},
     "output_type": "execute_result"
    }
   ],
   "execution_count": 74
  },
  {
   "cell_type": "code",
   "id": "initial_id",
   "metadata": {
    "collapsed": true,
    "ExecuteTime": {
     "end_time": "2024-09-12T10:17:05.609376Z",
     "start_time": "2024-09-12T10:17:05.574471Z"
    }
   },
   "source": [
    "# Define the URI for the specific data product\n",
    "dp = URIRef(\"http://www.semanticweb.org/acraf/ontologies/2024/healthmesh/abox#UPENN-GBM_clinical_info_v2\")\n",
    "pc = URIRef(\"http://www.semanticweb.org/acraf/ontologies/2024/healthmesh/abox#pc1\")\n",
    "\n",
    "\n",
    "select_query = f\"\"\"\n",
    "PREFIX odrl: <http://www.w3.org/ns/odrl/2/>\n",
    "PREFIX tb: <http://www.semanticweb.org/acraf/ontologies/2024/healthmesh/tbox#>\n",
    "PREFIX ab: <http://www.semanticweb.org/acraf/ontologies/2024/healthmesh/abox#>\n",
    "PREFIX rdfs: <http://www.w3.org/2000/01/rdf-schema#>\n",
    "\n",
    "CONSTRUCT {{\n",
    "        ab:initOP a tb:initOperation;\n",
    "        tb:hasAbstract ab:LoadData;\n",
    "        tb:hasOutput ab:data;\n",
    "        tb:hasParameter ?param.\n",
    "    ab:initOP tb:nextStep ab:Operation.\n",
    "}}\n",
    "WHERE {{\n",
    "    ab:UPENN-GBM_clinical_info_v21csv tb:hasTA ?ta .\n",
    "    ?ta tb:typeAcces ?access .\n",
    "    ?access rdfs:label ?label ;\n",
    "    tb:path ?path .\n",
    "    FILTER(?label = ab:Static)\n",
    "    BIND(?path AS ?param)\n",
    "}}\n",
    "\"\"\"\n",
    "\n",
    "# Execute the SPARQL SELECT query\n",
    "results = contract.query(select_query)\n",
    "\n",
    "\n",
    "# Create a new graph for the results\n",
    "result_graph = get_graph()\n",
    "\n",
    "# Add the constructed triples to the result graph\n",
    "for triple in results:\n",
    "    result_graph.add(triple)\n",
    "\n",
    "# Print the new triples\n",
    "for triple in result_graph:\n",
    "    print(triple)\n",
    "    \n",
    "    \n",
    "    \n",
    "# Optionally, serialize the modified graph to a file\n",
    "result_graph.serialize(\"test.ttl\", format=\"turtle\")"
   ],
   "outputs": [
    {
     "name": "stdout",
     "output_type": "stream",
     "text": [
      "(rdflib.term.URIRef('http://www.semanticweb.org/acraf/ontologies/2024/healthmesh/abox#initOP'), rdflib.term.URIRef('http://www.semanticweb.org/acraf/ontologies/2024/healthmesh/tbox#hasAbstract'), rdflib.term.URIRef('http://www.semanticweb.org/acraf/ontologies/2024/healthmesh/abox#LoadData'))\n",
      "(rdflib.term.URIRef('http://www.semanticweb.org/acraf/ontologies/2024/healthmesh/abox#initOP'), rdflib.term.URIRef('http://www.semanticweb.org/acraf/ontologies/2024/healthmesh/tbox#hasParameter'), rdflib.term.Literal('C:\\\\Users\\\\Usuario\\\\PycharmProjects\\\\Fdatavalidation\\\\DataProductLayer\\\\DataProduct\\\\Data\\\\Explotation\\\\UPENN-GBM_clinical_info_v2.1.csv'))\n",
      "(rdflib.term.URIRef('http://www.semanticweb.org/acraf/ontologies/2024/healthmesh/abox#initOP'), rdflib.term.URIRef('http://www.w3.org/1999/02/22-rdf-syntax-ns#type'), rdflib.term.URIRef('http://www.semanticweb.org/acraf/ontologies/2024/healthmesh/tbox#initOperation'))\n",
      "(rdflib.term.URIRef('http://www.semanticweb.org/acraf/ontologies/2024/healthmesh/abox#initOP'), rdflib.term.URIRef('http://www.semanticweb.org/acraf/ontologies/2024/healthmesh/tbox#nextStep'), rdflib.term.URIRef('http://www.semanticweb.org/acraf/ontologies/2024/healthmesh/abox#Operation'))\n",
      "(rdflib.term.URIRef('http://www.semanticweb.org/acraf/ontologies/2024/healthmesh/abox#initOP'), rdflib.term.URIRef('http://www.semanticweb.org/acraf/ontologies/2024/healthmesh/tbox#hasOutput'), rdflib.term.URIRef('http://www.semanticweb.org/acraf/ontologies/2024/healthmesh/abox#data'))\n"
     ]
    },
    {
     "data": {
      "text/plain": [
       "<Graph identifier=Nedd4ac5f2acf4ab5926f4fed26da9f48 (<class 'rdflib.graph.Graph'>)>"
      ]
     },
     "execution_count": 75,
     "metadata": {},
     "output_type": "execute_result"
    }
   ],
   "execution_count": 75
  }
 ],
 "metadata": {
  "kernelspec": {
   "display_name": "Python 3",
   "language": "python",
   "name": "python3"
  },
  "language_info": {
   "codemirror_mode": {
    "name": "ipython",
    "version": 2
   },
   "file_extension": ".py",
   "mimetype": "text/x-python",
   "name": "python",
   "nbconvert_exporter": "python",
   "pygments_lexer": "ipython2",
   "version": "2.7.6"
  }
 },
 "nbformat": 4,
 "nbformat_minor": 5
}
