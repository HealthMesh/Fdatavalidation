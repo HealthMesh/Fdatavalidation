{
 "cells": [
  {
   "cell_type": "code",
   "id": "initial_id",
   "metadata": {
    "collapsed": true,
    "ExecuteTime": {
     "end_time": "2024-05-13T11:52:41.911544Z",
     "start_time": "2024-05-13T11:52:38.054070Z"
    }
   },
   "source": [
    "!pip install pyshacl > /dev/null\n",
    "!pip install rdflib  > /dev/null"
   ],
   "outputs": [
    {
     "name": "stdout",
     "output_type": "stream",
     "text": [
      "\r\n",
      "\u001B[1m[\u001B[0m\u001B[34;49mnotice\u001B[0m\u001B[1;39;49m]\u001B[0m\u001B[39;49m A new release of pip is available: \u001B[0m\u001B[31;49m23.2.1\u001B[0m\u001B[39;49m -> \u001B[0m\u001B[32;49m24.0\u001B[0m\r\n",
      "\u001B[1m[\u001B[0m\u001B[34;49mnotice\u001B[0m\u001B[1;39;49m]\u001B[0m\u001B[39;49m To update, run: \u001B[0m\u001B[32;49mpip install --upgrade pip\u001B[0m\r\n",
      "\r\n",
      "\u001B[1m[\u001B[0m\u001B[34;49mnotice\u001B[0m\u001B[1;39;49m]\u001B[0m\u001B[39;49m A new release of pip is available: \u001B[0m\u001B[31;49m23.2.1\u001B[0m\u001B[39;49m -> \u001B[0m\u001B[32;49m24.0\u001B[0m\r\n",
      "\u001B[1m[\u001B[0m\u001B[34;49mnotice\u001B[0m\u001B[1;39;49m]\u001B[0m\u001B[39;49m To update, run: \u001B[0m\u001B[32;49mpip install --upgrade pip\u001B[0m\r\n"
     ]
    }
   ],
   "execution_count": 89
  },
  {
   "metadata": {},
   "cell_type": "markdown",
   "source": [
    "$$\n",
    "\\begin{table}\n",
    "    \\begin{tabular}{cc}\n",
    "        PolicyChecker& $pc  ::= <inOP, OPs, report>$\\\\\n",
    "         OperationSet& $OPs ::= <OP_id*>$\\\\\n",
    "         Operation& $OP ::= OP_id = [opname, param_id*]$\\\\\n",
    "         InitialOperation& $inOP ::= inOP_id = LoadData $\\\\\n",
    "         Parameter & param ::= $param_id = param_value$ \\\\\n",
    "         Opname & $opname ::= opname_id = anonymize $\\\\\n",
    "         Report& $report ::= report_id = report$\\\\\n",
    "         & \\\\\n",
    "    \\end{tabular}\n",
    "\\end{table}\n",
    "$$"
   ],
   "id": "c3f121343cb9df73"
  },
  {
   "metadata": {},
   "cell_type": "markdown",
   "source": "## DEFINE GRAMMAR",
   "id": "b2a70b5166b2638f"
  },
  {
   "metadata": {
    "ExecuteTime": {
     "end_time": "2024-05-13T11:52:41.919027Z",
     "start_time": "2024-05-13T11:52:41.914647Z"
    }
   },
   "cell_type": "code",
   "source": "from rdflib import *",
   "id": "1688ee0c79214ae",
   "outputs": [],
   "execution_count": 90
  },
  {
   "metadata": {
    "ExecuteTime": {
     "end_time": "2024-05-13T11:52:41.951128Z",
     "start_time": "2024-05-13T11:52:41.921038Z"
    }
   },
   "cell_type": "code",
   "source": "pc = Graph().parse(\"/home/acraf/psr/tfm/Prototype/SideCar/ValidateContract/parser/pc_p1.ttl\", format=\"ttl\")",
   "id": "2510ad24bc35198a",
   "outputs": [],
   "execution_count": 91
  },
  {
   "metadata": {
    "ExecuteTime": {
     "end_time": "2024-05-13T11:52:41.979155Z",
     "start_time": "2024-05-13T11:52:41.959757Z"
    }
   },
   "cell_type": "code",
   "source": [
    "shapes = Graph()        \n",
    "shapes.bind(\"odrl\", \"http://www.w3.org/ns/odrl/2/\")\n",
    "shapes.bind(\"tb\", \"http://www.semanticweb.org/acraf/ontologies/2024/healthmesh/tbox#\")\n",
    "shapes.bind(\"ab\", \"http://www.semanticweb.org/acraf/ontologies/2024/healthmesh/abox#\")\n",
    "\n",
    "shapes = shapes.parse(\"./pc_grammar.ttl\", format=\"turtle\")\n",
    "\n",
    "print(shapes.serialize(format=\"turtle\"))"
   ],
   "id": "4590f1da573ebe1f",
   "outputs": [
    {
     "name": "stdout",
     "output_type": "stream",
     "text": [
      "@prefix odrl: <http://www.w3.org/ns/odrl/2/> .\n",
      "@prefix rdf: <http://www.w3.org/1999/02/22-rdf-syntax-ns#> .\n",
      "@prefix sh: <http://www.w3.org/ns/shacl#> .\n",
      "@prefix tb: <http://www.semanticweb.org/acraf/ontologies/2024/healthmesh/tbox#> .\n",
      "@prefix xsd: <http://www.w3.org/2001/XMLSchema#> .\n",
      "\n",
      "tb:OperationShape a sh:NodeShape ;\n",
      "    sh:property [ sh:minCount 0 ;\n",
      "            sh:path tb:hasParameter ],\n",
      "        [ sh:minCount 0 ;\n",
      "            sh:or ( [ sh:class tb:Report ] [ sh:class tb:Operation ] ) ;\n",
      "            sh:path tb:nextStep ] ;\n",
      "    sh:targetClass tb:Operation .\n",
      "\n",
      "tb:PolicyCheckerShape a sh:NodeShape ;\n",
      "    sh:property [ sh:class tb:InitOperation ;\n",
      "            sh:minCount 1 ;\n",
      "            sh:path tb:nextStep ],\n",
      "        [ sh:class odrl:Privacy ;\n",
      "            sh:minCount 1 ;\n",
      "            sh:path tb:validates ] ;\n",
      "    sh:targetClass tb:PolicyChecker .\n",
      "\n",
      "tb:initOperationShape a sh:NodeShape ;\n",
      "    sh:property [ sh:minCount 0 ;\n",
      "            sh:path tb:hasParameter ],\n",
      "        [ sh:class tb:Operation ;\n",
      "            sh:minCount 0 ;\n",
      "            sh:path tb:nextStep ] ;\n",
      "    sh:targetClass tb:initOperation .\n",
      "\n",
      "\n"
     ]
    }
   ],
   "execution_count": 92
  },
  {
   "metadata": {
    "ExecuteTime": {
     "end_time": "2024-05-13T11:52:41.994334Z",
     "start_time": "2024-05-13T11:52:41.981506Z"
    }
   },
   "cell_type": "code",
   "source": "print(pc.serialize(format=\"turtle\"))",
   "id": "f66b97151ff383b8",
   "outputs": [
    {
     "name": "stdout",
     "output_type": "stream",
     "text": [
      "@prefix ab: <http://www.semanticweb.org/acraf/ontologies/2024/healthmesh/abox#> .\n",
      "@prefix dcterms: <http://purl.org/dc/terms/> .\n",
      "@prefix odrl: <http://www.w3.org/ns/odrl/2/> .\n",
      "@prefix tb: <http://www.semanticweb.org/acraf/ontologies/2024/healthmesh/tbox#> .\n",
      "\n",
      "ab:UPENN-GBM_clinical_info_v2 a <https://www.w3.org/ns/dcat#Dataset> ;\n",
      "    dcterms:identifier \"b4f5450e04e5c1669e36df0e37e5e172872e9cce5924c24955222d7f58004afc\" ;\n",
      "    tb:hasAttribute ab:Age_at_scan_years,\n",
      "        ab:GTR_over90percent,\n",
      "        ab:Gender,\n",
      "        ab:ID,\n",
      "        ab:IDH1,\n",
      "        ab:KPS,\n",
      "        ab:MGMT,\n",
      "        ab:PsP_TP_score,\n",
      "        ab:Survival_Censor,\n",
      "        ab:Survival_Status,\n",
      "        ab:Survival_from_surgery_days_UPDATED,\n",
      "        ab:Time_since_baseline_preop ;\n",
      "    tb:hasDC ab:dc_UPENN-GBM_clinical_info_v2 ;\n",
      "    tb:hasDTT ab:Tabular ;\n",
      "    tb:hasTA ab:TA1 ;\n",
      "    tb:owner \"UPENN\" .\n",
      "\n",
      "ab:pc_p1 a tb:PolicyChecker ;\n",
      "    tb:nextStep ab:LoadData ;\n",
      "    tb:validates ab:p1 .\n",
      "\n",
      "ab:Age_at_scan_years a tb:Attribute ;\n",
      "    tb:attribute \"Age_at_scan_years\" .\n",
      "\n",
      "ab:AnonDuty a odrl:Duty ;\n",
      "    odrl:action odrl:anonymize ;\n",
      "    odrl:target ab:ID .\n",
      "\n",
      "ab:GTR_over90percent a tb:Attribute ;\n",
      "    tb:attribute \"GTR_over90percent\" .\n",
      "\n",
      "ab:Gender a tb:Attribute ;\n",
      "    tb:attribute \"Gender\" .\n",
      "\n",
      "ab:IDH1 a tb:Attribute ;\n",
      "    tb:attribute \"IDH1\" .\n",
      "\n",
      "ab:KPS a tb:Attribute ;\n",
      "    tb:attribute \"KPS\" .\n",
      "\n",
      "ab:LoadData a tb:InitOperation ;\n",
      "    tb:hasParameter \"/home/acraf/psr/tfm/Prototype/DataProduct/Data/Explotation/UPENN-GBM_clinical_info_v2.1.csv\" ;\n",
      "    tb:nextStep ab:anonymize .\n",
      "\n",
      "ab:MGMT a tb:Attribute ;\n",
      "    tb:attribute \"MGMT\" .\n",
      "\n",
      "ab:PsP_TP_score a tb:Attribute ;\n",
      "    tb:attribute \"PsP_TP_score\" .\n",
      "\n",
      "ab:Report a tb:Report .\n",
      "\n",
      "ab:Static a tb:Acces ;\n",
      "    tb:path \"/home/acraf/psr/tfm/Prototype/DataProduct/Data/Explotation/UPENN-GBM_clinical_info_v2.1.csv\" .\n",
      "\n",
      "ab:Survival_Censor a tb:Attribute ;\n",
      "    tb:attribute \"Survival_Censor\" .\n",
      "\n",
      "ab:Survival_Status a tb:Attribute ;\n",
      "    tb:attribute \"Survival_Status\" .\n",
      "\n",
      "ab:Survival_from_surgery_days_UPDATED a tb:Attribute ;\n",
      "    tb:attribute \"Survival_from_surgery_days_UPDATED\" .\n",
      "\n",
      "ab:TA1 a tb:TechnologyAspects ;\n",
      "    tb:typeAcces ab:Static .\n",
      "\n",
      "ab:Tabular a tb:DatasetTypeTemplate ;\n",
      "    dcterms:format \"application/csv\" .\n",
      "\n",
      "ab:Time_since_baseline_preop a tb:Attribute ;\n",
      "    tb:attribute \"Time_since_baseline_preop\" .\n",
      "\n",
      "ab:anonymize a tb:Operation ;\n",
      "    tb:hasParameter ab:ID ;\n",
      "    tb:nextStep ab:Report .\n",
      "\n",
      "ab:dc_UPENN-GBM_clinical_info_v2 a tb:DataContract ;\n",
      "    tb:hasMapping ab:map1 ;\n",
      "    tb:hasPolicy ab:p1 .\n",
      "\n",
      "ab:map1 a tb:SchemaMapping ;\n",
      "    tb:mfrom ab:ID ;\n",
      "    tb:mto ab:Subject .\n",
      "\n",
      "odrl:anonymize a odrl:Action .\n",
      "\n",
      "ab:p1 a odrl:Privacy ;\n",
      "    odrl:duty ab:AnonDuty .\n",
      "\n",
      "ab:ID a tb:Attribute ;\n",
      "    tb:attribute \"ID\" .\n",
      "\n",
      "\n"
     ]
    }
   ],
   "execution_count": 93
  },
  {
   "metadata": {
    "ExecuteTime": {
     "end_time": "2024-05-13T11:52:42.007478Z",
     "start_time": "2024-05-13T11:52:41.995735Z"
    }
   },
   "cell_type": "code",
   "source": "from pyshacl import validate",
   "id": "ffe1567855c43e4e",
   "outputs": [],
   "execution_count": 94
  },
  {
   "metadata": {
    "ExecuteTime": {
     "end_time": "2024-05-13T11:52:42.024505Z",
     "start_time": "2024-05-13T11:52:42.008760Z"
    }
   },
   "cell_type": "code",
   "source": [
    "# Perform SHACL validation\n",
    "conforms, report_graph, report_text = validate(pc,shacl_graph=shapes)\n",
    "\n",
    "# Output the result\n",
    "print(f\"Report Text:\\n{report_text}\")\n"
   ],
   "id": "101127ec7a420a68",
   "outputs": [
    {
     "name": "stdout",
     "output_type": "stream",
     "text": [
      "Report Text:\n",
      "Validation Report\n",
      "Conforms: True\n",
      "\n"
     ]
    }
   ],
   "execution_count": 95
  }
 ],
 "metadata": {
  "kernelspec": {
   "display_name": "Python 3",
   "language": "python",
   "name": "python3"
  },
  "language_info": {
   "codemirror_mode": {
    "name": "ipython",
    "version": 2
   },
   "file_extension": ".py",
   "mimetype": "text/x-python",
   "name": "python",
   "nbconvert_exporter": "python",
   "pygments_lexer": "ipython2",
   "version": "2.7.6"
  }
 },
 "nbformat": 4,
 "nbformat_minor": 5
}
