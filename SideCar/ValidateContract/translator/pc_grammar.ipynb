{
 "cells": [
  {
   "cell_type": "code",
   "id": "initial_id",
   "metadata": {
    "collapsed": true,
    "ExecuteTime": {
     "end_time": "2024-05-15T21:06:33.616326Z",
     "start_time": "2024-05-15T21:06:28.881174Z"
    }
   },
   "source": [
    "!pip install pyshacl > /dev/null\n",
    "!pip install rdflib  > /dev/null"
   ],
   "execution_count": 4,
   "outputs": []
  },
  {
   "metadata": {},
   "cell_type": "markdown",
   "source": [
    "$$\n",
    "\\begin{table}\n",
    "    \\begin{tabular}{cc}\n",
    "        PolicyChecker& $pc  ::= <inOP, OPs, report>$\\\\\n",
    "         OperationSet& $OPs ::= <OP_id*>$\\\\\n",
    "         Operation& $OP ::= OP_id = [opname, param_id*]$\\\\\n",
    "         InitialOperation& $inOP ::= inOP_id = LoadData $\\\\\n",
    "         Parameter & param ::= $param_id = param_value$ \\\\\n",
    "         Opname & $opname ::= opname_id = anonymize $\\\\\n",
    "         Report& $report ::= report_id = report$\\\\\n",
    "         & \\\\\n",
    "    \\end{tabular}\n",
    "\\end{table}\n",
    "$$"
   ],
   "id": "c3f121343cb9df73"
  },
  {
   "metadata": {},
   "cell_type": "markdown",
   "source": "## DEFINE GRAMMAR",
   "id": "b2a70b5166b2638f"
  },
  {
   "metadata": {
    "ExecuteTime": {
     "end_time": "2024-05-15T21:06:33.634551Z",
     "start_time": "2024-05-15T21:06:33.623715Z"
    }
   },
   "cell_type": "code",
   "source": "from rdflib import *",
   "id": "1688ee0c79214ae",
   "execution_count": 5,
   "outputs": []
  },
  {
   "metadata": {
    "ExecuteTime": {
     "end_time": "2024-05-15T21:06:33.679475Z",
     "start_time": "2024-05-15T21:06:33.638810Z"
    }
   },
   "cell_type": "code",
   "source": "pc = Graph().parse(\"/home/acraf/psr/tfm/Fdatavalidation/SideCar/ValidateContract/parser/pc_p1.ttl\", format=\"ttl\")",
   "id": "2510ad24bc35198a",
   "execution_count": 6,
   "outputs": []
  },
  {
   "metadata": {
    "ExecuteTime": {
     "end_time": "2024-05-15T21:06:33.730682Z",
     "start_time": "2024-05-15T21:06:33.685258Z"
    }
   },
   "cell_type": "code",
   "source": [
    "shapes = Graph()        \n",
    "shapes.bind(\"odrl\", \"http://www.w3.org/ns/odrl/2/\")\n",
    "shapes.bind(\"tb\", \"http://www.semanticweb.org/acraf/ontologies/2024/healthmesh/tbox#\")\n",
    "shapes.bind(\"ab\", \"http://www.semanticweb.org/acraf/ontologies/2024/healthmesh/abox#\")\n",
    "\n",
    "shapes = shapes.parse(\"./pc_grammar.ttl\", format=\"turtle\")\n",
    "\n",
    "print(shapes.serialize(format=\"turtle\"))"
   ],
   "id": "4590f1da573ebe1f",
   "execution_count": 7,
   "outputs": []
  },
  {
   "metadata": {
    "ExecuteTime": {
     "end_time": "2024-05-15T21:06:33.759299Z",
     "start_time": "2024-05-15T21:06:33.735575Z"
    }
   },
   "cell_type": "code",
   "source": "print(pc.serialize(format=\"turtle\"))",
   "id": "f66b97151ff383b8",
   "execution_count": 8,
   "outputs": []
  },
  {
   "metadata": {
    "ExecuteTime": {
     "end_time": "2024-05-15T21:06:33.868865Z",
     "start_time": "2024-05-15T21:06:33.765128Z"
    }
   },
   "cell_type": "code",
   "source": "from pyshacl import validate",
   "id": "ffe1567855c43e4e",
   "execution_count": 9,
   "outputs": []
  },
  {
   "metadata": {
    "ExecuteTime": {
     "end_time": "2024-05-15T21:06:33.898780Z",
     "start_time": "2024-05-15T21:06:33.874203Z"
    }
   },
   "cell_type": "code",
   "source": [
    "# Perform SHACL validation\n",
    "conforms, report_graph, report_text = validate(pc,shacl_graph=shapes)\n",
    "\n",
    "# Output the result\n",
    "print(f\"Report Text:\\n{report_text}\")\n"
   ],
   "id": "101127ec7a420a68",
   "execution_count": 10,
   "outputs": []
  }
 ],
 "metadata": {
  "kernelspec": {
   "display_name": "Python 3",
   "language": "python",
   "name": "python3"
  },
  "language_info": {
   "codemirror_mode": {
    "name": "ipython",
    "version": 2
   },
   "file_extension": ".py",
   "mimetype": "text/x-python",
   "name": "python",
   "nbconvert_exporter": "python",
   "pygments_lexer": "ipython2",
   "version": "2.7.6"
  }
 },
 "nbformat": 4,
 "nbformat_minor": 5
}
