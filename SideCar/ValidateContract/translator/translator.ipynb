{
 "nbformat": 4,
 "nbformat_minor": 0,
 "metadata": {
  "colab": {
   "provenance": [],
   "authorship_tag": "ABX9TyN4yKHO/AzEIKjUVcLREMGS"
  },
  "kernelspec": {
   "name": "python3",
   "display_name": "Python 3 (ipykernel)",
   "language": "python"
  },
  "language_info": {
   "name": "python"
  }
 },
 "cells": [
  {
   "metadata": {
    "ExecuteTime": {
     "end_time": "2024-05-27T10:09:13.358998Z",
     "start_time": "2024-05-27T10:09:13.329742Z"
    }
   },
   "cell_type": "code",
   "source": [
    "import os\n",
    "\n",
    "# Get the directory of the current script\n",
    "base_dir = os.getcwd()\n",
    "try:\n",
    "    if folder:\n",
    "        base_dir = os.path.join(base_dir, folder)\n",
    "except:\n",
    "    pass"
   ],
   "outputs": [],
   "execution_count": 271
  },
  {
   "metadata": {
    "ExecuteTime": {
     "end_time": "2024-05-27T10:09:13.366905Z",
     "start_time": "2024-05-27T10:09:13.363458Z"
    }
   },
   "cell_type": "code",
   "source": "",
   "outputs": [],
   "execution_count": 271
  },
  {
   "cell_type": "code",
   "source": [
    "!pip install rdflib > /dev/null\n",
    "!pip install owlrl > /dev/null\n",
    "!pip install pyshacl > /dev/null\n",
    "!pip install autopep8 > /dev/null"
   ],
   "metadata": {
    "colab": {
     "base_uri": "https://localhost:8080/"
    },
    "id": "t3is2tXnQ_8l",
    "executionInfo": {
     "status": "ok",
     "timestamp": 1713774875103,
     "user_tz": -120,
     "elapsed": 13414,
     "user": {
      "displayName": "Achraf Hmimou",
      "userId": "15223621851022794490"
     }
    },
    "outputId": "b71b9038-4d7b-43d6-dc0a-fd590daaaa10",
    "ExecuteTime": {
     "end_time": "2024-05-27T10:09:20.828921Z",
     "start_time": "2024-05-27T10:09:13.383347Z"
    }
   },
   "outputs": [
    {
     "name": "stdout",
     "output_type": "stream",
     "text": [
      "\r\n",
      "\u001B[1m[\u001B[0m\u001B[34;49mnotice\u001B[0m\u001B[1;39;49m]\u001B[0m\u001B[39;49m A new release of pip is available: \u001B[0m\u001B[31;49m23.2.1\u001B[0m\u001B[39;49m -> \u001B[0m\u001B[32;49m24.0\u001B[0m\r\n",
      "\u001B[1m[\u001B[0m\u001B[34;49mnotice\u001B[0m\u001B[1;39;49m]\u001B[0m\u001B[39;49m To update, run: \u001B[0m\u001B[32;49mpip install --upgrade pip\u001B[0m\r\n",
      "^C\r\n",
      "\u001B[31mERROR: Operation cancelled by user\u001B[0m\u001B[31m\r\n",
      "\u001B[0m\r\n",
      "\u001B[1m[\u001B[0m\u001B[34;49mnotice\u001B[0m\u001B[1;39;49m]\u001B[0m\u001B[39;49m A new release of pip is available: \u001B[0m\u001B[31;49m23.2.1\u001B[0m\u001B[39;49m -> \u001B[0m\u001B[32;49m24.0\u001B[0m\r\n",
      "\u001B[1m[\u001B[0m\u001B[34;49mnotice\u001B[0m\u001B[1;39;49m]\u001B[0m\u001B[39;49m To update, run: \u001B[0m\u001B[32;49mpip install --upgrade pip\u001B[0m\r\n",
      "\r\n",
      "\u001B[1m[\u001B[0m\u001B[34;49mnotice\u001B[0m\u001B[1;39;49m]\u001B[0m\u001B[39;49m A new release of pip is available: \u001B[0m\u001B[31;49m23.2.1\u001B[0m\u001B[39;49m -> \u001B[0m\u001B[32;49m24.0\u001B[0m\r\n",
      "\u001B[1m[\u001B[0m\u001B[34;49mnotice\u001B[0m\u001B[1;39;49m]\u001B[0m\u001B[39;49m To update, run: \u001B[0m\u001B[32;49mpip install --upgrade pip\u001B[0m\r\n",
      "\r\n",
      "\u001B[1m[\u001B[0m\u001B[34;49mnotice\u001B[0m\u001B[1;39;49m]\u001B[0m\u001B[39;49m A new release of pip is available: \u001B[0m\u001B[31;49m23.2.1\u001B[0m\u001B[39;49m -> \u001B[0m\u001B[32;49m24.0\u001B[0m\r\n",
      "\u001B[1m[\u001B[0m\u001B[34;49mnotice\u001B[0m\u001B[1;39;49m]\u001B[0m\u001B[39;49m To update, run: \u001B[0m\u001B[32;49mpip install --upgrade pip\u001B[0m\r\n"
     ]
    }
   ],
   "execution_count": 272
  },
  {
   "cell_type": "code",
   "source": [
    "from rdflib import *\n",
    "from owlrl import *\n",
    "from jinja2 import Template\n",
    "import types\n",
    "import pyshacl\n",
    "import functools\n",
    "import inspect\n",
    "import autopep8\n",
    "import json"
   ],
   "metadata": {
    "id": "kHjZOwhr28_o",
    "executionInfo": {
     "status": "ok",
     "timestamp": 1713774875104,
     "user_tz": -120,
     "elapsed": 10,
     "user": {
      "displayName": "Achraf Hmimou",
      "userId": "15223621851022794490"
     }
    },
    "ExecuteTime": {
     "end_time": "2024-05-27T10:09:20.840527Z",
     "start_time": "2024-05-27T10:09:20.832971Z"
    }
   },
   "outputs": [],
   "execution_count": 273
  },
  {
   "metadata": {
    "ExecuteTime": {
     "end_time": "2024-05-27T10:09:20.854795Z",
     "start_time": "2024-05-27T10:09:20.842760Z"
    }
   },
   "cell_type": "code",
   "source": [
    "tbox = Namespace('http://www.semanticweb.org/acraf/ontologies/2024/healthmesh/tbox#')\n",
    "abox = Namespace('http://www.semanticweb.org/acraf/ontologies/2024/healthmesh/abox#')\n",
    "dcat = Namespace('https://www.w3.org/ns/dcat#')\n",
    "dcterms = Namespace('http://purl.org/dc/terms/')\n",
    "tb = Namespace(\"http://www.semanticweb.org/acraf/ontologies/2021/0/SDM#\")\n",
    "odrl = Namespace(\"http://www.w3.org/ns/odrl/2/\")"
   ],
   "outputs": [],
   "execution_count": 274
  },
  {
   "metadata": {
    "ExecuteTime": {
     "end_time": "2024-05-27T10:09:20.871330Z",
     "start_time": "2024-05-27T10:09:20.858402Z"
    }
   },
   "cell_type": "code",
   "source": [
    "def add_jsonld_instances(graph, path):\n",
    "    # Adds JSON-LD instances to the graph\n",
    "    with open(path, 'r') as f:\n",
    "        json_ld_data = json.loads(f.read())\n",
    "        instances = Graph().parse(data=json_ld_data, format='json-ld')\n",
    "        graph += instances\n",
    "    \n",
    "    return graph"
   ],
   "outputs": [],
   "execution_count": 275
  },
  {
   "metadata": {},
   "cell_type": "markdown",
   "source": "# POLICYCHECKER TRANSLATOR"
  },
  {
   "metadata": {},
   "cell_type": "markdown",
   "source": "Given a Data Product, Output a DC IRs"
  },
  {
   "metadata": {
    "ExecuteTime": {
     "end_time": "2024-05-27T10:09:20.899104Z",
     "start_time": "2024-05-27T10:09:20.874054Z"
    }
   },
   "cell_type": "code",
   "source": [
    "import types\n",
    "import autopep8\n",
    "from jinja2 import Template\n",
    "from rdflib import Graph\n",
    "import time\n",
    "\n",
    "class Implementation(type):\n",
    "    def __init__(cls, name, bases, attrs):\n",
    "        super().__init__(name, bases, attrs)\n",
    "        cls.tg = cls._initialize_graph()\n",
    "        cls.ex = Graph()\n",
    "        cls.translation = None\n",
    "    \n",
    "    @staticmethod\n",
    "    def _initialize_graph():\n",
    "        tg = Graph()\n",
    "        tg.bind(\"tb\", \"http://www.semanticweb.org/acraf/ontologies/2024/healthmesh/tbox#\")\n",
    "        tg.bind(\"ab\", \"http://www.semanticweb.org/acraf/ontologies/2024/healthmesh/abox#\")\n",
    "        tg = add_jsonld_instances(tg, os.path.join(base_dir, 'translations_mappings.json'))\n",
    "        return tg\n",
    "    \n",
    "    \n",
    "    def annotate_execution_times_and_results(cls):\n",
    "        def decorator(func):\n",
    "            def wrapper(*args, **kwargs):\n",
    "                start_time = time.time()\n",
    "                result = func(*args, **kwargs)\n",
    "                end_time = time.time()\n",
    "                EX = Namespace(\"http://example.org/ns#\")\n",
    "                execution_time = end_time - start_time\n",
    "                execution_node = URIRef(f\"http://example.org/execution/{cls.translation.split('#')[-1]}\")\n",
    "    \n",
    "                cls.ex.add((execution_node, RDF.type, EX.Execution))\n",
    "                cls.ex.add((execution_node, EX.executionTime, Literal(execution_time, datatype=XSD.decimal)))\n",
    "                cls.ex.add((execution_node, EX.intermediateResult, Literal(result)))\n",
    "                return result\n",
    "            return wrapper\n",
    "        return decorator\n",
    "    \n",
    "    def _translate_and_compile(cls, operation, template_str, context):\n",
    "        translation = cls.tg.value(subject=operation, predicate=tbox.hasTranslation)   \n",
    "        cls.translation = translation\n",
    "        try:\n",
    "            template = Template(template_str)\n",
    "            rendered_code = template.render(context)\n",
    "            fixed_code = autopep8.fix_code(rendered_code) \n",
    "            print(fixed_code)\n",
    "        except Exception as e:\n",
    "            print(\"Code Generation Error: \", e)\n",
    "            return None\n",
    "        \n",
    "        try:\n",
    "            compiled_code = compile(fixed_code, '', 'exec')\n",
    "            new_func = types.FunctionType(compiled_code.co_consts[0], globals(), translation)\n",
    "            #new_func = cls.annotate_execution_times_and_results()(new_func)  # Apply the decorator\n",
    "        except Exception as e:\n",
    "            print(\"Code Compilation Error: \", e)\n",
    "            return None\n",
    "        \n",
    "        return new_func\n",
    "    # additional methods here\n",
    "    "
   ],
   "outputs": [],
   "execution_count": 276
  },
  {
   "metadata": {
    "ExecuteTime": {
     "end_time": "2024-05-27T10:09:20.935152Z",
     "start_time": "2024-05-27T10:09:20.901942Z"
    }
   },
   "cell_type": "code",
   "source": [
    "class Operator(metaclass=Implementation):\n",
    "    \"\"\"...\"\"\"\n",
    "    \n",
    "     \n",
    "    def __init__(self, operation):\n",
    "        \n",
    "        # Static Metadata\n",
    "        self.tg = self.__class__.tg\n",
    "        # Function Implementaiton\n",
    "        self.f = self._init_func(operation)\n",
    "        \n",
    "    \n",
    "    def _init_func(self, operation):\n",
    "        \"\"\"\n",
    "        Get the code associated with the operation\n",
    "        :param operation: operation\n",
    "        :return: python funcion \n",
    "        \"\"\"\n",
    "        \n",
    "        translation = self.tg.value(subject=operation, predicate=tbox.hasTranslation)\n",
    "        code = self.tg.value(subject=translation, predicate=tbox.hasCode)\n",
    "        \n",
    "        c_path = self.tg.value(subject=code, predicate=tbox.code)\n",
    "        code = str(c_path)\n",
    "        params = self.tg.objects(subject=translation, predicate=tbox.hasParameters)\n",
    "        dependencies = self.tg.objects(subject=translation, predicate=tbox.dependsOn)\n",
    "        params = [self.tg.value(subject=p, predicate=tbox.name) for p in params]\n",
    "        dependencies = [self.tg.value(subject=d, predicate=tbox.name) for d in dependencies]\n",
    "        \n",
    "        context = {\n",
    "            \"name\": translation.split(\"#\")[1],\n",
    "            \"params\": params,\n",
    "            \"code\": code,\n",
    "        }\n",
    "        \n",
    "        # Implementation Template\n",
    "        template = \"\"\"\n",
    "        def {{ name }}({{\",\".join(params)}}, *args, **kwargs):\n",
    "            data = {{code}}\n",
    "            return data\n",
    "        \"\"\"\n",
    "    \n",
    "        return self.__class__._translate_and_compile(operation, template, context)\n",
    "    \n",
    "    def get_func(self):\n",
    "        return self.f"
   ],
   "outputs": [],
   "execution_count": 277
  },
  {
   "metadata": {
    "ExecuteTime": {
     "end_time": "2024-05-27T10:09:20.958806Z",
     "start_time": "2024-05-27T10:09:20.936869Z"
    }
   },
   "cell_type": "code",
   "source": [
    "class Operation(metaclass=Implementation):\n",
    "    \"\"\"\n",
    "    Operation Class\n",
    "    \"\"\"\n",
    "    \n",
    "    def __init__(self, operation, format=\"Tabular\"):\n",
    "        \n",
    "        # Static Metadata\n",
    "        self.tg = self.__class__.tg\n",
    "        # Format\n",
    "        self.format = format\n",
    "        # Implementation\n",
    "        self.implementation = Graph()\n",
    "        self.translation = None\n",
    "        # Function Implementaiton\n",
    "        self.f = self._init_func(operation)\n",
    "\n",
    "  \n",
    "        \n",
    "    \n",
    "    def find_implementation(self, operation, type):\n",
    "        \n",
    "        # Define the base, type, and operation URIs\n",
    "        base_uri = \"http://www.semanticweb.org/acraf/ontologies/2024/healthmesh/abox#\"\n",
    "        # Define the specific type and operation you're looking for\n",
    "        operation_id = operation  # replace with your operation\n",
    "        \n",
    "        \n",
    "        # Query the graph\n",
    "        qres = self.tg.query(\n",
    "            \"\"\"\n",
    "            SELECT ?impl\n",
    "            WHERE {\n",
    "                ?impl tb:forType ?type .\n",
    "                ?impl tb:forOp ?operation .\n",
    "            }\n",
    "            LIMIT 1\n",
    "            \"\"\",\n",
    "            initBindings={'type': type, 'operation': operation_id}\n",
    "        )\n",
    "        \n",
    "        # Print the results\n",
    "        for row in qres:\n",
    "\n",
    "            return row[0]\n",
    "        \n",
    "        return None\n",
    "    \n",
    "    def _get_imlementation_subgraph(self, imp):\n",
    "        self.translation = imp\n",
    "            # Collect all triples related to 'imp' directly\n",
    "        for s, p, o in self.tg.triples((imp, None, None)):\n",
    "            self.implementation.add((s, p, o))\n",
    "            \n",
    "            # Collect all triples related to objects that are resources\n",
    "            if isinstance(o, rdflib.URIRef):\n",
    "                for s2, p2, o2 in self.tg.triples((o, None, None)):\n",
    "                    self.implementation.add((s2, p2, o2))\n",
    "                    \n",
    "                    # Continue to collect deeper levels if necessary\n",
    "                    if isinstance(o2, rdflib.URIRef):\n",
    "                        for s3, p3, o3 in self.tg.triples((o2, None, None)):\n",
    "                            self.implementation.add((s3, p3, o3))\n",
    "            \n",
    "    def _init_func(self, operation):\n",
    "        \"\"\"\n",
    "        Get the code associated with the operation\n",
    "        :param operation: operation\n",
    "        :return: python funcion \n",
    "        \"\"\"\n",
    "        \n",
    "        translation = self.find_implementation(operation, self.format) \n",
    "        if translation:\n",
    "            self._get_imlementation_subgraph(translation)\n",
    "\n",
    "        code = self.tg.value(subject=translation, predicate=tbox.hasCode)\n",
    "        params = self.tg.objects(subject=translation, predicate=tbox.hasParameters)\n",
    "        dependencies = self.tg.objects(subject=translation, predicate=tbox.dependsOn)\n",
    "        params = [self.tg.value(subject=p, predicate=tbox.name) for p in params]\n",
    "        dependencies = [self.tg.value(subject=d, predicate=tbox.name) for d in dependencies]\n",
    "                        \n",
    "        c_path = self.tg.value(subject=code, predicate=tbox.code)\n",
    "        \n",
    "        codelines = str(c_path).split('\\n')\n",
    "        \n",
    "        context = {\n",
    "            \"name\": translation.split(\"#\")[1],\n",
    "            \"codelines\": codelines,\n",
    "            \"params\": params,\n",
    "            \"libraries\": dependencies\n",
    "        }\n",
    "        \n",
    "        # Implementation Template\n",
    "        template = \"\"\"\n",
    "        def {{ name }}({{\",\".join(params)}}):\n",
    "        {% for library in libraries %}\n",
    "            import {{ library }}\n",
    "        {% endfor %}\n",
    "        {% for line in codelines %}\n",
    "            data = {{  line }}\n",
    "        {% endfor %}\n",
    "            return data\n",
    "        \"\"\"   \n",
    "        return self.__class__._translate_and_compile(operation, template, context)\n",
    "    \n",
    "    \n",
    "    def get_func(self):\n",
    "        return self.f\n",
    "    \n",
    "    def get_implementaiton(self):\n",
    "        return self.translation, self.implementation\n"
   ],
   "outputs": [],
   "execution_count": 278
  },
  {
   "metadata": {
    "ExecuteTime": {
     "end_time": "2024-05-27T10:09:20.980511Z",
     "start_time": "2024-05-27T10:09:20.960686Z"
    }
   },
   "cell_type": "code",
   "source": [
    "class PCTranslator:\n",
    "    \"\"\"\n",
    "    Parse the PolicyChecker Operations to an executable Script\n",
    "    \"\"\"\n",
    "    def __init__(self, pc, graph, format=\"Tabular\"):\n",
    "        # Graph\n",
    "        self.g = graph\n",
    "\n",
    "        # PolicyChecker\n",
    "        self.pc = abox[pc]\n",
    "        \n",
    "        # Format        \n",
    "        self.format = self.g.value(subject=self.pc, predicate=tbox.hasType)\n",
    "\n",
    "        \n",
    "        \n",
    "    def _validate_graph(self) -> bool:\n",
    "        \"\"\"\n",
    "        Validate the policies grammar is compliant with the grammar defined\n",
    "        :return: conformance/non-conformance\n",
    "        \"\"\"\n",
    "        from pyshacl import validate\n",
    "        shapes = Graph().parse(os.path.join(base_dir, 'pc_grammar.ttl'), format=\"turtle\")\n",
    "        conforms, report_graph, report_text = validate(self.g,shacl_graph=shapes)\n",
    "        #return boolean\n",
    "        return conforms\n",
    "    \n",
    "         \n",
    "    def _create_function_as_decorator(self, before_func=None, after_func=None, before_args={}, after_args={}) -> types.FunctionType:\n",
    "        def decorator(f):\n",
    "            def wrapper(*args, **kwargs):\n",
    "                if before_func is not None:\n",
    "                    before_func(*before_args)\n",
    "                data = f(*args, **kwargs)\n",
    "                if after_func is not None:\n",
    "                    result = after_func(data=data, **after_args)\n",
    "                    return result \n",
    "                return data\n",
    "            return wrapper\n",
    "        return decorator\n",
    "    \n",
    "             \n",
    "    def _create_report_decorator(self, pc) -> types.FunctionType:\n",
    "        def decorator(f):\n",
    "            def wrapper(*args, **kwargs):\n",
    "                data = f(*args, **kwargs)\n",
    "                self.g.add((pc, tbox.result, Literal(data)))\n",
    "                self.g.serialize(os.path.join(base_dir, \"../../../FederatedComputationalGovernance/SemanticDataModel/sdm.ttl\"), format=\"turtle\")\n",
    "                return data\n",
    "            return wrapper\n",
    "        return decorator\n",
    "    \n",
    "    \n",
    "    def _get_func_parameters(self, f):\n",
    "        import inspect \n",
    "        return inspect.signature(f).parameters\n",
    "    \n",
    "    def _operation_to_code(self, operation) -> types.FunctionType:\n",
    "        \n",
    "        operation_type = str(self.g.value(subject=operation, predicate=RDF.type)).split(\"#\")[-1]\n",
    "        abstract_op = self.g.value(subject=operation, predicate=tbox.hasAbstract)\n",
    "        kwargs = {}\n",
    "        \n",
    "        if operation_type == \"initOperation\":\n",
    "            \n",
    "            imp = Operation(abstract_op, self.format)\n",
    "            \n",
    "            # ADD implementation\n",
    "            implementation, subimp = imp.get_implementaiton()\n",
    "            self.g+=subimp\n",
    "            self.g.add((operation, tbox.hasTranslation, implementation))\n",
    "            \n",
    "            return imp.get_func()\n",
    "        \n",
    "        elif operation_type == \"Operation\":\n",
    "            imp = Operation(abstract_op, self.format)\n",
    "            \n",
    "            \n",
    "             # ADD implementation\n",
    "            implementation, subimp = imp.get_implementaiton()\n",
    "            self.g+=subimp\n",
    "            self.g.add((operation, tbox.hasTranslation, implementation))\n",
    "            \n",
    "            \n",
    "            params = self._get_func_parameters(imp.get_func())\n",
    "            parameters = self.g.objects(subject=operation, predicate=tbox.hasParameter)\n",
    "            parameters = [str(p).split(\"#\")[1] for p in parameters]\n",
    "            attrs = self.g.objects(subject=operation, predicate=tbox.hasAttribute)\n",
    "            attrs = [str(a).split(\"#\")[1] for a in attrs]\n",
    "            \n",
    "            kwargs[\"attr\"] = attrs[0]\n",
    "            \n",
    "            decorated_imp  = self._create_function_as_decorator(after_func=imp.get_func(), after_args=kwargs)\n",
    "            return decorated_imp\n",
    "                        \n",
    "        elif operation_type == \"Operator\":\n",
    "            operator = self.g.value(subject=operation, predicate=tbox.operator)\n",
    "            rightOperand = self.g.value(subject=operation, predicate=tbox.hasRightOperand)\n",
    "            leftOperand = self.g.value(subject=operation, predicate=tbox.hasLeftOperand)\n",
    "            imp = Operator(operation)            \n",
    "            \n",
    "            kwargs[\"ro\"] = rightOperand\n",
    "            kwargs[\"lo\"] = str(leftOperand).split(\"#\")[1]\n",
    "            \n",
    "            decorated_imp  = self._create_function_as_decorator(after_func=imp.get_func(), after_args=kwargs)\n",
    "            return decorated_imp\n",
    "        \n",
    "   \n",
    "    def traverse_and_generate(self) -> types.FunctionType:\n",
    "        \"\"\"\n",
    "        Traverse the policy checker and generate the code\n",
    "        :param language: \n",
    "        :return: \n",
    "        \"\"\"\n",
    "        # Obtian policy checker\n",
    "        \n",
    "        # Get first operation \n",
    "        operation = self.g.value(subject=self.pc,predicate=tbox.nextStep)\n",
    "        function = None\n",
    "        # Traverse the policy checker (path)\n",
    "        while operation:\n",
    "            operation_type = str(self.g.value(subject=operation, predicate=RDF.type)).split(\"#\")[-1]\n",
    "            if operation_type == \"initOperation\":\n",
    "                function = self._operation_to_code(operation)\n",
    "            elif operation_type == \"Operation\" or operation_type == \"Operator\":\n",
    "                decorator = self._operation_to_code(operation)\n",
    "                function = decorator(function)            \n",
    "            elif operation_type == \"Report\":\n",
    "                decorator = self._create_report_decorator(operation)\n",
    "                function = decorator(function)\n",
    "                \n",
    "            operation = self.g.value(subject=operation,predicate=tbox.nextStep)\n",
    "            \n",
    "        return function\n",
    "        \n",
    "    def translate(self) -> types.FunctionType: \n",
    "        \"\"\"\n",
    "        Get the policies associated with a data product\n",
    "        :return: list of policies\n",
    "        \"\"\"\n",
    "        \n",
    "        #if self._validate_graph() == True:\n",
    "        #get policies\n",
    "        udf = self.traverse_and_generate()\n",
    "        return udf\n",
    "        #else:\n",
    "        #    raise Exception(\"Policy Checker is not compliant with the grammar\")\n",
    "        "
   ],
   "outputs": [],
   "execution_count": 279
  },
  {
   "metadata": {},
   "cell_type": "markdown",
   "source": "# Translate the Policy Checker"
  },
  {
   "metadata": {
    "ExecuteTime": {
     "end_time": "2024-05-27T10:09:21.019909Z",
     "start_time": "2024-05-27T10:09:20.982307Z"
    }
   },
   "cell_type": "code",
   "source": [
    "# Translate the Policy Checker \n",
    "graph = Graph().parse(os.path.join(base_dir, \"../../../FederatedComputationalGovernance/SemanticDataModel/sdm.ttl\"), format=\"turtle\")\n",
    "function = PCTranslator(pc, graph).translate()\n",
    "function"
   ],
   "outputs": [],
   "execution_count": 280
  },
  {
   "metadata": {},
   "cell_type": "markdown",
   "source": ""
  },
  {
   "metadata": {},
   "cell_type": "markdown",
   "source": "# Execute Policy Checker"
  },
  {
   "metadata": {
    "ExecuteTime": {
     "end_time": "2024-05-27T10:09:21.117387Z",
     "start_time": "2024-05-27T10:09:21.023059Z"
    }
   },
   "cell_type": "code",
   "source": [
    "initOP = graph.value(subject=abox[pc], predicate=tbox.nextStep)\n",
    "path = graph.value(subject=initOP, predicate=tbox.hasParameter)\n",
    "function(path)"
   ],
   "outputs": [
    {
     "ename": "TypeError",
     "evalue": "'NoneType' object is not callable",
     "output_type": "error",
     "traceback": [
      "\u001B[0;31m---------------------------------------------------------------------------\u001B[0m",
      "\u001B[0;31mTypeError\u001B[0m                                 Traceback (most recent call last)",
      "Cell \u001B[0;32mIn[281], line 3\u001B[0m\n\u001B[1;32m      1\u001B[0m initOP \u001B[38;5;241m=\u001B[39m graph\u001B[38;5;241m.\u001B[39mvalue(subject\u001B[38;5;241m=\u001B[39mabox[pc], predicate\u001B[38;5;241m=\u001B[39mtbox\u001B[38;5;241m.\u001B[39mnextStep)\n\u001B[1;32m      2\u001B[0m path \u001B[38;5;241m=\u001B[39m graph\u001B[38;5;241m.\u001B[39mvalue(subject\u001B[38;5;241m=\u001B[39minitOP, predicate\u001B[38;5;241m=\u001B[39mtbox\u001B[38;5;241m.\u001B[39mhasParameter)\n\u001B[0;32m----> 3\u001B[0m \u001B[43mfunction\u001B[49m\u001B[43m(\u001B[49m\u001B[43mpath\u001B[49m\u001B[43m)\u001B[49m\n",
      "\u001B[0;31mTypeError\u001B[0m: 'NoneType' object is not callable"
     ]
    }
   ],
   "execution_count": 281
  }
 ]
}
