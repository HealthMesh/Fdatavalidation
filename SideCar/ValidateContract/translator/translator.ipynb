{
 "nbformat": 4,
 "nbformat_minor": 0,
 "metadata": {
  "colab": {
   "provenance": [],
   "authorship_tag": "ABX9TyN4yKHO/AzEIKjUVcLREMGS"
  },
  "kernelspec": {
   "name": "python3",
   "display_name": "Python 3 (ipykernel)",
   "language": "python"
  },
  "language_info": {
   "name": "python"
  }
 },
 "cells": [
  {
   "cell_type": "code",
   "source": [
    "!pip install rdflib > /dev/null\n",
    "!pip install owlrl > /dev/null\n",
    "!pip install pyshacl > /dev/null\n",
    "!pip install autopep8 > /dev/null"
   ],
   "metadata": {
    "colab": {
     "base_uri": "https://localhost:8080/"
    },
    "id": "t3is2tXnQ_8l",
    "executionInfo": {
     "status": "ok",
     "timestamp": 1713774875103,
     "user_tz": -120,
     "elapsed": 13414,
     "user": {
      "displayName": "Achraf Hmimou",
      "userId": "15223621851022794490"
     }
    },
    "outputId": "b71b9038-4d7b-43d6-dc0a-fd590daaaa10",
    "ExecuteTime": {
     "end_time": "2024-05-21T08:31:29.478870Z",
     "start_time": "2024-05-21T08:31:19.893804Z"
    }
   },
   "outputs": [
    {
     "name": "stdout",
     "output_type": "stream",
     "text": [
      "\r\n",
      "\u001B[1m[\u001B[0m\u001B[34;49mnotice\u001B[0m\u001B[1;39;49m]\u001B[0m\u001B[39;49m A new release of pip is available: \u001B[0m\u001B[31;49m23.2.1\u001B[0m\u001B[39;49m -> \u001B[0m\u001B[32;49m24.0\u001B[0m\r\n",
      "\u001B[1m[\u001B[0m\u001B[34;49mnotice\u001B[0m\u001B[1;39;49m]\u001B[0m\u001B[39;49m To update, run: \u001B[0m\u001B[32;49mpip install --upgrade pip\u001B[0m\r\n",
      "\r\n",
      "\u001B[1m[\u001B[0m\u001B[34;49mnotice\u001B[0m\u001B[1;39;49m]\u001B[0m\u001B[39;49m A new release of pip is available: \u001B[0m\u001B[31;49m23.2.1\u001B[0m\u001B[39;49m -> \u001B[0m\u001B[32;49m24.0\u001B[0m\r\n",
      "\u001B[1m[\u001B[0m\u001B[34;49mnotice\u001B[0m\u001B[1;39;49m]\u001B[0m\u001B[39;49m To update, run: \u001B[0m\u001B[32;49mpip install --upgrade pip\u001B[0m\r\n",
      "\r\n",
      "\u001B[1m[\u001B[0m\u001B[34;49mnotice\u001B[0m\u001B[1;39;49m]\u001B[0m\u001B[39;49m A new release of pip is available: \u001B[0m\u001B[31;49m23.2.1\u001B[0m\u001B[39;49m -> \u001B[0m\u001B[32;49m24.0\u001B[0m\r\n",
      "\u001B[1m[\u001B[0m\u001B[34;49mnotice\u001B[0m\u001B[1;39;49m]\u001B[0m\u001B[39;49m To update, run: \u001B[0m\u001B[32;49mpip install --upgrade pip\u001B[0m\r\n",
      "\r\n",
      "\u001B[1m[\u001B[0m\u001B[34;49mnotice\u001B[0m\u001B[1;39;49m]\u001B[0m\u001B[39;49m A new release of pip is available: \u001B[0m\u001B[31;49m23.2.1\u001B[0m\u001B[39;49m -> \u001B[0m\u001B[32;49m24.0\u001B[0m\r\n",
      "\u001B[1m[\u001B[0m\u001B[34;49mnotice\u001B[0m\u001B[1;39;49m]\u001B[0m\u001B[39;49m To update, run: \u001B[0m\u001B[32;49mpip install --upgrade pip\u001B[0m\r\n"
     ]
    }
   ],
   "execution_count": 1
  },
  {
   "cell_type": "code",
   "source": [
    "from rdflib import *\n",
    "from owlrl import *\n",
    "from jinja2 import Template\n",
    "import types\n",
    "import pyshacl\n",
    "import functools\n",
    "import inspect\n",
    "import autopep8\n",
    "import json"
   ],
   "metadata": {
    "id": "kHjZOwhr28_o",
    "executionInfo": {
     "status": "ok",
     "timestamp": 1713774875104,
     "user_tz": -120,
     "elapsed": 10,
     "user": {
      "displayName": "Achraf Hmimou",
      "userId": "15223621851022794490"
     }
    },
    "ExecuteTime": {
     "end_time": "2024-05-21T08:31:29.824457Z",
     "start_time": "2024-05-21T08:31:29.487023Z"
    }
   },
   "outputs": [],
   "execution_count": 2
  },
  {
   "metadata": {
    "ExecuteTime": {
     "end_time": "2024-05-21T08:31:29.830504Z",
     "start_time": "2024-05-21T08:31:29.826166Z"
    }
   },
   "cell_type": "code",
   "source": [
    "tbox = Namespace('http://www.semanticweb.org/acraf/ontologies/2024/healthmesh/tbox#')\n",
    "abox = Namespace('http://www.semanticweb.org/acraf/ontologies/2024/healthmesh/abox#')\n",
    "dcat = Namespace('https://www.w3.org/ns/dcat#')\n",
    "dcterms = Namespace('http://purl.org/dc/terms/')\n",
    "tb = Namespace(\"http://www.semanticweb.org/acraf/ontologies/2021/0/SDM#\")\n",
    "odrl = Namespace(\"http://www.w3.org/ns/odrl/2/\")"
   ],
   "outputs": [],
   "execution_count": 3
  },
  {
   "metadata": {
    "ExecuteTime": {
     "end_time": "2024-05-21T08:31:29.859520Z",
     "start_time": "2024-05-21T08:31:29.832732Z"
    }
   },
   "cell_type": "code",
   "source": [
    "def add_jsonld_instances(graph, path):\n",
    "    # Adds JSON-LD instances to the graph\n",
    "    with open(path, 'r') as f:\n",
    "        json_ld_data = json.loads(f.read())\n",
    "        instances = Graph().parse(data=json_ld_data, format='json-ld')\n",
    "        graph += instances\n",
    "    \n",
    "    return graph"
   ],
   "outputs": [],
   "execution_count": 4
  },
  {
   "metadata": {},
   "cell_type": "markdown",
   "source": "# POLICYCHECKER TRANSLATOR"
  },
  {
   "metadata": {},
   "cell_type": "markdown",
   "source": "Given a Data Product, Output a DC IRs"
  },
  {
   "metadata": {
    "ExecuteTime": {
     "end_time": "2024-05-21T08:31:29.896698Z",
     "start_time": "2024-05-21T08:31:29.864540Z"
    }
   },
   "cell_type": "code",
   "source": [
    "import types\n",
    "import autopep8\n",
    "from jinja2 import Template\n",
    "from rdflib import Graph\n",
    "import time\n",
    "\n",
    "class Implementation(type):\n",
    "    def __init__(cls, name, bases, attrs):\n",
    "        super().__init__(name, bases, attrs)\n",
    "        cls.tg = cls._initialize_graph()\n",
    "        cls.ex = Graph()\n",
    "        cls.translation = None\n",
    "    \n",
    "    @staticmethod\n",
    "    def _initialize_graph():\n",
    "        tg = Graph()\n",
    "        tg.bind(\"tb\", \"http://www.semanticweb.org/acraf/ontologies/2024/healthmesh/tbox#\")\n",
    "        tg.bind(\"ab\", \"http://www.semanticweb.org/acraf/ontologies/2024/healthmesh/abox#\")\n",
    "        tg = add_jsonld_instances(tg, \"translations_mappings.json\")\n",
    "        return tg\n",
    "    \n",
    "    \n",
    "    def annotate_execution_times_and_results(cls):\n",
    "        def decorator(func):\n",
    "            def wrapper(*args, **kwargs):\n",
    "                start_time = time.time()\n",
    "                result = func(*args, **kwargs)\n",
    "                end_time = time.time()\n",
    "                EX = Namespace(\"http://example.org/ns#\")\n",
    "                execution_time = end_time - start_time\n",
    "                execution_node = URIRef(f\"http://example.org/execution/{cls.translation.split('#')[-1]}\")\n",
    "    \n",
    "                cls.ex.add((execution_node, RDF.type, EX.Execution))\n",
    "                cls.ex.add((execution_node, EX.executionTime, Literal(execution_time, datatype=XSD.decimal)))\n",
    "                cls.ex.add((execution_node, EX.intermediateResult, Literal(result)))\n",
    "                print(cls.ex.serialize(format=\"turtle\"))\n",
    "                return result\n",
    "            return wrapper\n",
    "        return decorator\n",
    "    \n",
    "    def _translate_and_compile(cls, operation, template_str, context):\n",
    "        translation = cls.tg.value(subject=operation, predicate=tbox.hasTranslation)   \n",
    "        cls.translation = translation\n",
    "        try:\n",
    "            template = Template(template_str)\n",
    "            rendered_code = template.render(context)\n",
    "            fixed_code = autopep8.fix_code(rendered_code) \n",
    "        except Exception as e:\n",
    "            print(\"Code Generation Error: \", e)\n",
    "            return None\n",
    "        \n",
    "        try:\n",
    "            compiled_code = compile(fixed_code, '', 'exec')\n",
    "            new_func = types.FunctionType(compiled_code.co_consts[0], globals(), translation)\n",
    "            #new_func = cls.annotate_execution_times_and_results()(new_func)  # Apply the decorator\n",
    "        except Exception as e:\n",
    "            print(\"Code Compilation Error: \", e)\n",
    "            return None\n",
    "        \n",
    "        return new_func\n",
    "    # additional methods here\n",
    "    "
   ],
   "outputs": [],
   "execution_count": 5
  },
  {
   "metadata": {
    "ExecuteTime": {
     "end_time": "2024-05-21T08:31:29.977685Z",
     "start_time": "2024-05-21T08:31:29.899737Z"
    }
   },
   "cell_type": "code",
   "source": [
    "class Operator(metaclass=Implementation):\n",
    "    \"\"\"...\"\"\"\n",
    "    \n",
    "     \n",
    "    def __init__(self, operation, params):\n",
    "        \n",
    "        # Static Metadata\n",
    "        self.tg = self.__class__.tg\n",
    "        self.params = params\n",
    "        # Function Implementaiton\n",
    "        self.f = self._init_func(operation)\n",
    "        \n",
    "        \n",
    "    def _init_func(self, operation):\n",
    "        \"\"\"\n",
    "        Get the code associated with the operation\n",
    "        :param operation: operation\n",
    "        :return: python funcion \n",
    "        \"\"\"\n",
    "        \n",
    "        translation = self.tg.value(subject=operation, predicate=tbox.hasTranslation)   \n",
    "\n",
    "        context = {\n",
    "            \"name\": translation.split(\"#\")[1],\n",
    "            \"operator\": self.params[\"operator\"],\n",
    "            \"rightOperand\": self.params[\"rightOperand\"]\n",
    "        }\n",
    "        \n",
    "        # Implementation Template\n",
    "        template = \"\"\"\n",
    "        def {{ name }}(*args, **kwargs):\n",
    "            data = kwargs['data'] {{operator}} {{rightOperand}}\n",
    "            return data\n",
    "        \"\"\"\n",
    "    \n",
    "        return self.__class__._translate_and_compile(operation, template, context)\n",
    "    \n",
    "    def get_func(self):\n",
    "        return self.f"
   ],
   "outputs": [],
   "execution_count": 6
  },
  {
   "metadata": {
    "ExecuteTime": {
     "end_time": "2024-05-21T08:31:30.000121Z",
     "start_time": "2024-05-21T08:31:29.980070Z"
    }
   },
   "cell_type": "code",
   "source": [
    "class Operation(metaclass=Implementation):\n",
    "    \"\"\"\n",
    "    Operation Class\n",
    "    \"\"\"\n",
    "    \n",
    "    def __init__(self, operation):\n",
    "        \n",
    "        # Static Metadata\n",
    "        self.tg = self.__class__.tg\n",
    "        # Function Implementaiton\n",
    "        self.f = self._init_func(operation)\n",
    "        \n",
    "        \n",
    "    def _init_func(self, operation):\n",
    "        \"\"\"\n",
    "        Get the code associated with the operation\n",
    "        :param operation: operation\n",
    "        :return: python funcion \n",
    "        \"\"\"\n",
    "        \n",
    "        translation = self.tg.value(subject=operation, predicate=tbox.hasTranslation)   \n",
    "        code = self.tg.value(subject=translation, predicate=tbox.hasCode)\n",
    "        params = self.tg.objects(subject=translation, predicate=tbox.hasParameters)\n",
    "        dependencies = self.tg.objects(subject=translation, predicate=tbox.dependsOn)\n",
    "        params = [self.tg.value(subject=p, predicate=tbox.name) for p in params]\n",
    "        dependencies = [self.tg.value(subject=d, predicate=tbox.name) for d in dependencies]\n",
    "                \n",
    "        c_path = self.tg.value(subject=code, predicate=tbox.code)\n",
    "        \n",
    "        codelines = str(c_path).split('\\n')\n",
    "        \n",
    "        context = {\n",
    "            \"name\": translation.split(\"#\")[1],\n",
    "            \"codelines\": codelines,\n",
    "            \"params\": params,\n",
    "            \"libraries\": dependencies\n",
    "        }\n",
    "        \n",
    "        # Implementation Template\n",
    "        template = \"\"\"\n",
    "        def {{ name }}({{\",\".join(params)}}):\n",
    "        {% for library in libraries %}\n",
    "            import {{ library }}\n",
    "        {% endfor %}\n",
    "        {% for line in codelines %}\n",
    "            data = {{  line }}\n",
    "        {% endfor %}\n",
    "            return data\n",
    "        \"\"\"   \n",
    "        return self.__class__._translate_and_compile(operation, template, context)\n",
    "    \n",
    "    \n",
    "    def get_func(self):\n",
    "        return self.f\n"
   ],
   "outputs": [],
   "execution_count": 7
  },
  {
   "metadata": {
    "ExecuteTime": {
     "end_time": "2024-05-21T08:31:30.026265Z",
     "start_time": "2024-05-21T08:31:30.002618Z"
    }
   },
   "cell_type": "code",
   "source": [
    "class PCTranslator:\n",
    "    \"\"\"\n",
    "    Parse the PolicyChecker Operations to an executable Script\n",
    "    \"\"\"\n",
    "    def __init__(self, pc):\n",
    "        # PolicyChecker\n",
    "        self.g = pc\n",
    "        # Execution Graph\n",
    "        self.eg = Graph()\n",
    "        \n",
    "        \n",
    "    def _validate_graph(self) -> bool:\n",
    "        \"\"\"\n",
    "        Validate the policies grammar is compliant with the grammar defined\n",
    "        :return: conformance/non-conformance\n",
    "        \"\"\"\n",
    "        from pyshacl import validate\n",
    "        shapes = Graph().parse(\"./pc_grammar.ttl\", format=\"turtle\")\n",
    "        conforms, report_graph, report_text = validate(self.g,shacl_graph=shapes)\n",
    "        #return boolean\n",
    "        return conforms\n",
    "         \n",
    "    def _create_function_as_decorator(self, before_func=None, after_func=None, before_args={}, after_args={}) -> types.FunctionType:\n",
    "        def decorator(f):\n",
    "            def wrapper(*args, **kwargs):\n",
    "                if before_func is not None:\n",
    "                    before_func(*before_args)\n",
    "                data = f(*args, **kwargs)\n",
    "                if after_func is not None:\n",
    "                    result = after_func(data=data, **after_args)\n",
    "                    return result\n",
    "                return data\n",
    "            return wrapper\n",
    "        return decorator\n",
    "    \n",
    "    \n",
    "    def _get_func_parameters(self, f):\n",
    "        import inspect \n",
    "        return inspect.signature(f).parameters\n",
    "    \n",
    "    def _operation_to_code(self, operation) -> types.FunctionType:\n",
    "        \n",
    "        operation_type = str(self.g.value(subject=operation, predicate=RDF.type)).split(\"#\")[-1]\n",
    "        kwargs = {}\n",
    "                \n",
    "        if operation_type == \"InitOperation\":\n",
    "            imp = Operation(operation)\n",
    "            return imp.get_func()\n",
    "        elif operation_type == \"Operation\":\n",
    "            if operation.split(\"#\")[1] == \"Constraint\":\n",
    "                operator = self.g.value(subject=operation, predicate=tbox.Operator)\n",
    "                rightOperand = self.g.value(subject=operation, predicate=tbox.hasRightOperand)\n",
    "                params = {\"operator\": operator, \"rightOperand\": rightOperand} \n",
    "                imp = Operator(operation, params)\n",
    "            else:\n",
    "                imp = Operation(operation)\n",
    "                params = self._get_func_parameters(imp.get_func())\n",
    "                parameters = self.g.objects(subject=operation, predicate=tbox.hasParameter)\n",
    "                parameters = [str(p).split(\"#\")[1] for p in parameters]\n",
    "\n",
    "                # TODO: PARAMTERER MATCHING ALGORITHM\n",
    "                for param in params:\n",
    "                    if param != \"data\":\n",
    "                        if parameters:\n",
    "                            kwargs[param] = parameters.pop(0)\n",
    "                \n",
    "            \n",
    "            decorated_imp  = self._create_function_as_decorator(after_func=imp.get_func(), after_args=kwargs)\n",
    "            return decorated_imp\n",
    "        \n",
    "   \n",
    "    def traverse_and_generate(self, language=\"python\") -> types.FunctionType:\n",
    "        \"\"\"\n",
    "        Traverse the policy checker and generate the code\n",
    "        :param language: \n",
    "        :return: \n",
    "        \"\"\"\n",
    "        # Obtian policy checker\n",
    "        pc = self.g.value(predicate=RDF.type, object=tbox.PolicyChecker)\n",
    "        \n",
    "        # Get first operation\n",
    "        operation = self.g.value(subject=pc,predicate=tbox.nextStep)\n",
    "        function = None\n",
    "        \n",
    "        # Traverse the policy checker (path)\n",
    "        while operation:\n",
    "            operation_type = str(self.g.value(subject=operation, predicate=RDF.type)).split(\"#\")[-1]\n",
    "            if operation_type == \"InitOperation\":\n",
    "                function = self._operation_to_code(operation)\n",
    "            elif operation_type == \"Operation\":\n",
    "                decorator = self._operation_to_code(operation)\n",
    "                function = decorator(function)            \n",
    "            operation = self.g.value(subject=operation,predicate=tbox.nextStep)\n",
    "            \n",
    "        return function\n",
    "        \n",
    "    def translate(self) -> types.FunctionType: \n",
    "        \"\"\"\n",
    "        Get the policies associated with a data product\n",
    "        :return: list of policies\n",
    "        \"\"\"\n",
    "        # validate policies\n",
    "        \n",
    "        #if self._validate_graph() == True:\n",
    "            # get policies\n",
    "        udf = self.traverse_and_generate()\n",
    "        return udf\n",
    "        #else:\n",
    "        #    raise Exception(\"Policy Checker is not compliant with the grammar\")\n",
    "        "
   ],
   "outputs": [],
   "execution_count": 8
  },
  {
   "metadata": {},
   "cell_type": "markdown",
   "source": "# Translate the Policy Checker"
  },
  {
   "metadata": {
    "ExecuteTime": {
     "end_time": "2024-05-21T08:31:30.147255Z",
     "start_time": "2024-05-21T08:31:30.027864Z"
    }
   },
   "cell_type": "code",
   "source": [
    "# Translate the Policy Checker \n",
    "pc = Graph().parse(\"/home/acraf/psr/tfm/Fdatavalidation/SideCar/ValidateContract/parser/pc_p2.ttl\", format=\"turtle\")\n",
    "function = PCTranslator(pc).translate()\n",
    "function"
   ],
   "outputs": [
    {
     "data": {
      "text/plain": [
       "<function __main__.PCTranslator._create_function_as_decorator.<locals>.decorator.<locals>.wrapper(*args, **kwargs)>"
      ]
     },
     "execution_count": 9,
     "metadata": {},
     "output_type": "execute_result"
    }
   ],
   "execution_count": 9
  },
  {
   "metadata": {
    "ExecuteTime": {
     "end_time": "2024-05-21T08:31:31.135972Z",
     "start_time": "2024-05-21T08:31:30.149407Z"
    }
   },
   "cell_type": "code",
   "source": [
    "\n",
    "function('/home/acraf/psr/tfm/Fdatavalidation/DataProduct/Data/Explotation/UPENN-GBM_clinical_info_v2.1.csv')"
   ],
   "outputs": [
    {
     "data": {
      "text/plain": [
       "True"
      ]
     },
     "execution_count": 10,
     "metadata": {},
     "output_type": "execute_result"
    }
   ],
   "execution_count": 10
  }
 ]
}
