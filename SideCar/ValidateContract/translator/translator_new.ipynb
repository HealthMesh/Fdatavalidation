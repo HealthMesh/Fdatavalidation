{
 "nbformat": 4,
 "nbformat_minor": 0,
 "metadata": {
  "colab": {
   "provenance": [],
   "authorship_tag": "ABX9TyN4yKHO/AzEIKjUVcLREMGS"
  },
  "kernelspec": {
   "name": "python3",
   "display_name": "Python 3 (ipykernel)",
   "language": "python"
  },
  "language_info": {
   "name": "python"
  }
 },
 "cells": [
  {
   "metadata": {
    "ExecuteTime": {
     "end_time": "2024-09-19T13:33:18.109373Z",
     "start_time": "2024-09-19T13:33:18.096412Z"
    }
   },
   "cell_type": "code",
   "source": [
    "\n",
    "import os\n",
    "\n",
    "# Get the directory of the current script\n",
    "base_dir = os.getcwd()\n",
    "try:\n",
    "    if folder:\n",
    "        base_dir = os.path.join(base_dir, folder)\n",
    "except:\n",
    "    pass"
   ],
   "outputs": [],
   "execution_count": 669
  },
  {
   "cell_type": "code",
   "source": [
    "!pip install rdflib > /dev/null\n",
    "!pip install owlrl > /dev/null\n",
    "!pip install pyshacl > /dev/null\n",
    "!pip install autopep8 > /dev/null"
   ],
   "metadata": {
    "colab": {
     "base_uri": "https://localhost:8080/"
    },
    "id": "t3is2tXnQ_8l",
    "executionInfo": {
     "status": "ok",
     "timestamp": 1713774875103,
     "user_tz": -120,
     "elapsed": 13414,
     "user": {
      "displayName": "Achraf Hmimou",
      "userId": "15223621851022794490"
     }
    },
    "outputId": "b71b9038-4d7b-43d6-dc0a-fd590daaaa10",
    "ExecuteTime": {
     "end_time": "2024-09-19T13:33:18.265293Z",
     "start_time": "2024-09-19T13:33:18.158242Z"
    }
   },
   "outputs": [
    {
     "name": "stderr",
     "output_type": "stream",
     "text": [
      "El sistema no puede encontrar la ruta especificada.\n",
      "El sistema no puede encontrar la ruta especificada.\n",
      "El sistema no puede encontrar la ruta especificada.\n",
      "El sistema no puede encontrar la ruta especificada.\n"
     ]
    }
   ],
   "execution_count": 670
  },
  {
   "cell_type": "code",
   "source": [
    "from rdflib import *\n",
    "from owlrl import *\n",
    "from jinja2 import Template\n",
    "import types\n",
    "import pyshacl\n",
    "import functools\n",
    "import inspect\n",
    "import autopep8\n",
    "import json"
   ],
   "metadata": {
    "id": "kHjZOwhr28_o",
    "executionInfo": {
     "status": "ok",
     "timestamp": 1713774875104,
     "user_tz": -120,
     "elapsed": 10,
     "user": {
      "displayName": "Achraf Hmimou",
      "userId": "15223621851022794490"
     }
    },
    "ExecuteTime": {
     "end_time": "2024-09-19T13:33:18.327186Z",
     "start_time": "2024-09-19T13:33:18.314220Z"
    }
   },
   "outputs": [],
   "execution_count": 671
  },
  {
   "metadata": {
    "ExecuteTime": {
     "end_time": "2024-09-19T13:33:18.374059Z",
     "start_time": "2024-09-19T13:33:18.361094Z"
    }
   },
   "cell_type": "code",
   "source": [
    "tbox = Namespace('http://www.semanticweb.org/acraf/ontologies/2024/healthmesh/tbox#')\n",
    "abox = Namespace('http://www.semanticweb.org/acraf/ontologies/2024/healthmesh/abox#')\n",
    "dcat = Namespace('https://www.w3.org/ns/dcat#')\n",
    "dcterms = Namespace('http://purl.org/dc/terms/')\n",
    "tb = Namespace(\"http://www.semanticweb.org/acraf/ontologies/2021/0/SDM#\")\n",
    "odrl = Namespace(\"http://www.w3.org/ns/odrl/2/\")"
   ],
   "outputs": [],
   "execution_count": 672
  },
  {
   "metadata": {
    "ExecuteTime": {
     "end_time": "2024-09-19T13:33:18.452848Z",
     "start_time": "2024-09-19T13:33:18.438886Z"
    }
   },
   "cell_type": "code",
   "source": [
    "def add_jsonld_instances(graph, path):\n",
    "    # Adds JSON-LD instances to the graph\n",
    "    with open(path, 'r') as f:\n",
    "        json_ld_data = json.loads(f.read())\n",
    "        instances = Graph().parse(data=json_ld_data, format='json-ld')\n",
    "        graph += instances\n",
    "    \n",
    "    return graph"
   ],
   "outputs": [],
   "execution_count": 673
  },
  {
   "metadata": {
    "ExecuteTime": {
     "end_time": "2024-09-19T13:33:18.468453Z",
     "start_time": "2024-09-19T13:33:18.462468Z"
    }
   },
   "cell_type": "code",
   "source": [
    "def get_urii(uri):    \n",
    "    return uri.split(\"#\")[-1]\n"
   ],
   "outputs": [],
   "execution_count": 674
  },
  {
   "metadata": {},
   "cell_type": "markdown",
   "source": "# POLICYCHECKER TRANSLATOR"
  },
  {
   "metadata": {},
   "cell_type": "markdown",
   "source": "Given a Data Product, Output a DC IRs"
  },
  {
   "metadata": {
    "ExecuteTime": {
     "end_time": "2024-09-19T13:33:18.530288Z",
     "start_time": "2024-09-19T13:33:18.500369Z"
    }
   },
   "cell_type": "code",
   "source": [
    "import types\n",
    "import autopep8\n",
    "from jinja2 import Template\n",
    "from rdflib import Graph\n",
    "import time\n",
    "\n",
    "class Implementation(type):\n",
    "    def __init__(cls, name, bases, attrs):\n",
    "        super().__init__(name, bases, attrs)\n",
    "        cls.tg = cls._initialize_graph()\n",
    "        cls.ex = Graph()\n",
    "        cls.translation = None\n",
    "        cls.implementation = Graph()\n",
    "    \n",
    "    @staticmethod\n",
    "    def _initialize_graph():\n",
    "        tg = Graph()\n",
    "        tg.bind(\"tb\", \"http://www.semanticweb.org/acraf/ontologies/2024/healthmesh/tbox#\")\n",
    "        tg.bind(\"ab\", \"http://www.semanticweb.org/acraf/ontologies/2024/healthmesh/abox#\")\n",
    "        tg = add_jsonld_instances(tg, os.path.join(base_dir, 'translations_mappings.json'))\n",
    "        return tg\n",
    "        \n",
    "    def find_implementation(cls, operation, type):\n",
    "    \n",
    "        # Query the graph for its specific implementation\n",
    "        qres = cls.tg.query(\n",
    "            \"\"\"\n",
    "            SELECT ?impl\n",
    "            WHERE {\n",
    "                ?impl tb:forType ?type .\n",
    "                ?impl tb:forOp ?operation .\n",
    "            }\n",
    "            LIMIT 1\n",
    "            \"\"\",\n",
    "            initBindings={'type': type, 'operation': operation}\n",
    "        )\n",
    "        # Return row\n",
    "        for row in qres:\n",
    "            return row[0]\n",
    "        return None\n",
    "    \n",
    "    def _add_triples_recursively(cls, subject):\n",
    "        for s, p, o in cls.tg.triples((subject, None, None)):\n",
    "            cls.implementation.add((s, p, o))\n",
    "            if isinstance(o, rdflib.URIRef):\n",
    "                cls._add_triples_recursively(o)\n",
    "    \n",
    "    def _get_implementation_subgraph(cls, imp):\n",
    "        cls.translation = imp\n",
    "        cls._add_triples_recursively(imp)\n",
    "    \n",
    "    \n",
    "    def annotate_execution_times_and_results(cls):\n",
    "        def decorator(func):\n",
    "            def wrapper(*args, **kwargs):\n",
    "                start_time = time.time()\n",
    "                result = func(*args, **kwargs)\n",
    "                end_time = time.time()\n",
    "                EX = Namespace(\"http://example.org/ns#\")\n",
    "                execution_time = end_time - start_time\n",
    "                execution_node = URIRef(f\"http://example.org/execution/{cls.translation.split('#')[-1]}\")\n",
    "    \n",
    "                cls.ex.add((execution_node, RDF.type, EX.Execution))\n",
    "                cls.ex.add((execution_node, EX.executionTime, Literal(execution_time, datatype=XSD.decimal)))\n",
    "                cls.ex.add((execution_node, EX.intermediateResult, Literal(result)))\n",
    "                return result\n",
    "            return wrapper\n",
    "        return decorator\n",
    "    \n",
    "    def _translate_and_compile(cls, operation, template_str, context):\n",
    "        translation = cls.tg.value(subject=operation, predicate=tbox.hasTranslation)   \n",
    "        cls.translation = translation\n",
    "        try:\n",
    "            template = Template(template_str)\n",
    "            rendered_code = template.render(context)\n",
    "            fixed_code = autopep8.fix_code(rendered_code) \n",
    "            print(fixed_code)\n",
    "        except Exception as e:\n",
    "            print(\"Code Generation Error: \", e)\n",
    "            return None\n",
    "        \n",
    "        try:\n",
    "            compiled_code = compile(fixed_code, '', 'exec')\n",
    "            new_func = types.FunctionType(compiled_code.co_consts[0], globals(), translation)\n",
    "            #new_func = cls.annotate_execution_times_and_results()(new_func)  # Apply the decorator\n",
    "        except Exception as e:\n",
    "            print(\"Code Compilation Error: \", e)\n",
    "            return None\n",
    "        \n",
    "        return new_func\n",
    "    # additional methods here\n",
    "    "
   ],
   "outputs": [],
   "execution_count": 675
  },
  {
   "metadata": {
    "ExecuteTime": {
     "end_time": "2024-09-19T13:33:18.592122Z",
     "start_time": "2024-09-19T13:33:18.563200Z"
    }
   },
   "cell_type": "code",
   "source": [
    "class Operator(metaclass=Implementation):\n",
    "    \"\"\"\n",
    "    Operation Class\n",
    "    \"\"\"\n",
    "    \n",
    "    def __init__(self, operation, format=\"Tabular\"):\n",
    "        \n",
    "        # Static Metadata\n",
    "        self.tg = self.__class__.tg\n",
    "        # Format\n",
    "        self.format = format\n",
    "        # Implementation\n",
    "        self.implementation = Graph()\n",
    "        self.translation = None\n",
    "        # Function Implementaiton\n",
    "        self.f = self._init_func(operation)\n",
    "            \n",
    "    def _init_func(self, operation):\n",
    "        \"\"\"\n",
    "        Get the code associated with the operation\n",
    "        :param operation: operation\n",
    "        :return: python funcion \n",
    "        \"\"\"\n",
    "        \n",
    "        translation = self.__class__.find_implementation(operation, self.format) \n",
    "        if translation:\n",
    "            self.__class__._get_implementation_subgraph(translation)\n",
    "\n",
    "        self.translation = translation\n",
    "\n",
    "        code = self.tg.value(subject=translation, predicate=tbox.hasCode)\n",
    "        params = self.tg.objects(subject=translation, predicate=tbox.hasParameters)\n",
    "        dependencies = self.tg.objects(subject=translation, predicate=tbox.dependsOn)\n",
    "        params = [self.tg.value(subject=p, predicate=tbox.name) for p in params]\n",
    "        dependencies = [self.tg.value(subject=d, predicate=tbox.name) for d in dependencies]\n",
    "                        \n",
    "        c_path = self.tg.value(subject=code, predicate=tbox.code)\n",
    "        \n",
    "        codelines = str(c_path).split('\\n')\n",
    "        \n",
    "        context = {\n",
    "            \"name\": translation.split(\"#\")[1],\n",
    "            \"codelines\": codelines[0],\n",
    "            \"params\": params,\n",
    "            \"libraries\": dependencies\n",
    "        }\n",
    "        \n",
    "        # Implementation Template\n",
    "        template = \"\"\"\n",
    "        def {{ name }}({{\",\".join(params)}}, *args, **kwargs):\n",
    "            data = {{codelines}}\n",
    "            return data\n",
    "        \"\"\"\n",
    "        return self.__class__._translate_and_compile(operation, template, context)\n",
    "    \n",
    "    def get_func(self):\n",
    "        return self.f\n",
    "    \n",
    "    def get_implementaiton(self):\n",
    "        return self.translation, self.__class__.implementation\n"
   ],
   "outputs": [],
   "execution_count": 676
  },
  {
   "metadata": {
    "ExecuteTime": {
     "end_time": "2024-09-19T13:33:18.654955Z",
     "start_time": "2024-09-19T13:33:18.626033Z"
    }
   },
   "cell_type": "code",
   "source": [
    "class Operation(metaclass=Implementation):\n",
    "    \"\"\"\n",
    "    Operation Class\n",
    "    \"\"\"\n",
    "    \n",
    "    def __init__(self, operation, format=\"Tabular\"):\n",
    "        \n",
    "        # Static Metadata\n",
    "        self.tg = self.__class__.tg\n",
    "        # Format\n",
    "        self.format = format\n",
    "        # Implementation\n",
    "        self.implementation = Graph()\n",
    "        self.translation = None\n",
    "        # Function Implementaiton\n",
    "        self.f = self._init_func(operation)\n",
    "\n",
    "\n",
    "    def _init_func(self, operation):\n",
    "        \"\"\"\n",
    "        Get the code associated with the operation\n",
    "        :param operation: operation\n",
    "        :return: python funcion \n",
    "        \"\"\"\n",
    "        \n",
    "        translation = self.__class__.find_implementation(operation, self.format) \n",
    "        if translation:\n",
    "            self.__class__._get_implementation_subgraph(translation)\n",
    "            \n",
    "        self.translation = translation\n",
    "\n",
    "        code = self.tg.value(subject=translation, predicate=tbox.hasCode)\n",
    "        params = self.tg.objects(subject=translation, predicate=tbox.hasParameters)\n",
    "        dependencies = self.tg.objects(subject=translation, predicate=tbox.dependsOn)\n",
    "        params = [self.tg.value(subject=p, predicate=tbox.name) for p in params]\n",
    "        dependencies = [self.tg.value(subject=d, predicate=tbox.name) for d in dependencies]\n",
    "                        \n",
    "        c_path = self.tg.value(subject=code, predicate=tbox.code)\n",
    "        \n",
    "        codelines = str(c_path).split('\\n')\n",
    "        \n",
    "        context = {\n",
    "            \"name\": translation.split(\"#\")[1],\n",
    "            \"codelines\": codelines,\n",
    "            \"params\": params,\n",
    "            \"libraries\": dependencies\n",
    "        }\n",
    "        \n",
    "        # Implementation Template\n",
    "        template = \"\"\"\n",
    "        def {{ name }}({{\",\".join(params)}}, *args, **kwargs):\n",
    "        {% for library in libraries %}\n",
    "            import {{ library }}\n",
    "        {% endfor %}\n",
    "        \n",
    "        \n",
    "        {% for line in codelines %}\n",
    "            data = {{  line }}\n",
    "        {% endfor %}\n",
    "            return data\n",
    "        \"\"\"   \n",
    "        return self.__class__._translate_and_compile(operation, template, context)\n",
    "    \n",
    "    def get_func(self):\n",
    "        return self.f\n",
    "    \n",
    "    def get_implementaiton(self):\n",
    "        return self.translation, self.__class__.implementation\n"
   ],
   "outputs": [],
   "execution_count": 677
  },
  {
   "metadata": {
    "ExecuteTime": {
     "end_time": "2024-09-19T13:33:18.734520Z",
     "start_time": "2024-09-19T13:33:18.705597Z"
    }
   },
   "cell_type": "code",
   "source": [
    "class PCTranslator:\n",
    "    \"\"\"\n",
    "    Parse the PolicyChecker Operations to an executable Script\n",
    "    \"\"\"\n",
    "    def __init__(self, pc, graph, format=\"Tabular\"):\n",
    "        # Graph\n",
    "        self.g = graph\n",
    "        # PolicyChecker\n",
    "        self.pc = abox[pc]\n",
    "        # Format        \n",
    "        self.format = self.g.value(subject=self.pc, predicate=tbox.hasType)\n",
    "\n",
    "        \n",
    "        \n",
    "    def _validate_graph(self) -> bool:\n",
    "        \"\"\"\n",
    "        Validate the policies grammar is compliant with the grammar defined\n",
    "        :return: conformance/non-conformance\n",
    "        \"\"\"\n",
    "        from pyshacl import validate\n",
    "        shapes = Graph().parse(os.path.join(base_dir, 'pc_grammar.ttl'), format=\"turtle\")\n",
    "        conforms, report_graph, report_text = validate(self.g,shacl_graph=shapes)\n",
    "        #return boolean\n",
    "        return conforms\n",
    "    \n",
    "         \n",
    "    def _create_function_as_decorator(self, before_func=None, after_func=None, before_args={}, after_args={}) -> types.FunctionType:\n",
    "        def decorator(f):\n",
    "            def wrapper(*args, **kwargs):\n",
    "                if before_func is not None:\n",
    "                    before_func(*before_args)\n",
    "                data = f(*args, **kwargs)\n",
    "                if after_func is not None:\n",
    "                    #after_args[\"data\"] = data\n",
    "                    result = after_func(data=data, **after_args)\n",
    "                    return result \n",
    "                return data\n",
    "            return wrapper\n",
    "        return decorator\n",
    "    \n",
    "             \n",
    "    def _create_report_decorator(self, pc) -> types.FunctionType:\n",
    "        def decorator(f):\n",
    "            def wrapper(*args, **kwargs):\n",
    "                data = f(*args, **kwargs)\n",
    "                self.g.add((pc, tbox.result, Literal(data)))\n",
    "                self.g.serialize(os.path.join(base_dir, \"../../../FederatedComputationalGovernance/SemanticDataModel/sdm.ttl\"), format=\"turtle\")\n",
    "                return data\n",
    "            return wrapper\n",
    "        return decorator\n",
    "    \n",
    "    \n",
    "    def _get_func_parameters(self, f):\n",
    "        import inspect \n",
    "        return inspect.signature(f).parameters\n",
    "    \n",
    "    def _add_implementation_to_graph(self, imp, operation):\n",
    "        implementation, subimp = imp.get_implementaiton()\n",
    "        self.g += subimp\n",
    "        self.g.add((operation, tbox.hasTranslation, implementation))\n",
    "        return implementation\n",
    "\n",
    "    \n",
    "    def _operation_to_code(self, operation) -> types.FunctionType:\n",
    "        \n",
    "        # Operation type\n",
    "        operation_type = get_urii(str(self.g.value(subject=operation, predicate=RDF.type)))\n",
    "        \n",
    "        # Abstract Operation (i.e. LoadData)\n",
    "        abstract_op = self.g.value(subject=operation, predicate=tbox.hasAbstract)\n",
    "        kwargs = {}\n",
    "        \n",
    "        if operation_type == \"initOperation\" :\n",
    "            imp = Operation(abstract_op, self.format)\n",
    "            self._add_implementation_to_graph(imp, operation)\n",
    "            return imp.get_func()\n",
    "        \n",
    "        elif operation_type == \"Operation\":\n",
    "            imp = Operation(abstract_op, self.format)\n",
    "            self._add_implementation_to_graph(imp, operation)\n",
    "\n",
    "            attrs = self.g.objects(subject=operation, predicate=tbox.hasAttribute)\n",
    "            attrs = [str(a).split(\"#\")[1] for a in attrs]\n",
    "            \n",
    "            print(\"ATTRS: \", attrs)\n",
    "            kwargs[\"attr\"] = attrs[0]\n",
    "            \n",
    "            decorated_imp = self._create_function_as_decorator(after_func=imp.get_func(), after_args=kwargs)\n",
    "            return decorated_imp\n",
    "                        \n",
    "        elif operation_type == \"Operator\":   \n",
    "            imp = Operator(abstract_op, self.format)\n",
    "            self._add_implementation_to_graph(imp, operation)\n",
    "            \n",
    "            kwargs = {\n",
    "                \"lo\": self.g.value(subject=operation, predicate=tbox.lo),\n",
    "                \"ro\": float(str(self.g.value(subject=operation, predicate=tbox.ro)))\n",
    "            }\n",
    "            \n",
    "            decorated_imp = self._create_function_as_decorator(after_func=imp.get_func(), after_args=kwargs)\n",
    "            return decorated_imp\n",
    "            \n",
    "    def traverse_and_generate(self) -> types.FunctionType:\n",
    "        \"\"\"\n",
    "        Traverse the policy checker and generate the code\n",
    "        :param language: \n",
    "        :return: \n",
    "        \"\"\"\n",
    "        \n",
    "        # Get first operation \n",
    "        operation = self.g.value(subject=self.pc,predicate=tbox.nextStep)\n",
    "        function = None\n",
    "        \n",
    "        # Traverse the policy checker (path)\n",
    "        while operation:\n",
    "            \n",
    "            operation_type = get_urii(str(self.g.value(subject=operation, predicate=RDF.type)))\n",
    "            if operation_type == \"initOperation\":\n",
    "                function = self._operation_to_code(operation)\n",
    "            elif operation_type == \"Operation\" or operation_type == \"Operator\":\n",
    "                decorator = self._operation_to_code(operation)\n",
    "                function = decorator(function)            \n",
    "            elif operation_type == \"Report\":\n",
    "                decorator = self._create_report_decorator(operation)\n",
    "                function = decorator(function)\n",
    "                \n",
    "            operation = self.g.value(subject=operation,predicate=tbox.nextStep)\n",
    "            \n",
    "        return function\n",
    "        \n",
    "    def translate(self) -> types.FunctionType: \n",
    "        \"\"\"\n",
    "        Get the policies associated with a data product\n",
    "        :return: list of policies\n",
    "        \"\"\"\n",
    "        \n",
    "        #if self._validate_graph() == True:\n",
    "        #get policies\n",
    "        udf = self.traverse_and_generate()\n",
    "        return udf\n",
    "        #else:\n",
    "        #    raise Exception(\"Policy Checker is not compliant with the grammar\")\n",
    "        "
   ],
   "outputs": [],
   "execution_count": 678
  },
  {
   "metadata": {},
   "cell_type": "markdown",
   "source": "# Translate the Policy Checker"
  },
  {
   "metadata": {
    "ExecuteTime": {
     "end_time": "2024-09-19T13:33:18.923527Z",
     "start_time": "2024-09-19T13:33:18.750477Z"
    }
   },
   "cell_type": "code",
   "source": [
    "# Translate the Policy Checker \n",
    "graph = Graph().parse(os.path.join(base_dir, \"../../../FederatedComputationalGovernance/SemanticDataModel/sdm.ttl\"), format=\"turtle\")\n",
    "\n",
    "pc = \"6a9d7fc0-1468-422d-8e90-79ce657416a7\"\n",
    "\n",
    "function = PCTranslator(pc, graph).translate()\n",
    "function"
   ],
   "outputs": [
    {
     "name": "stdout",
     "output_type": "stream",
     "text": [
      "\n",
      "def Imp1(p, *args, **kwargs):\n",
      "\n",
      "    import pandas\n",
      "\n",
      "    data = pandas.read_csv(p)\n",
      "\n",
      "    return data\n",
      "\n",
      "\n",
      "def Imp10(attr, data, *args, **kwargs):\n",
      "\n",
      "    import pandas\n",
      "\n",
      "    data = (data[attr].count().sum() / len(data)) * 100\n",
      "\n",
      "    return data\n",
      "\n",
      "ATTRS:  ['Age_at_scan_years']\n",
      "\n",
      "def Imp4(data, ro, lo, *args, **kwargs):\n",
      "    data = data >= ro\n",
      "    return data\n",
      "\n"
     ]
    },
    {
     "data": {
      "text/plain": [
       "<function __main__.PCTranslator._create_report_decorator.<locals>.decorator.<locals>.wrapper(*args, **kwargs)>"
      ]
     },
     "execution_count": 679,
     "metadata": {},
     "output_type": "execute_result"
    }
   ],
   "execution_count": 679
  },
  {
   "metadata": {},
   "cell_type": "markdown",
   "source": "# Execute Policy Checker"
  },
  {
   "metadata": {
    "ExecuteTime": {
     "end_time": "2024-09-19T13:33:19.003315Z",
     "start_time": "2024-09-19T13:33:18.958436Z"
    }
   },
   "cell_type": "code",
   "source": [
    "initOP = graph.value(subject=abox[pc], predicate=tbox.nextStep)\n",
    "path = graph.value(subject=initOP, predicate=tbox.hasParameter)\n",
    "function(path)"
   ],
   "outputs": [
    {
     "data": {
      "text/plain": [
       "np.True_"
      ]
     },
     "execution_count": 680,
     "metadata": {},
     "output_type": "execute_result"
    }
   ],
   "execution_count": 680
  }
 ]
}
