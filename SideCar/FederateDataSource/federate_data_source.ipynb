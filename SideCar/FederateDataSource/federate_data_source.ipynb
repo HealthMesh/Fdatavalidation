{
 "nbformat": 4,
 "nbformat_minor": 0,
 "metadata": {
  "colab": {
   "provenance": [],
   "authorship_tag": "ABX9TyOKBj7CgNIl65qYTal2GaVV"
  },
  "kernelspec": {
   "name": "python3",
   "display_name": "Python 3 (ipykernel)",
   "language": "python"
  },
  "language_info": {
   "name": "python"
  }
 },
 "cells": [
  {
   "cell_type": "code",
   "metadata": {
    "colab": {
     "base_uri": "https://localhost:8080/"
    },
    "id": "cWn3_A9-Oyl1",
    "executionInfo": {
     "status": "ok",
     "timestamp": 1713548463306,
     "user_tz": -120,
     "elapsed": 28007,
     "user": {
      "displayName": "Achraf Hmimou",
      "userId": "15223621851022794490"
     }
    },
    "outputId": "13874c0a-42b9-4827-b970-6f080299d48e",
    "ExecuteTime": {
     "end_time": "2024-05-17T11:26:14.620735Z",
     "start_time": "2024-05-17T11:26:14.617602Z"
    }
   },
   "source": [
    "#from google.colab import drive\n",
    "#drive.mount(\"/content/drive\")"
   ],
   "execution_count": 57,
   "outputs": []
  },
  {
   "cell_type": "code",
   "source": [
    "!pip install rdflib\n",
    "!pip install pandas\n",
    "from rdflib import *\n",
    "from hashlib import sha256"
   ],
   "metadata": {
    "colab": {
     "base_uri": "https://localhost:8080/"
    },
    "id": "KsSMsFdRgCPO",
    "executionInfo": {
     "status": "ok",
     "timestamp": 1713548471588,
     "user_tz": -120,
     "elapsed": 8294,
     "user": {
      "displayName": "Achraf Hmimou",
      "userId": "15223621851022794490"
     }
    },
    "outputId": "7d5690b9-197e-4fd7-cd78-127805c7aa1f",
    "ExecuteTime": {
     "end_time": "2024-05-17T11:26:19.495793Z",
     "start_time": "2024-05-17T11:26:14.706036Z"
    }
   },
   "execution_count": 58,
   "outputs": []
  },
  {
   "cell_type": "markdown",
   "source": "# Create Source Graph",
   "metadata": {
    "id": "-guqsUZpPtD1"
   }
  },
  {
   "metadata": {
    "ExecuteTime": {
     "end_time": "2024-05-17T11:26:19.508772Z",
     "start_time": "2024-05-17T11:26:19.499498Z"
    }
   },
   "cell_type": "code",
   "source": [
    "schema = Graph()\n",
    "schema.bind('tb', 'http://www.semanticweb.org/acraf/ontologies/2024/healthmesh/tbox#')\n",
    "schema.bind('ab', 'http://www.semanticweb.org/acraf/ontologies/2024/healthmesh/abox#')\n",
    "tbox = Namespace('http://www.semanticweb.org/acraf/ontologies/2024/healthmesh/tbox#')\n",
    "abox = Namespace('http://www.semanticweb.org/acraf/ontologies/2024/healthmesh/abox#')\n",
    "dcat = Namespace('https://www.w3.org/ns/dcat#')\n",
    "dcterms = Namespace('http://purl.org/dc/terms/')\n",
    "dqv = Namespace('http://www.w3.org/ns/dqv#')"
   ],
   "execution_count": 59,
   "outputs": []
  },
  {
   "metadata": {},
   "cell_type": "markdown",
   "source": "## Load Data"
  },
  {
   "cell_type": "code",
   "source": [
    "import pandas as pd"
   ],
   "metadata": {
    "id": "4CmhFn87Pvf0",
    "executionInfo": {
     "status": "ok",
     "timestamp": 1713548473752,
     "user_tz": -120,
     "elapsed": 431,
     "user": {
      "displayName": "Achraf Hmimou",
      "userId": "15223621851022794490"
     }
    },
    "ExecuteTime": {
     "end_time": "2024-05-17T11:26:19.524805Z",
     "start_time": "2024-05-17T11:26:19.511096Z"
    }
   },
   "execution_count": 60,
   "outputs": []
  },
  {
   "cell_type": "code",
   "source": [
    "data_path = '/home/acraf/psr/tfm/Fdatavalidation/DataProduct/Data/Explotation/UPENN-GBM_clinical_info_v2.1.csv'\n",
    "df = pd.read_csv(data_path)\n",
    "df.info()"
   ],
   "metadata": {
    "id": "VVzefu5rPTky",
    "executionInfo": {
     "status": "ok",
     "timestamp": 1713548474258,
     "user_tz": -120,
     "elapsed": 512,
     "user": {
      "displayName": "Achraf Hmimou",
      "userId": "15223621851022794490"
     }
    },
    "ExecuteTime": {
     "end_time": "2024-05-17T11:26:19.563666Z",
     "start_time": "2024-05-17T11:26:19.530236Z"
    }
   },
   "execution_count": 61,
   "outputs": []
  },
  {
   "cell_type": "markdown",
   "source": "## Data Product Profile",
   "metadata": {
    "id": "p1pqIgj1EiRv"
   }
  },
  {
   "metadata": {},
   "cell_type": "markdown",
   "source": "### OWNER"
  },
  {
   "metadata": {
    "ExecuteTime": {
     "end_time": "2024-05-17T11:26:19.573674Z",
     "start_time": "2024-05-17T11:26:19.567691Z"
    }
   },
   "cell_type": "code",
   "source": "metadata_path = \"/home/acraf/psr/tfm/Fdatavalidation/DataProduct/Metadata/explotaiton.csv\"",
   "execution_count": 62,
   "outputs": []
  },
  {
   "cell_type": "code",
   "source": [
    "meta_df = pd.read_csv(metadata_path)\n",
    "meta_dp = meta_df.loc[meta_df['name'] == \"UPENN-GBM_clinical_info_v2\"]\n",
    "owner = meta_dp.owner.values[0]\n"
   ],
   "metadata": {
    "colab": {
     "base_uri": "https://localhost:8080/",
     "height": 81
    },
    "id": "YHMYL5UvGYeu",
    "executionInfo": {
     "status": "ok",
     "timestamp": 1713548475987,
     "user_tz": -120,
     "elapsed": 1033,
     "user": {
      "displayName": "Achraf Hmimou",
      "userId": "15223621851022794490"
     }
    },
    "outputId": "a79b883f-d8f3-458a-be16-43dbd82ea0a5",
    "ExecuteTime": {
     "end_time": "2024-05-17T11:26:19.595336Z",
     "start_time": "2024-05-17T11:26:19.576540Z"
    }
   },
   "execution_count": 63,
   "outputs": []
  },
  {
   "cell_type": "markdown",
   "source": "### NAME",
   "metadata": {
    "id": "cOCQNMyWjWai"
   }
  },
  {
   "cell_type": "code",
   "source": [
    "dataset_name = meta_dp.name.values[0]\n",
    "dataset_name"
   ],
   "metadata": {
    "id": "SqR_1q33gvQd",
    "executionInfo": {
     "status": "ok",
     "timestamp": 1713548476427,
     "user_tz": -120,
     "elapsed": 56,
     "user": {
      "displayName": "Achraf Hmimou",
      "userId": "15223621851022794490"
     }
    },
    "colab": {
     "base_uri": "https://localhost:8080/",
     "height": 35
    },
    "outputId": "9c5093a3-f31a-49d3-8077-d02c6c4972f2",
    "ExecuteTime": {
     "end_time": "2024-05-17T11:26:19.609488Z",
     "start_time": "2024-05-17T11:26:19.599262Z"
    }
   },
   "execution_count": 64,
   "outputs": []
  },
  {
   "metadata": {},
   "cell_type": "markdown",
   "source": "add triples"
  },
  {
   "cell_type": "code",
   "source": [
    "# Name\n",
    "schema.add((abox[dataset_name], RDF.type, dcat.Dataset))\n",
    "#identifier\n",
    "identifier = sha256(dataset_name.encode('utf-8')).hexdigest()\n",
    "schema.add((abox[dataset_name],dcterms.identifier, Literal(identifier)))\n",
    "#owner\n",
    "schema.add((abox[dataset_name], tbox.owner, Literal(owner)))\n",
    "\n",
    "\n"
   ],
   "metadata": {
    "id": "eBWa940rbvZ-",
    "executionInfo": {
     "status": "ok",
     "timestamp": 1713548476428,
     "user_tz": -120,
     "elapsed": 54,
     "user": {
      "displayName": "Achraf Hmimou",
      "userId": "15223621851022794490"
     }
    },
    "ExecuteTime": {
     "end_time": "2024-05-17T11:26:19.627323Z",
     "start_time": "2024-05-17T11:26:19.611906Z"
    }
   },
   "execution_count": 65,
   "outputs": []
  },
  {
   "metadata": {},
   "cell_type": "markdown",
   "source": "### ATTRIBUTES\n"
  },
  {
   "metadata": {
    "ExecuteTime": {
     "end_time": "2024-05-17T11:26:19.642309Z",
     "start_time": "2024-05-17T11:26:19.630372Z"
    }
   },
   "cell_type": "code",
   "source": [
    "for column in df.columns:\n",
    "    # Create RDF triple for Attribute\n",
    "    schema.add((abox[column], RDF.type, tbox.Attribute))\n",
    "    # Create RDF triple for Attribute\n",
    "    schema.add((abox[dataset_name], tbox.hasAttribute, abox[column]))\n",
    "    # rdf for the dataproperty\n",
    "    schema.add((abox[column], tbox.attribute, Literal(column)))\n",
    "\n",
    "\n"
   ],
   "execution_count": 66,
   "outputs": []
  },
  {
   "cell_type": "markdown",
   "source": [
    "## DatasetTypeTemplate"
   ],
   "metadata": {
    "id": "adtA5TxYjTR1"
   }
  },
  {
   "metadata": {},
   "cell_type": "markdown",
   "source": "### Format"
  },
  {
   "cell_type": "code",
   "source": [
    "format = meta_dp.format.values[0]\n",
    "format"
   ],
   "metadata": {
    "id": "fAMZ3dDQk8nv",
    "executionInfo": {
     "status": "ok",
     "timestamp": 1713548476428,
     "user_tz": -120,
     "elapsed": 45,
     "user": {
      "displayName": "Achraf Hmimou",
      "userId": "15223621851022794490"
     }
    },
    "colab": {
     "base_uri": "https://localhost:8080/",
     "height": 35
    },
    "outputId": "abc99a38-a334-4d5f-a214-67d122c480b8",
    "ExecuteTime": {
     "end_time": "2024-05-17T11:26:19.665292Z",
     "start_time": "2024-05-17T11:26:19.646781Z"
    }
   },
   "execution_count": 67,
   "outputs": []
  },
  {
   "cell_type": "code",
   "source": [
    "# triple\n",
    "schema.add((abox.Tabular, RDF.type, tbox.DatasetTypeTemplate))\n",
    "\n",
    "# format\n",
    "schema.add((abox.Tabular, dcterms['format'], Literal(format)))  # Correct usage of the namespace\n",
    "\n",
    "# addDTT\n",
    "schema.add((abox[dataset_name], tbox.hasDTT, abox.Tabular))\n"
   ],
   "metadata": {
    "id": "s-TgsXehjVWY",
    "executionInfo": {
     "status": "ok",
     "timestamp": 1713548476429,
     "user_tz": -120,
     "elapsed": 43,
     "user": {
      "displayName": "Achraf Hmimou",
      "userId": "15223621851022794490"
     }
    },
    "ExecuteTime": {
     "end_time": "2024-05-17T11:26:19.691531Z",
     "start_time": "2024-05-17T11:26:19.670011Z"
    }
   },
   "execution_count": 68,
   "outputs": []
  },
  {
   "cell_type": "markdown",
   "source": [
    "### TechnologyAspects"
   ],
   "metadata": {
    "id": "i5_QGqixtaQ2"
   }
  },
  {
   "metadata": {
    "ExecuteTime": {
     "end_time": "2024-05-17T11:26:19.712521Z",
     "start_time": "2024-05-17T11:26:19.694041Z"
    }
   },
   "cell_type": "code",
   "source": [
    "#triple\n",
    "schema.add((abox.TA1, RDF.type, tbox.TechnologyAspects))\n",
    "\n",
    "#  addTA\n",
    "schema.add((abox[dataset_name], tbox.hasTA, abox.TA1))\n",
    "\n",
    "#TYPE\n",
    "schema.add((abox.TA1, tbox.typeAcces, abox.Static))\n",
    "schema.add((abox.Static, RDF.type, tbox.Acces))\n",
    "\n",
    "# PATH\n",
    "schema.add((abox.Static, tbox.path, Literal(data_path)))\n"
   ],
   "execution_count": 69,
   "outputs": []
  },
  {
   "metadata": {},
   "cell_type": "markdown",
   "source": "# SAVE SOURCE_GRAPH"
  },
  {
   "cell_type": "code",
   "source": [
    "rdf_format = \"turtle\"\n",
    "schema.serialize(destination=\"./schema_metadata.ttl\", format=rdf_format)"
   ],
   "metadata": {
    "colab": {
     "base_uri": "https://localhost:8080/"
    },
    "id": "_5GS_wogzBRV",
    "executionInfo": {
     "status": "ok",
     "timestamp": 1713548492387,
     "user_tz": -120,
     "elapsed": 841,
     "user": {
      "displayName": "Achraf Hmimou",
      "userId": "15223621851022794490"
     }
    },
    "outputId": "d69f4992-d842-4240-f331-1ce4bf730343",
    "ExecuteTime": {
     "end_time": "2024-05-17T11:26:19.734544Z",
     "start_time": "2024-05-17T11:26:19.715005Z"
    }
   },
   "execution_count": 70,
   "outputs": []
  }
 ]
}
