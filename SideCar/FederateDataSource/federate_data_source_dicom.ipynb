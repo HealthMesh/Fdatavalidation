{
 "nbformat": 4,
 "nbformat_minor": 0,
 "metadata": {
  "colab": {
   "provenance": [],
   "authorship_tag": "ABX9TyOKBj7CgNIl65qYTal2GaVV"
  },
  "kernelspec": {
   "name": "python3",
   "display_name": "Python 3 (ipykernel)",
   "language": "python"
  },
  "language_info": {
   "name": "python"
  }
 },
 "cells": [
  {
   "cell_type": "code",
   "metadata": {
    "colab": {
     "base_uri": "https://localhost:8080/"
    },
    "id": "cWn3_A9-Oyl1",
    "executionInfo": {
     "status": "ok",
     "timestamp": 1713548463306,
     "user_tz": -120,
     "elapsed": 28007,
     "user": {
      "displayName": "Achraf Hmimou",
      "userId": "15223621851022794490"
     }
    },
    "outputId": "13874c0a-42b9-4827-b970-6f080299d48e",
    "ExecuteTime": {
     "end_time": "2024-05-22T21:51:55.092889Z",
     "start_time": "2024-05-22T21:51:55.089799Z"
    }
   },
   "source": [
    "#from google.colab import drive\n",
    "#drive.mount(\"/content/drive\")"
   ],
   "outputs": [],
   "execution_count": 73
  },
  {
   "cell_type": "code",
   "source": [
    "!pip install rdflib\n",
    "!pip install pydicom\n",
    "from rdflib import *\n",
    "from hashlib import sha256"
   ],
   "metadata": {
    "colab": {
     "base_uri": "https://localhost:8080/"
    },
    "id": "KsSMsFdRgCPO",
    "executionInfo": {
     "status": "ok",
     "timestamp": 1713548471588,
     "user_tz": -120,
     "elapsed": 8294,
     "user": {
      "displayName": "Achraf Hmimou",
      "userId": "15223621851022794490"
     }
    },
    "outputId": "7d5690b9-197e-4fd7-cd78-127805c7aa1f",
    "ExecuteTime": {
     "end_time": "2024-05-22T21:51:59.305429Z",
     "start_time": "2024-05-22T21:51:55.202287Z"
    }
   },
   "outputs": [
    {
     "name": "stdout",
     "output_type": "stream",
     "text": [
      "Requirement already satisfied: rdflib in /home/acraf/psr/tfm/Fdatavalidation/venv/lib/python3.11/site-packages (7.0.0)\r\n",
      "Requirement already satisfied: isodate<0.7.0,>=0.6.0 in /home/acraf/psr/tfm/Fdatavalidation/venv/lib/python3.11/site-packages (from rdflib) (0.6.1)\r\n",
      "Requirement already satisfied: pyparsing<4,>=2.1.0 in /home/acraf/psr/tfm/Fdatavalidation/venv/lib/python3.11/site-packages (from rdflib) (3.1.2)\r\n",
      "Requirement already satisfied: six in /home/acraf/psr/tfm/Fdatavalidation/venv/lib/python3.11/site-packages (from isodate<0.7.0,>=0.6.0->rdflib) (1.16.0)\r\n",
      "\r\n",
      "\u001B[1m[\u001B[0m\u001B[34;49mnotice\u001B[0m\u001B[1;39;49m]\u001B[0m\u001B[39;49m A new release of pip is available: \u001B[0m\u001B[31;49m23.2.1\u001B[0m\u001B[39;49m -> \u001B[0m\u001B[32;49m24.0\u001B[0m\r\n",
      "\u001B[1m[\u001B[0m\u001B[34;49mnotice\u001B[0m\u001B[1;39;49m]\u001B[0m\u001B[39;49m To update, run: \u001B[0m\u001B[32;49mpip install --upgrade pip\u001B[0m\r\n",
      "Requirement already satisfied: pydicom in /home/acraf/psr/tfm/Fdatavalidation/venv/lib/python3.11/site-packages (2.4.4)\r\n",
      "\r\n",
      "\u001B[1m[\u001B[0m\u001B[34;49mnotice\u001B[0m\u001B[1;39;49m]\u001B[0m\u001B[39;49m A new release of pip is available: \u001B[0m\u001B[31;49m23.2.1\u001B[0m\u001B[39;49m -> \u001B[0m\u001B[32;49m24.0\u001B[0m\r\n",
      "\u001B[1m[\u001B[0m\u001B[34;49mnotice\u001B[0m\u001B[1;39;49m]\u001B[0m\u001B[39;49m To update, run: \u001B[0m\u001B[32;49mpip install --upgrade pip\u001B[0m\r\n"
     ]
    }
   ],
   "execution_count": 74
  },
  {
   "cell_type": "markdown",
   "source": "# Create Source Graph",
   "metadata": {
    "id": "-guqsUZpPtD1"
   }
  },
  {
   "metadata": {
    "ExecuteTime": {
     "end_time": "2024-05-22T21:51:59.315095Z",
     "start_time": "2024-05-22T21:51:59.308340Z"
    }
   },
   "cell_type": "code",
   "source": [
    "schema = Graph()\n",
    "schema.bind('tb', 'http://www.semanticweb.org/acraf/ontologies/2024/healthmesh/tbox#')\n",
    "schema.bind('ab', 'http://www.semanticweb.org/acraf/ontologies/2024/healthmesh/abox#')\n",
    "tbox = Namespace('http://www.semanticweb.org/acraf/ontologies/2024/healthmesh/tbox#')\n",
    "abox = Namespace('http://www.semanticweb.org/acraf/ontologies/2024/healthmesh/abox#')\n",
    "dcat = Namespace('https://www.w3.org/ns/dcat#')\n",
    "dcterms = Namespace('http://purl.org/dc/terms/')\n",
    "dqv = Namespace('http://www.w3.org/ns/dqv#')"
   ],
   "outputs": [],
   "execution_count": 75
  },
  {
   "metadata": {},
   "cell_type": "markdown",
   "source": "## Load Data"
  },
  {
   "cell_type": "code",
   "source": [
    "import pandas as pd"
   ],
   "metadata": {
    "id": "4CmhFn87Pvf0",
    "executionInfo": {
     "status": "ok",
     "timestamp": 1713548473752,
     "user_tz": -120,
     "elapsed": 431,
     "user": {
      "displayName": "Achraf Hmimou",
      "userId": "15223621851022794490"
     }
    },
    "ExecuteTime": {
     "end_time": "2024-05-22T21:51:59.330109Z",
     "start_time": "2024-05-22T21:51:59.317529Z"
    }
   },
   "outputs": [],
   "execution_count": 76
  },
  {
   "metadata": {
    "ExecuteTime": {
     "end_time": "2024-05-22T21:51:59.344453Z",
     "start_time": "2024-05-22T21:51:59.332857Z"
    }
   },
   "cell_type": "code",
   "source": "import pydicom",
   "outputs": [],
   "execution_count": 77
  },
  {
   "cell_type": "code",
   "source": [
    "ds = pydicom.dcmread('/home/acraf/psr/tfm/Fdatavalidation/DataProduct/Data/Explotation/0002.DCM')\n",
    "\n",
    "# Print some header information\n",
    "print(\"Patient's Name: \", ds.PatientName)\n",
    "print(\"Patient ID: \", ds.PatientID)\n",
    "print(\"Modality: \", ds.Modality)\n",
    "print(\"Study Date: \", ds.StudyDate)"
   ],
   "metadata": {
    "id": "VVzefu5rPTky",
    "executionInfo": {
     "status": "ok",
     "timestamp": 1713548474258,
     "user_tz": -120,
     "elapsed": 512,
     "user": {
      "displayName": "Achraf Hmimou",
      "userId": "15223621851022794490"
     }
    },
    "ExecuteTime": {
     "end_time": "2024-05-22T21:51:59.364349Z",
     "start_time": "2024-05-22T21:51:59.345844Z"
    }
   },
   "outputs": [
    {
     "name": "stdout",
     "output_type": "stream",
     "text": [
      "Patient's Name:  Rubo DEMO\n",
      "Patient ID:  556342B\n",
      "Modality:  XA\n",
      "Study Date:  19941013\n"
     ]
    }
   ],
   "execution_count": 78
  },
  {
   "cell_type": "markdown",
   "source": "## Data Product Profile",
   "metadata": {
    "id": "p1pqIgj1EiRv"
   }
  },
  {
   "metadata": {},
   "cell_type": "markdown",
   "source": "### OWNER"
  },
  {
   "metadata": {
    "ExecuteTime": {
     "end_time": "2024-05-22T21:51:59.372703Z",
     "start_time": "2024-05-22T21:51:59.365574Z"
    }
   },
   "cell_type": "code",
   "source": "metadata_path = \"/home/acraf/psr/tfm/Fdatavalidation/DataProduct/Metadata/explotaiton.csv\"",
   "outputs": [],
   "execution_count": 79
  },
  {
   "cell_type": "code",
   "source": [
    "meta_df = pd.read_csv(metadata_path)\n",
    "meta_dp = meta_df.loc[meta_df['name'] == \"UPENN-GBM_clinical_info_v2\"]\n",
    "owner = meta_dp.owner.values[0]\n"
   ],
   "metadata": {
    "colab": {
     "base_uri": "https://localhost:8080/",
     "height": 81
    },
    "id": "YHMYL5UvGYeu",
    "executionInfo": {
     "status": "ok",
     "timestamp": 1713548475987,
     "user_tz": -120,
     "elapsed": 1033,
     "user": {
      "displayName": "Achraf Hmimou",
      "userId": "15223621851022794490"
     }
    },
    "outputId": "a79b883f-d8f3-458a-be16-43dbd82ea0a5",
    "ExecuteTime": {
     "end_time": "2024-05-22T21:51:59.391040Z",
     "start_time": "2024-05-22T21:51:59.374853Z"
    }
   },
   "outputs": [],
   "execution_count": 80
  },
  {
   "cell_type": "markdown",
   "source": "### NAME",
   "metadata": {
    "id": "cOCQNMyWjWai"
   }
  },
  {
   "cell_type": "code",
   "source": [
    "dataset_name = \"dicomimage\"\n",
    "dataset_name"
   ],
   "metadata": {
    "id": "SqR_1q33gvQd",
    "executionInfo": {
     "status": "ok",
     "timestamp": 1713548476427,
     "user_tz": -120,
     "elapsed": 56,
     "user": {
      "displayName": "Achraf Hmimou",
      "userId": "15223621851022794490"
     }
    },
    "colab": {
     "base_uri": "https://localhost:8080/",
     "height": 35
    },
    "outputId": "9c5093a3-f31a-49d3-8077-d02c6c4972f2",
    "ExecuteTime": {
     "end_time": "2024-05-22T21:51:59.400243Z",
     "start_time": "2024-05-22T21:51:59.392627Z"
    }
   },
   "outputs": [
    {
     "data": {
      "text/plain": [
       "'dicomimage'"
      ]
     },
     "execution_count": 81,
     "metadata": {},
     "output_type": "execute_result"
    }
   ],
   "execution_count": 81
  },
  {
   "metadata": {},
   "cell_type": "markdown",
   "source": "add triples"
  },
  {
   "cell_type": "code",
   "source": [
    "# Name\n",
    "schema.add((abox[dataset_name], RDF.type, dcat.Dataset))\n",
    "#identifier\n",
    "identifier = sha256(dataset_name.encode('utf-8')).hexdigest()\n",
    "schema.add((abox[dataset_name],dcterms.identifier, Literal(identifier)))\n",
    "#owner\n",
    "schema.add((abox[dataset_name], tbox.owner, Literal(owner)))\n",
    "\n",
    "\n"
   ],
   "metadata": {
    "id": "eBWa940rbvZ-",
    "executionInfo": {
     "status": "ok",
     "timestamp": 1713548476428,
     "user_tz": -120,
     "elapsed": 54,
     "user": {
      "displayName": "Achraf Hmimou",
      "userId": "15223621851022794490"
     }
    },
    "ExecuteTime": {
     "end_time": "2024-05-22T21:51:59.410682Z",
     "start_time": "2024-05-22T21:51:59.401595Z"
    }
   },
   "outputs": [
    {
     "data": {
      "text/plain": [
       "<Graph identifier=N9d22fb4f3b354c67affc41b97b1c4f3c (<class 'rdflib.graph.Graph'>)>"
      ]
     },
     "execution_count": 82,
     "metadata": {},
     "output_type": "execute_result"
    }
   ],
   "execution_count": 82
  },
  {
   "metadata": {},
   "cell_type": "markdown",
   "source": "### ATTRIBUTES\n"
  },
  {
   "metadata": {
    "ExecuteTime": {
     "end_time": "2024-05-22T21:51:59.426454Z",
     "start_time": "2024-05-22T21:51:59.413757Z"
    }
   },
   "cell_type": "code",
   "source": [
    "# Iterate over all attributes\n",
    "for attribute in dir(ds)[:50]:\n",
    "    # Check if the attribute starts with a letter\n",
    "    # This is to filter out Python built-in attributes\n",
    "    if attribute[0].isalpha():\n",
    "        # Check if the attribute exists in the DICOM file\n",
    "        if hasattr(ds, attribute):\n",
    "            # Create RDF triple for Attribute\n",
    "            schema.add((abox[attribute], RDF.type, tbox.Attribute))\n",
    "            # Create RDF triple for Attribute\n",
    "            schema.add((abox[dataset_name], tbox.hasAttribute, abox[attribute]))\n",
    "            # rdf for the dataproperty\n",
    "            schema.add((abox[attribute], tbox.attribute, Literal(attribute)))\n",
    "\n"
   ],
   "outputs": [],
   "execution_count": 83
  },
  {
   "cell_type": "markdown",
   "source": [
    "## DatasetTypeTemplate"
   ],
   "metadata": {
    "id": "adtA5TxYjTR1"
   }
  },
  {
   "metadata": {},
   "cell_type": "markdown",
   "source": "### Format"
  },
  {
   "cell_type": "code",
   "source": "format = 'dicom'",
   "metadata": {
    "id": "fAMZ3dDQk8nv",
    "executionInfo": {
     "status": "ok",
     "timestamp": 1713548476428,
     "user_tz": -120,
     "elapsed": 45,
     "user": {
      "displayName": "Achraf Hmimou",
      "userId": "15223621851022794490"
     }
    },
    "colab": {
     "base_uri": "https://localhost:8080/",
     "height": 35
    },
    "outputId": "abc99a38-a334-4d5f-a214-67d122c480b8",
    "ExecuteTime": {
     "end_time": "2024-05-22T21:51:59.437782Z",
     "start_time": "2024-05-22T21:51:59.427891Z"
    }
   },
   "outputs": [],
   "execution_count": 84
  },
  {
   "cell_type": "code",
   "source": [
    "# triple\n",
    "schema.add((abox.Image, RDF.type, tbox.DatasetTypeTemplate))\n",
    "\n",
    "# format\n",
    "schema.add((abox.Image, dcterms['format'], Literal(format)))  # Correct usage of the namespace\n",
    "\n",
    "# addDTT\n",
    "schema.add((abox[dataset_name], tbox.hasDTT, abox.Image))\n"
   ],
   "metadata": {
    "id": "s-TgsXehjVWY",
    "executionInfo": {
     "status": "ok",
     "timestamp": 1713548476429,
     "user_tz": -120,
     "elapsed": 43,
     "user": {
      "displayName": "Achraf Hmimou",
      "userId": "15223621851022794490"
     }
    },
    "ExecuteTime": {
     "end_time": "2024-05-22T21:51:59.446734Z",
     "start_time": "2024-05-22T21:51:59.439754Z"
    }
   },
   "outputs": [
    {
     "data": {
      "text/plain": [
       "<Graph identifier=N9d22fb4f3b354c67affc41b97b1c4f3c (<class 'rdflib.graph.Graph'>)>"
      ]
     },
     "execution_count": 85,
     "metadata": {},
     "output_type": "execute_result"
    }
   ],
   "execution_count": 85
  },
  {
   "cell_type": "markdown",
   "source": [
    "### TechnologyAspects"
   ],
   "metadata": {
    "id": "i5_QGqixtaQ2"
   }
  },
  {
   "metadata": {
    "ExecuteTime": {
     "end_time": "2024-05-22T21:51:59.457031Z",
     "start_time": "2024-05-22T21:51:59.447942Z"
    }
   },
   "cell_type": "code",
   "source": [
    "#triple\n",
    "schema.add((abox.TA1, RDF.type, tbox.TechnologyAspects))\n",
    "\n",
    "#  addTA\n",
    "schema.add((abox[dataset_name], tbox.hasTA, abox.TA1))\n",
    "\n",
    "#TYPE\n",
    "schema.add((abox.TA1, tbox.typeAcces, abox.Static))\n",
    "schema.add((abox.Static, RDF.type, tbox.Acces))\n",
    "\n",
    "# PATH\n",
    "data_path = \"/home/acraf/psr/tfm/Fdatavalidation/DataProduct/Data/Explotation/0002.DCM\"\n",
    "schema.add((abox.Static, tbox.path, Literal(data_path)))\n"
   ],
   "outputs": [
    {
     "data": {
      "text/plain": [
       "<Graph identifier=N9d22fb4f3b354c67affc41b97b1c4f3c (<class 'rdflib.graph.Graph'>)>"
      ]
     },
     "execution_count": 86,
     "metadata": {},
     "output_type": "execute_result"
    }
   ],
   "execution_count": 86
  },
  {
   "metadata": {},
   "cell_type": "markdown",
   "source": "# SAVE SOURCE_GRAPH"
  },
  {
   "cell_type": "code",
   "source": [
    "rdf_format = \"turtle\"\n",
    "schema.serialize(destination=\"./schema_metadata_dicom.ttl\", format=rdf_format)"
   ],
   "metadata": {
    "colab": {
     "base_uri": "https://localhost:8080/"
    },
    "id": "_5GS_wogzBRV",
    "executionInfo": {
     "status": "ok",
     "timestamp": 1713548492387,
     "user_tz": -120,
     "elapsed": 841,
     "user": {
      "displayName": "Achraf Hmimou",
      "userId": "15223621851022794490"
     }
    },
    "outputId": "d69f4992-d842-4240-f331-1ce4bf730343",
    "ExecuteTime": {
     "end_time": "2024-05-22T21:51:59.467068Z",
     "start_time": "2024-05-22T21:51:59.458375Z"
    }
   },
   "outputs": [
    {
     "data": {
      "text/plain": [
       "<Graph identifier=N9d22fb4f3b354c67affc41b97b1c4f3c (<class 'rdflib.graph.Graph'>)>"
      ]
     },
     "execution_count": 87,
     "metadata": {},
     "output_type": "execute_result"
    }
   ],
   "execution_count": 87
  }
 ]
}
