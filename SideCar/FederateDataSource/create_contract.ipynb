{
 "nbformat": 4,
 "nbformat_minor": 0,
 "metadata": {
  "colab": {
   "provenance": [],
   "authorship_tag": "ABX9TyNnF92x2yptBfQivng3aQGu"
  },
  "kernelspec": {
   "name": "python3",
   "display_name": "Python 3 (ipykernel)",
   "language": "python"
  },
  "language_info": {
   "name": "python"
  }
 },
 "cells": [
  {
   "cell_type": "code",
   "source": "from rdflib import *",
   "metadata": {
    "id": "JVqPKPKqgBsX",
    "executionInfo": {
     "status": "ok",
     "timestamp": 1713548547861,
     "user_tz": -120,
     "elapsed": 423,
     "user": {
      "displayName": "Achraf Hmimou",
      "userId": "15223621851022794490"
     }
    },
    "ExecuteTime": {
     "end_time": "2024-05-20T16:09:47.292804Z",
     "start_time": "2024-05-20T16:09:47.103732Z"
    }
   },
   "outputs": [],
   "execution_count": 1
  },
  {
   "metadata": {
    "ExecuteTime": {
     "end_time": "2024-05-20T16:09:47.303561Z",
     "start_time": "2024-05-20T16:09:47.296841Z"
    }
   },
   "cell_type": "code",
   "source": [
    "tbox = Namespace('http://www.semanticweb.org/acraf/ontologies/2024/healthmesh/tbox#')\n",
    "abox = Namespace('http://www.semanticweb.org/acraf/ontologies/2024/healthmesh/abox#')\n",
    "dcat = Namespace('https://www.w3.org/ns/dcat#')\n",
    "dcterms = Namespace('http://purl.org/dc/terms/')\n",
    "dqv = Namespace('http://www.w3.org/ns/dqv#')"
   ],
   "outputs": [],
   "execution_count": 2
  },
  {
   "cell_type": "markdown",
   "source": [
    "# Load Schema + Metadata"
   ],
   "metadata": {
    "id": "-guqsUZpPtD1"
   }
  },
  {
   "cell_type": "code",
   "source": [
    "# Load your RDF ontology file\n",
    "schema_metadata = Graph()\n",
    "schema_metadata.parse(\"./schema_metadata.ttl\")\n"
   ],
   "metadata": {
    "colab": {
     "base_uri": "https://localhost:8080/"
    },
    "id": "-9jnGCPfyCVA",
    "executionInfo": {
     "status": "ok",
     "timestamp": 1713548549804,
     "user_tz": -120,
     "elapsed": 625,
     "user": {
      "displayName": "Achraf Hmimou",
      "userId": "15223621851022794490"
     }
    },
    "outputId": "3915adaf-a38c-4e4a-d0c5-87e4befc0c34",
    "ExecuteTime": {
     "end_time": "2024-05-20T16:09:47.346094Z",
     "start_time": "2024-05-20T16:09:47.306422Z"
    }
   },
   "outputs": [
    {
     "data": {
      "text/plain": [
       "<Graph identifier=Nd59d76585b9e4b038ce3d214cccb0e0e (<class 'rdflib.graph.Graph'>)>"
      ]
     },
     "execution_count": 3,
     "metadata": {},
     "output_type": "execute_result"
    }
   ],
   "execution_count": 3
  },
  {
   "cell_type": "code",
   "source": [
    "print(schema_metadata.serialize(format='turtle'))"
   ],
   "metadata": {
    "colab": {
     "base_uri": "https://localhost:8080/"
    },
    "id": "GfV22oslyibK",
    "executionInfo": {
     "status": "ok",
     "timestamp": 1713548549804,
     "user_tz": -120,
     "elapsed": 18,
     "user": {
      "displayName": "Achraf Hmimou",
      "userId": "15223621851022794490"
     }
    },
    "outputId": "a67cafbc-8062-45f0-97bf-c5e02a5a9b05",
    "ExecuteTime": {
     "end_time": "2024-05-20T16:09:47.373805Z",
     "start_time": "2024-05-20T16:09:47.348747Z"
    }
   },
   "outputs": [
    {
     "name": "stdout",
     "output_type": "stream",
     "text": [
      "@prefix ab: <http://www.semanticweb.org/acraf/ontologies/2024/healthmesh/abox#> .\n",
      "@prefix dcterms: <http://purl.org/dc/terms/> .\n",
      "@prefix tb: <http://www.semanticweb.org/acraf/ontologies/2024/healthmesh/tbox#> .\n",
      "\n",
      "ab:UPENN-GBM_clinical_info_v2 a <https://www.w3.org/ns/dcat#Dataset> ;\n",
      "    dcterms:identifier \"b4f5450e04e5c1669e36df0e37e5e172872e9cce5924c24955222d7f58004afc\" ;\n",
      "    tb:hasAttribute ab:Age_at_scan_years,\n",
      "        ab:GTR_over90percent,\n",
      "        ab:Gender,\n",
      "        ab:ID,\n",
      "        ab:IDH1,\n",
      "        ab:KPS,\n",
      "        ab:MGMT,\n",
      "        ab:PsP_TP_score,\n",
      "        ab:Survival_Censor,\n",
      "        ab:Survival_Status,\n",
      "        ab:Survival_from_surgery_days_UPDATED,\n",
      "        ab:Time_since_baseline_preop ;\n",
      "    tb:hasDTT ab:Tabular ;\n",
      "    tb:hasTA ab:TA1 ;\n",
      "    tb:owner \"UPENN\" .\n",
      "\n",
      "ab:Age_at_scan_years a tb:Attribute ;\n",
      "    tb:attribute \"Age_at_scan_years\" .\n",
      "\n",
      "ab:GTR_over90percent a tb:Attribute ;\n",
      "    tb:attribute \"GTR_over90percent\" .\n",
      "\n",
      "ab:Gender a tb:Attribute ;\n",
      "    tb:attribute \"Gender\" .\n",
      "\n",
      "ab:ID a tb:Attribute ;\n",
      "    tb:attribute \"ID\" .\n",
      "\n",
      "ab:IDH1 a tb:Attribute ;\n",
      "    tb:attribute \"IDH1\" .\n",
      "\n",
      "ab:KPS a tb:Attribute ;\n",
      "    tb:attribute \"KPS\" .\n",
      "\n",
      "ab:MGMT a tb:Attribute ;\n",
      "    tb:attribute \"MGMT\" .\n",
      "\n",
      "ab:PsP_TP_score a tb:Attribute ;\n",
      "    tb:attribute \"PsP_TP_score\" .\n",
      "\n",
      "ab:Static a tb:Acces ;\n",
      "    tb:path \"/home/acraf/psr/tfm/Fdatavalidation/DataProduct/Data/Explotation/UPENN-GBM_clinical_info_v2.1.csv\" .\n",
      "\n",
      "ab:Survival_Censor a tb:Attribute ;\n",
      "    tb:attribute \"Survival_Censor\" .\n",
      "\n",
      "ab:Survival_Status a tb:Attribute ;\n",
      "    tb:attribute \"Survival_Status\" .\n",
      "\n",
      "ab:Survival_from_surgery_days_UPDATED a tb:Attribute ;\n",
      "    tb:attribute \"Survival_from_surgery_days_UPDATED\" .\n",
      "\n",
      "ab:TA1 a tb:TechnologyAspects ;\n",
      "    tb:typeAcces ab:Static .\n",
      "\n",
      "ab:Tabular a tb:DatasetTypeTemplate ;\n",
      "    dcterms:format \"application/csv\" .\n",
      "\n",
      "ab:Time_since_baseline_preop a tb:Attribute ;\n",
      "    tb:attribute \"Time_since_baseline_preop\" .\n",
      "\n",
      "\n"
     ]
    }
   ],
   "execution_count": 4
  },
  {
   "cell_type": "markdown",
   "source": [
    "## Data Contract"
   ],
   "metadata": {
    "id": "Netxl9kumhgA"
   }
  },
  {
   "cell_type": "code",
   "source": [
    "contract = schema_metadata\n",
    "contract.bind('dqv', \"http://www.w3.org/ns/dqv#\")"
   ],
   "metadata": {
    "id": "HVItxxRv4RiT",
    "executionInfo": {
     "status": "ok",
     "timestamp": 1713548549805,
     "user_tz": -120,
     "elapsed": 10,
     "user": {
      "displayName": "Achraf Hmimou",
      "userId": "15223621851022794490"
     }
    },
    "ExecuteTime": {
     "end_time": "2024-05-20T16:09:47.386294Z",
     "start_time": "2024-05-20T16:09:47.377572Z"
    }
   },
   "outputs": [],
   "execution_count": 5
  },
  {
   "cell_type": "markdown",
   "source": [
    "Begin manual contract by adding the schema_metadata to the sdm"
   ],
   "metadata": {
    "id": "ct7ZR_3sy9G9"
   }
  },
  {
   "cell_type": "code",
   "source": [
    "from rdflib import *\n",
    "from hashlib import sha256\n",
    "dataset_name = 'UPENN-GBM_clinical_info_v2'"
   ],
   "metadata": {
    "id": "7W1F9r3c4YZF",
    "executionInfo": {
     "status": "ok",
     "timestamp": 1713548550196,
     "user_tz": -120,
     "elapsed": 400,
     "user": {
      "displayName": "Achraf Hmimou",
      "userId": "15223621851022794490"
     }
    },
    "ExecuteTime": {
     "end_time": "2024-05-20T16:09:47.400364Z",
     "start_time": "2024-05-20T16:09:47.389826Z"
    }
   },
   "outputs": [],
   "execution_count": 6
  },
  {
   "metadata": {},
   "cell_type": "markdown",
   "source": "### Create Contract"
  },
  {
   "cell_type": "code",
   "source": [
    "\n",
    "contract.add((abox[f'dc_{dataset_name}'],RDF.type, tbox.DataContract))\n",
    "contract.add((abox[dataset_name],tbox.hasDC, abox[f'dc_{dataset_name}']))\n",
    "\n"
   ],
   "metadata": {
    "id": "gWt6B5PSysph",
    "ExecuteTime": {
     "end_time": "2024-05-20T16:09:47.417664Z",
     "start_time": "2024-05-20T16:09:47.403319Z"
    }
   },
   "outputs": [
    {
     "data": {
      "text/plain": [
       "<Graph identifier=Nd59d76585b9e4b038ce3d214cccb0e0e (<class 'rdflib.graph.Graph'>)>"
      ]
     },
     "execution_count": 7,
     "metadata": {},
     "output_type": "execute_result"
    }
   ],
   "execution_count": 7
  },
  {
   "cell_type": "markdown",
   "source": [
    "### Add Mappings"
   ],
   "metadata": {
    "id": "vbsM82sryG8b"
   }
  },
  {
   "metadata": {
    "ExecuteTime": {
     "end_time": "2024-05-20T16:09:47.433722Z",
     "start_time": "2024-05-20T16:09:47.420588Z"
    }
   },
   "cell_type": "code",
   "source": [
    "contract.add((abox.map1, RDF.type, tbox.SchemaMapping))\n",
    "contract.add((abox[f'dc_{dataset_name}'],tbox.hasMapping, abox.map1))\n",
    "\n",
    "contract.add((abox.map1, tbox.mfrom, abox.ID))\n",
    "contract.add((abox.map1, tbox.mto, abox.Subject))\n"
   ],
   "outputs": [
    {
     "data": {
      "text/plain": [
       "<Graph identifier=Nd59d76585b9e4b038ce3d214cccb0e0e (<class 'rdflib.graph.Graph'>)>"
      ]
     },
     "execution_count": 8,
     "metadata": {},
     "output_type": "execute_result"
    }
   ],
   "execution_count": 8
  },
  {
   "cell_type": "code",
   "source": "# ID - SUBJECT\n",
   "metadata": {
    "colab": {
     "base_uri": "https://localhost:8080/"
    },
    "id": "6lsuA0BOynpC",
    "executionInfo": {
     "status": "ok",
     "timestamp": 1713533264385,
     "user_tz": -120,
     "elapsed": 30,
     "user": {
      "displayName": "Achraf Hmimou",
      "userId": "15223621851022794490"
     }
    },
    "outputId": "c3d898dd-99d3-4c5a-9ee1-4f7cd855c78c",
    "ExecuteTime": {
     "end_time": "2024-05-20T16:09:47.568880Z",
     "start_time": "2024-05-20T16:09:47.435501Z"
    }
   },
   "outputs": [],
   "execution_count": 9
  },
  {
   "cell_type": "code",
   "source": [
    "rdf_format = \"turtle\"  # Choose your desired RDF serialization format\n",
    "contract.serialize(destination=\"./contract.ttl\", format=rdf_format)"
   ],
   "metadata": {
    "id": "qI8bk_hn1QGq",
    "executionInfo": {
     "status": "ok",
     "timestamp": 1713533264385,
     "user_tz": -120,
     "elapsed": 25,
     "user": {
      "displayName": "Achraf Hmimou",
      "userId": "15223621851022794490"
     }
    },
    "outputId": "c478607c-9fb2-4bb7-f904-fdc2358b7c9f",
    "colab": {
     "base_uri": "https://localhost:8080/"
    },
    "ExecuteTime": {
     "end_time": "2024-05-20T16:09:47.608444Z",
     "start_time": "2024-05-20T16:09:47.571144Z"
    }
   },
   "outputs": [
    {
     "data": {
      "text/plain": [
       "<Graph identifier=Nd59d76585b9e4b038ce3d214cccb0e0e (<class 'rdflib.graph.Graph'>)>"
      ]
     },
     "execution_count": 10,
     "metadata": {},
     "output_type": "execute_result"
    }
   ],
   "execution_count": 10
  },
  {
   "metadata": {},
   "cell_type": "markdown",
   "source": "### Add Policy"
  },
  {
   "metadata": {
    "ExecuteTime": {
     "end_time": "2024-05-20T16:09:47.671219Z",
     "start_time": "2024-05-20T16:09:47.612666Z"
    }
   },
   "cell_type": "code",
   "source": [
    "contract.add((abox[f'dc_{dataset_name}'],tbox.hasPolicy, abox.p1))\n",
    "contract.add((abox[f'dc_{dataset_name}'],tbox.hasPolicy, abox.p2))"
   ],
   "outputs": [
    {
     "data": {
      "text/plain": [
       "<Graph identifier=Nd59d76585b9e4b038ce3d214cccb0e0e (<class 'rdflib.graph.Graph'>)>"
      ]
     },
     "execution_count": 11,
     "metadata": {},
     "output_type": "execute_result"
    }
   ],
   "execution_count": 11
  },
  {
   "metadata": {
    "ExecuteTime": {
     "end_time": "2024-05-20T16:09:50.331939Z",
     "start_time": "2024-05-20T16:09:47.674546Z"
    }
   },
   "cell_type": "code",
   "source": [
    "!pip install rdflib_jsonld\n",
    "import json"
   ],
   "outputs": [
    {
     "name": "stdout",
     "output_type": "stream",
     "text": [
      "Requirement already satisfied: rdflib_jsonld in /home/acraf/psr/tfm/Fdatavalidation/venv/lib/python3.11/site-packages (0.6.2)\r\n",
      "Requirement already satisfied: rdflib>=5.0.0 in /home/acraf/psr/tfm/Fdatavalidation/venv/lib/python3.11/site-packages (from rdflib_jsonld) (7.0.0)\r\n",
      "Requirement already satisfied: isodate<0.7.0,>=0.6.0 in /home/acraf/psr/tfm/Fdatavalidation/venv/lib/python3.11/site-packages (from rdflib>=5.0.0->rdflib_jsonld) (0.6.1)\r\n",
      "Requirement already satisfied: pyparsing<4,>=2.1.0 in /home/acraf/psr/tfm/Fdatavalidation/venv/lib/python3.11/site-packages (from rdflib>=5.0.0->rdflib_jsonld) (3.1.2)\r\n",
      "Requirement already satisfied: six in /home/acraf/psr/tfm/Fdatavalidation/venv/lib/python3.11/site-packages (from isodate<0.7.0,>=0.6.0->rdflib>=5.0.0->rdflib_jsonld) (1.16.0)\r\n",
      "\r\n",
      "\u001B[1m[\u001B[0m\u001B[34;49mnotice\u001B[0m\u001B[1;39;49m]\u001B[0m\u001B[39;49m A new release of pip is available: \u001B[0m\u001B[31;49m23.2.1\u001B[0m\u001B[39;49m -> \u001B[0m\u001B[32;49m24.0\u001B[0m\r\n",
      "\u001B[1m[\u001B[0m\u001B[34;49mnotice\u001B[0m\u001B[1;39;49m]\u001B[0m\u001B[39;49m To update, run: \u001B[0m\u001B[32;49mpip install --upgrade pip\u001B[0m\r\n"
     ]
    }
   ],
   "execution_count": 12
  },
  {
   "metadata": {
    "ExecuteTime": {
     "end_time": "2024-05-20T16:09:50.357546Z",
     "start_time": "2024-05-20T16:09:50.342447Z"
    }
   },
   "cell_type": "code",
   "source": [
    "def add_jsonld_instances(graph, path):\n",
    "    # Adds JSON-LD instances to the graph\n",
    "    with open(path, 'r') as f:\n",
    "        json_ld_data = json.loads(f.read())\n",
    "        instances = Graph().parse(data=json_ld_data, format='json-ld')\n",
    "        graph += instances\n",
    "    \n",
    "    return graph"
   ],
   "outputs": [],
   "execution_count": 13
  },
  {
   "metadata": {},
   "cell_type": "markdown",
   "source": "pc1"
  },
  {
   "metadata": {
    "ExecuteTime": {
     "end_time": "2024-05-20T16:09:50.409740Z",
     "start_time": "2024-05-20T16:09:50.362622Z"
    }
   },
   "cell_type": "code",
   "source": [
    "p1 = '/home/acraf/psr/tfm/Fdatavalidation/FederatedComputationalGovernance/ComputationalCatalogues/p1.json'\n",
    "g = add_jsonld_instances(contract, p1)"
   ],
   "outputs": [],
   "execution_count": 14
  },
  {
   "metadata": {},
   "cell_type": "markdown",
   "source": "pc2"
  },
  {
   "metadata": {
    "ExecuteTime": {
     "end_time": "2024-05-20T16:09:50.446027Z",
     "start_time": "2024-05-20T16:09:50.416200Z"
    }
   },
   "cell_type": "code",
   "source": [
    "\n",
    "p2 = '/home/acraf/psr/tfm/Fdatavalidation/FederatedComputationalGovernance/ComputationalCatalogues/p2.json'\n",
    "g = add_jsonld_instances(contract, p2)"
   ],
   "outputs": [],
   "execution_count": 15
  },
  {
   "metadata": {
    "ExecuteTime": {
     "end_time": "2024-05-20T16:09:50.502107Z",
     "start_time": "2024-05-20T16:09:50.454585Z"
    }
   },
   "cell_type": "code",
   "source": [
    "rdf_format = \"turtle\"  # Choose your desired RDF serialization format\n",
    "contract.serialize(destination=\"./contract.ttl\", format=rdf_format)"
   ],
   "outputs": [
    {
     "data": {
      "text/plain": [
       "<Graph identifier=Nd59d76585b9e4b038ce3d214cccb0e0e (<class 'rdflib.graph.Graph'>)>"
      ]
     },
     "execution_count": 16,
     "metadata": {},
     "output_type": "execute_result"
    }
   ],
   "execution_count": 16
  },
  {
   "cell_type": "markdown",
   "source": "## SEND CONTRACT TO SDM",
   "metadata": {
    "id": "h7efFyJzjKwG"
   }
  },
  {
   "metadata": {
    "ExecuteTime": {
     "end_time": "2024-05-20T16:09:50.525072Z",
     "start_time": "2024-05-20T16:09:50.515068Z"
    }
   },
   "cell_type": "code",
   "source": "#sdm = Graph().parse(\"/home/acraf/psr/tfm/Fdatavalidation/FederatedComputationalGovernance/SemanticDataModel/sdm.ttl\")",
   "outputs": [],
   "execution_count": 17
  },
  {
   "cell_type": "code",
   "source": "#sdm += contract",
   "metadata": {
    "id": "Jz6xGGPqjSd-",
    "ExecuteTime": {
     "end_time": "2024-05-20T16:09:50.542031Z",
     "start_time": "2024-05-20T16:09:50.531656Z"
    }
   },
   "outputs": [],
   "execution_count": 18
  },
  {
   "cell_type": "code",
   "source": [
    "#rdf_format = \"turtle\"  # Choose your desired RDF serialization format\n",
    "#sdm.serialize(destination=\"/home/acraf/psr/tfm/Fdatavalidation/FederatedComputationalGovernance/SemanticDataModel/sdm.ttl\", format=rdf_format)"
   ],
   "metadata": {
    "colab": {
     "base_uri": "https://localhost:8080/"
    },
    "id": "8sS2yESRjYAJ",
    "executionInfo": {
     "status": "ok",
     "timestamp": 1713533562001,
     "user_tz": -120,
     "elapsed": 11,
     "user": {
      "displayName": "Achraf Hmimou",
      "userId": "15223621851022794490"
     }
    },
    "outputId": "bebb36df-28cb-438e-b555-ae7eb322bd5c",
    "ExecuteTime": {
     "end_time": "2024-05-20T16:09:50.558850Z",
     "start_time": "2024-05-20T16:09:50.548561Z"
    }
   },
   "outputs": [],
   "execution_count": 19
  }
 ]
}
