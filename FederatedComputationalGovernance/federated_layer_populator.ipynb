{
 "cells": [
  {
   "metadata": {
    "ExecuteTime": {
     "end_time": "2024-09-03T09:28:54.878181Z",
     "start_time": "2024-09-03T09:28:54.843118Z"
    }
   },
   "cell_type": "code",
   "source": [
    "import os\n",
    "\n",
    "# Get the directory of the current script\n",
    "base_dir = os.getcwd()\n",
    "try:\n",
    "    if folder:\n",
    "        base_dir = os.path.join(base_dir, folder)\n",
    "except:\n",
    "    pass"
   ],
   "id": "d0e619c55e236cce",
   "outputs": [],
   "execution_count": 1
  },
  {
   "metadata": {},
   "cell_type": "markdown",
   "source": "# Load Tbox",
   "id": "bf9b7f625c8aae1a"
  },
  {
   "metadata": {
    "ExecuteTime": {
     "end_time": "2024-09-03T09:28:55.424700Z",
     "start_time": "2024-09-03T09:28:54.915021Z"
    }
   },
   "cell_type": "code",
   "source": "from rdflib import *",
   "id": "e75da1d8b860cfb8",
   "outputs": [],
   "execution_count": 2
  },
  {
   "metadata": {
    "ExecuteTime": {
     "end_time": "2024-09-03T09:28:56.268399Z",
     "start_time": "2024-09-03T09:28:56.196593Z"
    }
   },
   "cell_type": "code",
   "source": [
    "g = Graph()\n",
    "\n",
    "g.parse(os.path.join(base_dir,'FederatedTeam/tbox.ttl'), format='ttl')\n",
    "\n",
    "g.bind('tb', 'http://www.semanticweb.org/acraf/ontologies/2024/healthmesh/tbox#')\n",
    "g.bind('ab', 'http://www.semanticweb.org/acraf/ontologies/2024/healthmesh/abox#')\n"
   ],
   "id": "bb71af78cd94ef67",
   "outputs": [],
   "execution_count": 3
  },
  {
   "metadata": {
    "ExecuteTime": {
     "end_time": "2024-09-03T09:28:56.427113Z",
     "start_time": "2024-09-03T09:28:56.407081Z"
    }
   },
   "cell_type": "code",
   "source": "\n",
   "id": "2aec70e9fa87de4d",
   "outputs": [],
   "execution_count": 3
  },
  {
   "metadata": {},
   "cell_type": "markdown",
   "source": "# Populate ABOX",
   "id": "7ff6593a3c2875a4"
  },
  {
   "metadata": {
    "ExecuteTime": {
     "end_time": "2024-09-03T09:28:56.568657Z",
     "start_time": "2024-09-03T09:28:56.540881Z"
    }
   },
   "cell_type": "code",
   "source": [
    "def add_jsonld_instances(graph, path):\n",
    "    # Adds JSON-LD instances to the graph\n",
    "    with open(path, 'r') as f:\n",
    "        json_ld_data = json.loads(f.read())\n",
    "        instances = Graph().parse(data=json_ld_data, format='json-ld')\n",
    "        graph += instances\n",
    "    \n",
    "    return graph"
   ],
   "id": "4e3a545aa5415c94",
   "outputs": [],
   "execution_count": 4
  },
  {
   "metadata": {
    "ExecuteTime": {
     "end_time": "2024-09-03T09:29:01.504260Z",
     "start_time": "2024-09-03T09:28:56.714209Z"
    }
   },
   "cell_type": "code",
   "source": [
    "!pip install rdflib_jsonld\n",
    "import json"
   ],
   "id": "e830802a9f33a17",
   "outputs": [
    {
     "name": "stdout",
     "output_type": "stream",
     "text": [
      "Collecting rdflib_jsonld\n",
      "  Obtaining dependency information for rdflib_jsonld from https://files.pythonhosted.org/packages/29/92/da92898b2aab0da78207afc9c035a71bedef3544966374c44e9627d761c5/rdflib_jsonld-0.6.2-py2.py3-none-any.whl.metadata\n",
      "  Downloading rdflib_jsonld-0.6.2-py2.py3-none-any.whl.metadata (3.4 kB)\n",
      "Requirement already satisfied: rdflib>=5.0.0 in c:\\users\\usuario\\pycharmprojects\\fdatavalidation\\venv\\lib\\site-packages (from rdflib_jsonld) (7.0.0)\n",
      "Requirement already satisfied: isodate<0.7.0,>=0.6.0 in c:\\users\\usuario\\pycharmprojects\\fdatavalidation\\venv\\lib\\site-packages (from rdflib>=5.0.0->rdflib_jsonld) (0.6.1)\n",
      "Requirement already satisfied: pyparsing<4,>=2.1.0 in c:\\users\\usuario\\pycharmprojects\\fdatavalidation\\venv\\lib\\site-packages (from rdflib>=5.0.0->rdflib_jsonld) (3.1.4)\n",
      "Requirement already satisfied: six in c:\\users\\usuario\\pycharmprojects\\fdatavalidation\\venv\\lib\\site-packages (from isodate<0.7.0,>=0.6.0->rdflib>=5.0.0->rdflib_jsonld) (1.16.0)\n",
      "Downloading rdflib_jsonld-0.6.2-py2.py3-none-any.whl (4.0 kB)\n",
      "Installing collected packages: rdflib_jsonld\n",
      "Successfully installed rdflib_jsonld-0.6.2\n"
     ]
    },
    {
     "name": "stderr",
     "output_type": "stream",
     "text": [
      "\n",
      "[notice] A new release of pip is available: 23.2.1 -> 24.2\n",
      "[notice] To update, run: python.exe -m pip install --upgrade pip\n"
     ]
    }
   ],
   "execution_count": 5
  },
  {
   "metadata": {},
   "cell_type": "markdown",
   "source": "## Data Products",
   "id": "bd37775213d6baee"
  },
  {
   "metadata": {
    "ExecuteTime": {
     "end_time": "2024-09-03T09:29:02.125916Z",
     "start_time": "2024-09-03T09:29:02.105972Z"
    }
   },
   "cell_type": "code",
   "source": "data_products = os.path.join(base_dir,'GlobalDefinitions/data_products.json')",
   "id": "ec4292618860beb",
   "outputs": [],
   "execution_count": 6
  },
  {
   "metadata": {
    "ExecuteTime": {
     "end_time": "2024-09-03T09:29:02.329223Z",
     "start_time": "2024-09-03T09:29:02.287614Z"
    }
   },
   "cell_type": "code",
   "source": "g = add_jsonld_instances(g, data_products)",
   "id": "6734503f59ccfc38",
   "outputs": [],
   "execution_count": 7
  },
  {
   "metadata": {},
   "cell_type": "markdown",
   "source": "## Policies",
   "id": "6e49c23a901fe075"
  },
  {
   "metadata": {
    "ExecuteTime": {
     "end_time": "2024-09-03T09:29:02.391987Z",
     "start_time": "2024-09-03T09:29:02.365142Z"
    }
   },
   "cell_type": "code",
   "source": "policies = os.path.join(base_dir,'ComputationalCatalogues/p1.json')",
   "id": "61ffdb64b35b3f7f",
   "outputs": [],
   "execution_count": 8
  },
  {
   "metadata": {
    "ExecuteTime": {
     "end_time": "2024-09-03T09:29:02.516612Z",
     "start_time": "2024-09-03T09:29:02.452023Z"
    }
   },
   "cell_type": "code",
   "source": "g = add_jsonld_instances(g, policies)",
   "id": "6035d517b2daa21f",
   "outputs": [],
   "execution_count": 9
  },
  {
   "metadata": {},
   "cell_type": "markdown",
   "source": "### PolicyCheckers",
   "id": "a34bc29e2efdbbff"
  },
  {
   "metadata": {
    "ExecuteTime": {
     "end_time": "2024-09-03T09:29:02.580440Z",
     "start_time": "2024-09-03T09:29:02.570466Z"
    }
   },
   "cell_type": "code",
   "source": "import os",
   "id": "d263c753b7551c92",
   "outputs": [],
   "execution_count": 10
  },
  {
   "metadata": {
    "ExecuteTime": {
     "end_time": "2024-09-03T09:29:02.628314Z",
     "start_time": "2024-09-03T09:29:02.617340Z"
    }
   },
   "cell_type": "code",
   "source": [
    "#for pc in os.listdir('./ComputationalCatalogues/PolicyCheckers'):\n",
    "#    g = add_jsonld_instances(g, os.path.join('./ComputationalCatalogues/PolicyCheckers', pc, 'pc.json'))"
   ],
   "id": "d8e629e47d8d042",
   "outputs": [],
   "execution_count": 11
  },
  {
   "metadata": {},
   "cell_type": "markdown",
   "source": "### Implementations",
   "id": "e064d3f096fdc7ed"
  },
  {
   "metadata": {
    "ExecuteTime": {
     "end_time": "2024-09-03T09:29:02.675519Z",
     "start_time": "2024-09-03T09:29:02.663554Z"
    }
   },
   "cell_type": "code",
   "source": [
    "#implementations = './ComputationalCatalogues/implementations.json'\n",
    "#g = add_jsonld_instances(g, implementations)"
   ],
   "id": "5e611a2e0af562cc",
   "outputs": [],
   "execution_count": 12
  },
  {
   "metadata": {},
   "cell_type": "markdown",
   "source": "# SAVE GRAPH",
   "id": "5d6ee7446f360346"
  },
  {
   "metadata": {
    "ExecuteTime": {
     "end_time": "2024-09-03T09:29:02.769080Z",
     "start_time": "2024-09-03T09:29:02.713418Z"
    }
   },
   "cell_type": "code",
   "source": "g.serialize(destination=os.path.join(base_dir,'SemanticDataModel/sdm.ttl'), format='ttl')",
   "id": "215d623c22129341",
   "outputs": [
    {
     "data": {
      "text/plain": [
       "<Graph identifier=N7b11b4fdd97b44599abb86f0b94a2ff8 (<class 'rdflib.graph.Graph'>)>"
      ]
     },
     "execution_count": 13,
     "metadata": {},
     "output_type": "execute_result"
    }
   ],
   "execution_count": 13
  }
 ],
 "metadata": {
  "kernelspec": {
   "display_name": "Python 3",
   "language": "python",
   "name": "python3"
  },
  "language_info": {
   "codemirror_mode": {
    "name": "ipython",
    "version": 2
   },
   "file_extension": ".py",
   "mimetype": "text/x-python",
   "name": "python",
   "nbconvert_exporter": "python",
   "pygments_lexer": "ipython2",
   "version": "2.7.6"
  }
 },
 "nbformat": 4,
 "nbformat_minor": 5
}
