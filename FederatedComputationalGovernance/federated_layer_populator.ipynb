{
 "cells": [
  {
   "metadata": {
    "ExecuteTime": {
     "end_time": "2024-05-25T11:05:13.222229Z",
     "start_time": "2024-05-25T11:05:13.206743Z"
    }
   },
   "cell_type": "code",
   "source": [
    "import os\n",
    "\n",
    "# Get the directory of the current script\n",
    "base_dir = os.getcwd()\n",
    "try:\n",
    "    if folder:\n",
    "        base_dir = os.path.join(base_dir, folder)\n",
    "except:\n",
    "    pass"
   ],
   "id": "d0e619c55e236cce",
   "outputs": [],
   "execution_count": 54
  },
  {
   "metadata": {},
   "cell_type": "markdown",
   "source": "# Load Tbox",
   "id": "bf9b7f625c8aae1a"
  },
  {
   "metadata": {
    "ExecuteTime": {
     "end_time": "2024-05-25T11:05:13.247908Z",
     "start_time": "2024-05-25T11:05:13.236642Z"
    }
   },
   "cell_type": "code",
   "source": "from rdflib import *",
   "id": "e75da1d8b860cfb8",
   "outputs": [],
   "execution_count": 56
  },
  {
   "metadata": {
    "ExecuteTime": {
     "end_time": "2024-05-25T11:05:13.271599Z",
     "start_time": "2024-05-25T11:05:13.249465Z"
    }
   },
   "cell_type": "code",
   "source": [
    "g = Graph()\n",
    "\n",
    "g.parse(os.path.join(base_dir,'FederatedTeam/tbox.ttl'), format='ttl')\n",
    "\n",
    "g.bind('tb', 'http://www.semanticweb.org/acraf/ontologies/2024/healthmesh/tbox#')\n",
    "g.bind('ab', 'http://www.semanticweb.org/acraf/ontologies/2024/healthmesh/abox#')\n"
   ],
   "id": "bb71af78cd94ef67",
   "outputs": [],
   "execution_count": 57
  },
  {
   "metadata": {
    "ExecuteTime": {
     "end_time": "2024-05-25T11:05:13.275860Z",
     "start_time": "2024-05-25T11:05:13.273492Z"
    }
   },
   "cell_type": "code",
   "source": "\n",
   "id": "2aec70e9fa87de4d",
   "outputs": [],
   "execution_count": 57
  },
  {
   "metadata": {},
   "cell_type": "markdown",
   "source": "# Populate ABOX",
   "id": "7ff6593a3c2875a4"
  },
  {
   "metadata": {
    "ExecuteTime": {
     "end_time": "2024-05-25T11:05:13.282671Z",
     "start_time": "2024-05-25T11:05:13.277473Z"
    }
   },
   "cell_type": "code",
   "source": [
    "def add_jsonld_instances(graph, path):\n",
    "    # Adds JSON-LD instances to the graph\n",
    "    with open(path, 'r') as f:\n",
    "        json_ld_data = json.loads(f.read())\n",
    "        instances = Graph().parse(data=json_ld_data, format='json-ld')\n",
    "        graph += instances\n",
    "    \n",
    "    return graph"
   ],
   "id": "4e3a545aa5415c94",
   "outputs": [],
   "execution_count": 58
  },
  {
   "metadata": {
    "ExecuteTime": {
     "end_time": "2024-05-25T11:05:15.618074Z",
     "start_time": "2024-05-25T11:05:13.284784Z"
    }
   },
   "cell_type": "code",
   "source": [
    "!pip install rdflib_jsonld\n",
    "import json"
   ],
   "id": "e830802a9f33a17",
   "outputs": [
    {
     "name": "stdout",
     "output_type": "stream",
     "text": [
      "Requirement already satisfied: rdflib_jsonld in /home/acraf/psr/tfm/Fdatavalidation/venv/lib/python3.11/site-packages (0.6.2)\r\n",
      "Requirement already satisfied: rdflib>=5.0.0 in /home/acraf/psr/tfm/Fdatavalidation/venv/lib/python3.11/site-packages (from rdflib_jsonld) (7.0.0)\r\n",
      "Requirement already satisfied: isodate<0.7.0,>=0.6.0 in /home/acraf/psr/tfm/Fdatavalidation/venv/lib/python3.11/site-packages (from rdflib>=5.0.0->rdflib_jsonld) (0.6.1)\r\n",
      "Requirement already satisfied: pyparsing<4,>=2.1.0 in /home/acraf/psr/tfm/Fdatavalidation/venv/lib/python3.11/site-packages (from rdflib>=5.0.0->rdflib_jsonld) (3.1.2)\r\n",
      "Requirement already satisfied: six in /home/acraf/psr/tfm/Fdatavalidation/venv/lib/python3.11/site-packages (from isodate<0.7.0,>=0.6.0->rdflib>=5.0.0->rdflib_jsonld) (1.16.0)\r\n",
      "\r\n",
      "\u001B[1m[\u001B[0m\u001B[34;49mnotice\u001B[0m\u001B[1;39;49m]\u001B[0m\u001B[39;49m A new release of pip is available: \u001B[0m\u001B[31;49m23.2.1\u001B[0m\u001B[39;49m -> \u001B[0m\u001B[32;49m24.0\u001B[0m\r\n",
      "\u001B[1m[\u001B[0m\u001B[34;49mnotice\u001B[0m\u001B[1;39;49m]\u001B[0m\u001B[39;49m To update, run: \u001B[0m\u001B[32;49mpip install --upgrade pip\u001B[0m\r\n"
     ]
    }
   ],
   "execution_count": 59
  },
  {
   "metadata": {},
   "cell_type": "markdown",
   "source": "## Data Products",
   "id": "bd37775213d6baee"
  },
  {
   "metadata": {
    "ExecuteTime": {
     "end_time": "2024-05-25T11:05:15.623732Z",
     "start_time": "2024-05-25T11:05:15.619802Z"
    }
   },
   "cell_type": "code",
   "source": "data_products = os.path.join(base_dir,'GlobalDefinitions/data_products.json')",
   "id": "ec4292618860beb",
   "outputs": [],
   "execution_count": 60
  },
  {
   "metadata": {
    "ExecuteTime": {
     "end_time": "2024-05-25T11:05:15.645143Z",
     "start_time": "2024-05-25T11:05:15.625895Z"
    }
   },
   "cell_type": "code",
   "source": "g = add_jsonld_instances(g, data_products)",
   "id": "6734503f59ccfc38",
   "outputs": [],
   "execution_count": 61
  },
  {
   "metadata": {},
   "cell_type": "markdown",
   "source": "## Policies",
   "id": "6e49c23a901fe075"
  },
  {
   "metadata": {
    "ExecuteTime": {
     "end_time": "2024-05-25T11:05:15.657388Z",
     "start_time": "2024-05-25T11:05:15.646659Z"
    }
   },
   "cell_type": "code",
   "source": "policies = os.path.join(base_dir,'ComputationalCatalogues/p1.json')",
   "id": "61ffdb64b35b3f7f",
   "outputs": [],
   "execution_count": 62
  },
  {
   "metadata": {
    "ExecuteTime": {
     "end_time": "2024-05-25T11:05:15.671069Z",
     "start_time": "2024-05-25T11:05:15.659473Z"
    }
   },
   "cell_type": "code",
   "source": "g = add_jsonld_instances(g, policies)",
   "id": "6035d517b2daa21f",
   "outputs": [],
   "execution_count": 63
  },
  {
   "metadata": {},
   "cell_type": "markdown",
   "source": "### PolicyCheckers",
   "id": "a34bc29e2efdbbff"
  },
  {
   "metadata": {
    "ExecuteTime": {
     "end_time": "2024-05-25T11:05:15.683142Z",
     "start_time": "2024-05-25T11:05:15.672709Z"
    }
   },
   "cell_type": "code",
   "source": "import os",
   "id": "d263c753b7551c92",
   "outputs": [],
   "execution_count": 64
  },
  {
   "metadata": {
    "ExecuteTime": {
     "end_time": "2024-05-25T11:05:15.695650Z",
     "start_time": "2024-05-25T11:05:15.685334Z"
    }
   },
   "cell_type": "code",
   "source": [
    "#for pc in os.listdir('./ComputationalCatalogues/PolicyCheckers'):\n",
    "#    g = add_jsonld_instances(g, os.path.join('./ComputationalCatalogues/PolicyCheckers', pc, 'pc.json'))"
   ],
   "id": "d8e629e47d8d042",
   "outputs": [],
   "execution_count": 65
  },
  {
   "metadata": {},
   "cell_type": "markdown",
   "source": "### Implementations",
   "id": "e064d3f096fdc7ed"
  },
  {
   "metadata": {
    "ExecuteTime": {
     "end_time": "2024-05-25T11:05:15.708079Z",
     "start_time": "2024-05-25T11:05:15.697435Z"
    }
   },
   "cell_type": "code",
   "source": [
    "#implementations = './ComputationalCatalogues/implementations.json'\n",
    "#g = add_jsonld_instances(g, implementations)"
   ],
   "id": "5e611a2e0af562cc",
   "outputs": [],
   "execution_count": 66
  },
  {
   "metadata": {},
   "cell_type": "markdown",
   "source": "# SAVE GRAPH",
   "id": "5d6ee7446f360346"
  },
  {
   "metadata": {
    "ExecuteTime": {
     "end_time": "2024-05-25T11:05:15.727533Z",
     "start_time": "2024-05-25T11:05:15.709397Z"
    }
   },
   "cell_type": "code",
   "source": "g.serialize(destination=os.path.join(base_dir,'SemanticDataModel/sdm.ttl'), format='ttl')",
   "id": "215d623c22129341",
   "outputs": [
    {
     "data": {
      "text/plain": [
       "<Graph identifier=N057836dfa44740ed8e743cec31804991 (<class 'rdflib.graph.Graph'>)>"
      ]
     },
     "execution_count": 67,
     "metadata": {},
     "output_type": "execute_result"
    }
   ],
   "execution_count": 67
  }
 ],
 "metadata": {
  "kernelspec": {
   "display_name": "Python 3",
   "language": "python",
   "name": "python3"
  },
  "language_info": {
   "codemirror_mode": {
    "name": "ipython",
    "version": 2
   },
   "file_extension": ".py",
   "mimetype": "text/x-python",
   "name": "python",
   "nbconvert_exporter": "python",
   "pygments_lexer": "ipython2",
   "version": "2.7.6"
  }
 },
 "nbformat": 4,
 "nbformat_minor": 5
}
