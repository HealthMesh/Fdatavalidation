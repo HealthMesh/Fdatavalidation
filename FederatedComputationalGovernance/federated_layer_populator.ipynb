{
 "cells": [
  {
   "metadata": {
    "ExecuteTime": {
     "end_time": "2024-09-09T09:24:03.365547Z",
     "start_time": "2024-09-09T09:24:03.345208Z"
    }
   },
   "cell_type": "code",
   "source": [
    "import os\n",
    "\n",
    "# Get the directory of the current script\n",
    "base_dir = os.getcwd()\n",
    "try:\n",
    "    if folder:\n",
    "        base_dir = os.path.join(base_dir, folder)\n",
    "except:\n",
    "    pass"
   ],
   "id": "d0e619c55e236cce",
   "outputs": [],
   "execution_count": 1
  },
  {
   "metadata": {},
   "cell_type": "markdown",
   "source": "# Load Tbox",
   "id": "bf9b7f625c8aae1a"
  },
  {
   "metadata": {
    "ExecuteTime": {
     "end_time": "2024-09-09T09:24:03.491590Z",
     "start_time": "2024-09-09T09:24:03.370533Z"
    }
   },
   "cell_type": "code",
   "source": "from rdflib import *",
   "id": "e75da1d8b860cfb8",
   "outputs": [],
   "execution_count": 2
  },
  {
   "metadata": {
    "ExecuteTime": {
     "end_time": "2024-09-09T09:24:03.821330Z",
     "start_time": "2024-09-09T09:24:03.776497Z"
    }
   },
   "cell_type": "code",
   "source": [
    "g = Graph()\n",
    "\n",
    "g.parse(os.path.join(base_dir,'FederatedTeam/tbox.ttl'), format='ttl')\n",
    "\n",
    "g.bind('tb', 'http://www.semanticweb.org/acraf/ontologies/2024/healthmesh/tbox#')\n",
    "g.bind('ab', 'http://www.semanticweb.org/acraf/ontologies/2024/healthmesh/abox#')"
   ],
   "id": "bb71af78cd94ef67",
   "outputs": [],
   "execution_count": 3
  },
  {
   "metadata": {},
   "cell_type": "markdown",
   "source": "# Populate ABOX",
   "id": "7ff6593a3c2875a4"
  },
  {
   "metadata": {
    "ExecuteTime": {
     "end_time": "2024-09-09T09:24:03.852508Z",
     "start_time": "2024-09-09T09:24:03.838546Z"
    }
   },
   "cell_type": "code",
   "source": [
    "def add_jsonld_instances(graph, path):\n",
    "    # Adds JSON-LD instances to the graph\n",
    "    with open(path, 'r') as f:\n",
    "        json_ld_data = json.loads(f.read())\n",
    "        instances = Graph().parse(data=json_ld_data, format='json-ld')\n",
    "        graph += instances\n",
    "    \n",
    "    return graph"
   ],
   "id": "4e3a545aa5415c94",
   "outputs": [],
   "execution_count": 4
  },
  {
   "metadata": {
    "ExecuteTime": {
     "end_time": "2024-09-09T09:24:06.219065Z",
     "start_time": "2024-09-09T09:24:03.870463Z"
    }
   },
   "cell_type": "code",
   "source": [
    "!pip install rdflib_jsonld\n",
    "import json"
   ],
   "id": "e830802a9f33a17",
   "outputs": [
    {
     "name": "stdout",
     "output_type": "stream",
     "text": [
      "Requirement already satisfied: rdflib_jsonld in c:\\users\\usuario\\pycharmprojects\\fdatavalidation\\venv\\lib\\site-packages (0.6.2)\n",
      "Requirement already satisfied: rdflib>=5.0.0 in c:\\users\\usuario\\pycharmprojects\\fdatavalidation\\venv\\lib\\site-packages (from rdflib_jsonld) (7.0.0)\n",
      "Requirement already satisfied: isodate<0.7.0,>=0.6.0 in c:\\users\\usuario\\pycharmprojects\\fdatavalidation\\venv\\lib\\site-packages (from rdflib>=5.0.0->rdflib_jsonld) (0.6.1)\n",
      "Requirement already satisfied: pyparsing<4,>=2.1.0 in c:\\users\\usuario\\pycharmprojects\\fdatavalidation\\venv\\lib\\site-packages (from rdflib>=5.0.0->rdflib_jsonld) (3.1.4)\n",
      "Requirement already satisfied: six in c:\\users\\usuario\\pycharmprojects\\fdatavalidation\\venv\\lib\\site-packages (from isodate<0.7.0,>=0.6.0->rdflib>=5.0.0->rdflib_jsonld) (1.16.0)\n"
     ]
    },
    {
     "name": "stderr",
     "output_type": "stream",
     "text": [
      "\n",
      "[notice] A new release of pip is available: 23.2.1 -> 24.2\n",
      "[notice] To update, run: python.exe -m pip install --upgrade pip\n"
     ]
    }
   ],
   "execution_count": 5
  },
  {
   "metadata": {},
   "cell_type": "markdown",
   "source": "## Common Data Models",
   "id": "bd37775213d6baee"
  },
  {
   "metadata": {
    "ExecuteTime": {
     "end_time": "2024-09-09T09:24:06.465235Z",
     "start_time": "2024-09-09T09:24:06.448936Z"
    }
   },
   "cell_type": "code",
   "source": "data_products = os.path.join(base_dir,'GlobalDefinitions/common_data_models.json')",
   "id": "ec4292618860beb",
   "outputs": [],
   "execution_count": 6
  },
  {
   "metadata": {
    "ExecuteTime": {
     "end_time": "2024-09-09T09:24:06.545045Z",
     "start_time": "2024-09-09T09:24:06.507117Z"
    }
   },
   "cell_type": "code",
   "source": "g = add_jsonld_instances(g, data_products)",
   "id": "6734503f59ccfc38",
   "outputs": [],
   "execution_count": 7
  },
  {
   "metadata": {},
   "cell_type": "markdown",
   "source": "## Policies",
   "id": "6e49c23a901fe075"
  },
  {
   "metadata": {
    "ExecuteTime": {
     "end_time": "2024-09-09T09:24:06.625802Z",
     "start_time": "2024-09-09T09:24:06.563967Z"
    }
   },
   "cell_type": "code",
   "source": [
    "policies = os.path.join(base_dir,'ComputationalCatalogues')\n",
    "for pc in os.listdir(policies):\n",
    "    g = add_jsonld_instances(g, os.path.join(policies, pc))"
   ],
   "id": "61ffdb64b35b3f7f",
   "outputs": [],
   "execution_count": 8
  },
  {
   "metadata": {},
   "cell_type": "markdown",
   "source": "# SAVE GRAPH",
   "id": "5d6ee7446f360346"
  },
  {
   "metadata": {
    "ExecuteTime": {
     "end_time": "2024-09-09T09:24:06.670677Z",
     "start_time": "2024-09-09T09:24:06.641755Z"
    }
   },
   "cell_type": "code",
   "source": "g.serialize(destination=os.path.join(base_dir,'SemanticDataModel/sdm.ttl'), format='ttl')",
   "id": "215d623c22129341",
   "outputs": [
    {
     "data": {
      "text/plain": [
       "<Graph identifier=N9a792d7ffd444755ba113e235b25af1a (<class 'rdflib.graph.Graph'>)>"
      ]
     },
     "execution_count": 9,
     "metadata": {},
     "output_type": "execute_result"
    }
   ],
   "execution_count": 9
  }
 ],
 "metadata": {
  "kernelspec": {
   "display_name": "Python 3",
   "language": "python",
   "name": "python3"
  },
  "language_info": {
   "codemirror_mode": {
    "name": "ipython",
    "version": 2
   },
   "file_extension": ".py",
   "mimetype": "text/x-python",
   "name": "python",
   "nbconvert_exporter": "python",
   "pygments_lexer": "ipython2",
   "version": "2.7.6"
  }
 },
 "nbformat": 4,
 "nbformat_minor": 5
}
